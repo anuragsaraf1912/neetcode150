{
  "nbformat": 4,
  "nbformat_minor": 0,
  "metadata": {
    "colab": {
      "provenance": [],
      "authorship_tag": "ABX9TyP/40LKKDaiqkox7BVltob3",
      "include_colab_link": true
    },
    "kernelspec": {
      "name": "python3",
      "display_name": "Python 3"
    },
    "language_info": {
      "name": "python"
    }
  },
  "cells": [
    {
      "cell_type": "markdown",
      "metadata": {
        "id": "view-in-github",
        "colab_type": "text"
      },
      "source": [
        "<a href=\"https://colab.research.google.com/github/anuragsaraf1912/neetcode150/blob/main/Graphs.ipynb\" target=\"_parent\"><img src=\"https://colab.research.google.com/assets/colab-badge.svg\" alt=\"Open In Colab\"/></a>"
      ]
    },
    {
      "cell_type": "markdown",
      "source": [
        "[P1: Number of Islands ](https://leetcode.com/problems/number-of-islands/description/)"
      ],
      "metadata": {
        "id": "XPZ0rSTllR_T"
      }
    },
    {
      "cell_type": "code",
      "source": [
        "class Solution:\n",
        "\n",
        "    # Time Complexity: O(m*n) - All elements need to be visited once\n",
        "    # Space Complexity: O(m*n) - The storage for the value at each address for m*n elements\n",
        "    # Iterate over each point, and as soon as we visit a ground point, use DFS to exhaust all attached ground points.\n",
        "    # We convert the ground point as 0 when we visit so that it is not counted again once visited.\n",
        "\n",
        "    def numIslands(self, grid: List[List[str]]) -> int:\n",
        "        rows, cols = len(grid), len(grid[0])\n",
        "        countIslands = 0\n",
        "\n",
        "        # Using DFS to exhaust all the points attached to the point provided as argument\n",
        "        def exhaustDFS(r,c):\n",
        "            if (r >= 0 and r < rows) \\\n",
        "            and (c >= 0 and c < cols) \\\n",
        "            and grid[r][c] == '1':\n",
        "                # Changing as it is counted once (Trick to avoid having extra space for set to keep track of visited address)\n",
        "                grid[r][c] = '0'\n",
        "                exhaustDFS(r+1,c)\n",
        "                exhaustDFS(r-1,c)\n",
        "                exhaustDFS(r,c+1)\n",
        "                exhaustDFS(r,c-1)\n",
        "\n",
        "        # Iterating over all elements\n",
        "        for r in range(rows):\n",
        "            for c in range(cols):\n",
        "                if grid[r][c] == '1':\n",
        "                    exhaustDFS(r,c)\n",
        "                    # Adding to count as this is not attached to any point visited before implying that this is a new island\n",
        "                    countIslands += 1\n",
        "\n",
        "        return countIslands"
      ],
      "metadata": {
        "id": "CRgh558ulTVt"
      },
      "execution_count": 2,
      "outputs": []
    },
    {
      "cell_type": "markdown",
      "source": [
        "[P2: Max Area of Island](https://leetcode.com/problems/max-area-of-island/description/)"
      ],
      "metadata": {
        "id": "0jzeWCnTlThl"
      }
    },
    {
      "cell_type": "code",
      "source": [
        "class Solution:\n",
        "\n",
        "    # Time Complexity: O(m*n) - All elements need to be visited once\n",
        "    # Space Complexity: O(m*n) - The storage for the value at each address for m*n elements\n",
        "    # Iterate over each point, and as soon as we visit a ground point, use DFS to exhaust all attached ground points.\n",
        "    # We convert the ground point as 0 when we visit so that it is not counted again once visited.\n",
        "    # We find the area covered using the DFS search\n",
        "\n",
        "    def maxAreaOfIsland(self, grid: List[List[int]]) -> int:\n",
        "\n",
        "        rows, cols = len(grid), len(grid[0])\n",
        "        maxArea = 0\n",
        "\n",
        "        def findArea(r,c):\n",
        "            if r <0 or c < 0 \\\n",
        "            or r >= rows or c >= cols \\\n",
        "            or grid[r][c] == 0:\n",
        "                return 0\n",
        "\n",
        "            grid[r][c] = 0\n",
        "            return 1 + findArea(r+1,c) + findArea(r-1,c) + findArea(r,c+1) + findArea(r,c-1)\n",
        "\n",
        "        for r in range(rows):\n",
        "            for c in range(cols):\n",
        "                if grid[r][c] == 1:\n",
        "                    maxArea = max(maxArea, findArea(r,c))\n",
        "\n",
        "        return maxArea\n"
      ],
      "metadata": {
        "id": "1Ww9hZsIlTpy"
      },
      "execution_count": null,
      "outputs": []
    },
    {
      "cell_type": "markdown",
      "source": [],
      "metadata": {
        "id": "fBL53mMElV6r"
      }
    },
    {
      "cell_type": "code",
      "source": [],
      "metadata": {
        "id": "-FMrx2kflWB5"
      },
      "execution_count": null,
      "outputs": []
    },
    {
      "cell_type": "markdown",
      "source": [],
      "metadata": {
        "id": "X14qxCxFlXT_"
      }
    },
    {
      "cell_type": "code",
      "source": [],
      "metadata": {
        "id": "VRNgYqWDlWRs"
      },
      "execution_count": null,
      "outputs": []
    },
    {
      "cell_type": "markdown",
      "source": [],
      "metadata": {
        "id": "7deIsqvylZYh"
      }
    },
    {
      "cell_type": "code",
      "source": [],
      "metadata": {
        "id": "ITVobmfzlZik"
      },
      "execution_count": null,
      "outputs": []
    },
    {
      "cell_type": "markdown",
      "source": [],
      "metadata": {
        "id": "HEVlE98glZvD"
      }
    },
    {
      "cell_type": "code",
      "source": [],
      "metadata": {
        "id": "gNC7Hq4PlZ3g"
      },
      "execution_count": null,
      "outputs": []
    },
    {
      "cell_type": "markdown",
      "source": [],
      "metadata": {
        "id": "UZVqCjkAlaBZ"
      }
    },
    {
      "cell_type": "code",
      "source": [],
      "metadata": {
        "id": "9q7epIpMlae_"
      },
      "execution_count": null,
      "outputs": []
    },
    {
      "cell_type": "markdown",
      "source": [],
      "metadata": {
        "id": "n92GTwxGla5M"
      }
    },
    {
      "cell_type": "code",
      "source": [],
      "metadata": {
        "id": "UvUzyvjolbst"
      },
      "execution_count": null,
      "outputs": []
    },
    {
      "cell_type": "markdown",
      "source": [],
      "metadata": {
        "id": "UXrEkHdXlcU0"
      }
    },
    {
      "cell_type": "code",
      "source": [],
      "metadata": {
        "id": "fnmyP6OvldGw"
      },
      "execution_count": null,
      "outputs": []
    },
    {
      "cell_type": "markdown",
      "source": [],
      "metadata": {
        "id": "uitCTrp4ldzp"
      }
    },
    {
      "cell_type": "code",
      "source": [],
      "metadata": {
        "id": "4Tyu44uYlfZG"
      },
      "execution_count": null,
      "outputs": []
    },
    {
      "cell_type": "markdown",
      "source": [],
      "metadata": {
        "id": "wtqrddiXlf-c"
      }
    },
    {
      "cell_type": "code",
      "source": [],
      "metadata": {
        "id": "32QUi0Xzlgr3"
      },
      "execution_count": null,
      "outputs": []
    },
    {
      "cell_type": "markdown",
      "source": [],
      "metadata": {
        "id": "HJKac27SlhfY"
      }
    },
    {
      "cell_type": "code",
      "source": [],
      "metadata": {
        "id": "OPTH0xmFlhyu"
      },
      "execution_count": null,
      "outputs": []
    },
    {
      "cell_type": "markdown",
      "source": [],
      "metadata": {
        "id": "PG_hc2sDligX"
      }
    },
    {
      "cell_type": "code",
      "source": [],
      "metadata": {
        "id": "ooR5Nq8HlkHV"
      },
      "execution_count": null,
      "outputs": []
    }
  ]
}