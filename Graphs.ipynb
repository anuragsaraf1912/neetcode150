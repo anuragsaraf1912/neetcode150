{
  "nbformat": 4,
  "nbformat_minor": 0,
  "metadata": {
    "colab": {
      "provenance": [],
      "authorship_tag": "ABX9TyMgX/rjQS5UqMOx0eGaWtSc",
      "include_colab_link": true
    },
    "kernelspec": {
      "name": "python3",
      "display_name": "Python 3"
    },
    "language_info": {
      "name": "python"
    }
  },
  "cells": [
    {
      "cell_type": "markdown",
      "metadata": {
        "id": "view-in-github",
        "colab_type": "text"
      },
      "source": [
        "<a href=\"https://colab.research.google.com/github/anuragsaraf1912/neetcode150/blob/main/Graphs.ipynb\" target=\"_parent\"><img src=\"https://colab.research.google.com/assets/colab-badge.svg\" alt=\"Open In Colab\"/></a>"
      ]
    },
    {
      "cell_type": "markdown",
      "source": [
        "[P1: Number of Islands ](https://leetcode.com/problems/number-of-islands/description/)"
      ],
      "metadata": {
        "id": "XPZ0rSTllR_T"
      }
    },
    {
      "cell_type": "code",
      "source": [
        "class Solution:\n",
        "\n",
        "    # Time Complexity: O(m*n) - All elements need to be visited once\n",
        "    # Space Complexity: O(m*n) - The storage for the value at each address for m*n elements\n",
        "    # Iterate over each point, and as soon as we visit a ground point, use DFS to exhaust all attached ground points.\n",
        "    # We convert the ground point as 0 when we visit so that it is not counted again once visited.\n",
        "\n",
        "    def numIslands(self, grid: List[List[str]]) -> int:\n",
        "        rows, cols = len(grid), len(grid[0])\n",
        "        countIslands = 0\n",
        "\n",
        "        # Using DFS to exhaust all the points attached to the point provided as argument\n",
        "        def exhaustDFS(r,c):\n",
        "            if (r >= 0 and r < rows) \\\n",
        "            and (c >= 0 and c < cols) \\\n",
        "            and grid[r][c] == '1':\n",
        "                # Changing as it is counted once (Trick to avoid having extra space for set to keep track of visited address)\n",
        "                grid[r][c] = '0'\n",
        "                exhaustDFS(r+1,c)\n",
        "                exhaustDFS(r-1,c)\n",
        "                exhaustDFS(r,c+1)\n",
        "                exhaustDFS(r,c-1)\n",
        "\n",
        "        # Iterating over all elements\n",
        "        for r in range(rows):\n",
        "            for c in range(cols):\n",
        "                if grid[r][c] == '1':\n",
        "                    exhaustDFS(r,c)\n",
        "                    # Adding to count as this is not attached to any point visited before implying that this is a new island\n",
        "                    countIslands += 1\n",
        "\n",
        "        return countIslands"
      ],
      "metadata": {
        "id": "CRgh558ulTVt"
      },
      "execution_count": null,
      "outputs": []
    },
    {
      "cell_type": "markdown",
      "source": [
        "[P2: Max Area of Island](https://leetcode.com/problems/max-area-of-island/description/)"
      ],
      "metadata": {
        "id": "0jzeWCnTlThl"
      }
    },
    {
      "cell_type": "code",
      "source": [
        "class Solution:\n",
        "\n",
        "    # Time Complexity: O(m*n) - All elements need to be visited once\n",
        "    # Space Complexity: O(m*n) - The storage for the value at each address for m*n elements\n",
        "    # Iterate over each point, and as soon as we visit a ground point, use DFS to exhaust all attached ground points.\n",
        "    # We convert the ground point as 0 when we visit so that it is not counted again once visited.\n",
        "    # We find the area covered using the DFS search\n",
        "\n",
        "    def maxAreaOfIsland(self, grid: List[List[int]]) -> int:\n",
        "\n",
        "        rows, cols = len(grid), len(grid[0])\n",
        "        maxArea = 0\n",
        "\n",
        "        def findArea(r,c):\n",
        "            if r <0 or c < 0 \\\n",
        "            or r >= rows or c >= cols \\\n",
        "            or grid[r][c] == 0:\n",
        "                return 0\n",
        "\n",
        "            grid[r][c] = 0\n",
        "            return 1 + findArea(r+1,c) + findArea(r-1,c) + findArea(r,c+1) + findArea(r,c-1)\n",
        "\n",
        "        for r in range(rows):\n",
        "            for c in range(cols):\n",
        "                if grid[r][c] == 1:\n",
        "                    maxArea = max(maxArea, findArea(r,c))\n",
        "\n",
        "        return maxArea\n"
      ],
      "metadata": {
        "id": "1Ww9hZsIlTpy"
      },
      "execution_count": null,
      "outputs": []
    },
    {
      "cell_type": "markdown",
      "source": [
        "[P3: Clone Graph](https://leetcode.com/problems/clone-graph/description/)"
      ],
      "metadata": {
        "id": "fBL53mMElV6r"
      }
    },
    {
      "cell_type": "code",
      "source": [
        "\"\"\"\n",
        "# Definition for a Node.\n",
        "class Node:\n",
        "    def __init__(self, val = 0, neighbors = None):\n",
        "        self.val = val\n",
        "        self.neighbors = neighbors if neighbors is not None else []\n",
        "\"\"\"\n",
        "\n",
        "class Solution:\n",
        "    def cloneGraph(self, node: Optional['Node']) -> Optional['Node']:\n",
        "        #Creating a map for nodevalues\n",
        "        nodeMap, processed = {}, set()\n",
        "\n",
        "        # Creating a queue data structure\n",
        "        q = deque()\n",
        "        if node: q.append(node)\n",
        "\n",
        "        def getNode(val):\n",
        "            if val not in nodeMap:\n",
        "                nodeMap[val] = Node(val)\n",
        "            return nodeMap[val]\n",
        "\n",
        "        while q:\n",
        "            # Get the current Node\n",
        "            currNode = q.popleft()\n",
        "            if currNode.val in processed: continue\n",
        "            # Add to the processed state\n",
        "            processed.add(currNode.val)\n",
        "            # Create a clone for the same in case does't exist\n",
        "            clone = getNode(currNode.val)\n",
        "            for neighbor in currNode.neighbors:\n",
        "                if neighbor.val not in processed:\n",
        "                    q.append(neighbor)\n",
        "                clone.neighbors.append(getNode(neighbor.val))\n",
        "\n",
        "        return nodeMap[node.val] if node else None\n",
        "\n",
        "\n"
      ],
      "metadata": {
        "id": "-FMrx2kflWB5"
      },
      "execution_count": null,
      "outputs": []
    },
    {
      "cell_type": "markdown",
      "source": [
        "[P4: Walls and Gates](https://neetcode.io/problems/islands-and-treasure)"
      ],
      "metadata": {
        "id": "X14qxCxFlXT_"
      }
    },
    {
      "cell_type": "code",
      "source": [
        "class Solution:\n",
        "    def islandsAndTreasure(self, grid: List[List[int]]) -> None:\n",
        "        # The idea would be to use queue for this\n",
        "        # Have a q in which we put the treasure element\n",
        "        INF =  2147483647\n",
        "        q = deque()\n",
        "        rows, cols = len(grid), len(grid[0])\n",
        "        for r in range(rows):\n",
        "            for c in range(cols):\n",
        "                if not grid[r][c]: q.append((r,c))\n",
        "        nearby = [(1,0), (-1,0), (0,1), (0,-1)]\n",
        "        while q:\n",
        "            currX, currY = q.popleft()\n",
        "            for x, y in nearby:\n",
        "                if currX + x in range(rows)\\\n",
        "                and currY + y in range(cols)\\\n",
        "                and grid[currX + x][currY + y] == INF:\n",
        "                    q.append((currX + x, currY + y))\n",
        "                    grid[currX + x][currY + y] = grid[currX][currY] + 1\n",
        "\n",
        "\n",
        "\n"
      ],
      "metadata": {
        "id": "VRNgYqWDlWRs"
      },
      "execution_count": null,
      "outputs": []
    },
    {
      "cell_type": "markdown",
      "source": [
        "[P5: Rotting Oranges](https://leetcode.com/problems/rotting-oranges/submissions/1562224904/)"
      ],
      "metadata": {
        "id": "7deIsqvylZYh"
      }
    },
    {
      "cell_type": "code",
      "source": [
        "class Solution:\n",
        "    def orangesRotting(self, grid: List[List[int]]) -> int:\n",
        "\n",
        "        # Getting the constant values\n",
        "        rows, cols = len(grid), len(grid[0])\n",
        "        fresh, time = 0, 0\n",
        "        q = deque()\n",
        "        nearby = [(1,0), (-1,0), (0,1), (0,-1)]\n",
        "\n",
        "        # Adding the rotten in queue and counting fresh oranges\n",
        "        for r in range(rows):\n",
        "            for c in range(cols):\n",
        "                if grid[r][c] == 2:\n",
        "                    q.append((r,c))\n",
        "                if grid[r][c] == 1:\n",
        "                    fresh += 1\n",
        "\n",
        "        # Edge case: There are no rotten and no fresh oranges\n",
        "        if not q and not fresh: return 0\n",
        "\n",
        "        # Run BFS at each rotten orange\n",
        "        while q:\n",
        "            for _ in range(len(q)):\n",
        "                currX, currY = q.popleft()\n",
        "                for x,y in nearby:\n",
        "                    if currX + x in range(rows)\\\n",
        "                    and currY +y in range(cols)\\\n",
        "                    and grid[currX + x][currY + y] == 1:\n",
        "                        fresh -= 1\n",
        "                        grid[currX + x][currY + y] = 2\n",
        "                        q.append((currX + x,currY + y))\n",
        "            time += 1\n",
        "\n",
        "        return time-1 if not fresh else -1"
      ],
      "metadata": {
        "id": "ITVobmfzlZik"
      },
      "execution_count": null,
      "outputs": []
    },
    {
      "cell_type": "markdown",
      "source": [
        "[P6: Pacific Atlantic Water Flow](https://leetcode.com/problems/pacific-atlantic-water-flow/)"
      ],
      "metadata": {
        "id": "HEVlE98glZvD"
      }
    },
    {
      "cell_type": "code",
      "source": [
        "class Solution:\n",
        "    def pacificAtlantic(self, heights: List[List[int]]) -> List[List[int]]:\n",
        "\n",
        "        #Just for pacific\n",
        "        rows, cols = len(heights), len(heights[0])\n",
        "        pArray = [[False]*cols for _ in range(rows)]\n",
        "        aArray = [[False]*cols for _ in range(rows)]\n",
        "\n",
        "        def markDFS(r, c, val, arr):\n",
        "            if r < 0 or c < 0 or r >= rows or c >= cols or heights[r][c] < val or arr[r][c]:\n",
        "                return\n",
        "            arr[r][c] = True\n",
        "            val = heights[r][c]\n",
        "            markDFS(r+1, c, val, arr)\n",
        "            markDFS(r-1, c, val, arr)\n",
        "            markDFS(r, c+1, val, arr)\n",
        "            markDFS(r, c-1, val, arr)\n",
        "\n",
        "        for col in range(cols):\n",
        "            markDFS(0,col,heights[0][col], pArray)\n",
        "            markDFS(rows-1, col, heights[rows-1][col], aArray)\n",
        "\n",
        "        for row in range(rows):\n",
        "            markDFS(row,0,heights[row][0], pArray)\n",
        "            markDFS(row, cols-1, heights[row][cols-1], aArray)\n",
        "\n",
        "        return [[a,b] for a in range(rows) for b in range(cols) if (pArray[a][b] and aArray[a][b])]"
      ],
      "metadata": {
        "id": "gNC7Hq4PlZ3g"
      },
      "execution_count": null,
      "outputs": []
    },
    {
      "cell_type": "markdown",
      "source": [
        "[P7: Surrounded Region](https://neetcode.io/problems/surrounded-regions)"
      ],
      "metadata": {
        "id": "UZVqCjkAlaBZ"
      }
    },
    {
      "cell_type": "code",
      "source": [
        "class Solution:\n",
        "    def solve(self, board: List[List[str]]) -> None:\n",
        "        # Step 1: Find all the border O\n",
        "        # Step 2: Run a DFS from those O to get all adjacent Os\n",
        "        # Step 3: Change the remaining Os to X\n",
        "\n",
        "\n",
        "        rows, cols = len(board), len(board[0])\n",
        "\n",
        "        def markO(r,c):\n",
        "            # Function that uses DFS to mark all border connected elements as 'T'\n",
        "            if r < 0 or c < 0 or r >= rows or c >= cols or board[r][c] != 'O':\n",
        "                return\n",
        "            board[r][c] = 'T'\n",
        "            markO(r+1, c)\n",
        "            markO(r-1,c)\n",
        "            markO(r,c-1)\n",
        "            markO(r,c+1)\n",
        "\n",
        "        # Top and Bottom\n",
        "        for i in range(rows):\n",
        "            if board[i][0] == 'O': markO(i,0)\n",
        "            if board[i][cols-1] == 'O': markO(i, cols-1)\n",
        "\n",
        "        # Right and Left\n",
        "        for j in range(cols):\n",
        "            if board[0][j] == 'O': markO(0,j)\n",
        "            if board[rows-1][j] == 'O': markO(rows-1, j)\n",
        "\n",
        "        # Marking all Os as X\n",
        "        for i in range(rows):\n",
        "            for j in range(cols):\n",
        "                if board[i][j] == 'O': board[i][j] = 'X'\n",
        "\n",
        "        # Marking T elements are O again\n",
        "        for i in range(rows):\n",
        "            for j in range(cols):\n",
        "                if board[i][j] == 'T': board[i][j] = 'O'\n"
      ],
      "metadata": {
        "id": "9q7epIpMlae_"
      },
      "execution_count": null,
      "outputs": []
    },
    {
      "cell_type": "markdown",
      "source": [
        "[P8: Course Schedule](https://leetcode.com/problems/course-schedule/description/)"
      ],
      "metadata": {
        "id": "n92GTwxGla5M"
      }
    },
    {
      "cell_type": "code",
      "source": [
        "class Solution:\n",
        "    def canFinish(self, numCourses: int, prerequisites: List[List[int]]) -> bool:\n",
        "\n",
        "        # Time Complexity: O(V+E) - V for adding vertices to Queue and Each edge has to be processed.\n",
        "        # Space Complexity: O(V+E) - V for the degree and q and E for the number for the adjList\n",
        "        # Approach: This is a problem for detection of cycle in a Directed graph. This can be solved using the Kahn's Algorithm of topological sort\n",
        "        #           Can also be solved using DFS, but iterative approach is preferred because of the stack overflow in case of recursive solutions\n",
        "\n",
        "        # Defining all variables\n",
        "        adjList = defaultdict(list)\n",
        "        degree = [0]*numCourses # Keeps track of the requirements for each node\n",
        "        q, processed = deque(), 0\n",
        "\n",
        "        # Making adjacent list where the key is the prerequisite for the nodes in the lists\n",
        "        # Keeping a track of the number of requirements for a node using degree array\n",
        "        for n1, n2 in prerequisites:\n",
        "            adjList[n2].append(n1)\n",
        "            degree[n1] += 1\n",
        "\n",
        "        # Applying Kahn's Algorithm\n",
        "        for node in range(numCourses):\n",
        "            # If a node has no requirements, it is added to the Queue\n",
        "            if not degree[node]: q.append(node)\n",
        "\n",
        "        while q:\n",
        "            currNode = q.popleft()\n",
        "            # Reducing the requirement varaible for all nodes where the current node is a prerequisite\n",
        "            for nextNode in adjList[currNode]:\n",
        "                degree[nextNode] -= 1\n",
        "                # If there are no further prerequisites for the nextNode, it is added to the Queue\n",
        "                if not degree[nextNode]: q.append(nextNode)\n",
        "            processed += 1\n",
        "\n",
        "        # We should be able to process all the nodes using this else there is a cycle in the graph\n",
        "        return processed == numCourses\n"
      ],
      "metadata": {
        "id": "UvUzyvjolbst"
      },
      "execution_count": null,
      "outputs": []
    },
    {
      "cell_type": "markdown",
      "source": [
        "[P9: Course Schedule 2](https://leetcode.com/problems/course-schedule-ii/description/)"
      ],
      "metadata": {
        "id": "UXrEkHdXlcU0"
      }
    },
    {
      "cell_type": "code",
      "source": [
        "class Solution:\n",
        "    def findOrder(self, numCourses: int, prerequisites: List[List[int]]) -> List[int]:\n",
        "\n",
        "        # Generating constants\n",
        "        order, q = [], deque()\n",
        "        adjList = defaultdict(list)\n",
        "        degree = [0]*numCourses\n",
        "        processed = 0\n",
        "\n",
        "        # Generating the adjList and degree\n",
        "        for course, prereq in prerequisites:\n",
        "            adjList[prereq].append(course)\n",
        "            degree[course] += 1\n",
        "\n",
        "        # Adding to the queue\n",
        "        for course in range(numCourses):\n",
        "            if degree[course] == 0: q.append(course)\n",
        "\n",
        "        # Processing the queues\n",
        "        while q:\n",
        "            currNode = q.popleft()\n",
        "            order.append(currNode)\n",
        "            processed += 1\n",
        "            # Update the prerequisites count for each Node\n",
        "            for nextNode in adjList[currNode]:\n",
        "                degree[nextNode] -= 1\n",
        "                if degree[nextNode] == 0: q.append(nextNode)\n",
        "\n",
        "        return order if processed == numCourses else []\n",
        "\n",
        ""
      ],
      "metadata": {
        "id": "fnmyP6OvldGw"
      },
      "execution_count": null,
      "outputs": []
    },
    {
      "cell_type": "markdown",
      "source": [],
      "metadata": {
        "id": "uitCTrp4ldzp"
      }
    },
    {
      "cell_type": "code",
      "source": [],
      "metadata": {
        "id": "4Tyu44uYlfZG"
      },
      "execution_count": null,
      "outputs": []
    },
    {
      "cell_type": "markdown",
      "source": [],
      "metadata": {
        "id": "wtqrddiXlf-c"
      }
    },
    {
      "cell_type": "code",
      "source": [],
      "metadata": {
        "id": "32QUi0Xzlgr3"
      },
      "execution_count": null,
      "outputs": []
    },
    {
      "cell_type": "markdown",
      "source": [],
      "metadata": {
        "id": "HJKac27SlhfY"
      }
    },
    {
      "cell_type": "code",
      "source": [],
      "metadata": {
        "id": "OPTH0xmFlhyu"
      },
      "execution_count": null,
      "outputs": []
    },
    {
      "cell_type": "markdown",
      "source": [],
      "metadata": {
        "id": "PG_hc2sDligX"
      }
    },
    {
      "cell_type": "code",
      "source": [],
      "metadata": {
        "id": "ooR5Nq8HlkHV"
      },
      "execution_count": null,
      "outputs": []
    }
  ]
}