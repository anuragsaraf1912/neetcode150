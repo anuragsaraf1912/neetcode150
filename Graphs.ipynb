{
  "nbformat": 4,
  "nbformat_minor": 0,
  "metadata": {
    "colab": {
      "provenance": [],
      "authorship_tag": "ABX9TyMeExNFoC8vWsHF183tPbKf",
      "include_colab_link": true
    },
    "kernelspec": {
      "name": "python3",
      "display_name": "Python 3"
    },
    "language_info": {
      "name": "python"
    }
  },
  "cells": [
    {
      "cell_type": "markdown",
      "metadata": {
        "id": "view-in-github",
        "colab_type": "text"
      },
      "source": [
        "<a href=\"https://colab.research.google.com/github/anuragsaraf1912/neetcode150/blob/main/Graphs.ipynb\" target=\"_parent\"><img src=\"https://colab.research.google.com/assets/colab-badge.svg\" alt=\"Open In Colab\"/></a>"
      ]
    },
    {
      "cell_type": "markdown",
      "source": [
        "[P1: Number of Islands ](https://neetcode.io/problems/count-number-of-islands)"
      ],
      "metadata": {
        "id": "XPZ0rSTllR_T"
      }
    },
    {
      "cell_type": "code",
      "source": [
        "class Solution:\n",
        "\"\"\"\n",
        "    Time Complexity: O(m*n) - All elements need to be visited once\n",
        "    Space Complexity: O(m*n) - max possible length of the stack.\n",
        "    Approach: Iterate over each point, and as soon as we visit a ground point, use DFS to exhaust all attached ground points.\n",
        "              We convert the ground point as 0 when we visit so that it is not counted again once visited.\n",
        "\"\"\"\n",
        "    class Solution:\n",
        "    def numIslands(self, grid: List[List[str]]) -> int:\n",
        "        count = 0\n",
        "        rows, cols = len(grid), len(grid[0])\n",
        "\n",
        "        # Using the DFS to mark all points of the same island.\n",
        "        def markIsland(r,c):\n",
        "            if r < 0 or r >= rows \\\n",
        "            or c < 0 or c>= cols \\\n",
        "            or grid[r][c] != '1':\n",
        "                return\n",
        "            grid[r][c] = '0'\n",
        "            for x,y in [(1,0),(-1,0), (0,1),(0,-1)]:\n",
        "                markIsland(r+x,c+y)\n",
        "\n",
        "        for r in range(rows):\n",
        "            for c in range(cols):\n",
        "                if grid[r][c] == '1':\n",
        "                    count += 1\n",
        "                    markIsland(r,c)\n",
        "\n",
        "        return count"
      ],
      "metadata": {
        "id": "CRgh558ulTVt"
      },
      "execution_count": null,
      "outputs": []
    },
    {
      "cell_type": "markdown",
      "source": [
        "[P2: Max Area of Island](https://neetcode.io/problems/max-area-of-island)"
      ],
      "metadata": {
        "id": "0jzeWCnTlThl"
      }
    },
    {
      "cell_type": "code",
      "source": [
        "class Solution:\n",
        "\"\"\"\n",
        "Time Complexity: O(m*n) - All elements need to be visited once\n",
        "Space Complexity: O(m*n) - Max stack length.\n",
        "Approach: Iterate over each point, and as soon as we visit a ground point, use DFS to exhaust all attached ground points.\n",
        "          We convert the ground point as 0 when we visit so that it is not counted again once visited.\n",
        "          We return the area covered using the DFS search.\n",
        "\"\"\"\n",
        "    def maxAreaOfIsland(self, grid: List[List[int]]) -> int:\n",
        "\n",
        "        rows, cols = len(grid), len(grid[0])\n",
        "        maxArea = 0\n",
        "\n",
        "        def findArea(r,c):\n",
        "            if r <0 or c < 0 \\\n",
        "            or r >= rows or c >= cols \\\n",
        "            or grid[r][c] == 0:\n",
        "                return 0\n",
        "\n",
        "            grid[r][c] = 0\n",
        "            area = 1\n",
        "            for x,y in [(-1,0), (1,0), (0,1), (0,-1)]:\n",
        "                area += calculateArea(r+x,c+y)\n",
        "            return area\n",
        "\n",
        "        for r in range(rows):\n",
        "            for c in range(cols):\n",
        "                if grid[r][c] == 1:\n",
        "                    maxArea = max(maxArea, findArea(r,c))\n",
        "\n",
        "        return maxArea"
      ],
      "metadata": {
        "id": "1Ww9hZsIlTpy"
      },
      "execution_count": null,
      "outputs": []
    },
    {
      "cell_type": "markdown",
      "source": [
        "[P3: Clone Graph](https://neetcode.io/problems/clone-graph)"
      ],
      "metadata": {
        "id": "fBL53mMElV6r"
      }
    },
    {
      "cell_type": "code",
      "source": [
        "\"\"\"\n",
        "# Definition for a Node.\n",
        "class Node:\n",
        "    def __init__(self, val = 0, neighbors = None):\n",
        "        self.val = val\n",
        "        self.neighbors = neighbors if neighbors is not None else []\n",
        "\"\"\"\n",
        "\"\"\"\n",
        "Time Complexity: O(V+E)\n",
        "Space Complexity: O(V) Max queue length.\n",
        "Approach: This would be similar to the linked list problem. We first use BFS traversal to generate nodes and then add the neighbors.\n",
        "          A dicitionary is used to track copy of each node.\n",
        "          Note that this technique doesn't work for an unconnected graph. We have to modify the cloning part.\n",
        "\n",
        "\"\"\"\n",
        "\n",
        "class Solution:\n",
        "    def cloneGraph(self, node: Optional['Node']) -> Optional['Node']:\n",
        "        cloned = {}\n",
        "        q = deque()\n",
        "        if node: q.append(node)\n",
        "\n",
        "        # Cloning the graph with BFS traversal without adding neighbors\n",
        "        while q:\n",
        "            currNode = q.popleft()\n",
        "            newNode = Node(currNode.val)\n",
        "            cloned[currNode] = newNode\n",
        "            for n in currNode.neighbors:\n",
        "                if n not in cloned: q.append(n)\n",
        "\n",
        "        # Neighbors are added once the traversal is complete\n",
        "        for act, copy in cloned.items():\n",
        "            copy.neighbors = [cloned[n] for n in act.neighbors]\n",
        "\n",
        "        return cloned[node] if node else None\n"
      ],
      "metadata": {
        "id": "-FMrx2kflWB5"
      },
      "execution_count": null,
      "outputs": []
    },
    {
      "cell_type": "code",
      "source": [
        "\"\"\"\n",
        "# Definition for a Node.\n",
        "class Node:\n",
        "    def __init__(self, val = 0, neighbors = None):\n",
        "        self.val = val\n",
        "        self.neighbors = neighbors if neighbors is not None else []\n",
        "\"\"\"\n",
        "\"\"\"\n",
        "Time Complexity: O(V+E)\n",
        "Space Complexity: O(V) Max stack length.\n",
        "Approach: DFS approach is used to clone the graph. Keep a dictionary to keep track of all the cloned nodes.\n",
        "          Use a recursive function to generate the clone, if node is not cloned yet, create a new node and add it to the dictionary.\n",
        "          Once the node is added, we can process the neighbors (Neighbors are added after adding to dictionary for avoiding cyclic dependency).\n",
        "\n",
        "\"\"\"\n",
        "class Solution:\n",
        "    def cloneGraph(self, node: Optional['Node']) -> Optional['Node']:\n",
        "\n",
        "        cloned = {}\n",
        "        def dfsClone(node):\n",
        "            if not node: return\n",
        "            if node.val not in cloned:\n",
        "                currNode = Node(node.val)\n",
        "                cloned[node.val] = currNode\n",
        "                for n in node.neighbors:\n",
        "                    currNode.neighbors.append(dfsClone(n))\n",
        "            return cloned[node.val]\n",
        "\n",
        "        return dfsClone(node)"
      ],
      "metadata": {
        "id": "yJpA9HHo-QlZ"
      },
      "execution_count": null,
      "outputs": []
    },
    {
      "cell_type": "markdown",
      "source": [
        "[P4: Walls and Gates](https://neetcode.io/problems/islands-and-treasure)"
      ],
      "metadata": {
        "id": "X14qxCxFlXT_"
      }
    },
    {
      "cell_type": "code",
      "source": [
        "class Solution:\n",
        "\"\"\"\n",
        "Time Complexity: O(m*n)\n",
        "Space Complexity: O(m*n)\n",
        "Approach: Queue data structure is used and BFS technique is used to cover all the cells.\n",
        "          Start with the treasure chest cell and move to all the next surrounding cell. Update only when the cell has not been updated yet.\n",
        "\n",
        "\"\"\"\n",
        "    def islandsAndTreasure(self, grid: List[List[int]]) -> None:\n",
        "        INF = 2**31 - 1\n",
        "        q = deque()\n",
        "        rows, cols = len(grid), len(grid[0])\n",
        "        # Adding to the queue\n",
        "        for r in range(rows):\n",
        "            for c in range(cols):\n",
        "                if grid[r][c] == 0:\n",
        "                    q.append((r,c))\n",
        "\n",
        "        while q:\n",
        "            r, c = q.popleft()\n",
        "            for x,y in [(1,0), (-1,0), (0,1), (0,-1)]:\n",
        "                nextX, nextY = r+x, c+y\n",
        "                # Update only when the surrounding cell is not explored.\n",
        "                if nextX >= 0 and nextX < rows \\\n",
        "                and nextY >= 0 and nextY < cols \\\n",
        "                and grid[nextX][nextY] == INF:\n",
        "                    q.append((nextX, nextY))\n",
        "                    grid[nextX][nextY] = grid[r][c] + 1\n"
      ],
      "metadata": {
        "id": "VRNgYqWDlWRs"
      },
      "execution_count": null,
      "outputs": []
    },
    {
      "cell_type": "markdown",
      "source": [
        "[P5: Rotting Oranges](https://leetcode.com/problems/rotting-oranges/submissions/1562224904/)"
      ],
      "metadata": {
        "id": "7deIsqvylZYh"
      }
    },
    {
      "cell_type": "code",
      "source": [
        "class Solution:\n",
        "\n",
        "\"\"\"\n",
        "Time Complexity: O(m*n)\n",
        "Space Complexity: O(m*n)\n",
        "Approach: Use BFS to traverse. Add the rotten oranges into a queue.\n",
        "          At each time step (same as level order traversal), go to the surrounding oranges.\n",
        "\n",
        "\"\"\"\n",
        "    def orangesRotting(self, grid: List[List[int]]) -> int:\n",
        "\n",
        "        # Getting the variables\n",
        "        rows, cols = len(grid), len(grid[0])\n",
        "        fresh, time = 0, 0\n",
        "        q = deque()\n",
        "        nearby = [(1,0), (-1,0), (0,1), (0,-1)]\n",
        "\n",
        "        # Adding the rotten in queue and counting fresh oranges\n",
        "        for r in range(rows):\n",
        "            for c in range(cols):\n",
        "                if grid[r][c] == 2:\n",
        "                    q.append((r,c))\n",
        "                if grid[r][c] == 1:\n",
        "                    fresh += 1\n",
        "\n",
        "        # Edge case: There are no rotten and no fresh oranges\n",
        "        if not q and not fresh: return 0\n",
        "\n",
        "        # Run BFS at each rotten orange\n",
        "        while q and fresh:\n",
        "            for _ in range(len(q)):\n",
        "                currX, currY = q.popleft()\n",
        "                for x,y in nearby:\n",
        "                    if currX + x in range(rows)\\\n",
        "                    and currY +y in range(cols)\\\n",
        "                    and grid[currX + x][currY + y] == 1:\n",
        "                        fresh -= 1\n",
        "                        grid[currX + x][currY + y] = 2\n",
        "                        q.append((currX + x,currY + y))\n",
        "            time += 1\n",
        "\n",
        "        return time if not fresh else -1"
      ],
      "metadata": {
        "id": "ITVobmfzlZik"
      },
      "execution_count": null,
      "outputs": []
    },
    {
      "cell_type": "markdown",
      "source": [
        "[P6: Pacific Atlantic Water Flow](https://leetcode.com/problems/pacific-atlantic-water-flow/)"
      ],
      "metadata": {
        "id": "HEVlE98glZvD"
      }
    },
    {
      "cell_type": "code",
      "source": [
        "class Solution:\n",
        "    def pacificAtlantic(self, heights: List[List[int]]) -> List[List[int]]:\n",
        "        rows, cols = len(heights), len(heights[0])\n",
        "        pacBool = [[False]*cols for _ in range(rows)]\n",
        "        atlanBool = [[False]*cols for _ in range(rows)]\n",
        "\n",
        "        def dfs(r,c,table, val = -float('inf')):\n",
        "            if r >= 0 and r < rows \\\n",
        "            and c >= 0 and c < cols \\\n",
        "            and not table[r][c] \\\n",
        "            and heights[r][c] >= val:\n",
        "                table[r][c] = True\n",
        "                for x,y in [(1,0), (-1,0), (0,1), (0,-1)]:\n",
        "                    dfs(r+x, c+y, table, heights[r][c])\n",
        "\n",
        "        for r in range(rows):\n",
        "            for c in range(cols):\n",
        "                if r == 0 or c == 0: dfs(r,c,pacBool)\n",
        "                if r == rows - 1 or c == cols - 1: dfs(r,c,atlanBool)\n",
        "\n",
        "        return [[a,b] for a in range(rows) for b in range(cols) if pacBool[a][b] and atlanBool[a][b]]\n"
      ],
      "metadata": {
        "id": "gNC7Hq4PlZ3g"
      },
      "execution_count": null,
      "outputs": []
    },
    {
      "cell_type": "markdown",
      "source": [
        "[P7: Surrounded Region](https://neetcode.io/problems/surrounded-regions)"
      ],
      "metadata": {
        "id": "UZVqCjkAlaBZ"
      }
    },
    {
      "cell_type": "code",
      "source": [
        "class Solution:\n",
        "    def solve(self, board: List[List[str]]) -> None:\n",
        "        # Step 1: Find all the border O\n",
        "        # Step 2: Run a DFS from those O to get all adjacent Os\n",
        "        # Step 3: Change the remaining Os to X\n",
        "\n",
        "\n",
        "        rows, cols = len(board), len(board[0])\n",
        "\n",
        "        def markO(r,c):\n",
        "            # Function that uses DFS to mark all border connected elements as 'T'\n",
        "            if r < 0 or c < 0 or r >= rows or c >= cols or board[r][c] != 'O':\n",
        "                return\n",
        "            board[r][c] = 'T'\n",
        "            markO(r+1, c)\n",
        "            markO(r-1,c)\n",
        "            markO(r,c-1)\n",
        "            markO(r,c+1)\n",
        "\n",
        "        # Top and Bottom\n",
        "        for i in range(rows):\n",
        "            if board[i][0] == 'O': markO(i,0)\n",
        "            if board[i][cols-1] == 'O': markO(i, cols-1)\n",
        "\n",
        "        # Right and Left\n",
        "        for j in range(cols):\n",
        "            if board[0][j] == 'O': markO(0,j)\n",
        "            if board[rows-1][j] == 'O': markO(rows-1, j)\n",
        "\n",
        "        # Marking all Os as X\n",
        "        for i in range(rows):\n",
        "            for j in range(cols):\n",
        "                if board[i][j] == 'O': board[i][j] = 'X'\n",
        "\n",
        "        # Marking T elements are O again\n",
        "        for i in range(rows):\n",
        "            for j in range(cols):\n",
        "                if board[i][j] == 'T': board[i][j] = 'O'\n"
      ],
      "metadata": {
        "id": "9q7epIpMlae_"
      },
      "execution_count": null,
      "outputs": []
    },
    {
      "cell_type": "markdown",
      "source": [
        "[P8: Course Schedule](https://leetcode.com/problems/course-schedule/description/)"
      ],
      "metadata": {
        "id": "n92GTwxGla5M"
      }
    },
    {
      "cell_type": "code",
      "source": [
        "class Solution:\n",
        "    def canFinish(self, numCourses: int, prerequisites: List[List[int]]) -> bool:\n",
        "\n",
        "        # Time Complexity: O(V+E) - V for adding vertices to Queue and Each edge has to be processed.\n",
        "        # Space Complexity: O(V+E) - V for the degree and q and E for the number for the adjList\n",
        "        # Approach: This is a problem for detection of cycle in a Directed graph. This can be solved using the Kahn's Algorithm of topological sort\n",
        "        #           Can also be solved using DFS, but iterative approach is preferred because of the stack overflow in case of recursive solutions\n",
        "\n",
        "        # Defining all variables\n",
        "        adjList = defaultdict(list)\n",
        "        degree = [0]*numCourses # Keeps track of the requirements for each node\n",
        "        q, processed = deque(), 0\n",
        "\n",
        "        # Making adjacent list where the key is the prerequisite for the nodes in the lists\n",
        "        # Keeping a track of the number of requirements for a node using degree array\n",
        "        for n1, n2 in prerequisites:\n",
        "            adjList[n2].append(n1)\n",
        "            degree[n1] += 1\n",
        "\n",
        "        # Applying Kahn's Algorithm\n",
        "        for node in range(numCourses):\n",
        "            # If a node has no requirements, it is added to the Queue\n",
        "            if not degree[node]: q.append(node)\n",
        "\n",
        "        while q:\n",
        "            currNode = q.popleft()\n",
        "            # Reducing the requirement varaible for all nodes where the current node is a prerequisite\n",
        "            for nextNode in adjList[currNode]:\n",
        "                degree[nextNode] -= 1\n",
        "                # If there are no further prerequisites for the nextNode, it is added to the Queue\n",
        "                if not degree[nextNode]: q.append(nextNode)\n",
        "            processed += 1\n",
        "\n",
        "        # We should be able to process all the nodes using this else there is a cycle in the graph\n",
        "        return processed == numCourses\n"
      ],
      "metadata": {
        "id": "UvUzyvjolbst"
      },
      "execution_count": null,
      "outputs": []
    },
    {
      "cell_type": "markdown",
      "source": [
        "[P9: Course Schedule 2](https://leetcode.com/problems/course-schedule-ii/description/)"
      ],
      "metadata": {
        "id": "UXrEkHdXlcU0"
      }
    },
    {
      "cell_type": "code",
      "source": [
        "class Solution:\n",
        "    def findOrder(self, numCourses: int, prerequisites: List[List[int]]) -> List[int]:\n",
        "\n",
        "        # Generating constants\n",
        "        order, q = [], deque()\n",
        "        adjList = defaultdict(list)\n",
        "        degree = [0]*numCourses\n",
        "        processed = 0\n",
        "\n",
        "        # Generating the adjList and degree\n",
        "        for course, prereq in prerequisites:\n",
        "            adjList[prereq].append(course)\n",
        "            degree[course] += 1\n",
        "\n",
        "        # Adding to the queue\n",
        "        for course in range(numCourses):\n",
        "            if degree[course] == 0: q.append(course)\n",
        "\n",
        "        # Processing the queues\n",
        "        while q:\n",
        "            currNode = q.popleft()\n",
        "            order.append(currNode)\n",
        "            processed += 1\n",
        "            # Update the prerequisites count for each Node\n",
        "            for nextNode in adjList[currNode]:\n",
        "                degree[nextNode] -= 1\n",
        "                if degree[nextNode] == 0: q.append(nextNode)\n",
        "\n",
        "        return order if processed == numCourses else []\n",
        "\n"
      ],
      "metadata": {
        "id": "fnmyP6OvldGw"
      },
      "execution_count": null,
      "outputs": []
    },
    {
      "cell_type": "markdown",
      "source": [
        "[P10: Graph Valid Tree](https://neetcode.io/problems/valid-tree)"
      ],
      "metadata": {
        "id": "uitCTrp4ldzp"
      }
    },
    {
      "cell_type": "code",
      "source": [
        "class Solution:\n",
        "    def validTree(self, n: int, edges: List[List[int]]) -> bool:\n",
        "        # The solution can have Union Find algorithm\n",
        "        # The algo returns false when the edge nodes are part of\n",
        "        # the same cycle or there are not n-1 edges.\n",
        "\n",
        "        parentMap = {i:i for i in range(n)}\n",
        "        if len(edges) != n-1: return False\n",
        "\n",
        "        def find(n1):\n",
        "            if parentMap[n1] == n1: return n1\n",
        "            # Path compression\n",
        "            parentMap[n1]= find(parentMap[n1])\n",
        "            return parentMap[n1]\n",
        "\n",
        "        def union(n1, n2):\n",
        "            p1 = find(n1)\n",
        "            p2 = find(n2)\n",
        "            if p1 == p2: return False\n",
        "            parent = min(p1,p2)\n",
        "            parentMap[p1] = parent\n",
        "            parentMap[p2] = parent\n",
        "            return True\n",
        "\n",
        "        for n1, n2 in edges:\n",
        "            diffTree = union(n1,n2)\n",
        "            if not diffTree: return False\n",
        "\n",
        "        return True\n"
      ],
      "metadata": {
        "id": "4Tyu44uYlfZG"
      },
      "execution_count": null,
      "outputs": []
    },
    {
      "cell_type": "markdown",
      "source": [
        "[P11: Count Connected Components](https://neetcode.io/problems/count-connected-components)"
      ],
      "metadata": {
        "id": "wtqrddiXlf-c"
      }
    },
    {
      "cell_type": "code",
      "source": [
        "class Solution:\n",
        "    def countComponents(self, n: int, edges: List[List[int]]) -> int:\n",
        "\n",
        "        # Remember that the union find does not guarantee\n",
        "        # same parent in the parentMap. All of them would point to single though\n",
        "        parentMap = {i:i for i in range(n)}\n",
        "\n",
        "        def find(node):\n",
        "            if parentMap[node] == node: return node\n",
        "            parentMap[node] = find(parentMap[node])\n",
        "            return parentMap[node]\n",
        "\n",
        "        def union(n1, n2):\n",
        "            p1, p2 = find(n1), find(n2)\n",
        "            parent = min(p1,p2)\n",
        "            parentMap[p1] = parent\n",
        "            parentMap[p2] = parent\n",
        "\n",
        "        for n1, n2 in edges:\n",
        "            union(n1, n2)\n",
        "\n",
        "        parents = set()\n",
        "        for node in range(n):\n",
        "            p = find(node)\n",
        "            if p not in parents: parents.add(p)\n",
        "\n",
        "        return len(parents)\n",
        "\n",
        "\n"
      ],
      "metadata": {
        "id": "32QUi0Xzlgr3"
      },
      "execution_count": null,
      "outputs": []
    },
    {
      "cell_type": "markdown",
      "source": [
        "[P12: Redundant Connection](https://neetcode.io/problems/redundant-connection)"
      ],
      "metadata": {
        "id": "HJKac27SlhfY"
      }
    },
    {
      "cell_type": "code",
      "source": [
        "class Solution:\n",
        "    def findRedundantConnection(self, edges: List[List[int]]) -> List[int]:\n",
        "        # The idea would be to use union find to ensure that the\n",
        "        # edge does not lead to a cycle\n",
        "        parentMap = {}\n",
        "\n",
        "        def find(node):\n",
        "            # Incase node is not present\n",
        "            if node not in parentMap:\n",
        "                parentMap[node] = node\n",
        "            # If the element is a single element\n",
        "            if parentMap[node] == node:\n",
        "                return parentMap[node]\n",
        "            # Path compression\n",
        "            parentMap[node] = find(parentMap[node])\n",
        "            return parentMap[node]\n",
        "\n",
        "        def union(n1, n2):\n",
        "            p1 = find(n1)\n",
        "            p2 = find(n2)\n",
        "            if p1 == p2: return False\n",
        "            par = min(p1,p2)\n",
        "            parentMap[p1] = par\n",
        "            parentMap[p2] = par\n",
        "            return True\n",
        "\n",
        "        for n1, n2 in edges:\n",
        "            diffTree = union(n1, n2)\n",
        "            if not diffTree: return [n1, n2]"
      ],
      "metadata": {
        "id": "OPTH0xmFlhyu"
      },
      "execution_count": null,
      "outputs": []
    },
    {
      "cell_type": "markdown",
      "source": [
        "[P13: Word Ladder](https://leetcode.com/problems/word-ladder/)"
      ],
      "metadata": {
        "id": "PG_hc2sDligX"
      }
    },
    {
      "cell_type": "code",
      "source": [
        "class Solution:\n",
        "    def ladderLength(self, beginWord: str, endWord: str, wordList: List[str]) -> int:\n",
        "\n",
        "        # Time Complexity: O(m*n) We iterate over each word and can visit max of all n words\n",
        "        # Space Complexity: O(m*n) A set is stored of length n with m length words\n",
        "        # where m is the length of the string and n is the number of words\n",
        "        # Approach: The wordList is converted to the set. The startword is added to a queue. Each time we take word from the queue and\n",
        "        #           find the words that can be reached from this word. Those words are added to the queue and removed from the wordSet.\n",
        "        #           This is done untill the q is empty.\n",
        "\n",
        "        # Converting to set\n",
        "        wordSet = set(wordList)\n",
        "        if endWord not in wordSet: return 0\n",
        "        # Creating Queue and adding the beginWord\n",
        "        q = deque()\n",
        "        q.append((beginWord, 1))\n",
        "\n",
        "        while q:\n",
        "            word, depth = q.popleft()\n",
        "            # Each alphabet in the word is changed\n",
        "            for i in range(len(word)):\n",
        "                for char in 'abcdefghijklmnopqrstuvwxyz':\n",
        "                    if char == word[i]: continue\n",
        "                    # Word formed after changing the alphabet\n",
        "                    nextWord = word[:i] + char + word[i+1:]\n",
        "                    if nextWord == endWord: return depth + 1\n",
        "                    # The nextWord is removed from wordSet so that it is not added again to the queue.\n",
        "                    if nextWord in wordSet:\n",
        "                        wordSet.remove(nextWord)\n",
        "                        q.append((nextWord, depth+1))\n",
        "\n",
        "        return 0\n"
      ],
      "metadata": {
        "id": "ooR5Nq8HlkHV"
      },
      "execution_count": null,
      "outputs": []
    },
    {
      "cell_type": "code",
      "source": [
        "class Solution:\n",
        "    # Time Complexity: O(m*n) We iterate over each word and can visit max of all n words\n",
        "    # Space Complexity: O(m*n) A total of m*n keys would be there in the adjList\n",
        "    # where m is the length of the string and n is the number of words\n",
        "    # Alternate Approach: We create all the possible keys with one wild character * for a particular word. This is used to find the next\n",
        "    #                     set of possible words to go in next step. Rest of the approach is the same, we add the next word in the queue and\n",
        "    #                     check if the endWord is found.\n",
        "\n",
        "\n",
        "\n",
        "    def ladderLength(self, beginWord: str, endWord: str, wordList: List[str]) -> int:\n",
        "        if endWord not in wordList: return 0\n",
        "\n",
        "        # Created adjacent List\n",
        "        adjList = defaultdict(list)\n",
        "        for word in wordList:\n",
        "            for i in range(len(word)):\n",
        "                adjList[word[:i] + '*' + word[i+1:]].append(word)\n",
        "\n",
        "\n",
        "        q, visited = deque(), set()\n",
        "        q.append((beginWord,1))\n",
        "        while q:\n",
        "            currWord, depth = q.popleft()\n",
        "            visited.add(currWord)\n",
        "            if currWord == endWord: return depth\n",
        "\n",
        "            for i in range(len(currWord)):\n",
        "                key = currWord[:i] + '*' + currWord[i+1:]\n",
        "                for nextWord in adjList[key]:\n",
        "                    if nextWord not in visited:\n",
        "                        q.append((nextWord, depth + 1))\n",
        "\n",
        "        return 0\n"
      ],
      "metadata": {
        "id": "gw0fdJ4e10Vc"
      },
      "execution_count": null,
      "outputs": []
    }
  ]
}