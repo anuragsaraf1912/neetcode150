{
  "nbformat": 4,
  "nbformat_minor": 0,
  "metadata": {
    "colab": {
      "provenance": [],
      "authorship_tag": "ABX9TyP/k/fcJrVCHMP+zVT99/b6",
      "include_colab_link": true
    },
    "kernelspec": {
      "name": "python3",
      "display_name": "Python 3"
    },
    "language_info": {
      "name": "python"
    }
  },
  "cells": [
    {
      "cell_type": "markdown",
      "metadata": {
        "id": "view-in-github",
        "colab_type": "text"
      },
      "source": [
        "<a href=\"https://colab.research.google.com/github/anuragsaraf1912/neetcode150/blob/main/Linked_List.ipynb\" target=\"_parent\"><img src=\"https://colab.research.google.com/assets/colab-badge.svg\" alt=\"Open In Colab\"/></a>"
      ]
    },
    {
      "cell_type": "markdown",
      "source": [
        "[P1: Reverse Linked List](https://neetcode.io/problems/reverse-a-linked-list)"
      ],
      "metadata": {
        "id": "KrHVkhP7UpAl"
      }
    },
    {
      "cell_type": "code",
      "execution_count": null,
      "metadata": {
        "id": "XpPkPG-SUkws"
      },
      "outputs": [],
      "source": [
        "# Definition for singly-linked list.\n",
        "# class ListNode:\n",
        "#     def __init__(self, val=0, next=None):\n",
        "#         self.val = val\n",
        "#         self.next = next\n",
        "\n",
        "# A prev has to be maintained to be pointed by the curr node.\n",
        "# Store next node, point to prev node and update the pointers\n",
        "# Space Complexity: O(1) (Apart from the saved LL)\n",
        "# Time Complexity: O(n)\n",
        "\n",
        "\n",
        "class Solution:\n",
        "    def reverseList(self, head: Optional[ListNode]) -> Optional[ListNode]:\n",
        "        prev, curr = None, head\n",
        "        while curr:\n",
        "            nextNode = curr.next\n",
        "            curr.next = prev\n",
        "            prev, curr = curr, nextNode\n",
        "\n",
        "        return prev"
      ]
    },
    {
      "cell_type": "markdown",
      "source": [
        "[P2: Merge Two Sorted Linked Lists](https://neetcode.io/problems/merge-two-sorted-linked-lists)"
      ],
      "metadata": {
        "id": "LL-yZO2sUnwH"
      }
    },
    {
      "cell_type": "code",
      "source": [
        "# Definition for singly-linked list.\n",
        "# class ListNode:\n",
        "#     def __init__(self, val=0, next=None):\n",
        "#         self.val = val\n",
        "#         self.next = next\n",
        "\n",
        "# Space Complexity: O(1)\n",
        "# Time Complexity: O(n+m)\n",
        "# Recursive Approach: Base case return the other list in case anyone is null\n",
        "# Go to the next node of the smaller value and call the function recursively\n",
        "\n",
        "\n",
        "class Solution:\n",
        "    def mergeTwoLists(self, list1: Optional[ListNode], list2: Optional[ListNode]) -> Optional[ListNode]:\n",
        "\n",
        "        if not list1: return list2\n",
        "        if not list2: return list1\n",
        "\n",
        "        if list1.val > list2.val:\n",
        "            node = self.mergeTwoLists(list1, list2.next)\n",
        "            list2.next = node\n",
        "            return list2\n",
        "        else:\n",
        "            node =  self.mergeTwoLists(list1.next, list2)\n",
        "            list1.next = node\n",
        "            return list1\n",
        ""
      ],
      "metadata": {
        "id": "lMKPsv99Uqto"
      },
      "execution_count": null,
      "outputs": []
    },
    {
      "cell_type": "code",
      "source": [
        " # Definition for singly-linked list.\n",
        "# class ListNode:\n",
        "#     def __init__(self, val=0, next=None):\n",
        "#         self.val = val\n",
        "#         self.next = next\n",
        "\n",
        "# Space Complexity: O(1)\n",
        "# Time Complexity: O(n+m)\n",
        "# Iterative Approach: Start with a dummy node and mark it as prev\n",
        "# Compare the two heads and take the next head as the lower value\n",
        "# In case there is None in one of the heads, just point prev to the other head\n",
        "\n",
        "\n",
        "class Solution:\n",
        "    def mergeTwoLists(self, list1: Optional[ListNode], list2: Optional[ListNode]) -> Optional[ListNode]:\n",
        "\n",
        "        p1, p2 = list1, list2\n",
        "        if not p1: return p2\n",
        "        if not p2: return p1\n",
        "        dummy = ListNode()\n",
        "        prevNode = dummy\n",
        "        while p1 and p2:\n",
        "            if p1.val <= p2.val:\n",
        "                prevNode.next = p1\n",
        "                prevNode = p1\n",
        "                p1 = p1.next\n",
        "            else:\n",
        "                prevNode.next = p2\n",
        "                prevNode = p2\n",
        "                p2 = p2.next\n",
        "        if p1: prevNode.next = p1\n",
        "        if p2: prevNode.next = p2\n",
        "\n",
        "        return dummy.next\n"
      ],
      "metadata": {
        "id": "KtMPHaIjV_f8"
      },
      "execution_count": null,
      "outputs": []
    },
    {
      "cell_type": "markdown",
      "source": [
        "[P3: Linked List Cycle Detection](https://neetcode.io/problems/linked-list-cycle-detection)"
      ],
      "metadata": {
        "id": "nDvB3ZstUqYn"
      }
    },
    {
      "cell_type": "code",
      "source": [
        "# Definition for singly-linked list.\n",
        "# class ListNode:\n",
        "#     def __init__(self, val=0, next=None):\n",
        "#         self.val = val\n",
        "#         self.next = next\n",
        "\n",
        "# Create fast and slow pointers. The fast pointer is one ahead of the slow, if the pointers meet, there is a cycle.\n",
        "# Space Complexity: O(1)\n",
        "# Time Complexity: O(n)\n",
        "\n",
        "\n",
        "class Solution:\n",
        "    def hasCycle(self, head: Optional[ListNode]) -> bool:\n",
        "        slow, fast = head, head\n",
        "        while fast and fast.next:\n",
        "            slow = slow.next\n",
        "            fast = fast.next.next\n",
        "            if slow == fast: return True\n",
        "\n",
        "        return False\n",
        ""
      ],
      "metadata": {
        "id": "VljV7IGJebw8"
      },
      "execution_count": null,
      "outputs": []
    },
    {
      "cell_type": "markdown",
      "source": [
        "[P4: Reorder Linked List](https://neetcode.io/problems/reorder-linked-list)"
      ],
      "metadata": {
        "id": "NR4r7DimmLBz"
      }
    },
    {
      "cell_type": "code",
      "source": [
        "# Definition for singly-linked list.\n",
        "# class ListNode:\n",
        "#     def __init__(self, val=0, next=None):\n",
        "#         self.val = val\n",
        "#         self.next = next\n",
        "\n",
        "# Space Complexity: O(1)\n",
        "# Time Complexity: O(n)\n",
        "# Find the mid, reverse the LL from mid, and then merge.\n",
        "# The one issue is the pointer remaining from the node just before mid to the mid. We have to take care of that while merging\n",
        "\n",
        "\n",
        "class Solution:\n",
        "    def reorderList(self, head: Optional[ListNode]) -> None:\n",
        "\n",
        "        # Finding the mid of the LL\n",
        "        start, end = head, head\n",
        "        while end and end.next:\n",
        "            prevS = start\n",
        "            start = start.next\n",
        "            end = end.next.next\n",
        "\n",
        "        # Reversing the right half of the LL\n",
        "        prev, curr = None, start\n",
        "        while curr:\n",
        "            nextNode = curr.next\n",
        "            curr.next = prev\n",
        "            prev, curr = curr, nextNode\n",
        "\n",
        "        # Merging these two together\n",
        "        dummy = ListNode\n",
        "        while True:\n",
        "            nextHead = head.next\n",
        "            nextPrev = prev.next\n",
        "            # Case to end the creation of links which works for both odd and even LLs\n",
        "            if not nextHead or not nextPrev: break\n",
        "            head.next = prev\n",
        "            prev.next = nextHead\n",
        "\n",
        "            head, prev = nextHead, nextPrev\n",
        "\n",
        "\n"
      ],
      "metadata": {
        "id": "xHaJSTFpmKxG"
      },
      "execution_count": null,
      "outputs": []
    },
    {
      "cell_type": "markdown",
      "source": [
        "[P5: Remove node from end of Linked List](https://neetcode.io/problems/remove-node-from-end-of-linked-list)"
      ],
      "metadata": {
        "id": "z45ed3EtoTl6"
      }
    },
    {
      "cell_type": "code",
      "source": [
        "# Definition for singly-linked list.\n",
        "# class ListNode:\n",
        "#     def __init__(self, val=0, next=None):\n",
        "#         self.val = val\n",
        "#         self.next = next\n",
        "\n",
        "# Space Complexity: O(1)\n",
        "# Time Complexity: O(n)\n",
        "# Find the pointer for the nth Node from start.\n",
        "# Two pointers curr and prev are used to keep track of the current state. Keep incrementing them till ahead is null.\n",
        "# The curr pointer is the Nth node from the end. Remove this pointer using the curr and prev values\n",
        "\n",
        "\n",
        "class Solution:\n",
        "    def removeNthFromEnd(self, head: Optional[ListNode], n: int) -> Optional[ListNode]:\n",
        "\n",
        "        prev, curr, ahead = None, head, head\n",
        "        for _ in range(n):\n",
        "            ahead = ahead.next\n",
        "\n",
        "        if not ahead: return head.next\n",
        "        while ahead:\n",
        "            prev = curr\n",
        "            curr = curr.next\n",
        "            ahead = ahead.next\n",
        "\n",
        "        prev.next = curr.next\n",
        "\n",
        "        return head\n"
      ],
      "metadata": {
        "id": "HrEqsrlpoTZa"
      },
      "execution_count": null,
      "outputs": []
    }
  ]
}