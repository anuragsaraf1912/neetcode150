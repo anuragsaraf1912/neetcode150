{
  "nbformat": 4,
  "nbformat_minor": 0,
  "metadata": {
    "colab": {
      "provenance": [],
      "authorship_tag": "ABX9TyPoEtFVd88Qg9qL3gw3HPhf",
      "include_colab_link": true
    },
    "kernelspec": {
      "name": "python3",
      "display_name": "Python 3"
    },
    "language_info": {
      "name": "python"
    }
  },
  "cells": [
    {
      "cell_type": "markdown",
      "metadata": {
        "id": "view-in-github",
        "colab_type": "text"
      },
      "source": [
        "<a href=\"https://colab.research.google.com/github/anuragsaraf1912/neetcode150/blob/main/Linked_List.ipynb\" target=\"_parent\"><img src=\"https://colab.research.google.com/assets/colab-badge.svg\" alt=\"Open In Colab\"/></a>"
      ]
    },
    {
      "cell_type": "markdown",
      "source": [
        "[P1: Reverse Linked List](https://neetcode.io/problems/reverse-a-linked-list)"
      ],
      "metadata": {
        "id": "KrHVkhP7UpAl"
      }
    },
    {
      "cell_type": "code",
      "execution_count": null,
      "metadata": {
        "id": "XpPkPG-SUkws"
      },
      "outputs": [],
      "source": [
        "# Definition for singly-linked list.\n",
        "# class ListNode:\n",
        "#     def __init__(self, val=0, next=None):\n",
        "#         self.val = val\n",
        "#         self.next = next\n",
        "\n",
        "# A prev has to be maintained to be pointed by the curr node.\n",
        "# Store next node, point to prev node and update the nodes to next iteration\n",
        "# Space Complexity: O(1) (Apart from the saved LL)\n",
        "# Time Complexity: O(n)\n",
        "\n",
        "\n",
        "class Solution:\n",
        "    def reverseList(self, head: Optional[ListNode]) -> Optional[ListNode]:\n",
        "        prev, curr = None, head\n",
        "        while curr:\n",
        "            nextNode = curr.next\n",
        "            curr.next = prev\n",
        "            prev, curr = curr, nextNode\n",
        "\n",
        "        return prev"
      ]
    },
    {
      "cell_type": "markdown",
      "source": [
        "[P2: Merge Two Sorted Linked Lists](https://neetcode.io/problems/merge-two-sorted-linked-lists)"
      ],
      "metadata": {
        "id": "LL-yZO2sUnwH"
      }
    },
    {
      "cell_type": "code",
      "source": [
        "# Definition for singly-linked list.\n",
        "# class ListNode:\n",
        "#     def __init__(self, val=0, next=None):\n",
        "#         self.val = val\n",
        "#         self.next = next\n",
        "\n",
        "# Space Complexity: O(1)\n",
        "# Time Complexity: O(n+m)\n",
        "# Recursive Approach: Base case return the other list in case anyone is null\n",
        "# Go to the next node of the smaller value and call the function recursively.\n",
        "\n",
        "\n",
        "class Solution:\n",
        "    def mergeTwoLists(self, list1: Optional[ListNode], list2: Optional[ListNode]) -> Optional[ListNode]:\n",
        "\n",
        "        if not list1: return list2\n",
        "        if not list2: return list1\n",
        "\n",
        "        if list1.val > list2.val:\n",
        "            node = self.mergeTwoLists(list1, list2.next)\n",
        "            list2.next = node\n",
        "            return list2\n",
        "        else:\n",
        "            node =  self.mergeTwoLists(list1.next, list2)\n",
        "            list1.next = node\n",
        "            return list1\n"
      ],
      "metadata": {
        "id": "lMKPsv99Uqto"
      },
      "execution_count": null,
      "outputs": []
    },
    {
      "cell_type": "code",
      "source": [
        " # Definition for singly-linked list.\n",
        "# class ListNode:\n",
        "#     def __init__(self, val=0, next=None):\n",
        "#         self.val = val\n",
        "#         self.next = next\n",
        "\n",
        "# Space Complexity: O(1)\n",
        "# Time Complexity: O(n+m)\n",
        "# Iterative Approach: Start with a dummy node and mark it as prev\n",
        "# Compare the two heads and take the next head as the lower value\n",
        "# In case there is None in one of the heads, just point prev to the other head\n",
        "\n",
        "\n",
        "class Solution:\n",
        "    def mergeTwoLists(self, list1: Optional[ListNode], list2: Optional[ListNode]) -> Optional[ListNode]:\n",
        "\n",
        "        p1, p2 = list1, list2\n",
        "        if not p1: return p2\n",
        "        if not p2: return p1\n",
        "        dummy = ListNode()\n",
        "        prevNode = dummy\n",
        "        while p1 and p2:\n",
        "            if p1.val <= p2.val:\n",
        "                prevNode.next = p1\n",
        "                prevNode = p1\n",
        "                p1 = p1.next\n",
        "            else:\n",
        "                prevNode.next = p2\n",
        "                prevNode = p2\n",
        "                p2 = p2.next\n",
        "        if p1: prevNode.next = p1\n",
        "        if p2: prevNode.next = p2\n",
        "\n",
        "        return dummy.next\n"
      ],
      "metadata": {
        "id": "KtMPHaIjV_f8"
      },
      "execution_count": null,
      "outputs": []
    },
    {
      "cell_type": "markdown",
      "source": [
        "[P3: Linked List Cycle Detection](https://neetcode.io/problems/linked-list-cycle-detection)"
      ],
      "metadata": {
        "id": "nDvB3ZstUqYn"
      }
    },
    {
      "cell_type": "code",
      "source": [
        "# Definition for singly-linked list.\n",
        "# class ListNode:\n",
        "#     def __init__(self, val=0, next=None):\n",
        "#         self.val = val\n",
        "#         self.next = next\n",
        "\n",
        "# Create fast and slow pointers. The fast pointer is one ahead of the slow, if the pointers meet, there is a cycle.\n",
        "# Space Complexity: O(1)\n",
        "# Time Complexity: O(n)\n",
        "\n",
        "\n",
        "class Solution:\n",
        "    def hasCycle(self, head: Optional[ListNode]) -> bool:\n",
        "        slow, fast = head, head\n",
        "        while fast and fast.next:\n",
        "            slow = slow.next\n",
        "            fast = fast.next.next\n",
        "            if slow == fast: return True\n",
        "\n",
        "        return False\n"
      ],
      "metadata": {
        "id": "VljV7IGJebw8"
      },
      "execution_count": null,
      "outputs": []
    },
    {
      "cell_type": "markdown",
      "source": [
        "[P4: Reorder Linked List](https://neetcode.io/problems/reorder-linked-list)"
      ],
      "metadata": {
        "id": "NR4r7DimmLBz"
      }
    },
    {
      "cell_type": "code",
      "source": [
        "# Definition for singly-linked list.\n",
        "# class ListNode:\n",
        "#     def __init__(self, val=0, next=None):\n",
        "#         self.val = val\n",
        "#         self.next = next\n",
        "\n",
        "# Space Complexity: O(1)\n",
        "# Time Complexity: O(n)\n",
        "# Find the mid, reverse the LL from mid, and then merge.\n",
        "# The one issue is the pointer remaining from the node just before mid to the mid. We have to take care of that while merging\n",
        "\n",
        "\n",
        "class Solution:\n",
        "    def reorderList(self, head: Optional[ListNode]) -> None:\n",
        "\n",
        "        # Finding the mid of the LL\n",
        "        start, end = head, head\n",
        "        while end and end.next:\n",
        "            prevS = start\n",
        "            start = start.next\n",
        "            end = end.next.next\n",
        "\n",
        "        # Reversing the right half of the LL\n",
        "        prev, curr = None, start\n",
        "        while curr:\n",
        "            nextNode = curr.next\n",
        "            curr.next = prev\n",
        "            prev, curr = curr, nextNode\n",
        "\n",
        "        # Merging these two together\n",
        "        dummy = ListNode\n",
        "        while True:\n",
        "            nextHead = head.next\n",
        "            nextPrev = prev.next\n",
        "            # Case to end the creation of links which works for both odd and even LLs\n",
        "            if not nextHead or not nextPrev: break\n",
        "            head.next = prev\n",
        "            prev.next = nextHead\n",
        "\n",
        "            head, prev = nextHead, nextPrev\n",
        "\n",
        "\n"
      ],
      "metadata": {
        "id": "xHaJSTFpmKxG"
      },
      "execution_count": null,
      "outputs": []
    },
    {
      "cell_type": "markdown",
      "source": [
        "[P5: Remove node from end of Linked List](https://neetcode.io/problems/remove-node-from-end-of-linked-list)"
      ],
      "metadata": {
        "id": "z45ed3EtoTl6"
      }
    },
    {
      "cell_type": "code",
      "source": [
        "# Definition for singly-linked list.\n",
        "# class ListNode:\n",
        "#     def __init__(self, val=0, next=None):\n",
        "#         self.val = val\n",
        "#         self.next = next\n",
        "\n",
        "# Space Complexity: O(1)\n",
        "# Time Complexity: O(n)\n",
        "# Find the pointer for the nth Node from start.\n",
        "# Two pointers curr and prev are used to keep track of the current state. Keep incrementing them till ahead is null.\n",
        "# The curr pointer is the Nth node from the end. Remove this pointer using the curr and prev values\n",
        "\n",
        "\n",
        "class Solution:\n",
        "    def removeNthFromEnd(self, head: Optional[ListNode], n: int) -> Optional[ListNode]:\n",
        "\n",
        "        prev, curr, ahead = None, head, head\n",
        "        for _ in range(n):\n",
        "            ahead = ahead.next\n",
        "\n",
        "        if not ahead: return head.next\n",
        "        while ahead:\n",
        "            prev = curr\n",
        "            curr = curr.next\n",
        "            ahead = ahead.next\n",
        "\n",
        "        prev.next = curr.next\n",
        "\n",
        "        return head\n"
      ],
      "metadata": {
        "id": "HrEqsrlpoTZa"
      },
      "execution_count": null,
      "outputs": []
    },
    {
      "cell_type": "markdown",
      "source": [
        "[P6: Copy Linked List with random pointer](https://neetcode.io/problems/copy-linked-list-with-random-pointer)"
      ],
      "metadata": {
        "id": "wEemhfJ-bXcI"
      }
    },
    {
      "cell_type": "code",
      "source": [
        "\"\"\"\n",
        "# Definition for a Node.\n",
        "class Node:\n",
        "    def __init__(self, x: int, next: 'Node' = None, random: 'Node' = None):\n",
        "        self.val = int(x)\n",
        "        self.next = next\n",
        "        self.random = random\n",
        "\"\"\"\n",
        "\n",
        "class Solution:\n",
        "    def copyRandomList(self, head: 'Optional[Node]') -> 'Optional[Node]':\n",
        "        dictMap = {}\n",
        "        dummy = Node(0)\n",
        "        start, copyStart = head, dummy\n",
        "        while start:\n",
        "            nodeCreated = Node(start.val)\n",
        "            copyStart.next = nodeCreated\n",
        "            dictMap[start] = nodeCreated\n",
        "            start, copyStart = start.next, copyStart.next\n",
        "\n",
        "        start, copyStart = head, dummy.next\n",
        "        while start:\n",
        "            newRandomNode = dictMap.get(start.random)\n",
        "            copyStart.random = newRandomNode\n",
        "            start, copyStart = start.next, copyStart.next\n",
        "\n",
        "        return dummy.next"
      ],
      "metadata": {
        "id": "eFx6ybz4bZIg"
      },
      "execution_count": null,
      "outputs": []
    },
    {
      "cell_type": "markdown",
      "source": [
        "[P7: Add two Numbers](https://neetcode.io/problems/add-two-numbers)"
      ],
      "metadata": {
        "id": "mfqGSd1gbYem"
      }
    },
    {
      "cell_type": "code",
      "source": [
        "# Definition for singly-linked list.\n",
        "# class ListNode:\n",
        "#     def __init__(self, val=0, next=None):\n",
        "#         self.val = val\n",
        "#         self.next = next\n",
        "\n",
        "class Solution:\n",
        "    def addTwoNumbers(self, l1: Optional[ListNode], l2: Optional[ListNode]) -> Optional[ListNode]:\n",
        "        dummy = ListNode()\n",
        "        prev = dummy\n",
        "        carry = 0\n",
        "        while l1 or l2:\n",
        "            digit1 = l1.val if l1 else 0\n",
        "            l1 = l1.next if l1 else l1\n",
        "            digit2 = l2.val if l2 else 0\n",
        "            l2 = l2.next if l2 else l2\n",
        "\n",
        "            # Finding the total Sum\n",
        "            currSum = digit1 + digit2 + carry\n",
        "            carry = currSum // 10\n",
        "            val = currSum % 10\n",
        "\n",
        "            # Creating a new Node:\n",
        "            digitNode = ListNode(val)\n",
        "            prev.next = digitNode\n",
        "            prev = digitNode\n",
        "\n",
        "        if carry: prev.next = ListNode(carry)\n",
        "\n",
        "        return dummy.next"
      ],
      "metadata": {
        "id": "7f8_l6pfba1K"
      },
      "execution_count": null,
      "outputs": []
    },
    {
      "cell_type": "markdown",
      "source": [
        "[P8: Find the duplicate number](https://neetcode.io/problems/find-duplicate-integer)"
      ],
      "metadata": {
        "id": "hg6HJvg4bdCL"
      }
    },
    {
      "cell_type": "code",
      "source": [
        "class Solution:\n",
        "    # Space Complexity: O(1)\n",
        "    # Time Complexity: O(n)\n",
        "    # We can create one to one map with the element to a index in the array. The sign of the element pointed will be changed.\n",
        "    # If the element at the pointed index is negative, that means it is already visited and hence, the current element is repeated.\n",
        "\n",
        "    def findDuplicate(self, nums: List[int]) -> int:\n",
        "\n",
        "        for elem in nums:\n",
        "            # One to one map with element to a index\n",
        "            index = abs(elem) - 1\n",
        "            # Incase already visited\n",
        "            if nums[index] < 0:\n",
        "                return abs(elem)\n",
        "            # Change the sign\n",
        "            nums[index] *= -1\n"
      ],
      "metadata": {
        "id": "mO_bGWkqbcrC"
      },
      "execution_count": null,
      "outputs": []
    },
    {
      "cell_type": "code",
      "source": [
        "class Solution:\n",
        "    # Space Complexity: O(1)\n",
        "    # Time Complexity: O(n)\n",
        "    # The elements can be thought of as the linked list pointing to elements. Each element will have one index from which it can be accessed,\n",
        "    # except the index pointed by the repeated element. This will create a cycle which starts at the repeating element.\n",
        "    # The Floyd algo can be used to detect the start of the cycle\n",
        "\n",
        "\n",
        "    def findDuplicate(self, nums: List[int]) -> int:\n",
        "\n",
        "        slow, fast = 0,0\n",
        "        while True:\n",
        "            slow = nums[slow]\n",
        "            fast = nums[nums[fast]]\n",
        "            if slow == fast: break\n",
        "\n",
        "        catch = 0\n",
        "        while catch != slow:\n",
        "            catch = nums[catch]\n",
        "            slow = nums[slow]\n",
        "\n",
        "        return catch\n",
        "\n"
      ],
      "metadata": {
        "id": "63cdOOjc7RxU"
      },
      "execution_count": null,
      "outputs": []
    },
    {
      "cell_type": "markdown",
      "source": [
        "[P9: LRU Cache](https://neetcode.io/problems/lru-cache)"
      ],
      "metadata": {
        "id": "d1nW25sbbfGL"
      }
    },
    {
      "cell_type": "code",
      "source": [
        "# Define a Class of LRUNode\n",
        "\n",
        "# Space Complexity: O(capacity)\n",
        "# Time Complexity: O(1) for both get and put\n",
        "# Approach:\n",
        "# Create a doubly linked list to keep track of both the previous and the next Node from a particular node.\n",
        "\n",
        "class LRUNode:\n",
        "\n",
        "    def __init__(self, val, key = None, next = None, prev = None):\n",
        "        self.val = val\n",
        "        self.key = key\n",
        "        self.next = next\n",
        "        self.prev = prev\n",
        "\n",
        "class LRUCache:\n",
        "\n",
        "    def __init__(self, capacity: int):\n",
        "        #Initialize the linkedlist and dictionary to maintain the keys\n",
        "        self.mapDict = {}\n",
        "        self.capacity = capacity\n",
        "\n",
        "        # Creating the internal Linked List\n",
        "        self.head = LRUNode(None)\n",
        "        self.tail = LRUNode(None)\n",
        "        self.head.prev = self.tail\n",
        "        self.tail.next = self.head\n",
        "\n",
        "    def moveToFront(self, node):\n",
        "        # Put the node at the top of LL\n",
        "        currTop = self.head.prev\n",
        "        # Updating left side connections of Node\n",
        "        node.prev, currTop.next = currTop, node\n",
        "        # Updating right side connections of Node\n",
        "        node.next, self.head.prev = self.head, node\n",
        "\n",
        "    def popNode(self, key):\n",
        "        # Removes the node from the LL\n",
        "        # Access the node\n",
        "        node = self.mapDict[key]\n",
        "        # Find the nodes on the two sides of the provided key Node\n",
        "        prevNode, nextNode = node.prev, node.next\n",
        "        # Join the nodes on the both side\n",
        "        prevNode.next, nextNode.prev = nextNode, prevNode\n",
        "        return node\n",
        "\n",
        "    def get(self, key: int) -> int:\n",
        "        if key not in self.mapDict:\n",
        "            return -1\n",
        "        node = self.popNode(key)\n",
        "        # Move the key to the front:\n",
        "        self.moveToFront(node)\n",
        "        return node.val\n",
        "\n",
        "    def put(self, key: int, value: int) -> None:\n",
        "        # Add key if not present\n",
        "        if key not in self.mapDict:\n",
        "            self.mapDict[key] = LRUNode(value, key)\n",
        "            # In case capacity is breached\n",
        "            if len(self.mapDict) > self.capacity:\n",
        "                #Remove last element\n",
        "                keyToRem = self.tail.next.key\n",
        "                self.popNode(keyToRem)\n",
        "                self.mapDict.pop(keyToRem)\n",
        "            node = self.mapDict[key]\n",
        "        # Update the value in case key is already present\n",
        "        else:\n",
        "            node = self.popNode(key)\n",
        "            node.val = value\n",
        "        # Move the node to the top\n",
        "        self.moveToFront(node)\n"
      ],
      "metadata": {
        "id": "-aDJ6LCsbbtZ"
      },
      "execution_count": null,
      "outputs": []
    },
    {
      "cell_type": "markdown",
      "source": [
        "[P10: Merge K Sorted Linked Lists (Hard)](https://neetcode.io/problems/merge-k-sorted-linked-lists)"
      ],
      "metadata": {
        "id": "y_fQ83BDbcRu"
      }
    },
    {
      "cell_type": "code",
      "source": [
        "# Definition for singly-linked list.\n",
        "# class ListNode:\n",
        "#     def __init__(self, val=0, next=None):\n",
        "#         self.val = val\n",
        "#         self.next = next\n",
        "\n",
        "# Time Complexity: O(n*k) n: Array length, k: linked list size\n",
        "# Space Complexity: O(n) storing the 'lists' array\n",
        "\n",
        "# Create a dummy node as the start, go through each Node in array and put the Node with min value as the next node in LL. Update the array Node as the next Node\n",
        "# Keep track of how many LLs have been exhausted.\n",
        "# The time can be improved by Heaps\n",
        "\n",
        "\n",
        "class Solution:\n",
        "    def mergeKLists(self, lists: List[Optional[ListNode]]) -> Optional[ListNode]:\n",
        "        # Dummy Node to keep track of the head\n",
        "        lists = [ln for ln in lists if ln]\n",
        "        dummy = ListNode()\n",
        "        prev = dummy\n",
        "\n",
        "        # Covered tracks the LLs completly merged\n",
        "        covered = len(lists)\n",
        "\n",
        "        while covered:\n",
        "            # Iterate through each Node and find the one with the least value\n",
        "\n",
        "            minVal, minInd = float('inf'), None\n",
        "            for i in range(len(lists)):\n",
        "                if lists[i] and lists[i].val < minVal:\n",
        "                    minVal = lists[i].val\n",
        "                    minInd = i\n",
        "\n",
        "            # Update the pointer in the headlist\n",
        "            currMinNode = lists[minInd]\n",
        "            if not currMinNode.next:\n",
        "                covered -= 1\n",
        "            lists[minInd] = currMinNode.next\n",
        "\n",
        "            prev.next = currMinNode\n",
        "            prev = currMinNode\n",
        "\n",
        "        return dummy.next"
      ],
      "metadata": {
        "id": "FMLF0ISuen86"
      },
      "execution_count": null,
      "outputs": []
    },
    {
      "cell_type": "markdown",
      "source": [],
      "metadata": {
        "id": "-HU2fofHeok6"
      }
    },
    {
      "cell_type": "code",
      "source": [],
      "metadata": {
        "id": "nqTJ8r2nepE5"
      },
      "execution_count": null,
      "outputs": []
    }
  ]
}