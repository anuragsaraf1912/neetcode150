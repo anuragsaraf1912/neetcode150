{
  "nbformat": 4,
  "nbformat_minor": 0,
  "metadata": {
    "colab": {
      "provenance": [],
      "authorship_tag": "ABX9TyN4L9MtH/VmT88byh6MCgj+",
      "include_colab_link": true
    },
    "kernelspec": {
      "name": "python3",
      "display_name": "Python 3"
    },
    "language_info": {
      "name": "python"
    }
  },
  "cells": [
    {
      "cell_type": "markdown",
      "metadata": {
        "id": "view-in-github",
        "colab_type": "text"
      },
      "source": [
        "<a href=\"https://colab.research.google.com/github/anuragsaraf1912/neetcode150/blob/main/Linked_List.ipynb\" target=\"_parent\"><img src=\"https://colab.research.google.com/assets/colab-badge.svg\" alt=\"Open In Colab\"/></a>"
      ]
    },
    {
      "cell_type": "markdown",
      "source": [
        "[P1: Reverse Linked List](https://neetcode.io/problems/reverse-a-linked-list)"
      ],
      "metadata": {
        "id": "KrHVkhP7UpAl"
      }
    },
    {
      "cell_type": "code",
      "execution_count": null,
      "metadata": {
        "id": "XpPkPG-SUkws"
      },
      "outputs": [],
      "source": [
        "# Definition for singly-linked list.\n",
        "# class ListNode:\n",
        "#     def __init__(self, val=0, next=None):\n",
        "#         self.val = val\n",
        "#         self.next = next\n",
        "\n",
        "# A prev has to be maintained to be pointed by the curr node.\n",
        "# Store next node, point to prev node and update the pointers\n",
        "# Space Complexity: O(1) (Apart from the saved LL)\n",
        "# Time Complexity: O(n)\n",
        "\n",
        "\n",
        "class Solution:\n",
        "    def reverseList(self, head: Optional[ListNode]) -> Optional[ListNode]:\n",
        "        prev, curr = None, head\n",
        "        while curr:\n",
        "            nextNode = curr.next\n",
        "            curr.next = prev\n",
        "            prev, curr = curr, nextNode\n",
        "\n",
        "        return prev"
      ]
    },
    {
      "cell_type": "markdown",
      "source": [],
      "metadata": {
        "id": "LL-yZO2sUnwH"
      }
    },
    {
      "cell_type": "code",
      "source": [],
      "metadata": {
        "id": "lMKPsv99Uqto"
      },
      "execution_count": null,
      "outputs": []
    },
    {
      "cell_type": "markdown",
      "source": [],
      "metadata": {
        "id": "nDvB3ZstUqYn"
      }
    }
  ]
}