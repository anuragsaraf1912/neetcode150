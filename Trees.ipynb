{
  "nbformat": 4,
  "nbformat_minor": 0,
  "metadata": {
    "colab": {
      "provenance": [],
      "authorship_tag": "ABX9TyO+O5e1JTEu/0Sz3BZzosMg",
      "include_colab_link": true
    },
    "kernelspec": {
      "name": "python3",
      "display_name": "Python 3"
    },
    "language_info": {
      "name": "python"
    }
  },
  "cells": [
    {
      "cell_type": "markdown",
      "metadata": {
        "id": "view-in-github",
        "colab_type": "text"
      },
      "source": [
        "<a href=\"https://colab.research.google.com/github/anuragsaraf1912/neetcode150/blob/main/Trees.ipynb\" target=\"_parent\"><img src=\"https://colab.research.google.com/assets/colab-badge.svg\" alt=\"Open In Colab\"/></a>"
      ]
    },
    {
      "cell_type": "markdown",
      "source": [
        "[P1: Invert Binary Tree](https://neetcode.io/problems/invert-a-binary-tree)"
      ],
      "metadata": {
        "id": "Lmseqs71UBVH"
      }
    },
    {
      "cell_type": "code",
      "execution_count": null,
      "metadata": {
        "id": "VRmk1eO1T28e"
      },
      "outputs": [],
      "source": [
        "# Definition for a binary tree node.\n",
        "# class TreeNode:\n",
        "#     def __init__(self, val=0, left=None, right=None):\n",
        "#         self.val = val\n",
        "#         self.left = left\n",
        "#         self.right = right\n",
        "\n",
        "# Space Complexity: O(n) N nodes saved\n",
        "# Time Complexity: O(n) Visits each node\n",
        "# Recursive approach to solve the question. Invert the left and right at each node and call the function recursively.\n",
        "\n",
        "class Solution:\n",
        "    def invertTree(self, root: Optional[TreeNode]) -> Optional[TreeNode]:\n",
        "        if not root: return None\n",
        "        # Switch the sides\n",
        "        root.right, root.left = root.left, root.right\n",
        "\n",
        "        #Calling invert functions on the two nodes\n",
        "        self.invertTree(root.left)\n",
        "        self.invertTree(root.right)\n",
        "\n",
        "        return root"
      ]
    },
    {
      "cell_type": "markdown",
      "source": [
        "[P2: Max Depth of BT](https://neetcode.io/problems/depth-of-binary-tree)"
      ],
      "metadata": {
        "id": "OO9FeHCQT50x"
      }
    },
    {
      "cell_type": "code",
      "source": [
        "# Definition for a binary tree node.\n",
        "# class TreeNode:\n",
        "#     def __init__(self, val=0, left=None, right=None):\n",
        "#         self.val = val\n",
        "#         self.left = left\n",
        "#         self.right = right\n",
        "\n",
        "# Recursive Approach is to use the maximum of the two depth obtained.\n",
        "# Time Complexity: O(n)\n",
        "# Space Complexity: O(h) Where h is the height of tree\n",
        "\n",
        "class Solution:\n",
        "    def maxDepth(self, root: Optional[TreeNode]) -> int:\n",
        "        if not root: return 0\n",
        "\n",
        "        return 1 + max(self.maxDepth(root.right), self.maxDepth(root.left))\n"
      ],
      "metadata": {
        "id": "0JDCcgAmV22F"
      },
      "execution_count": null,
      "outputs": []
    },
    {
      "cell_type": "markdown",
      "source": [
        "[P3: Binary Tree Diameter](https://neetcode.io/problems/binary-tree-diameter)"
      ],
      "metadata": {
        "id": "gDii3BJgZiO3"
      }
    },
    {
      "cell_type": "code",
      "source": [
        "# Definition for a binary tree node.\n",
        "# class TreeNode:\n",
        "#     def __init__(self, val=0, left=None, right=None):\n",
        "#         self.val = val\n",
        "#         self.left = left\n",
        "#         self.right = right\n",
        "\n",
        "# Space complexity: O(h) h is the height of the tree (Max Stack length)\n",
        "# Time complexity: O(n) the code will run for each node\n",
        "# Recursively call the left and right side depth and compare the sum of the depths of two side with the current max diameter.\n",
        "\n",
        "\n",
        "class Solution:\n",
        "    def diameterOfBinaryTree(self, root: Optional[TreeNode]) -> int:\n",
        "        diameter = 0\n",
        "        def recursiveDepth(root):\n",
        "            nonlocal diameter\n",
        "            if not root: return 0\n",
        "            depthLeft = recursiveDepth(root.left)\n",
        "            depthRight = recursiveDepth(root.right)\n",
        "            diameter = max(diameter, depthRight + depthLeft)\n",
        "            return 1 + max(depthRight, depthLeft)\n",
        "\n",
        "        recursiveDepth(root)\n",
        "        return diameter\n"
      ],
      "metadata": {
        "id": "HI1rLLEGZi2d"
      },
      "execution_count": null,
      "outputs": []
    },
    {
      "cell_type": "markdown",
      "source": [
        "[P4: Balanced Binary Tree ](https://neetcode.io/problems/balanced-binary-tree)"
      ],
      "metadata": {
        "id": "-H4ZLAB61c_I"
      }
    },
    {
      "cell_type": "code",
      "source": [
        "# Definition for a binary tree node.\n",
        "# class TreeNode:\n",
        "#     def __init__(self, val=0, left=None, right=None):\n",
        "#         self.val = val\n",
        "#         self.left = left\n",
        "#         self.right = right\n",
        "\n",
        "class Solution:\n",
        "    def isBalanced(self, root: Optional[TreeNode]) -> bool:\n",
        "\n",
        "        balanced = True\n",
        "        def checkBalance(root):\n",
        "            nonlocal balanced\n",
        "            if not root: return 0\n",
        "            leftSide = checkBalance(root.left)\n",
        "            rightSide = checkBalance(root.right)\n",
        "            if abs(leftSide - rightSide) > 1:\n",
        "                balanced = False\n",
        "            return 1 + max(leftSide, rightSide)\n",
        "\n",
        "        checkBalance(root)\n",
        "        return balanced\n",
        "\n"
      ],
      "metadata": {
        "id": "rB37KMc21fvX"
      },
      "execution_count": null,
      "outputs": []
    },
    {
      "cell_type": "markdown",
      "source": [
        "[P5: Same Tree](https://neetcode.io/problems/same-binary-tree)"
      ],
      "metadata": {
        "id": "bgPzMM9dQKhf"
      }
    },
    {
      "cell_type": "code",
      "source": [
        "# Definition for a binary tree node.\n",
        "# class TreeNode:\n",
        "#     def __init__(self, val=0, left=None, right=None):\n",
        "#         self.val = val\n",
        "#         self.left = left\n",
        "#         self.right = right\n",
        "class Solution:\n",
        "    def isSameTree(self, p: Optional[TreeNode], q: Optional[TreeNode]) -> bool:\n",
        "        # Base Cases\n",
        "        if (p and not q) or (q and not p): return False\n",
        "        if not p and not q: return True\n",
        "\n",
        "        return p.val == q.val \\\n",
        "        and self.isSameTree(p.left, q.left) \\\n",
        "        and self.isSameTree(p.right, q.right)\n",
        "\n",
        "\n",
        "\n",
        ""
      ],
      "metadata": {
        "id": "rm32ti0wQLF2"
      },
      "execution_count": null,
      "outputs": []
    },
    {
      "cell_type": "markdown",
      "source": [
        "[P6: Subtree of Another Tree](https://neetcode.io/problems/subtree-of-a-binary-tree)"
      ],
      "metadata": {
        "id": "ew329G0GQL43"
      }
    },
    {
      "cell_type": "code",
      "source": [
        "# Definition for a binary tree node.\n",
        "# class TreeNode:\n",
        "#     def __init__(self, val=0, left=None, right=None):\n",
        "#         self.val = val\n",
        "#         self.left = left\n",
        "#         self.right = right\n",
        "\n",
        "class Solution:\n",
        "    def isSubtree(self, root: Optional[TreeNode], subRoot: Optional[TreeNode]) -> bool:\n",
        "\n",
        "        def compareRec(rt, srt):\n",
        "            if (rt and not srt) \\\n",
        "            or (srt and not rt):\n",
        "                return False\n",
        "            if not rt and not srt: return True\n",
        "            return rt.val == srt.val \\\n",
        "            and compareRec(rt.left, srt.left) \\\n",
        "            and compareRec(rt.right, srt.right)\n",
        "\n",
        "        stack = [root]\n",
        "        while stack:\n",
        "            currNode = stack.pop()\n",
        "            res = compareRec(currNode, subRoot)\n",
        "            if res: return True\n",
        "            # Appending the child to stack in case not found\n",
        "            if currNode.right: stack.append(currNode.right)\n",
        "            if currNode.left: stack.append(currNode.left)\n",
        "\n",
        "        return False\n",
        ""
      ],
      "metadata": {
        "id": "v0oZ9xMFQMaX"
      },
      "execution_count": null,
      "outputs": []
    }
  ]
}