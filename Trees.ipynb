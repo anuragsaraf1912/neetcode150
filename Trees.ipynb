{
  "nbformat": 4,
  "nbformat_minor": 0,
  "metadata": {
    "colab": {
      "provenance": [],
      "authorship_tag": "ABX9TyM0QqJqVN/PHTcCODYgwQ9W",
      "include_colab_link": true
    },
    "kernelspec": {
      "name": "python3",
      "display_name": "Python 3"
    },
    "language_info": {
      "name": "python"
    }
  },
  "cells": [
    {
      "cell_type": "markdown",
      "metadata": {
        "id": "view-in-github",
        "colab_type": "text"
      },
      "source": [
        "<a href=\"https://colab.research.google.com/github/anuragsaraf1912/neetcode150/blob/main/Trees.ipynb\" target=\"_parent\"><img src=\"https://colab.research.google.com/assets/colab-badge.svg\" alt=\"Open In Colab\"/></a>"
      ]
    },
    {
      "cell_type": "markdown",
      "source": [
        "[P1: Invert Binary Tree](https://neetcode.io/problems/invert-a-binary-tree)"
      ],
      "metadata": {
        "id": "Lmseqs71UBVH"
      }
    },
    {
      "cell_type": "code",
      "execution_count": null,
      "metadata": {
        "id": "VRmk1eO1T28e"
      },
      "outputs": [],
      "source": [
        "# Definition for a binary tree node.\n",
        "# class TreeNode:\n",
        "#     def __init__(self, val=0, left=None, right=None):\n",
        "#         self.val = val\n",
        "#         self.left = left\n",
        "#         self.right = right\n",
        "\n",
        "# Space Complexity: O(n) N nodes saved\n",
        "# Time Complexity: O(n) Visits each node\n",
        "# Recursive approach to solve the question. Invert the left and right at each node and call the function recursively.\n",
        "\n",
        "class Solution:\n",
        "    def invertTree(self, root: Optional[TreeNode]) -> Optional[TreeNode]:\n",
        "        if not root: return None\n",
        "        # Switch the sides\n",
        "        root.right, root.left = root.left, root.right\n",
        "\n",
        "        #Calling invert functions on the two nodes\n",
        "        self.invertTree(root.left)\n",
        "        self.invertTree(root.right)\n",
        "\n",
        "        return root"
      ]
    },
    {
      "cell_type": "markdown",
      "source": [
        "[P2: Max Depth of BT](https://neetcode.io/problems/depth-of-binary-tree)"
      ],
      "metadata": {
        "id": "OO9FeHCQT50x"
      }
    },
    {
      "cell_type": "code",
      "source": [
        "# Definition for a binary tree node.\n",
        "# class TreeNode:\n",
        "#     def __init__(self, val=0, left=None, right=None):\n",
        "#         self.val = val\n",
        "#         self.left = left\n",
        "#         self.right = right\n",
        "\n",
        "# Recursive Approach is to use the maximum of the two depth obtained.\n",
        "# Time Complexity: O(n)\n",
        "# Space Complexity: O(h) Where h is the height of tree\n",
        "\n",
        "class Solution:\n",
        "    def maxDepth(self, root: Optional[TreeNode]) -> int:\n",
        "        if not root: return 0\n",
        "\n",
        "        return 1 + max(self.maxDepth(root.right), self.maxDepth(root.left))\n",
        ""
      ],
      "metadata": {
        "id": "0JDCcgAmV22F"
      },
      "execution_count": null,
      "outputs": []
    },
    {
      "cell_type": "markdown",
      "source": [
        "[P3: Binary Tree Diameter](https://neetcode.io/problems/binary-tree-diameter)"
      ],
      "metadata": {
        "id": "gDii3BJgZiO3"
      }
    },
    {
      "cell_type": "code",
      "source": [
        "# Definition for a binary tree node.\n",
        "# class TreeNode:\n",
        "#     def __init__(self, val=0, left=None, right=None):\n",
        "#         self.val = val\n",
        "#         self.left = left\n",
        "#         self.right = right\n",
        "\n",
        "# Space complexity: O(h) h is the height of the tree (Max Stack length)\n",
        "# Time complexity: O(n) the code will run for each node\n",
        "# Recursively call the left and right side depth and compare the sum of the depths of two side with the current max diameter.\n",
        "\n",
        "\n",
        "class Solution:\n",
        "    def diameterOfBinaryTree(self, root: Optional[TreeNode]) -> int:\n",
        "        diameter = 0\n",
        "        def recursiveDepth(root):\n",
        "            nonlocal diameter\n",
        "            if not root: return 0\n",
        "            depthLeft = recursiveDepth(root.left)\n",
        "            depthRight = recursiveDepth(root.right)\n",
        "            diameter = max(diameter, depthRight + depthLeft)\n",
        "            return 1 + max(depthRight, depthLeft)\n",
        "\n",
        "        recursiveDepth(root)\n",
        "        return diameter\n"
      ],
      "metadata": {
        "id": "HI1rLLEGZi2d"
      },
      "execution_count": null,
      "outputs": []
    }
  ]
}