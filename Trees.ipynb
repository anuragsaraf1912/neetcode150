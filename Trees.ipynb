{
  "nbformat": 4,
  "nbformat_minor": 0,
  "metadata": {
    "colab": {
      "provenance": [],
      "authorship_tag": "ABX9TyOUywZE8VzPxs6VrT67TeIN",
      "include_colab_link": true
    },
    "kernelspec": {
      "name": "python3",
      "display_name": "Python 3"
    },
    "language_info": {
      "name": "python"
    }
  },
  "cells": [
    {
      "cell_type": "markdown",
      "metadata": {
        "id": "view-in-github",
        "colab_type": "text"
      },
      "source": [
        "<a href=\"https://colab.research.google.com/github/anuragsaraf1912/neetcode150/blob/main/Trees.ipynb\" target=\"_parent\"><img src=\"https://colab.research.google.com/assets/colab-badge.svg\" alt=\"Open In Colab\"/></a>"
      ]
    },
    {
      "cell_type": "markdown",
      "source": [
        "[P1: Invert Binary Tree](https://neetcode.io/problems/invert-a-binary-tree)"
      ],
      "metadata": {
        "id": "Lmseqs71UBVH"
      }
    },
    {
      "cell_type": "code",
      "execution_count": null,
      "metadata": {
        "id": "VRmk1eO1T28e"
      },
      "outputs": [],
      "source": [
        "# Definition for a binary tree node.\n",
        "# class TreeNode:\n",
        "#     def __init__(self, val=0, left=None, right=None):\n",
        "#         self.val = val\n",
        "#         self.left = left\n",
        "#         self.right = right\n",
        "\n",
        "# Space Complexity: O(n) N nodes saved\n",
        "# Time Complexity: O(n) Visits each node\n",
        "# Recursive approach to solve the question. Invert the left and right at each node and call the function recursively.\n",
        "\n",
        "class Solution:\n",
        "    def invertTree(self, root: Optional[TreeNode]) -> Optional[TreeNode]:\n",
        "        if not root: return None\n",
        "        # Switch the sides\n",
        "        root.right, root.left = root.left, root.right\n",
        "\n",
        "        #Calling invert functions on the two nodes\n",
        "        self.invertTree(root.left)\n",
        "        self.invertTree(root.right)\n",
        "\n",
        "        return root"
      ]
    },
    {
      "cell_type": "markdown",
      "source": [
        "[P2: Max Depth of BT](https://neetcode.io/problems/depth-of-binary-tree)"
      ],
      "metadata": {
        "id": "OO9FeHCQT50x"
      }
    },
    {
      "cell_type": "code",
      "source": [
        "# Definition for a binary tree node.\n",
        "# class TreeNode:\n",
        "#     def __init__(self, val=0, left=None, right=None):\n",
        "#         self.val = val\n",
        "#         self.left = left\n",
        "#         self.right = right\n",
        "\n",
        "# Recursive Approach is to use the maximum of the two depth obtained.\n",
        "# Time Complexity: O(n)\n",
        "# Space Complexity: O(h) Where h is the height of tree\n",
        "\n",
        "class Solution:\n",
        "    def maxDepth(self, root: Optional[TreeNode]) -> int:\n",
        "        if not root: return 0\n",
        "\n",
        "        return 1 + max(self.maxDepth(root.right), self.maxDepth(root.left))\n"
      ],
      "metadata": {
        "id": "0JDCcgAmV22F"
      },
      "execution_count": null,
      "outputs": []
    },
    {
      "cell_type": "markdown",
      "source": [
        "[P3: Binary Tree Diameter](https://neetcode.io/problems/binary-tree-diameter)"
      ],
      "metadata": {
        "id": "gDii3BJgZiO3"
      }
    },
    {
      "cell_type": "code",
      "source": [
        "# Definition for a binary tree node.\n",
        "# class TreeNode:\n",
        "#     def __init__(self, val=0, left=None, right=None):\n",
        "#         self.val = val\n",
        "#         self.left = left\n",
        "#         self.right = right\n",
        "\n",
        "# Space complexity: O(h) h is the height of the tree (Max Stack length)\n",
        "# Time complexity: O(n) the code will run for each node\n",
        "# Recursively call the left and right side depth and compare the sum of the depths of two side with the current max diameter.\n",
        "\n",
        "\n",
        "class Solution:\n",
        "    def diameterOfBinaryTree(self, root: Optional[TreeNode]) -> int:\n",
        "        diameter = 0\n",
        "        def recursiveDepth(root):\n",
        "            nonlocal diameter\n",
        "            if not root: return 0\n",
        "            depthLeft = recursiveDepth(root.left)\n",
        "            depthRight = recursiveDepth(root.right)\n",
        "            diameter = max(diameter, depthRight + depthLeft)\n",
        "            return 1 + max(depthRight, depthLeft)\n",
        "\n",
        "        recursiveDepth(root)\n",
        "        return diameter\n"
      ],
      "metadata": {
        "id": "HI1rLLEGZi2d"
      },
      "execution_count": null,
      "outputs": []
    },
    {
      "cell_type": "markdown",
      "source": [
        "[P4: Balanced Binary Tree ](https://neetcode.io/problems/balanced-binary-tree)"
      ],
      "metadata": {
        "id": "-H4ZLAB61c_I"
      }
    },
    {
      "cell_type": "code",
      "source": [
        "# Definition for a binary tree node.\n",
        "# class TreeNode:\n",
        "#     def __init__(self, val=0, left=None, right=None):\n",
        "#         self.val = val\n",
        "#         self.left = left\n",
        "#         self.right = right\n",
        "\n",
        "class Solution:\n",
        "    def isBalanced(self, root: Optional[TreeNode]) -> bool:\n",
        "\n",
        "        balanced = True\n",
        "        def checkBalance(root):\n",
        "            nonlocal balanced\n",
        "            if not root: return 0\n",
        "            leftSide = checkBalance(root.left)\n",
        "            rightSide = checkBalance(root.right)\n",
        "            if abs(leftSide - rightSide) > 1:\n",
        "                balanced = False\n",
        "            return 1 + max(leftSide, rightSide)\n",
        "\n",
        "        checkBalance(root)\n",
        "        return balanced\n",
        "\n"
      ],
      "metadata": {
        "id": "rB37KMc21fvX"
      },
      "execution_count": null,
      "outputs": []
    },
    {
      "cell_type": "markdown",
      "source": [
        "[P5: Same Tree](https://neetcode.io/problems/same-binary-tree)"
      ],
      "metadata": {
        "id": "bgPzMM9dQKhf"
      }
    },
    {
      "cell_type": "code",
      "source": [
        "# Definition for a binary tree node.\n",
        "# class TreeNode:\n",
        "#     def __init__(self, val=0, left=None, right=None):\n",
        "#         self.val = val\n",
        "#         self.left = left\n",
        "#         self.right = right\n",
        "class Solution:\n",
        "    def isSameTree(self, p: Optional[TreeNode], q: Optional[TreeNode]) -> bool:\n",
        "        # Base Cases\n",
        "        if (p and not q) or (q and not p): return False\n",
        "        if not p and not q: return True\n",
        "\n",
        "        return p.val == q.val \\\n",
        "        and self.isSameTree(p.left, q.left) \\\n",
        "        and self.isSameTree(p.right, q.right)\n",
        "\n",
        "\n",
        "\n"
      ],
      "metadata": {
        "id": "rm32ti0wQLF2"
      },
      "execution_count": null,
      "outputs": []
    },
    {
      "cell_type": "markdown",
      "source": [
        "[P6: Subtree of Another Tree](https://neetcode.io/problems/subtree-of-a-binary-tree)"
      ],
      "metadata": {
        "id": "ew329G0GQL43"
      }
    },
    {
      "cell_type": "code",
      "source": [
        "# Definition for a binary tree node.\n",
        "# class TreeNode:\n",
        "#     def __init__(self, val=0, left=None, right=None):\n",
        "#         self.val = val\n",
        "#         self.left = left\n",
        "#         self.right = right\n",
        "\n",
        "class Solution:\n",
        "    def isSubtree(self, root: Optional[TreeNode], subRoot: Optional[TreeNode]) -> bool:\n",
        "\n",
        "        def compareRec(rt, srt):\n",
        "            if (rt and not srt) \\\n",
        "            or (srt and not rt):\n",
        "                return False\n",
        "            if not rt and not srt: return True\n",
        "            return rt.val == srt.val \\\n",
        "            and compareRec(rt.left, srt.left) \\\n",
        "            and compareRec(rt.right, srt.right)\n",
        "\n",
        "        stack = [root]\n",
        "        while stack:\n",
        "            currNode = stack.pop()\n",
        "            res = compareRec(currNode, subRoot)\n",
        "            if res: return True\n",
        "            # Appending the child to stack in case not found\n",
        "            if currNode.right: stack.append(currNode.right)\n",
        "            if currNode.left: stack.append(currNode.left)\n",
        "\n",
        "        return False\n"
      ],
      "metadata": {
        "id": "v0oZ9xMFQMaX"
      },
      "execution_count": null,
      "outputs": []
    },
    {
      "cell_type": "markdown",
      "source": [
        "[P7: Lowest Common Ancestor of BST](https://neetcode.io/problems/lowest-common-ancestor-in-binary-search-tree)"
      ],
      "metadata": {
        "id": "lXuOJ6f69VwC"
      }
    },
    {
      "cell_type": "code",
      "source": [
        "# Definition for a binary tree node.\n",
        "# class TreeNode:\n",
        "#     def __init__(self, val=0, left=None, right=None):\n",
        "#         self.val = val\n",
        "#         self.left = left\n",
        "#         self.right = right\n",
        "\n",
        "# Time Complexity: O(h)\n",
        "# Space Complexity: O(1)\n",
        "\n",
        "# The Binary search tree has all unique values. This implies that we can just go on the left or right side when the child nodes are both on the same side\n",
        "# Otherwise, we can return the current root.\n",
        "\n",
        "class Solution:\n",
        "    def lowestCommonAncestor(self, root: TreeNode, p: TreeNode, q: TreeNode) -> TreeNode:\n",
        "\n",
        "\n",
        "        if root.val < q.val and root.val < p.val: return self.lowestCommonAncestor(root.right, p,q)\n",
        "        if root.val > q.val and root.val > p.val: return self.lowestCommonAncestor(root.left, p,q)\n",
        "        return root"
      ],
      "metadata": {
        "id": "orud-Ayp9YZz"
      },
      "execution_count": null,
      "outputs": []
    },
    {
      "cell_type": "markdown",
      "source": [
        "[P8: Binary Tree Level Order Traversal](https://neetcode.io/problems/level-order-traversal-of-binary-tree)"
      ],
      "metadata": {
        "id": "--gKCRoX9Yz2"
      }
    },
    {
      "cell_type": "code",
      "source": [
        "# Definition for a binary tree node.\n",
        "# class TreeNode:\n",
        "#     def __init__(self, val=0, left=None, right=None):\n",
        "#         self.val = val\n",
        "#         self.left = left\n",
        "#         self.right = right\n",
        "\n",
        "# Space Complexity: O(n)\n",
        "# Time Complexity: O(n)\n",
        "\n",
        "# Queue is the best data structure for the level order traversal in a tree. We keep appending the node. (left first and right second)\n",
        "\n",
        "class Solution:\n",
        "    def levelOrder(self, root: Optional[TreeNode]) -> List[List[int]]:\n",
        "        from collections import deque\n",
        "        queue = deque()\n",
        "        if root: queue.append(root)\n",
        "        res = []\n",
        "        while queue:\n",
        "            level = []\n",
        "            for _ in range(len(queue)):\n",
        "                # Find the val and put it at the level\n",
        "                currNode = queue.popleft()\n",
        "                level.append(currNode.val)\n",
        "\n",
        "                # Add the children to the queue to process later\n",
        "                if currNode.left: queue.append(currNode.left)\n",
        "                if currNode.right: queue.append(currNode.right)\n",
        "\n",
        "            res.append(level)\n",
        "\n",
        "        return res"
      ],
      "metadata": {
        "id": "Wd1WSFfU9ZFY"
      },
      "execution_count": null,
      "outputs": []
    },
    {
      "cell_type": "markdown",
      "source": [
        "[P9: Binary Tree Right Side View](https://neetcode.io/problems/binary-tree-right-side-view)"
      ],
      "metadata": {
        "id": "U3hbNncC9ZVO"
      }
    },
    {
      "cell_type": "code",
      "source": [
        "# Definition for a binary tree node.\n",
        "# class TreeNode:\n",
        "#     def __init__(self, val=0, left=None, right=None):\n",
        "#         self.val = val\n",
        "#         self.left = left\n",
        "#         self.right = right\n",
        "\n",
        "# Space Complexity: O(n)\n",
        "# Time Complexity: O(n)\n",
        "\n",
        "# The problem is same as level traversal except that we have to iterate at each level just to ensure that we exhaust the level and append the\n",
        "# node at the end.\n",
        "\n",
        "class Solution:\n",
        "    def rightSideView(self, root: Optional[TreeNode]) -> List[int]:\n",
        "        queue = deque()\n",
        "        if root: queue.append(root)\n",
        "        rightSide = []\n",
        "        while queue:\n",
        "            rightSide.append(queue[-1].val)\n",
        "\n",
        "            # This loop ensures that we are always visiting the while loop after the current level is exhausted\n",
        "            for _ in range(len(queue)):\n",
        "                currNode = queue.popleft()\n",
        "                if currNode.left: queue.append(currNode.left)\n",
        "                if currNode.right: queue.append(currNode.right)\n",
        "\n",
        "        return rightSide"
      ],
      "metadata": {
        "id": "n-XMWQxB_SW8"
      },
      "execution_count": null,
      "outputs": []
    },
    {
      "cell_type": "markdown",
      "source": [
        "[P10: Count Good Nodes in a Binary Tree](https://neetcode.io/problems/count-good-nodes-in-binary-tree)"
      ],
      "metadata": {
        "id": "2FRpsWuTDxmn"
      }
    },
    {
      "cell_type": "code",
      "source": [
        "# Definition for a binary tree node.\n",
        "# class TreeNode:\n",
        "#     def __init__(self, val=0, left=None, right=None):\n",
        "#         self.val = val\n",
        "#         self.left = left\n",
        "#         self.right = right\n",
        "\n",
        "# Time Complexity: O(n)\n",
        "# Space Complexity:\n",
        "\n",
        "\n",
        "class Solution:\n",
        "    def goodNodes(self, root: TreeNode) -> int:\n",
        "        countGoodN = 0\n",
        "        runningMax = -float('inf')\n",
        "        def backTrack(root, value):\n",
        "            nonlocal countGoodN\n",
        "            if root.val >= value:\n",
        "                countGoodN += 1\n",
        "                value = root.val\n",
        "            if root.left: backTrack(root.left, value)\n",
        "            if root.right: backTrack(root.right, value)\n",
        "\n",
        "\n",
        "        backTrack(root, runningMax)\n",
        "        return countGoodN"
      ],
      "metadata": {
        "id": "wtV8CmAgDx1B"
      },
      "execution_count": null,
      "outputs": []
    },
    {
      "cell_type": "markdown",
      "source": [
        "[P11: Valid Binary Search Tree](https://neetcode.io/problems/valid-binary-search-tree)"
      ],
      "metadata": {
        "id": "xUlG829BButO"
      }
    },
    {
      "cell_type": "code",
      "source": [
        "# Definition for a binary tree node.\n",
        "# class TreeNode:\n",
        "#     def __init__(self, val=0, left=None, right=None):\n",
        "#         self.val = val\n",
        "#         self.left = left\n",
        "#         self.right = right\n",
        "\n",
        "class Solution:\n",
        "    def isValidBST(self, root: Optional[TreeNode], low = -float('inf'), high=float('inf')) -> bool:\n",
        "        if not root: return True\n",
        "\n",
        "        return (low < root.val) and (root.val < high) \\\n",
        "        and self.isValidBST(root.left, low, root.val) \\\n",
        "        and self.isValidBST(root.right, root.val,  high)\n"
      ],
      "metadata": {
        "id": "-hX_UZMSBwdX"
      },
      "execution_count": null,
      "outputs": []
    },
    {
      "cell_type": "markdown",
      "source": [
        "[P12: Kth Smallest Integer in Binary Search Tree](https://neetcode.io/problems/kth-smallest-integer-in-bst)"
      ],
      "metadata": {
        "id": "lGr1MsMbBwyD"
      }
    },
    {
      "cell_type": "code",
      "source": [
        "# Definition for a binary tree node.\n",
        "# class TreeNode:\n",
        "#     def __init__(self, val=0, left=None, right=None):\n",
        "#         self.val = val\n",
        "#         self.left = left\n",
        "#         self.right = right\n",
        "\n",
        "class Solution:\n",
        "    def kthSmallest(self, root: Optional[TreeNode], k: int) -> int:\n",
        "\n",
        "        def bt(root):\n",
        "            if not root: return []\n",
        "            return bt(root.left) + [root.val] + bt(root.right)\n",
        "\n",
        "        res = bt(root)\n",
        "        return res[k-1]"
      ],
      "metadata": {
        "id": "VEpJVTmrBxvj"
      },
      "execution_count": null,
      "outputs": []
    },
    {
      "cell_type": "markdown",
      "source": [
        "[P13: Construct binary tree from Inorder and Preorder](https://neetcode.io/problems/binary-tree-from-preorder-and-inorder-traversal)"
      ],
      "metadata": {
        "id": "HF0FJHw_BzUX"
      }
    },
    {
      "cell_type": "code",
      "source": [
        "# Definition for a binary tree node.\n",
        "# class TreeNode:\n",
        "#     def __init__(self, val=0, left=None, right=None):\n",
        "#         self.val = val\n",
        "#         self.left = left\n",
        "#         self.right = right\n",
        "\n",
        "class Solution:\n",
        "\n",
        "    def buildTree(self, preorder: List[int], inorder: List[int]) -> Optional[TreeNode]:\n",
        "        getIndex = {}\n",
        "        # Creating a hashset to quickly access the index of a particular element\n",
        "        for ind, elem in enumerate(inorder):\n",
        "            getIndex[elem] = ind\n",
        "\n",
        "        def helper(preorderInd, inorderStart, inorderEnd):\n",
        "\n",
        "            # Creating the current Node\n",
        "            currVal = preorder[preorderInd]\n",
        "            currNode = TreeNode(currVal)\n",
        "\n",
        "            # Get Inorder Index\n",
        "            inordIndex = getIndex[currVal]\n",
        "\n",
        "            if inordIndex != inorderStart:\n",
        "                currNode.left = helper(preorderInd+1, inorderStart, inordIndex - 1)\n",
        "            leftNodes = inordIndex - inorderStart\n",
        "\n",
        "            if inordIndex != inorderEnd:\n",
        "                currNode.right = helper(preorderInd+leftNodes+1, inordIndex + 1, inorderEnd)\n",
        "\n",
        "            return currNode\n",
        "\n",
        "        return helper(0, 0, len(inorder) - 1)\n",
        "\n",
        "\n"
      ],
      "metadata": {
        "id": "SlJVJQAcB0qv"
      },
      "execution_count": null,
      "outputs": []
    },
    {
      "cell_type": "markdown",
      "source": [
        "[P14: Binary Tree Maximum Path Sum (Hard)](https://neetcode.io/problems/binary-tree-maximum-path-sum)"
      ],
      "metadata": {
        "id": "6AiN_QH3CbXo"
      }
    },
    {
      "cell_type": "code",
      "source": [
        "# Definition for a binary tree node.\n",
        "# class TreeNode:\n",
        "#     def __init__(self, val=0, left=None, right=None):\n",
        "#         self.val = val\n",
        "#         self.left = left\n",
        "#         self.right = right\n",
        "\n",
        "class Solution:\n",
        "    def maxPathSum(self, root: Optional[TreeNode]) -> int:\n",
        "        maxSum = -float('inf')\n",
        "        maxNode = -float('inf')\n",
        "\n",
        "        def getSumCurr(root):\n",
        "            nonlocal maxSum, maxNode\n",
        "            if not root: return 0\n",
        "            maxNode = max(maxNode, root.val)\n",
        "            leftSum = getSumCurr(root.left)\n",
        "            rightSum = getSumCurr(root.right)\n",
        "\n",
        "            currSum = root.val + max(leftSum, rightSum)\n",
        "            if currSum < 0:\n",
        "                currSum = 0\n",
        "\n",
        "            maxSum = max(maxSum, currSum, root.val + leftSum + rightSum)\n",
        "            return currSum\n",
        "\n",
        "        getSumCurr(root)\n",
        "\n",
        "        return maxSum if maxNode > 0 else maxNode"
      ],
      "metadata": {
        "id": "ORRUYzLuCbhb"
      },
      "execution_count": null,
      "outputs": []
    },
    {
      "cell_type": "markdown",
      "source": [],
      "metadata": {
        "id": "vQ7Cw2XLCciD"
      }
    },
    {
      "cell_type": "code",
      "source": [],
      "metadata": {
        "id": "Oj2vxvohCeBl"
      },
      "execution_count": null,
      "outputs": []
    }
  ]
}