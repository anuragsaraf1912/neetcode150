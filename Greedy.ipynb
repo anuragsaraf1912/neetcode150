{
  "nbformat": 4,
  "nbformat_minor": 0,
  "metadata": {
    "colab": {
      "provenance": [],
      "authorship_tag": "ABX9TyNCgXTnHYB7jHVv3nO9Huqe",
      "include_colab_link": true
    },
    "kernelspec": {
      "name": "python3",
      "display_name": "Python 3"
    },
    "language_info": {
      "name": "python"
    }
  },
  "cells": [
    {
      "cell_type": "markdown",
      "metadata": {
        "id": "view-in-github",
        "colab_type": "text"
      },
      "source": [
        "<a href=\"https://colab.research.google.com/github/anuragsaraf1912/neetcode150/blob/main/Greedy.ipynb\" target=\"_parent\"><img src=\"https://colab.research.google.com/assets/colab-badge.svg\" alt=\"Open In Colab\"/></a>"
      ]
    },
    {
      "cell_type": "markdown",
      "source": [
        "[P1: Maximum Subarray](https://leetcode.com/problems/maximum-subarray/description/)"
      ],
      "metadata": {
        "id": "qzS_GKVPCHzD"
      }
    },
    {
      "cell_type": "code",
      "source": [
        "class Solution:\n",
        "    def maxSubArray(self, nums: List[int]) -> int:\n",
        "        maxVal, summation = -float('inf'), 0\n",
        "        for i in range(len(nums)):\n",
        "            summation += nums[i]\n",
        "            maxVal = max(summation, maxVal)\n",
        "            if summation < 0:\n",
        "                summation = 0\n",
        "        return maxVal\n",
        "\n",
        ""
      ],
      "metadata": {
        "id": "MOBiDAELCIXN"
      },
      "execution_count": null,
      "outputs": []
    },
    {
      "cell_type": "markdown",
      "source": [
        "[P2: Jump Game](https://leetcode.com/problems/jump-game/description/)\n"
      ],
      "metadata": {
        "id": "PjOIlTB4CIkp"
      }
    },
    {
      "cell_type": "code",
      "source": [
        "class Solution:\n",
        "    def canJump(self, nums: List[int]) -> bool:\n",
        "        maxPos = 0\n",
        "        for i in range(len(nums)):\n",
        "            if maxPos < i: return False\n",
        "            maxPos = max(maxPos, i+nums[i])\n",
        "\n",
        "        return True\n",
        ""
      ],
      "metadata": {
        "id": "M5JaDcgaCIyH"
      },
      "execution_count": null,
      "outputs": []
    },
    {
      "cell_type": "markdown",
      "source": [],
      "metadata": {
        "id": "r4MF_OVFCJET"
      }
    },
    {
      "cell_type": "code",
      "source": [],
      "metadata": {
        "id": "PBmwTJCUCJLf"
      },
      "execution_count": null,
      "outputs": []
    },
    {
      "cell_type": "markdown",
      "source": [],
      "metadata": {
        "id": "46zJHw7_CJUA"
      }
    },
    {
      "cell_type": "code",
      "source": [],
      "metadata": {
        "id": "UI3uh0_uCJaS"
      },
      "execution_count": null,
      "outputs": []
    },
    {
      "cell_type": "markdown",
      "source": [],
      "metadata": {
        "id": "p9WGl3HhCJh_"
      }
    },
    {
      "cell_type": "code",
      "source": [],
      "metadata": {
        "id": "pAa3uKjeCJoG"
      },
      "execution_count": null,
      "outputs": []
    },
    {
      "cell_type": "markdown",
      "source": [],
      "metadata": {
        "id": "ydeuQ4MfCJvR"
      }
    },
    {
      "cell_type": "code",
      "source": [],
      "metadata": {
        "id": "1RJMj5u4CJ0z"
      },
      "execution_count": null,
      "outputs": []
    },
    {
      "cell_type": "markdown",
      "source": [],
      "metadata": {
        "id": "50Zs8JSECK-e"
      }
    },
    {
      "cell_type": "code",
      "source": [],
      "metadata": {
        "id": "xprVpGHqCLYA"
      },
      "execution_count": null,
      "outputs": []
    },
    {
      "cell_type": "markdown",
      "source": [],
      "metadata": {
        "id": "KQ-goQeaCL-9"
      }
    },
    {
      "cell_type": "code",
      "source": [],
      "metadata": {
        "id": "K11hWoDLCMT-"
      },
      "execution_count": null,
      "outputs": []
    }
  ]
}