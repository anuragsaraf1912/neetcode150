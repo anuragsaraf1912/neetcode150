{
  "nbformat": 4,
  "nbformat_minor": 0,
  "metadata": {
    "colab": {
      "provenance": [],
      "authorship_tag": "ABX9TyNHByBS5/CpJOk99MU73zUt",
      "include_colab_link": true
    },
    "kernelspec": {
      "name": "python3",
      "display_name": "Python 3"
    },
    "language_info": {
      "name": "python"
    }
  },
  "cells": [
    {
      "cell_type": "markdown",
      "metadata": {
        "id": "view-in-github",
        "colab_type": "text"
      },
      "source": [
        "<a href=\"https://colab.research.google.com/github/anuragsaraf1912/neetcode150/blob/main/Greedy.ipynb\" target=\"_parent\"><img src=\"https://colab.research.google.com/assets/colab-badge.svg\" alt=\"Open In Colab\"/></a>"
      ]
    },
    {
      "cell_type": "markdown",
      "source": [
        "[P1: Maximum Subarray](https://leetcode.com/problems/maximum-subarray/description/)"
      ],
      "metadata": {
        "id": "qzS_GKVPCHzD"
      }
    },
    {
      "cell_type": "code",
      "source": [
        "class Solution:\n",
        "\n",
        "    # Time Complexity: O(n)\n",
        "    # Space Complexity: O(1)\n",
        "    # The algo used is the Kadane algorithm, we just go over each element and add it to the sum seen till now.\n",
        "    # We change the value of sum to 0 in case is reached below 0 => we are removing the elements added till that point\n",
        "\n",
        "    def maxSubArray(self, nums: List[int]) -> int:\n",
        "        maxVal, summation = -float('inf'), 0\n",
        "        for i in range(len(nums)):\n",
        "            summation += nums[i]\n",
        "            maxVal = max(summation, maxVal)\n",
        "            if summation < 0:\n",
        "                summation = 0\n",
        "        return maxVal\n",
        "\n"
      ],
      "metadata": {
        "id": "MOBiDAELCIXN"
      },
      "execution_count": null,
      "outputs": []
    },
    {
      "cell_type": "markdown",
      "source": [
        "[P2: Jump Game](https://leetcode.com/problems/jump-game/description/)\n"
      ],
      "metadata": {
        "id": "PjOIlTB4CIkp"
      }
    },
    {
      "cell_type": "code",
      "source": [
        "class Solution:\n",
        "    def canJump(self, nums: List[int]) -> bool:\n",
        "\n",
        "    # Time Complexity: O(n)\n",
        "    # Space Complexity: O(1)\n",
        "    # We will iterate on each element and keep track of the max index at which we can reach based on all the elements visited.\n",
        "    # If the current index is greater than the max index we can reach based on the previous elements, we cannot move forward and return False\n",
        "\n",
        "        maxPos = 0\n",
        "        for i in range(len(nums)):\n",
        "            if maxPos < i: return False\n",
        "            # We can move upto i+nums[i] index\n",
        "            maxPos = max(maxPos, i+nums[i])\n",
        "\n",
        "        return True\n"
      ],
      "metadata": {
        "id": "M5JaDcgaCIyH"
      },
      "execution_count": null,
      "outputs": []
    },
    {
      "cell_type": "markdown",
      "source": [
        "[P3: Jump Game 2](https://leetcode.com/problems/jump-game-ii/)"
      ],
      "metadata": {
        "id": "r4MF_OVFCJET"
      }
    },
    {
      "cell_type": "code",
      "source": [
        "class Solution:\n",
        "    def jump(self, nums: List[int]) -> int:\n",
        "    # Time Complexity: O(n)\n",
        "    # Space Complexity: O(1)\n",
        "    # Approach: This is similar to BFS. In each iteration we move till the index element observed in this jump.\n",
        "    # We then move to the next maximum position obtained. This happens till we are not able to reach the last index.\n",
        "\n",
        "        # Keeping track of all the jumps count\n",
        "        prevMax, currMax, count = 0, 0, 0\n",
        "        while currMax < len(nums) - 1:\n",
        "            count += 1\n",
        "            maxPos = 0\n",
        "            # Finding the max position in this jump\n",
        "            for i in range(prevMax, currMax+1):\n",
        "                maxPos = max(maxPos, nums[i]+i)\n",
        "            currMax, prevMax = maxPos, currMax\n",
        "\n",
        "        return count\n"
      ],
      "metadata": {
        "id": "PBmwTJCUCJLf"
      },
      "execution_count": null,
      "outputs": []
    },
    {
      "cell_type": "markdown",
      "source": [
        "[P4: Gas Station](https://leetcode.com/problems/gas-station/description/)"
      ],
      "metadata": {
        "id": "46zJHw7_CJUA"
      }
    },
    {
      "cell_type": "code",
      "source": [
        "class Solution:\n",
        "    def canCompleteCircuit(self, gas: List[int], cost: List[int]) -> int:\n",
        "\n",
        "      # Time Complexity: O(n)\n",
        "      # Space Complexity: O(1)\n",
        "      # Approach: The decision to start the trip is based on excess fuel at each station.\n",
        "      # maxSum is used to keep track of the maximum excess fuel in its journey. The trip can be completed only when the sum of excess fuel is\n",
        "      # greater than 0. The start of the trip depends on the place where we can get as much excess fuel early in the trip (greedy approach).\n",
        "      # The earlier excess fuel implies less dependency on the later gas stations. This index is tracked using the maxInd. Thus, maxInd is the\n",
        "      # index, starting at which the fuel is guaranteed to not finish.\n",
        "\n",
        "\n",
        "        extraFuel = [gas[i] - cost[i] for i in range(len(cost))]\n",
        "        maxInd, maxSum, cumSum = 0, -float('inf'), 0\n",
        "        for i in range(len(gas) - 1, -1, -1):\n",
        "            cumSum += (gas[i] - cost[i])\n",
        "            # Current excess fuel is higher than the maximum observed till now.\n",
        "            if maxSum <= cumSum:\n",
        "                maxSum = cumSum\n",
        "                maxInd = i\n",
        "\n",
        "        return maxInd if (sum(gas) - sum(cost)) >= 0 else -1\n",
        "\n"
      ],
      "metadata": {
        "id": "UI3uh0_uCJaS"
      },
      "execution_count": null,
      "outputs": []
    },
    {
      "cell_type": "markdown",
      "source": [
        "[P5: Hands of Straights](https://leetcode.com/problems/hand-of-straights/)"
      ],
      "metadata": {
        "id": "p9WGl3HhCJh_"
      }
    },
    {
      "cell_type": "code",
      "source": [
        "class Solution:\n",
        "    def isNStraightHand(self, hand: List[int], groupSize: int) -> bool:\n",
        "\n",
        "        # Most basic case\n",
        "        if len(hand) % groupSize: return False\n",
        "\n",
        "        # Sorting the array\n",
        "        hand.sort()\n",
        "\n",
        "        # N straights to be used\n",
        "        nStraights = len(hand) // groupSize\n",
        "        groups = [[] for _ in range(nStraights)]\n",
        "        for card in hand:\n",
        "            i = 0\n",
        "            while (groups[i] and groups[i][-1] != card - 1) or len(groups[i]) == groupSize:\n",
        "                i += 1\n",
        "                if i == nStraights: return False\n",
        "\n",
        "            groups[i].append(card)\n",
        "\n",
        "        return True"
      ],
      "metadata": {
        "id": "pAa3uKjeCJoG"
      },
      "execution_count": null,
      "outputs": []
    },
    {
      "cell_type": "markdown",
      "source": [
        "[P6: Merge Triplets to form Target](https://neetcode.io/problems/merge-triplets-to-form-target)"
      ],
      "metadata": {
        "id": "ydeuQ4MfCJvR"
      }
    },
    {
      "cell_type": "code",
      "source": [
        "class Solution:\n",
        "    # Time Complexity: O(n) n is the number of triplets\n",
        "    # Space Complexity: O(1)\n",
        "    # Approach: Ignore all triplets with any value exceeding the target at that index.\n",
        "\n",
        "    def mergeTriplets(self, triplets: List[List[int]], target: List[int]) -> bool:\n",
        "        newTrip = [-float('inf'), -float('inf'), -float('inf')]\n",
        "        for x, y, z in triplets:\n",
        "            if x > target[0] or y > target[1] or z > target[2]: continue\n",
        "            newTrip = [max(x, newTrip[0]), max(y, newTrip[1]), max(z, newTrip[2])]\n",
        "\n",
        "        return newTrip == target\n"
      ],
      "metadata": {
        "id": "1RJMj5u4CJ0z"
      },
      "execution_count": null,
      "outputs": []
    },
    {
      "cell_type": "markdown",
      "source": [
        "[P7: Partition label](https://neetcode.io/problems/partition-labels)"
      ],
      "metadata": {
        "id": "50Zs8JSECK-e"
      }
    },
    {
      "cell_type": "code",
      "source": [
        "class Solution:\n",
        "    def partitionLabels(self, s: str) -> List[int]:\n",
        "        stateMap = OrderedDict()\n",
        "        for ind, elem in enumerate(s):\n",
        "            if elem not in stateMap:\n",
        "                stateMap[elem] = [ind, ind]\n",
        "            else:\n",
        "                stateMap[elem][1] = ind\n",
        "\n",
        "        # Intervals added\n",
        "        intervals = [stateMap[k] for k in stateMap]\n",
        "        res = [intervals[0]]\n",
        "        for start,end in intervals[1:]:\n",
        "            # Merging intervals\n",
        "            if start < res[-1][1]:\n",
        "                prevS, prevE = res.pop()\n",
        "                res.append([prevS, max(end, prevE)])\n",
        "            else:\n",
        "                res.append([start, end])\n",
        "        return [b-a+1 for a,b in res]\n"
      ],
      "metadata": {
        "id": "xprVpGHqCLYA"
      },
      "execution_count": null,
      "outputs": []
    },
    {
      "cell_type": "code",
      "source": [
        "class Solution:\n",
        "    def partitionLabels(self, s: str) -> List[int]:\n",
        "        endIndex, res = {}, []\n",
        "        for ind, elem in enumerate(s):\n",
        "            endIndex[elem] = ind\n",
        "\n",
        "        size, nextInd = 0,0\n",
        "        for ind, elem in enumerate(s):\n",
        "            size += 1\n",
        "            # Determines the index till which this should go\n",
        "            nextInd = max(nextInd, endIndex[elem])\n",
        "            # Exhaused the earlier obtained values\n",
        "            if ind == nextInd:\n",
        "                res.append(size)\n",
        "                size = 0\n",
        "\n",
        "        return res"
      ],
      "metadata": {
        "id": "RSJHTrfhFLry"
      },
      "execution_count": null,
      "outputs": []
    },
    {
      "cell_type": "markdown",
      "source": [
        "[P8: Valid Parenthesis String](https://neetcode.io/problems/valid-parenthesis-string)"
      ],
      "metadata": {
        "id": "KQ-goQeaCL-9"
      }
    },
    {
      "cell_type": "code",
      "source": [
        "class Solution:\n",
        "    def checkValidString(self, s: str) -> bool:\n",
        "        leftMax, leftMin = 0,0\n",
        "        for st in s:\n",
        "            if st == '(':\n",
        "                leftMax += 1\n",
        "                leftMin += 1\n",
        "            elif st == ')':\n",
        "                leftMax -= 1\n",
        "                leftMin = max(0, leftMin - 1)\n",
        "            else:\n",
        "                leftMax += 1\n",
        "                leftMin = max(0, leftMin - 1)\n",
        "            if leftMax < 0: return False\n",
        "\n",
        "        return leftMin == 0\n"
      ],
      "metadata": {
        "id": "ScLilQv3FG_2"
      },
      "execution_count": null,
      "outputs": []
    }
  ]
}