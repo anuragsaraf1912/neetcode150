{
  "nbformat": 4,
  "nbformat_minor": 0,
  "metadata": {
    "colab": {
      "provenance": [],
      "authorship_tag": "ABX9TyNirRoYsFwqujMq6jneAtxH",
      "include_colab_link": true
    },
    "kernelspec": {
      "name": "python3",
      "display_name": "Python 3"
    },
    "language_info": {
      "name": "python"
    }
  },
  "cells": [
    {
      "cell_type": "markdown",
      "metadata": {
        "id": "view-in-github",
        "colab_type": "text"
      },
      "source": [
        "<a href=\"https://colab.research.google.com/github/anuragsaraf1912/neetcode150/blob/main/Greedy.ipynb\" target=\"_parent\"><img src=\"https://colab.research.google.com/assets/colab-badge.svg\" alt=\"Open In Colab\"/></a>"
      ]
    },
    {
      "cell_type": "markdown",
      "source": [
        "[P1: Maximum Subarray](https://leetcode.com/problems/maximum-subarray/description/)"
      ],
      "metadata": {
        "id": "qzS_GKVPCHzD"
      }
    },
    {
      "cell_type": "code",
      "source": [
        "class Solution:\n",
        "    def maxSubArray(self, nums: List[int]) -> int:\n",
        "        maxVal, summation = -float('inf'), 0\n",
        "        for i in range(len(nums)):\n",
        "            summation += nums[i]\n",
        "            maxVal = max(summation, maxVal)\n",
        "            if summation < 0:\n",
        "                summation = 0\n",
        "        return maxVal\n",
        "\n"
      ],
      "metadata": {
        "id": "MOBiDAELCIXN"
      },
      "execution_count": null,
      "outputs": []
    },
    {
      "cell_type": "markdown",
      "source": [
        "[P2: Jump Game](https://leetcode.com/problems/jump-game/description/)\n"
      ],
      "metadata": {
        "id": "PjOIlTB4CIkp"
      }
    },
    {
      "cell_type": "code",
      "source": [
        "class Solution:\n",
        "    def canJump(self, nums: List[int]) -> bool:\n",
        "        maxPos = 0\n",
        "        for i in range(len(nums)):\n",
        "            if maxPos < i: return False\n",
        "            maxPos = max(maxPos, i+nums[i])\n",
        "\n",
        "        return True\n"
      ],
      "metadata": {
        "id": "M5JaDcgaCIyH"
      },
      "execution_count": null,
      "outputs": []
    },
    {
      "cell_type": "markdown",
      "source": [
        "[P3: Jump Game 2](https://leetcode.com/problems/jump-game-ii/)"
      ],
      "metadata": {
        "id": "r4MF_OVFCJET"
      }
    },
    {
      "cell_type": "code",
      "source": [
        "class Solution:\n",
        "    def jump(self, nums: List[int]) -> int:\n",
        "\n",
        "        # Keeping track of all the jumps count\n",
        "        prevMax, currMax, count = 0, 0, 0\n",
        "        while currMax < len(nums) - 1:\n",
        "            count += 1\n",
        "            maxPos = 0\n",
        "            for i in range(prevMax, currMax+1):\n",
        "                maxPos = max(maxPos, nums[i]+i)\n",
        "            currMax, prevMax = maxPos, currMax\n",
        "\n",
        "        return count\n",
        ""
      ],
      "metadata": {
        "id": "PBmwTJCUCJLf"
      },
      "execution_count": null,
      "outputs": []
    },
    {
      "cell_type": "markdown",
      "source": [
        "[P4: Gas Station](https://leetcode.com/problems/gas-station/description/)"
      ],
      "metadata": {
        "id": "46zJHw7_CJUA"
      }
    },
    {
      "cell_type": "code",
      "source": [
        "class Solution:\n",
        "    def canCompleteCircuit(self, gas: List[int], cost: List[int]) -> int:\n",
        "\n",
        "        maxInd, maxSum, cumSum = 0, -float('inf'), 0\n",
        "        for i in range(len(gas) - 1, -1, -1):\n",
        "            cumSum += (gas[i] - cost[i])\n",
        "            if maxSum <= cumSum:\n",
        "                maxSum = cumSum\n",
        "                maxInd = i\n",
        "\n",
        "        return maxInd if (sum(gas) - sum(cost)) >= 0 else -1\n",
        "\n",
        ""
      ],
      "metadata": {
        "id": "UI3uh0_uCJaS"
      },
      "execution_count": null,
      "outputs": []
    },
    {
      "cell_type": "markdown",
      "source": [
        "[P5: Hands of Straights](https://leetcode.com/problems/hand-of-straights/)"
      ],
      "metadata": {
        "id": "p9WGl3HhCJh_"
      }
    },
    {
      "cell_type": "code",
      "source": [
        "class Solution:\n",
        "    def isNStraightHand(self, hand: List[int], groupSize: int) -> bool:\n",
        "\n",
        "        # Most basic case\n",
        "        if len(hand) % groupSize: return False\n",
        "\n",
        "        # Sorting the array\n",
        "        hand.sort()\n",
        "\n",
        "        # N straights to be used\n",
        "        nStraights = len(hand) // groupSize\n",
        "        groups = [[] for _ in range(nStraights)]\n",
        "        for card in hand:\n",
        "            i = 0\n",
        "            while (groups[i] and groups[i][-1] != card - 1) or len(groups[i]) == groupSize:\n",
        "                i += 1\n",
        "                if i == nStraights: return False\n",
        "\n",
        "            groups[i].append(card)\n",
        "\n",
        "        return True"
      ],
      "metadata": {
        "id": "pAa3uKjeCJoG"
      },
      "execution_count": null,
      "outputs": []
    },
    {
      "cell_type": "markdown",
      "source": [],
      "metadata": {
        "id": "ydeuQ4MfCJvR"
      }
    },
    {
      "cell_type": "code",
      "source": [],
      "metadata": {
        "id": "1RJMj5u4CJ0z"
      },
      "execution_count": null,
      "outputs": []
    },
    {
      "cell_type": "markdown",
      "source": [],
      "metadata": {
        "id": "50Zs8JSECK-e"
      }
    },
    {
      "cell_type": "code",
      "source": [],
      "metadata": {
        "id": "xprVpGHqCLYA"
      },
      "execution_count": null,
      "outputs": []
    },
    {
      "cell_type": "markdown",
      "source": [],
      "metadata": {
        "id": "KQ-goQeaCL-9"
      }
    },
    {
      "cell_type": "code",
      "source": [],
      "metadata": {
        "id": "K11hWoDLCMT-"
      },
      "execution_count": null,
      "outputs": []
    }
  ]
}