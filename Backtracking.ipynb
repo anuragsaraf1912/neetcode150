{
  "nbformat": 4,
  "nbformat_minor": 0,
  "metadata": {
    "colab": {
      "provenance": [],
      "authorship_tag": "ABX9TyNkltXJpsGpAh4X20FsfZZV",
      "include_colab_link": true
    },
    "kernelspec": {
      "name": "python3",
      "display_name": "Python 3"
    },
    "language_info": {
      "name": "python"
    }
  },
  "cells": [
    {
      "cell_type": "markdown",
      "metadata": {
        "id": "view-in-github",
        "colab_type": "text"
      },
      "source": [
        "<a href=\"https://colab.research.google.com/github/anuragsaraf1912/neetcode150/blob/main/Backtrack.ipynb\" target=\"_parent\"><img src=\"https://colab.research.google.com/assets/colab-badge.svg\" alt=\"Open In Colab\"/></a>"
      ]
    },
    {
      "cell_type": "markdown",
      "source": [
        "[P1: Subsets ](https://neetcode.io/problems/subsets)"
      ],
      "metadata": {
        "id": "b9RJT6JoMhxO"
      }
    },
    {
      "cell_type": "code",
      "source": [
        "class Solution:\n",
        "\n",
        "    # Time complexity: O(2^n)\n",
        "    # Space Complexity: O(n)\n",
        "\n",
        "    # At each index, we either skip the element or add it to the current sequence.\n",
        "\n",
        "    def subsets(self, nums: List[int]) -> List[List[int]]:\n",
        "\n",
        "        results, n = [], len(nums)\n",
        "        currSeq = []\n",
        "        def backTrack(depth=0):\n",
        "            if depth == n:\n",
        "                results.append(currSeq[:])\n",
        "                return\n",
        "\n",
        "            # The element at index depth is skipped\n",
        "            backTrack(depth+1)\n",
        "\n",
        "            # The element is added\n",
        "            currSeq.append(nums[depth])\n",
        "            backTrack(depth+1)\n",
        "            #Remove the element once the depth till end is reached\n",
        "            currSeq.pop()\n",
        "\n",
        "        backTrack()\n",
        "        return results"
      ],
      "metadata": {
        "id": "unzueRTcMnfT"
      },
      "execution_count": null,
      "outputs": []
    },
    {
      "cell_type": "markdown",
      "source": [],
      "metadata": {
        "id": "D9EMHOs3Mntq"
      }
    },
    {
      "cell_type": "code",
      "source": [],
      "metadata": {
        "id": "DZqHjgXAMn3Q"
      },
      "execution_count": null,
      "outputs": []
    },
    {
      "cell_type": "markdown",
      "source": [],
      "metadata": {
        "id": "TNACLJLDMoAe"
      }
    },
    {
      "cell_type": "code",
      "source": [],
      "metadata": {
        "id": "lRqnSmYJMoJe"
      },
      "execution_count": null,
      "outputs": []
    },
    {
      "cell_type": "markdown",
      "source": [],
      "metadata": {
        "id": "bRHMZs7tMoQw"
      }
    },
    {
      "cell_type": "code",
      "source": [],
      "metadata": {
        "id": "dMZw-i7OMoXg"
      },
      "execution_count": null,
      "outputs": []
    },
    {
      "cell_type": "markdown",
      "source": [],
      "metadata": {
        "id": "5XmhPJO-MofO"
      }
    },
    {
      "cell_type": "code",
      "source": [],
      "metadata": {
        "id": "LHOJqUzMMop6"
      },
      "execution_count": null,
      "outputs": []
    },
    {
      "cell_type": "markdown",
      "source": [],
      "metadata": {
        "id": "bKLUMIDRMtkE"
      }
    },
    {
      "cell_type": "code",
      "source": [],
      "metadata": {
        "id": "-YA3UnF0Mt8Z"
      },
      "execution_count": null,
      "outputs": []
    },
    {
      "cell_type": "markdown",
      "source": [],
      "metadata": {
        "id": "e116ReJTMuHI"
      }
    },
    {
      "cell_type": "code",
      "source": [],
      "metadata": {
        "id": "ljlgCgcAMum6"
      },
      "execution_count": null,
      "outputs": []
    },
    {
      "cell_type": "markdown",
      "source": [],
      "metadata": {
        "id": "m7owCy47Mu_W"
      }
    },
    {
      "cell_type": "code",
      "source": [],
      "metadata": {
        "id": "-edieNXHMvtk"
      },
      "execution_count": null,
      "outputs": []
    },
    {
      "cell_type": "markdown",
      "source": [],
      "metadata": {
        "id": "Mad8y2aKMv_4"
      }
    },
    {
      "cell_type": "code",
      "source": [],
      "metadata": {
        "id": "WKAzgbIQMw8A"
      },
      "execution_count": null,
      "outputs": []
    }
  ]
}
