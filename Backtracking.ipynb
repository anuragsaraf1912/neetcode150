{
  "nbformat": 4,
  "nbformat_minor": 0,
  "metadata": {
    "colab": {
      "provenance": [],
      "authorship_tag": "ABX9TyOoA/hbGiM7692uAd1z3b3P",
      "include_colab_link": true
    },
    "kernelspec": {
      "name": "python3",
      "display_name": "Python 3"
    },
    "language_info": {
      "name": "python"
    }
  },
  "cells": [
    {
      "cell_type": "markdown",
      "metadata": {
        "id": "view-in-github",
        "colab_type": "text"
      },
      "source": [
        "<a href=\"https://colab.research.google.com/github/anuragsaraf1912/neetcode150/blob/main/Backtracking.ipynb\" target=\"_parent\"><img src=\"https://colab.research.google.com/assets/colab-badge.svg\" alt=\"Open In Colab\"/></a>"
      ]
    },
    {
      "cell_type": "markdown",
      "source": [
        "[P1: Subsets ](https://neetcode.io/problems/subsets)"
      ],
      "metadata": {
        "id": "b9RJT6JoMhxO"
      }
    },
    {
      "cell_type": "code",
      "source": [
        "class Solution:\n",
        "    \"\"\"\n",
        "    Time complexity: O(n*2^n) - n for appending it to results list for each of 2^n possible combinations\n",
        "    Space Complexity: O(n)\n",
        "    Approach: At each index, we either skip the element or add it to the current sequence.\n",
        "    \"\"\"\n",
        "    def subsets(self, nums: List[int]) -> List[List[int]]:\n",
        "\n",
        "        results, n = [], len(nums)\n",
        "        currSeq = []\n",
        "        def backTrack(depth=0):\n",
        "            if depth == n:\n",
        "                results.append(currSeq[:])\n",
        "                return\n",
        "\n",
        "            # The element at index depth is skipped\n",
        "            backTrack(depth+1)\n",
        "\n",
        "            # The element is added\n",
        "            currSeq.append(nums[depth])\n",
        "            backTrack(depth+1)\n",
        "            #Remove the element once the depth till end is reached\n",
        "            currSeq.pop()\n",
        "\n",
        "        backTrack()\n",
        "        return results"
      ],
      "metadata": {
        "id": "unzueRTcMnfT"
      },
      "execution_count": null,
      "outputs": []
    },
    {
      "cell_type": "markdown",
      "source": [
        "[P2: Combination Sum](https://neetcode.io/problems/combination-target-sum)"
      ],
      "metadata": {
        "id": "D9EMHOs3Mntq"
      }
    },
    {
      "cell_type": "code",
      "source": [
        "class Solution:\n",
        "    def combinationSum(self, nums: List[int], target: int) -> List[List[int]]:\n",
        "        \"\"\"\n",
        "        # Space Complexity: O(N) - excluding the result array, the max stack length.\n",
        "        # Time Complexity: O(N*2^(T/m)) - T is the target value and m is the minimum value of nums (Maximum possible leaf nodes in the recursion tree)\n",
        "        # Approach: At each index, perform two cases: (a) The item is skipped, (b) The item is added to the currSeq, and remain at the same index\n",
        "        # The second case ensures that each time the element is selected, it is a new sequence as the frequency of the element selected would be different\n",
        "        # Each element can be added multiple number of time, it would ensure that this condition is fulfilled.\n",
        "        \"\"\"\n",
        "        result, currSeq = [], []\n",
        "\n",
        "        def backTrack(i=0, sumReq=target):\n",
        "\n",
        "            # Base cases\n",
        "            if i >= len(nums) or sumReq <= 0:\n",
        "                if not sumReq: result.append(currSeq[:])\n",
        "                return\n",
        "\n",
        "            # Case 1: Skip current element\n",
        "            backTrack(i+1, sumReq)\n",
        "\n",
        "            # Case 2: Add current element and remain at the same index\n",
        "            currSeq.append(nums[i])\n",
        "            backTrack(i, sumReq - nums[i])\n",
        "            currSeq.pop()\n",
        "\n",
        "        backTrack()\n",
        "        return result"
      ],
      "metadata": {
        "id": "DZqHjgXAMn3Q"
      },
      "execution_count": null,
      "outputs": []
    },
    {
      "cell_type": "markdown",
      "source": [
        "[P3: Combination Sum 2](https://neetcode.io/problems/combination-target-sum-ii)"
      ],
      "metadata": {
        "id": "TNACLJLDMoAe"
      }
    },
    {
      "cell_type": "code",
      "source": [
        "class Solution:\n",
        "    def combinationSum2(self, candidates: List[int], target: int) -> List[List[int]]:\n",
        "      \"\"\"\n",
        "        Time complexity: O(N*2^(T/m)) - N for appending it to results and 2^(T/m) possible leaves are there.\n",
        "        Space Complexity: O(n) - In addition to the space required to store the result array.\n",
        "        Approach: Use backTrack and for each element we do two things:\n",
        "                  1. Take the element and remove the same from target.\n",
        "                  2. Skip the element altogether. This means that all the future appearance of the element should be skipped.\n",
        "                  3. Second step is confirmed using sorting the array first, and then skipping until a ne element is seen.\n",
        "      \"\"\"\n",
        "\n",
        "        result, currSeq = [], []\n",
        "        candidates.sort()\n",
        "\n",
        "        def backTrack(index=0, summation=target):\n",
        "            # Base Case\n",
        "            if summation <= 0 or index >= len(candidates):\n",
        "                if not summation: result.append(currSeq[:])\n",
        "                return\n",
        "\n",
        "            # Adding current element\n",
        "            currSeq.append(candidates[index])\n",
        "            backTrack(index + 1, summation - candidates[index])\n",
        "            currSeq.pop()\n",
        "\n",
        "            # Getting next value and skipping the current element altogether\n",
        "            while index + 1 < len(candidates) and candidates[index] == candidates[index + 1]:\n",
        "                index += 1\n",
        "\n",
        "            # Skipping this element and going to next element\n",
        "            backTrack(index + 1, summation)\n",
        "\n",
        "\n",
        "        backTrack()\n",
        "        return result\n"
      ],
      "metadata": {
        "id": "lRqnSmYJMoJe"
      },
      "execution_count": null,
      "outputs": []
    },
    {
      "cell_type": "markdown",
      "source": [
        "[P4: Permutations](https://neetcode.io/problems/permutations)"
      ],
      "metadata": {
        "id": "bRHMZs7tMoQw"
      }
    },
    {
      "cell_type": "code",
      "source": [
        "class Solution:\n",
        "    \"\"\"\n",
        "    Time complexity: O(n*n!) - n! calls and n time to create an array and store it in the result for each call\n",
        "    Space Complexity: O(n*n!) - Including the output array\n",
        "\n",
        "    Approach: Use backtracking to build all possible permutations by recursively adding unused elements to the current sequence.\n",
        "              A track set is used to avoid reusing elements, and once a full permutation is built, it is added to the result list.\n",
        "    \"\"\"\n",
        "    def permute(self, nums: List[int]) -> List[List[int]]:\n",
        "\n",
        "        currSeq, result = [], []\n",
        "        track = set()\n",
        "        def bt(i=0):\n",
        "            #Base case:\n",
        "            if i == len(nums):\n",
        "                result.append(currSeq[:])\n",
        "                return\n",
        "\n",
        "            # Run across all elements\n",
        "            for elem in nums:\n",
        "                # If not visited already\n",
        "                if elem not in track:\n",
        "                    currSeq.append(elem)\n",
        "                    track.add(elem)\n",
        "                    bt(i+1)\n",
        "                    currSeq.pop()\n",
        "                    track.remove(elem)\n",
        "        bt()\n",
        "        return result\n"
      ],
      "metadata": {
        "id": "dMZw-i7OMoXg"
      },
      "execution_count": null,
      "outputs": []
    },
    {
      "cell_type": "markdown",
      "source": [
        "[P5: Subsets 2](https://neetcode.io/problems/subsets-ii)"
      ],
      "metadata": {
        "id": "5XmhPJO-MofO"
      }
    },
    {
      "cell_type": "code",
      "source": [
        "class Solution:\n",
        "    \"\"\"\n",
        "    Time complexity: O(n*n!) - n! calls and n time to create an array and store it in the result for each call\n",
        "    Space Complexity: O(n*n!) - Including the output array\n",
        "    Approach: Use backtracking to build all possible permutations by recursively adding unused elements to the current sequence.\n",
        "              A track set is used to avoid reusing elements, and once a full permutation is built, it is added to the result list.\n",
        "    \"\"\"\n",
        "    def subsetsWithDup(self, nums: List[int]) -> List[List[int]]:\n",
        "\n",
        "\n",
        "        nums.sort()\n",
        "        curr, results = [], []\n",
        "\n",
        "        def backTrack(index=0):\n",
        "            if index == len(nums):\n",
        "                results.append(curr[:])\n",
        "                return\n",
        "\n",
        "            # Add the current element\n",
        "            curr.append(nums[index])\n",
        "            backTrack(index + 1)\n",
        "            curr.pop()\n",
        "\n",
        "            # Skip this element\n",
        "            while index+1 < len(nums) and nums[index+1] == nums[index]:\n",
        "                index += 1\n",
        "\n",
        "            backTrack(index+1)\n",
        "\n",
        "        backTrack()\n",
        "\n",
        "        return results"
      ],
      "metadata": {
        "id": "LHOJqUzMMop6"
      },
      "execution_count": null,
      "outputs": []
    },
    {
      "cell_type": "markdown",
      "source": [
        "[P6: Word Search](https://neetcode.io/problems/search-for-word)"
      ],
      "metadata": {
        "id": "bKLUMIDRMtkE"
      }
    },
    {
      "cell_type": "code",
      "source": [
        "class Solution:\n",
        "    \"\"\"\n",
        "    Time complexity: O(r*c*(4^w)) - For each element, we search in all four dimensions.\n",
        "    Space Complexity: O(w) - The need for a set to track visited elements can be eliminated using the modification of the visited element.\n",
        "    Approach: At each element of the board, start with the backTrack function.\n",
        "              The function takes index and position as input.\n",
        "              If the alphabet at the position matches with the word at index, the function goes deep in the word.\n",
        "    \"\"\"\n",
        "\n",
        "    def exist(self, board: List[List[str]], word: str) -> bool:\n",
        "        rows, cols = len(board), len(board[0])\n",
        "        # Remember that the sets and lists are mutable, thus can be shared by reference\n",
        "        def helper(r,c, index = 0):\n",
        "            # This function checks if the word can be formed using the nearby elements\n",
        "            if index == len(word): return True\n",
        "\n",
        "            if r < 0 or c < 0 \\\n",
        "            or r >= rows or c >= cols \\\n",
        "            or word[index]!= board[r][c]:\n",
        "                return False\n",
        "\n",
        "            temp = board[r][c]\n",
        "            board[r][c] = '#'\n",
        "            toReturn = helper(r+1,c,index+1) or helper(r-1,c,index+1) \\\n",
        "            or helper(r,c+1,index+1) or helper(r,c-1,index+1)\n",
        "            board[r][c] = temp\n",
        "            return toReturn\n",
        "\n",
        "        found = False\n",
        "        for r in range(rows):\n",
        "            for c in range(cols):\n",
        "                found = helper(r,c)\n",
        "                print(found, board[r][c])\n",
        "                if found: return True\n",
        "\n",
        "        return False\n"
      ],
      "metadata": {
        "id": "-YA3UnF0Mt8Z"
      },
      "execution_count": null,
      "outputs": []
    },
    {
      "cell_type": "markdown",
      "source": [
        "[P7: Palindrome Partition](https://neetcode.io/problems/palindrome-partitioning)"
      ],
      "metadata": {
        "id": "e116ReJTMuHI"
      }
    },
    {
      "cell_type": "code",
      "source": [
        "\"\"\"\n",
        "Time complexity: O(n*2^n) - In the worst case scenario, there are 2^n nodes of recursion tree (power set). n is for adding it to the result list\n",
        "Space Complexity: O(n) - This is excluding the list to store the result file.\n",
        "Approach: We iterate from the current index to the end, and whenever we find a palindromic substring,\n",
        "          we add it to the current sequence and recurse further.\n",
        "          Once the end of the string is reached, the current valid partition is added to the result.\n",
        "\"\"\"\n",
        "class Solution:\n",
        "    def partition(self, s: str) -> List[List[str]]:\n",
        "        result, currSeq = [], []\n",
        "\n",
        "        def backTrack(index=0):\n",
        "            if index == len(s): result.append(currSeq[:])\n",
        "            for end in range(index, len(s)):\n",
        "                if s[index: end+1] == s[index:end+1][::-1]:\n",
        "                    currSeq.append(s[index:end+1])\n",
        "                    backTrack(end+1)\n",
        "                    currSeq.pop()\n",
        "\n",
        "        backTrack()\n",
        "        return result\n"
      ],
      "metadata": {
        "id": "ljlgCgcAMum6"
      },
      "execution_count": null,
      "outputs": []
    },
    {
      "cell_type": "markdown",
      "source": [
        "[P8: Letter Combination of a Phone Number](https://neetcode.io/problems/combinations-of-a-phone-number)"
      ],
      "metadata": {
        "id": "m7owCy47Mu_W"
      }
    },
    {
      "cell_type": "code",
      "source": [
        "\"\"\"\n",
        "Time complexity: O(n*4^n) - In the worst case scenario, there are 4^n nodes of recursion tree. n is for adding it to the result list\n",
        "Space Complexity: O(4^n) - This is excluding the list to store the result file.\n",
        "Approach: For each digit, we append every possible corresponding letter to each existing combination in result using the cross product.\n",
        "          If the input is empty, it returns an empty list.\n",
        "\"\"\"\n",
        "\n",
        "class Solution:\n",
        "    def letterCombinations(self, digits: str) -> List[str]:\n",
        "        groups = ['abc', 'def', 'ghi', 'jkl', 'mno', 'pqrs','tuv','wxyz']\n",
        "        mapping = {k:grp for k,grp in zip(range(2,10), groups)}\n",
        "        result = ['']\n",
        "        for d in digits:\n",
        "            group = mapping[int(d)]\n",
        "            result = [a+b for a in result for b in group]\n",
        "\n",
        "        return result if digits else []"
      ],
      "metadata": {
        "id": "-edieNXHMvtk"
      },
      "execution_count": null,
      "outputs": []
    },
    {
      "cell_type": "markdown",
      "source": [
        "[P9: N Queens](https://neetcode.io/problems/n-queens)"
      ],
      "metadata": {
        "id": "Mad8y2aKMv_4"
      }
    },
    {
      "cell_type": "code",
      "source": [
        "class Solution:\n",
        "    def solveNQueens(self, n: int) -> List[List[str]]:\n",
        "        result, currSeq = [], []\n",
        "        colTrack, diagTrack1, diagTrack2 = set(), set(), set()\n",
        "        def backTrack(i=0):\n",
        "            if i == n: result.append(currSeq[:])\n",
        "            for j in range(n):\n",
        "                if j in colTrack or i - j in diagTrack1 or i+j in diagTrack2 : continue\n",
        "                colTrack.add(j)\n",
        "                diagTrack1.add(i - j)\n",
        "                diagTrack2.add(i+j)\n",
        "                currSeq.append(j)\n",
        "                backTrack(i+1)\n",
        "                currSeq.pop()\n",
        "                colTrack.remove(j)\n",
        "                diagTrack1.remove(i - j)\n",
        "                diagTrack2.remove(i+j)\n",
        "        backTrack()\n",
        "\n",
        "        def make(elem):\n",
        "            result = []\n",
        "            for y in elem:\n",
        "                row = ['.' if j != y else 'Q' for j in range(n) ]\n",
        "                r = ''.join(row)\n",
        "                result.append(r)\n",
        "            return result\n",
        "\n",
        "\n",
        "        return [make(elem) for elem in result]"
      ],
      "metadata": {
        "id": "WKAzgbIQMw8A"
      },
      "execution_count": null,
      "outputs": []
    }
  ]
}