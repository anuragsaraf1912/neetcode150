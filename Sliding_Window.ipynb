{
  "nbformat": 4,
  "nbformat_minor": 0,
  "metadata": {
    "colab": {
      "provenance": [],
      "authorship_tag": "ABX9TyMXODo42jMWZLr0Lc+0ZHyT",
      "include_colab_link": true
    },
    "kernelspec": {
      "name": "python3",
      "display_name": "Python 3"
    },
    "language_info": {
      "name": "python"
    }
  },
  "cells": [
    {
      "cell_type": "markdown",
      "metadata": {
        "id": "view-in-github",
        "colab_type": "text"
      },
      "source": [
        "<a href=\"https://colab.research.google.com/github/anuragsaraf1912/neetcode150/blob/main/Sliding_Window.ipynb\" target=\"_parent\"><img src=\"https://colab.research.google.com/assets/colab-badge.svg\" alt=\"Open In Colab\"/></a>"
      ]
    },
    {
      "cell_type": "markdown",
      "source": [
        "[P1: Best time to Buy and Sell Stocks](https://neetcode.io/problems/buy-and-sell-crypto)"
      ],
      "metadata": {
        "id": "yWiNy0MsSRu5"
      }
    },
    {
      "cell_type": "code",
      "execution_count": null,
      "metadata": {
        "id": "40OzQqrvSObr"
      },
      "outputs": [],
      "source": [
        "class Solution:\n",
        "    def maxProfit(self, prices: List[int]) -> int:\n",
        "        maxP = 0\n",
        "        minTillNow = prices[0]\n",
        "        for elem in prices:\n",
        "            minTillNow = min(elem, minTillNow)\n",
        "            maxP = max(maxP, elem - minTillNow)\n",
        "        return maxP\n"
      ]
    },
    {
      "cell_type": "markdown",
      "source": [
        "[P2: Longest Substring without Repeating characters](https://neetcode.io/problems/longest-substring-without-duplicates)"
      ],
      "metadata": {
        "id": "BUK3XGWASQ7t"
      }
    },
    {
      "cell_type": "code",
      "source": [
        "class Solution:\n",
        "    def lengthOfLongestSubstring(self, s: str) -> int:\n",
        "        start, end = 0, 0\n",
        "        subStringMap = set()\n",
        "        maxLen = 0\n",
        "        while end < len(s):\n",
        "            curr = s[end]\n",
        "            if curr in subStringMap:\n",
        "                while start < end and curr in subStringMap:\n",
        "                    subStringMap.remove(s[start])\n",
        "                    start += 1\n",
        "            subStringMap.add(curr)\n",
        "            end += 1\n",
        "            maxLen = max(maxLen, end - start)\n",
        "\n",
        "        return maxLen"
      ],
      "metadata": {
        "id": "Jrx_PTU0SWjF"
      },
      "execution_count": null,
      "outputs": []
    },
    {
      "cell_type": "markdown",
      "source": [],
      "metadata": {
        "id": "DB9yXVYqSY1C"
      }
    },
    {
      "cell_type": "code",
      "source": [],
      "metadata": {
        "id": "Y5joKsgDSWZb"
      },
      "execution_count": null,
      "outputs": []
    },
    {
      "cell_type": "markdown",
      "source": [
        "[P4: Permutation in String](https://neetcode.io/problems/permutation-string)"
      ],
      "metadata": {
        "id": "1wfytMvaSaOO"
      }
    },
    {
      "cell_type": "code",
      "source": [
        "class Solution:\n",
        "    def checkInclusion(self, s1: str, s2: str) -> bool:\n",
        "        from collections import Counter\n",
        "        mappedDict = Counter(s1)\n",
        "        width = len(s1)\n",
        "        start, end = 0, 0\n",
        "        currDict = {}\n",
        "\n",
        "        while end < len(s2):\n",
        "\n",
        "            left, right = s2[start], s2[end]\n",
        "            #Remove element only when the window is greater than width\n",
        "            if width <= end:\n",
        "                start += 1\n",
        "                #Removing the element\n",
        "                currDict[left] -= 1\n",
        "                if not currDict[left]:\n",
        "                    currDict.pop(left, None)\n",
        "\n",
        "\n",
        "            if right in currDict: currDict[right] += 1\n",
        "            else: currDict[right] = 1\n",
        "\n",
        "            if currDict == mappedDict: return True\n",
        "            end += 1\n",
        "\n",
        "\n",
        "        return False\n"
      ],
      "metadata": {
        "id": "lwRwVAxRSWMS"
      },
      "execution_count": null,
      "outputs": []
    },
    {
      "cell_type": "markdown",
      "source": [],
      "metadata": {
        "id": "aUrLk-doSbL-"
      }
    },
    {
      "cell_type": "code",
      "source": [],
      "metadata": {
        "id": "u70hm4J9SV-F"
      },
      "execution_count": null,
      "outputs": []
    },
    {
      "cell_type": "markdown",
      "source": [],
      "metadata": {
        "id": "DH-WhSF4Schl"
      }
    },
    {
      "cell_type": "code",
      "source": [],
      "metadata": {
        "id": "4Bn8z6l3SVlz"
      },
      "execution_count": null,
      "outputs": []
    }
  ]
}