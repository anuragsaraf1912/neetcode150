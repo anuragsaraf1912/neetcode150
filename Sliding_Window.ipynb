{
  "nbformat": 4,
  "nbformat_minor": 0,
  "metadata": {
    "colab": {
      "provenance": [],
      "authorship_tag": "ABX9TyMCuRZGfAAOEajNCB6I8sNa",
      "include_colab_link": true
    },
    "kernelspec": {
      "name": "python3",
      "display_name": "Python 3"
    },
    "language_info": {
      "name": "python"
    }
  },
  "cells": [
    {
      "cell_type": "markdown",
      "metadata": {
        "id": "view-in-github",
        "colab_type": "text"
      },
      "source": [
        "<a href=\"https://colab.research.google.com/github/anuragsaraf1912/neetcode150/blob/main/Sliding_Window.ipynb\" target=\"_parent\"><img src=\"https://colab.research.google.com/assets/colab-badge.svg\" alt=\"Open In Colab\"/></a>"
      ]
    },
    {
      "cell_type": "markdown",
      "source": [
        "[P1: Best time to Buy and Sell Stocks](https://neetcode.io/problems/buy-and-sell-crypto)"
      ],
      "metadata": {
        "id": "yWiNy0MsSRu5"
      }
    },
    {
      "cell_type": "code",
      "execution_count": null,
      "metadata": {
        "id": "40OzQqrvSObr"
      },
      "outputs": [],
      "source": [
        "class Solution:\n",
        "    def maxProfit(self, prices: List[int]) -> int:\n",
        "      # Space Complexity: O(1)\n",
        "      # Time Complexity: O(n)\n",
        "      # Keep a track of running min. The profit at any index is price - minPrice. Find the max value of this profit.\n",
        "\n",
        "\n",
        "        maxP = 0\n",
        "        minTillNow = prices[0]\n",
        "        for elem in prices:\n",
        "            minTillNow = min(elem, minTillNow)\n",
        "            maxP = max(maxP, elem - minTillNow)\n",
        "        return maxP\n"
      ]
    },
    {
      "cell_type": "markdown",
      "source": [
        "[P2: Longest Substring without Repeating characters](https://neetcode.io/problems/longest-substring-without-duplicates)"
      ],
      "metadata": {
        "id": "BUK3XGWASQ7t"
      }
    },
    {
      "cell_type": "code",
      "source": [
        "class Solution:\n",
        "    def lengthOfLongestSubstring(self, s: str) -> int:\n",
        "\n",
        "        # Space Complexity: O(n) Saving the unique elements in a set\n",
        "        # Time Complexity: O(n) Iterating over the string (max two times)\n",
        "        # Expand the window to right if the new element is not seen else contract from left side until the seen element is removed.\n",
        "        # Keep a track of the maximum length seen till the point.\n",
        "\n",
        "        start, end = 0, 0\n",
        "        subStringMap = set()\n",
        "        maxLen = 0\n",
        "        while end < len(s):\n",
        "            curr = s[end]\n",
        "            if curr in subStringMap:\n",
        "                while start < end and curr in subStringMap:\n",
        "                    subStringMap.remove(s[start])\n",
        "                    start += 1\n",
        "            subStringMap.add(curr)\n",
        "            end += 1\n",
        "            maxLen = max(maxLen, end - start)\n",
        "\n",
        "        return maxLen"
      ],
      "metadata": {
        "id": "Jrx_PTU0SWjF"
      },
      "execution_count": null,
      "outputs": []
    },
    {
      "cell_type": "markdown",
      "source": [
        "[P3: Longest Repeating Substring with Replacement](https://neetcode.io/problems/longest-repeating-substring-with-replacement)"
      ],
      "metadata": {
        "id": "DB9yXVYqSY1C"
      }
    },
    {
      "cell_type": "code",
      "source": [
        "class Solution:\n",
        "    def characterReplacement(self, s: str, k: int) -> int:\n",
        "\n",
        "        # Space Complexity: O(n)\n",
        "        # Time Complexity: O(n*m) (m is the length of the unique characters or 26)\n",
        "        # Expand the window to right if the condition is met else contract from left side to meet the condition.\n",
        "        # Condition: Sum of elements in window - maxF <= k.\n",
        "        # Keep a track of the maximum length of window seen till the point.\n",
        "\n",
        "        start, end = 0,0\n",
        "        mapping = [0]*26\n",
        "        maxLen = 0\n",
        "        while end < len(s):\n",
        "            # Expand the window\n",
        "            indexE = ord(s[end]) - ord('A')\n",
        "            mapping[indexE] += 1\n",
        "            end += 1\n",
        "\n",
        "            # Contract from the left side if the condition not met\n",
        "            if (end - start)  - max(mapping) > k:\n",
        "                indexS = ord(s[start]) - ord('A')\n",
        "                mapping[indexS] -= 1\n",
        "                start += 1\n",
        "            maxLen = max(maxLen, end - start)\n",
        "\n",
        "        return maxLen\n"
      ],
      "metadata": {
        "id": "Y5joKsgDSWZb"
      },
      "execution_count": null,
      "outputs": []
    },
    {
      "cell_type": "markdown",
      "source": [
        "[P4: Permutation in String](https://neetcode.io/problems/permutation-string)"
      ],
      "metadata": {
        "id": "1wfytMvaSaOO"
      }
    },
    {
      "cell_type": "code",
      "source": [
        "class Solution:\n",
        "    def checkInclusion(self, s1: str, s2: str) -> bool:\n",
        "\n",
        "        # Space Complexity: O(m)\n",
        "        # Time Complexity: O(n*m) (m is the length of the unique characters or 26)\n",
        "        # Keep a track of the frequency of elements in the sliding window. Match it with the counter dictionary of the string1\n",
        "        # Keep expanding from right until the width is same as string 1. Once done, increase from right and decrease from left.\n",
        "\n",
        "\n",
        "        from collections import Counter\n",
        "        mappedDict = Counter(s1)\n",
        "        width = len(s1)\n",
        "        start, end = 0, 0\n",
        "        currDict = {}\n",
        "\n",
        "        while end < len(s2):\n",
        "\n",
        "            left, right = s2[start], s2[end]\n",
        "            #Remove element only when the window is greater than width\n",
        "            if width <= end:\n",
        "                start += 1\n",
        "                #Removing the element\n",
        "                currDict[left] -= 1\n",
        "                if not currDict[left]:\n",
        "                    currDict.pop(left, None)\n",
        "\n",
        "\n",
        "            if right in currDict: currDict[right] += 1\n",
        "            else: currDict[right] = 1\n",
        "\n",
        "            if currDict == mappedDict: return True\n",
        "            end += 1\n",
        "\n",
        "\n",
        "        return False\n"
      ],
      "metadata": {
        "id": "lwRwVAxRSWMS"
      },
      "execution_count": null,
      "outputs": []
    },
    {
      "cell_type": "code",
      "source": [
        "class Solution:\n",
        "\n",
        "        # Space Complexity: O(m) (m is the length of the unique characters or 26)\n",
        "        # Time Complexity: O(n)\n",
        "        # Keep a track for the count of matching characters at the start and keep track of the individual frequency.\n",
        "        # Notice that extending or contracting a window can have one of the three effects on the matches:\n",
        "        #   Case 1: Increase when the s1Count and s2Count are same.\n",
        "        #   Case 2: Decrease when the s2Count and s2Count were same earlier.\n",
        "        #   Case 3: The change doesn't bring any difference in match\n",
        "        # This approach avoids checking the frequency of all elements in each iteration, and thus saving that time.\n",
        "\n",
        "\n",
        "    def checkInclusion(self, s1: str, s2: str) -> bool:\n",
        "        if len(s1) > len(s2): return False\n",
        "        s1Count, s2Count = [0]*26, [0]*26\n",
        "        for i in range(len(s1)):\n",
        "            s1Count[(ord(s1[i]) - ord('a'))] += 1\n",
        "            s2Count[(ord(s2[i]) - ord('a'))] += 1\n",
        "\n",
        "        matches = 0\n",
        "        for char in range(26):\n",
        "            matches += 1 if s1Count[char] == s2Count[char] else 0\n",
        "\n",
        "        start = 0\n",
        "        for end in range(len(s1), len(s2)):\n",
        "            if matches == 26: return True\n",
        "            left, right = s2[start], s2[end]\n",
        "            start += 1\n",
        "            if left == right: continue\n",
        "            leftInd, rightInd = ord(left) - ord('a'), ord(right) - ord('a')\n",
        "\n",
        "            # Effect of removing leftSide on the matches\n",
        "            s2Count[leftInd] -= 1\n",
        "            # Now matching\n",
        "            if s1Count[leftInd] == s2Count[leftInd]:\n",
        "                matches += 1\n",
        "            # Matching before\n",
        "            elif s1Count[leftInd] == s2Count[leftInd] + 1:\n",
        "                matches -= 1\n",
        "\n",
        "            # Effect of adding rightSide on the matches\n",
        "            s2Count[rightInd] += 1\n",
        "            # Matching now\n",
        "            if s1Count[rightInd] == s2Count[rightInd]:\n",
        "                matches += 1\n",
        "            # Matching before\n",
        "            elif s1Count[rightInd] == s2Count[rightInd] - 1:\n",
        "                matches -= 1\n",
        "\n",
        "        return matches == 26\n",
        "\n",
        "\n",
        "\n"
      ],
      "metadata": {
        "id": "WCLEzeAhaGHN"
      },
      "execution_count": null,
      "outputs": []
    },
    {
      "cell_type": "markdown",
      "source": [
        "[P5: Minimum Window Substring](https://neetcode.io/problems/minimum-window-with-characters)"
      ],
      "metadata": {
        "id": "aUrLk-doSbL-"
      }
    },
    {
      "cell_type": "code",
      "source": [
        "class Solution:\n",
        "    def minWindow(self, s: str, t: str) -> str:\n",
        "\n",
        "        # Space Complexity: O(m) (m is the length of the unique characters or 26)\n",
        "        # Time Complexity: O(n*m)\n",
        "        # Keep Expanding until all conditions are met\n",
        "        # Once all conditiions are met, contract to get the min one\n",
        "        # Function to check that the latest counterDict satisfy for all elements in string t\n",
        "\n",
        "\n",
        "        def checkCriterion(cmS, cmT):\n",
        "            for key in cmT:\n",
        "                if cmT[key] > cmS[key]:\n",
        "                    return False\n",
        "            return True\n",
        "\n",
        "        # Initialize the basic variables\n",
        "        countMapT = Counter(t)\n",
        "        countMapS = defaultdict(int)\n",
        "        start, minLen = 0, float('inf')\n",
        "        result = [0, len(s)]\n",
        "        found = False\n",
        "\n",
        "        # For edge cases\n",
        "        if len(s) < len(t): return ''\n",
        "        elif len(s) == len(t): return s if sorted(s)== sorted(t) else ''\n",
        "\n",
        "\n",
        "        for end in range(len(s)):\n",
        "            # Expanding the Window\n",
        "            countMapS[s[end]] += 1\n",
        "\n",
        "            # Contract the window in case all the strings are included\n",
        "            while start <= end and checkCriterion(countMapS, countMapT):\n",
        "                if minLen  >  end - start + 1:\n",
        "                    minLen = end - start + 1\n",
        "                    result = [start, end]\n",
        "                countMapS[s[start]] -= 1\n",
        "                start += 1\n",
        "                found = True\n",
        "\n",
        "        return s[result[0]:result[1]+1] if found else ''"
      ],
      "metadata": {
        "id": "u70hm4J9SV-F"
      },
      "execution_count": null,
      "outputs": []
    },
    {
      "cell_type": "markdown",
      "source": [
        "[P6: Sliding Window Maximum](https://neetcode.io/problems/sliding-window-maximum)"
      ],
      "metadata": {
        "id": "DH-WhSF4Schl"
      }
    },
    {
      "cell_type": "code",
      "source": [
        "class Solution:\n",
        "    def maxSlidingWindow(self, nums: List[int], k: int) -> List[int]:\n",
        "\n",
        "        # Space Complexity: O(1) (Not counting the result array)\n",
        "        # Time Complexity: O(n*k)\n",
        "        # Brute Force Approach: For each subarray, find the maximum element\n",
        "\n",
        "        results, n = [], len(nums)\n",
        "        for i in range(n - k + 1):\n",
        "            maxWin = max(nums[i:i+k])\n",
        "            results.append(maxWin)\n",
        "\n",
        "        return results\n"
      ],
      "metadata": {
        "id": "4Bn8z6l3SVlz"
      },
      "execution_count": null,
      "outputs": []
    },
    {
      "cell_type": "code",
      "source": [
        "class Solution:\n",
        "    import heapq\n",
        "    def maxSlidingWindow(self, nums: List[int], k: int) -> List[int]:\n",
        "\n",
        "        # Space Complexity: O(n)\n",
        "        # Time Complexity: O(n*logn)\n",
        "        # Using Heaps: Keep storing the elements in a Max heap along with their index.\n",
        "        # If the max elem index is out of bounds for a current range, pop the Heap.\n",
        "        # This approach is better if the value of logn < k. Else the brute force is better.\n",
        "\n",
        "\n",
        "        results, currHeap = [], []\n",
        "        for i in range(k-1):\n",
        "            currHeap.append((-nums[i],i))\n",
        "        heapq.heapify(currHeap)\n",
        "\n",
        "        for j in range(k, 1 + len(nums)):\n",
        "            # Add the current element\n",
        "            heapq.heappush(currHeap, (-nums[j-1],j-1))\n",
        "            # Keep removing untill the value lies with the window\n",
        "            while currHeap and currHeap[0][1] < j-k:\n",
        "                heapq.heappop(currHeap)\n",
        "            # Add the max element to the results\n",
        "            results.append(-currHeap[0][0])\n",
        "\n",
        "        return results"
      ],
      "metadata": {
        "id": "ZmBd8Fif5bpa"
      },
      "execution_count": null,
      "outputs": []
    }
  ]
}