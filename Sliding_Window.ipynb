{
  "nbformat": 4,
  "nbformat_minor": 0,
  "metadata": {
    "colab": {
      "provenance": [],
      "authorship_tag": "ABX9TyMu2sGA/awB4WGdI8N7aFiK",
      "include_colab_link": true
    },
    "kernelspec": {
      "name": "python3",
      "display_name": "Python 3"
    },
    "language_info": {
      "name": "python"
    }
  },
  "cells": [
    {
      "cell_type": "markdown",
      "metadata": {
        "id": "view-in-github",
        "colab_type": "text"
      },
      "source": [
        "<a href=\"https://colab.research.google.com/github/anuragsaraf1912/neetcode150/blob/main/Sliding_Window.ipynb\" target=\"_parent\"><img src=\"https://colab.research.google.com/assets/colab-badge.svg\" alt=\"Open In Colab\"/></a>"
      ]
    },
    {
      "cell_type": "markdown",
      "source": [
        "[P1: Best time to Buy and Sell Stocks](https://neetcode.io/problems/buy-and-sell-crypto)"
      ],
      "metadata": {
        "id": "yWiNy0MsSRu5"
      }
    },
    {
      "cell_type": "code",
      "execution_count": null,
      "metadata": {
        "id": "40OzQqrvSObr"
      },
      "outputs": [],
      "source": [
        "class Solution:\n",
        "    def maxProfit(self, prices: List[int]) -> int:\n",
        "      # Space Complexity: O(1)\n",
        "      # Time Complexity: O(n)\n",
        "      # Keep a track of running min. The profit at any index is price - minPrice. Find the max value of this profit.\n",
        "\n",
        "\n",
        "        maxP = 0\n",
        "        minTillNow = prices[0]\n",
        "        for elem in prices:\n",
        "            minTillNow = min(elem, minTillNow)\n",
        "            maxP = max(maxP, elem - minTillNow)\n",
        "        return maxP\n"
      ]
    },
    {
      "cell_type": "markdown",
      "source": [
        "[P2: Longest Substring without Repeating characters](https://neetcode.io/problems/longest-substring-without-duplicates)"
      ],
      "metadata": {
        "id": "BUK3XGWASQ7t"
      }
    },
    {
      "cell_type": "code",
      "source": [
        "class Solution:\n",
        "    def lengthOfLongestSubstring(self, s: str) -> int:\n",
        "\n",
        "        # Space Complexity: O(n) Saving the unique elements in a set\n",
        "        # Time Complexity: O(n) Iterating over the string (max two times)\n",
        "        # Expand the window to right if the new element is not seen else contract from left side until the seen element is removed.\n",
        "        # Keep a track of the maximum length seen till the point.\n",
        "\n",
        "        start, end = 0, 0\n",
        "        subStringMap = set()\n",
        "        maxLen = 0\n",
        "        while end < len(s):\n",
        "            curr = s[end]\n",
        "            if curr in subStringMap:\n",
        "                while start < end and curr in subStringMap:\n",
        "                    subStringMap.remove(s[start])\n",
        "                    start += 1\n",
        "            subStringMap.add(curr)\n",
        "            end += 1\n",
        "            maxLen = max(maxLen, end - start)\n",
        "\n",
        "        return maxLen"
      ],
      "metadata": {
        "id": "Jrx_PTU0SWjF"
      },
      "execution_count": null,
      "outputs": []
    },
    {
      "cell_type": "markdown",
      "source": [
        "[P3: Longest Repeating Substring with Replacement](https://neetcode.io/problems/longest-repeating-substring-with-replacement)"
      ],
      "metadata": {
        "id": "DB9yXVYqSY1C"
      }
    },
    {
      "cell_type": "code",
      "source": [
        "class Solution:\n",
        "    def characterReplacement(self, s: str, k: int) -> int:\n",
        "\n",
        "        # Space Complexity: O(n)\n",
        "        # Time Complexity: O(n*m) (m is the length of the unique characters or 26)\n",
        "        # Expand the window to right if the condition is met else contract from left side until the condition is met.\n",
        "        # Keep a track of the maximum length of window seen till the point.\n",
        "\n",
        "\n",
        "        start, end = 0,0\n",
        "        mapping = [0]*26\n",
        "        maxLen = 0\n",
        "        while end < len(s):\n",
        "            indexE = ord(s[end]) - ord('A')\n",
        "            mapping[indexE] += 1\n",
        "            end += 1\n",
        "            if sum(mapping) - max(mapping) > k:\n",
        "                indexS = ord(s[start]) - ord('A')\n",
        "                mapping[indexS] -= 1\n",
        "                start += 1\n",
        "            maxLen = max(maxLen, end - start)\n",
        "\n",
        "        return maxLen\n"
      ],
      "metadata": {
        "id": "Y5joKsgDSWZb"
      },
      "execution_count": null,
      "outputs": []
    },
    {
      "cell_type": "markdown",
      "source": [
        "[P4: Permutation in String](https://neetcode.io/problems/permutation-string)"
      ],
      "metadata": {
        "id": "1wfytMvaSaOO"
      }
    },
    {
      "cell_type": "code",
      "source": [
        "class Solution:\n",
        "    def checkInclusion(self, s1: str, s2: str) -> bool:\n",
        "        from collections import Counter\n",
        "        mappedDict = Counter(s1)\n",
        "        width = len(s1)\n",
        "        start, end = 0, 0\n",
        "        currDict = {}\n",
        "\n",
        "        while end < len(s2):\n",
        "\n",
        "            left, right = s2[start], s2[end]\n",
        "            #Remove element only when the window is greater than width\n",
        "            if width <= end:\n",
        "                start += 1\n",
        "                #Removing the element\n",
        "                currDict[left] -= 1\n",
        "                if not currDict[left]:\n",
        "                    currDict.pop(left, None)\n",
        "\n",
        "\n",
        "            if right in currDict: currDict[right] += 1\n",
        "            else: currDict[right] = 1\n",
        "\n",
        "            if currDict == mappedDict: return True\n",
        "            end += 1\n",
        "\n",
        "\n",
        "        return False\n"
      ],
      "metadata": {
        "id": "lwRwVAxRSWMS"
      },
      "execution_count": null,
      "outputs": []
    },
    {
      "cell_type": "markdown",
      "source": [],
      "metadata": {
        "id": "aUrLk-doSbL-"
      }
    },
    {
      "cell_type": "code",
      "source": [],
      "metadata": {
        "id": "u70hm4J9SV-F"
      },
      "execution_count": null,
      "outputs": []
    },
    {
      "cell_type": "markdown",
      "source": [],
      "metadata": {
        "id": "DH-WhSF4Schl"
      }
    },
    {
      "cell_type": "code",
      "source": [],
      "metadata": {
        "id": "4Bn8z6l3SVlz"
      },
      "execution_count": null,
      "outputs": []
    }
  ]
}