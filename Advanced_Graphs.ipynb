{
  "nbformat": 4,
  "nbformat_minor": 0,
  "metadata": {
    "colab": {
      "provenance": [],
      "authorship_tag": "ABX9TyMbldLRUVGbfE3M9vDACNYB",
      "include_colab_link": true
    },
    "kernelspec": {
      "name": "python3",
      "display_name": "Python 3"
    },
    "language_info": {
      "name": "python"
    }
  },
  "cells": [
    {
      "cell_type": "markdown",
      "metadata": {
        "id": "view-in-github",
        "colab_type": "text"
      },
      "source": [
        "<a href=\"https://colab.research.google.com/github/anuragsaraf1912/neetcode150/blob/main/Advanced_Graphs.ipynb\" target=\"_parent\"><img src=\"https://colab.research.google.com/assets/colab-badge.svg\" alt=\"Open In Colab\"/></a>"
      ]
    },
    {
      "cell_type": "markdown",
      "source": [
        "[P1: Network Delay](https://leetcode.com/problems/network-delay-time/description/)"
      ],
      "metadata": {
        "id": "YnXZ_vIAmnRs"
      }
    },
    {
      "cell_type": "code",
      "source": [
        "class Solution:\n",
        "    def networkDelayTime(self, times: List[List[int]], n: int, k: int) -> int:\n",
        "\n",
        "        # Space Complexity: O(V + E) AdjList and Heap space\n",
        "        # Time Complexity: O(E * log V) We extract from heap for each edge (worst case) and each time heap can't be greater than V(we check if the node is reached).\n",
        "        # Approach: We start with the first node, visit all nodes using BFS.\n",
        "        #           We use heap to get the next node with the minimum time to reach.\n",
        "        #           The visited node is marked and the next nodes which are not reached yet added to the heap.\n",
        "        #           We keep doing this untill the heap is empty or all nodes are visited.\n",
        "\n",
        "        # generating adjList\n",
        "        adjList = defaultdict(list)\n",
        "        for source, dest, time in times:\n",
        "            adjList[source].append((time, dest))\n",
        "        visited = [0]*n\n",
        "        heap = []\n",
        "        heapq.heappush(heap,(0, k))\n",
        "        maxTime = 0\n",
        "        # Processing each node\n",
        "        while heap and sum(visited) != n:\n",
        "            # Get the next node taking minimum time.\n",
        "            time, node = heapq.heappop(heap)\n",
        "            visited[node-1] = 1\n",
        "            maxTime = max(maxTime, time)\n",
        "            # Getting the node attached to the current node\n",
        "            for t, nextNode in adjList[node]:\n",
        "                if visited[nextNode-1]: continue\n",
        "                heapq.heappush(heap, (t+time, nextNode))\n",
        "\n",
        "        return maxTime if sum(visited) == n else -1"
      ],
      "metadata": {
        "id": "I02--mpqmn2t"
      },
      "execution_count": null,
      "outputs": []
    },
    {
      "cell_type": "markdown",
      "source": [
        "[P2: Reconstruct Itinerary](https://neetcode.io/problems/reconstruct-flight-path)"
      ],
      "metadata": {
        "id": "CaMYCmPMmoVS"
      }
    },
    {
      "cell_type": "code",
      "source": [
        "class Solution:\n",
        "    def findItinerary(self, tickets: List[List[str]]) -> List[str]:\n",
        "        tickets.sort()\n",
        "        adjList = defaultdict(list)\n",
        "        for start, end in tickets[::-1]:\n",
        "            adjList[start].append(end)\n",
        "\n",
        "        result = []\n",
        "        stack = ['JFK']\n",
        "        while stack:\n",
        "            curr = stack[-1]\n",
        "            if adjList[curr]:\n",
        "                stack.append(adjList[curr].pop())\n",
        "            # Case when there is no other way\n",
        "            else: result.append(stack.pop())\n",
        "\n",
        "        return result[::-1]"
      ],
      "metadata": {
        "id": "xVERVtPamodU"
      },
      "execution_count": null,
      "outputs": []
    },
    {
      "cell_type": "markdown",
      "source": [
        "[P3: Min Cost to connect points](https://neetcode.io/problems/min-cost-to-connect-points)"
      ],
      "metadata": {
        "id": "TrgF3IUtmon0"
      }
    },
    {
      "cell_type": "code",
      "source": [
        "class Solution:\n",
        "    def minCostConnectPoints(self, points: List[List[int]]) -> int:\n",
        "        visited = set()\n",
        "        heap = [(0,0)]\n",
        "        cost = 0\n",
        "        while len(visited) < len(points):\n",
        "            dist, index = heapq.heappop(heap)\n",
        "            # In case this node has not been added\n",
        "            if index not in visited:\n",
        "                cost += dist\n",
        "                visited.add(index)\n",
        "                for i in range(len(points)):\n",
        "                    if i not in visited:\n",
        "                        currDist = abs(points[i][0] - points[index][0])\n",
        "                        currDist += abs(points[i][1] - points[index][1])\n",
        "                        heapq.heappush(heap, (currDist, i))\n",
        "\n",
        "        return cost\n",
        "\n",
        ""
      ],
      "metadata": {
        "id": "-mjfRCwpmowc"
      },
      "execution_count": null,
      "outputs": []
    },
    {
      "cell_type": "markdown",
      "source": [
        "[P4: Swim in Rising Water](https://neetcode.io/problems/swim-in-rising-water)"
      ],
      "metadata": {
        "id": "NC2o65HUmo6U"
      }
    },
    {
      "cell_type": "code",
      "source": [
        "class Solution:\n",
        "    def swimInWater(self, grid: List[List[int]]) -> int:\n",
        "\n",
        "        visited = set()\n",
        "        nearby = [(1,0), (-1,0), (0,1), (0,-1)]\n",
        "        rows, cols = len(grid),len(grid[0])\n",
        "        def validateCord(r,c):\n",
        "            return r >= 0 and r < len(grid) and \\\n",
        "            c >= 0 and c < len(grid[0]) and \\\n",
        "            (r,c) not in visited\n",
        "        waterRise = 0\n",
        "        heap = []\n",
        "        heap.append((grid[0][0], 0, 0))\n",
        "        while heap and (rows-1,cols-1) not in visited:\n",
        "            val, r, c = heapq.heappop(heap)\n",
        "            # Place already visited before\n",
        "            if (r,c) in visited: continue\n",
        "            waterRise = max(waterRise, val)\n",
        "            visited.add((r,c))\n",
        "\n",
        "            for a,b in nearby:\n",
        "                if validateCord(r+a,c+b):\n",
        "                    x,y = r+a,c+b\n",
        "                    heapq.heappush(heap, (grid[x][y],x,y))\n",
        "\n",
        "        return waterRise"
      ],
      "metadata": {
        "id": "Z8PLr1-YmpDU"
      },
      "execution_count": null,
      "outputs": []
    },
    {
      "cell_type": "markdown",
      "source": [
        "[P5: Alien Dictionary](https://neetcode.io/problems/foreign-dictionary)"
      ],
      "metadata": {
        "id": "-VUs3WiGmpML"
      }
    },
    {
      "cell_type": "code",
      "source": [
        "class Solution:\n",
        "    def foreignDictionary(self, words: List[str]) -> str:\n",
        "\n",
        "        # Defining basic variables\n",
        "        adjList = defaultdict(set)\n",
        "        usedList = defaultdict(int)\n",
        "        setOfWords = {char for word in words for char in word}\n",
        "        total = len(setOfWords)\n",
        "\n",
        "        # Generating the edges for th topological Sort\n",
        "        for i in range(len(words)-1):\n",
        "            w1, w2 = words[i], words[i+1]\n",
        "            k = min(len(w1), len(w2))\n",
        "            # The case when it is wrongly ordered\n",
        "            if len(w2) < len(w1) and w1[:k] == w2: return ''\n",
        "            for index in range(k):\n",
        "                # We need to create adjacency list, where\n",
        "                # key is the higher in order\n",
        "                if w1[index] != w2[index]:\n",
        "                    if w2[index] not in adjList[w1[index]]:\n",
        "                        adjList[w1[index]].add(w2[index])\n",
        "                        usedList[w2[index]] += 1\n",
        "                    break\n",
        "\n",
        "        # Topological Sorting\n",
        "        q = deque([char for char in setOfWords if usedList[char] == 0])\n",
        "        result = ''\n",
        "        while q:\n",
        "            curr = q.popleft()\n",
        "            result += curr\n",
        "            for nextNode in adjList[curr]:\n",
        "                usedList[nextNode] -= 1\n",
        "                if not usedList[nextNode]:\n",
        "                    q.append(nextNode)\n",
        "        return result if len(result) == total else ''\n",
        ""
      ],
      "metadata": {
        "id": "xoBQt-UKmpV1"
      },
      "execution_count": null,
      "outputs": []
    },
    {
      "cell_type": "markdown",
      "source": [
        "[P6: Cheapest Flight Paths](https://neetcode.io/problems/cheapest-flight-path)"
      ],
      "metadata": {
        "id": "3RwwKLtgmpea"
      }
    },
    {
      "cell_type": "code",
      "source": [
        "class Solution:\n",
        "    def findCheapestPrice(self, n: int, flights: List[List[int]], src: int, dst: int, k: int) -> int:\n",
        "\n",
        "        pricesMap = [float('inf')]*n\n",
        "        pricesMap[src] = 0\n",
        "        # Applying Floyd Warshall Algorithm\n",
        "        while k >= 0:\n",
        "            nextPrice = pricesMap.copy()\n",
        "            # Check for all the edges\n",
        "            for s,d,cost in flights:\n",
        "                if nextPrice[d] > pricesMap[s] + cost:\n",
        "                    nextPrice[d] = pricesMap[s] + cost\n",
        "            pricesMap = nextPrice.copy()\n",
        "            k -= 1\n",
        "\n",
        "        return pricesMap[dst] if pricesMap[dst] != float('inf') else -1\n",
        "\n",
        ""
      ],
      "metadata": {
        "id": "8fFwPSNtmpl6"
      },
      "execution_count": null,
      "outputs": []
    }
  ]
}