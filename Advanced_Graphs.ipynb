{
  "nbformat": 4,
  "nbformat_minor": 0,
  "metadata": {
    "colab": {
      "provenance": [],
      "authorship_tag": "ABX9TyOsIhhaDIt0gttyXgfc+xeN",
      "include_colab_link": true
    },
    "kernelspec": {
      "name": "python3",
      "display_name": "Python 3"
    },
    "language_info": {
      "name": "python"
    }
  },
  "cells": [
    {
      "cell_type": "markdown",
      "metadata": {
        "id": "view-in-github",
        "colab_type": "text"
      },
      "source": [
        "<a href=\"https://colab.research.google.com/github/anuragsaraf1912/neetcode150/blob/main/Advanced_Graphs.ipynb\" target=\"_parent\"><img src=\"https://colab.research.google.com/assets/colab-badge.svg\" alt=\"Open In Colab\"/></a>"
      ]
    },
    {
      "cell_type": "markdown",
      "source": [
        "[P1: Network Delay](https://leetcode.com/problems/network-delay-time/description/)"
      ],
      "metadata": {
        "id": "YnXZ_vIAmnRs"
      }
    },
    {
      "cell_type": "code",
      "source": [
        "class Solution:\n",
        "    def networkDelayTime(self, times: List[List[int]], n: int, k: int) -> int:\n",
        "\n",
        "        # Space Complexity: O(V + E) AdjList and Heap space\n",
        "        # Time Complexity: O(E * log V) We extract from heap for each edge (worst case) and each time heap can't be greater than V(we check if the node is reached).\n",
        "        # Approach: We start with the first node, visit all nodes using BFS.\n",
        "        #           We use heap to get the next node with the minimum time to reach.\n",
        "        #           The visited node is marked and the next nodes which are not reached yet added to the heap.\n",
        "        #           We keep doing this untill the heap is empty or all nodes are visited.\n",
        "\n",
        "        adjList = defaultdict(list)\n",
        "        for source, dest, time in times:\n",
        "            adjList[source].append((time, dest))\n",
        "        visited = [0]*n\n",
        "        heap = []\n",
        "        heapq.heappush(heap,(0, k))\n",
        "        maxTime = 0\n",
        "        while heap and sum(visited) != n:\n",
        "            time, node = heapq.heappop(heap)\n",
        "            visited[node-1] = 1\n",
        "            maxTime = max(maxTime, time)\n",
        "            for t, nextNode in adjList[node]:\n",
        "                if visited[nextNode-1]: continue\n",
        "                heapq.heappush(heap, (t+time, nextNode))\n",
        "\n",
        "        return maxTime if sum(visited) == n else -1"
      ],
      "metadata": {
        "id": "I02--mpqmn2t"
      },
      "execution_count": null,
      "outputs": []
    },
    {
      "cell_type": "markdown",
      "source": [],
      "metadata": {
        "id": "CaMYCmPMmoVS"
      }
    },
    {
      "cell_type": "code",
      "source": [],
      "metadata": {
        "id": "xVERVtPamodU"
      },
      "execution_count": null,
      "outputs": []
    },
    {
      "cell_type": "markdown",
      "source": [],
      "metadata": {
        "id": "TrgF3IUtmon0"
      }
    },
    {
      "cell_type": "code",
      "source": [],
      "metadata": {
        "id": "-mjfRCwpmowc"
      },
      "execution_count": null,
      "outputs": []
    },
    {
      "cell_type": "markdown",
      "source": [],
      "metadata": {
        "id": "NC2o65HUmo6U"
      }
    },
    {
      "cell_type": "code",
      "source": [],
      "metadata": {
        "id": "Z8PLr1-YmpDU"
      },
      "execution_count": null,
      "outputs": []
    },
    {
      "cell_type": "markdown",
      "source": [],
      "metadata": {
        "id": "-VUs3WiGmpML"
      }
    },
    {
      "cell_type": "code",
      "source": [],
      "metadata": {
        "id": "xoBQt-UKmpV1"
      },
      "execution_count": null,
      "outputs": []
    },
    {
      "cell_type": "markdown",
      "source": [],
      "metadata": {
        "id": "3RwwKLtgmpea"
      }
    },
    {
      "cell_type": "code",
      "source": [],
      "metadata": {
        "id": "8fFwPSNtmpl6"
      },
      "execution_count": null,
      "outputs": []
    }
  ]
}