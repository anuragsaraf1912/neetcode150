{
  "nbformat": 4,
  "nbformat_minor": 0,
  "metadata": {
    "colab": {
      "provenance": [],
      "authorship_tag": "ABX9TyNOHmtZqqKdwt/OqRZQXma7",
      "include_colab_link": true
    },
    "kernelspec": {
      "name": "python3",
      "display_name": "Python 3"
    },
    "language_info": {
      "name": "python"
    }
  },
  "cells": [
    {
      "cell_type": "markdown",
      "metadata": {
        "id": "view-in-github",
        "colab_type": "text"
      },
      "source": [
        "<a href=\"https://colab.research.google.com/github/anuragsaraf1912/neetcode150/blob/main/Two_Pointers.ipynb\" target=\"_parent\"><img src=\"https://colab.research.google.com/assets/colab-badge.svg\" alt=\"Open In Colab\"/></a>"
      ]
    },
    {
      "cell_type": "markdown",
      "source": [
        "[P1: Valid Palindrome](https://neetcode.io/problems/is-palindrome)"
      ],
      "metadata": {
        "id": "Vef4eRgMlLYT"
      }
    },
    {
      "cell_type": "code",
      "execution_count": null,
      "metadata": {
        "id": "f1OyK4YqlHYZ"
      },
      "outputs": [],
      "source": [
        "class Solution:\n",
        "    def isPalindrome(self, s: str) -> bool:\n",
        "\n",
        "        # Skip if the current element is not alphanumeric from either side\n",
        "        # Space Complexity:. O(1)\n",
        "        # Time Complexity: O(n)\n",
        "\n",
        "        text = s.lower()\n",
        "        start, end = 0, len(text) - 1\n",
        "        while start < end:\n",
        "            if not text[start].isalnum():\n",
        "                start += 1\n",
        "                continue\n",
        "            if not text[end].isalnum():\n",
        "                end -= 1\n",
        "                continue\n",
        "            if text[start] != text[end]:\n",
        "                return False\n",
        "            start += 1\n",
        "            end -= 1\n",
        "\n",
        "        return True\n",
        ""
      ]
    },
    {
      "cell_type": "markdown",
      "source": [
        "[P2: Two Sum ](https://neetcode.io/problems/two-integer-sum-ii)"
      ],
      "metadata": {
        "id": "lC_MdDNclMtT"
      }
    },
    {
      "cell_type": "code",
      "source": [
        "class Solution:\n",
        "    def twoSum(self, numbers: List[int], target: int) -> List[int]:\n",
        "\n",
        "        # The sum can be greater than, equal to, or lesser than the target.\n",
        "        # In case of each of the above, the one side should be moved accordingly\n",
        "        # In case there are multiple pairs and we have to avoid the repitition, we can go to next while the first value doesn't change.\n",
        "        # Time Complexity: O(n)\n",
        "        # Space Complexity: O(1)\n",
        "\n",
        "        start, end = 0, len(numbers) - 1\n",
        "        while start < end:\n",
        "            currSum = numbers[start] + numbers[end]\n",
        "            if currSum == target:\n",
        "                return [start+1, end+1]\n",
        "            elif currSum > target:\n",
        "                end -= 1\n",
        "            else: start += 1\n",
        "\n",
        "        return [-1, -1]"
      ],
      "metadata": {
        "id": "tBKzAhbAlNZt"
      },
      "execution_count": null,
      "outputs": []
    },
    {
      "cell_type": "markdown",
      "source": [
        "[P3: Three Sum](https://neetcode.io/problems/three-integer-sum)"
      ],
      "metadata": {
        "id": "rnsIIKtllOBG"
      }
    },
    {
      "cell_type": "code",
      "source": [
        "class Solution:\n",
        "    def threeSum(self, nums: List[int]) -> List[List[int]]:\n",
        "\n",
        "        # Time Complexity: O(n^2)\n",
        "        # Space Complexity: O(n) [Space used for the sorting algorithm]\n",
        "        # Approach:\n",
        "        # Sort the array, pick the first element from the start and then run the Two Sum on the remaining array\n",
        "        # Remember to skip an element when the elements are similar to avoid repeating solutions\n",
        "        # Same approach can be used for the Four sum problem\n",
        "\n",
        "        nums.sort()\n",
        "        results = []\n",
        "        n = len(nums)\n",
        "        for first in range(n-2):\n",
        "            #Avoid Repeating first elements\n",
        "            if first and nums[first] == nums[first-1]: continue\n",
        "            start, end = first + 1, n-1\n",
        "            while start < end:\n",
        "                currSum = nums[first] + nums[start] + nums[end]\n",
        "                if currSum > 0: end -=1\n",
        "                elif currSum < 0: start += 1\n",
        "                else:\n",
        "                    results.append([nums[first], nums[start], nums[end]])\n",
        "                    start += 1\n",
        "                    #Avoid repeating second elements\n",
        "                    while start < end and nums[start] == nums[start - 1]:\n",
        "                        start += 1\n",
        "        return results"
      ],
      "metadata": {
        "id": "Hbpt-nZPlOjD"
      },
      "execution_count": null,
      "outputs": []
    },
    {
      "cell_type": "markdown",
      "source": [
        "[P4: Container with Most water](https://neetcode.io/problems/max-water-container)"
      ],
      "metadata": {
        "id": "YZxm_P3DlO-G"
      }
    },
    {
      "cell_type": "code",
      "source": [
        "class Solution:\n",
        "    def maxArea(self, heights: List[int]) -> int:\n",
        "\n",
        "        # Time Complexity: O(n)\n",
        "        # Space Complexity: O(1)\n",
        "        # We have to realise that for any container, the maximum value can only be acheived by increasing the minimum value.\n",
        "        # The container with the largest width should be the starting point\n",
        "        # This makes the problem as the two pointer problem.\n",
        "\n",
        "\n",
        "        maxVol = 0\n",
        "        start, end = 0, len(heights) - 1\n",
        "        while start < end:\n",
        "            currVol = min(heights[start], heights[end])*(end - start)\n",
        "            maxVol = max(maxVol, currVol)\n",
        "            if heights[start] >= heights[end]:\n",
        "                end -= 1\n",
        "            else: start += 1\n",
        "\n",
        "        return maxVol\n",
        "\n"
      ],
      "metadata": {
        "id": "ypLDbz_WlPYj"
      },
      "execution_count": null,
      "outputs": []
    },
    {
      "cell_type": "markdown",
      "source": [
        "[P5: Trapping rain water](https://neetcode.io/problems/trapping-rain-water)"
      ],
      "metadata": {
        "id": "-tBHzMjFlP7v"
      }
    },
    {
      "cell_type": "code",
      "source": [],
      "metadata": {
        "id": "bWSnZLP-lQWG"
      },
      "execution_count": null,
      "outputs": []
    }
  ]
}