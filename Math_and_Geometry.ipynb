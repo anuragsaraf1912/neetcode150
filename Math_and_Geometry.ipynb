{
  "nbformat": 4,
  "nbformat_minor": 0,
  "metadata": {
    "colab": {
      "provenance": [],
      "authorship_tag": "ABX9TyPDnCQHRntVHBc/yI1ibEE9",
      "include_colab_link": true
    },
    "kernelspec": {
      "name": "python3",
      "display_name": "Python 3"
    },
    "language_info": {
      "name": "python"
    }
  },
  "cells": [
    {
      "cell_type": "markdown",
      "metadata": {
        "id": "view-in-github",
        "colab_type": "text"
      },
      "source": [
        "<a href=\"https://colab.research.google.com/github/anuragsaraf1912/neetcode150/blob/main/Math_and_Geometry.ipynb\" target=\"_parent\"><img src=\"https://colab.research.google.com/assets/colab-badge.svg\" alt=\"Open In Colab\"/></a>"
      ]
    },
    {
      "cell_type": "markdown",
      "source": [
        "[P1: Rotate Image](https://neetcode.io/problems/rotate-matrix)"
      ],
      "metadata": {
        "id": "vvWkY3ASrNHo"
      }
    },
    {
      "cell_type": "code",
      "source": [
        "class Solution:\n",
        "    def rotate(self, matrix: List[List[int]]) -> None:\n",
        "        # Inplace Update Algorithm\n",
        "        # Time Complexity: O(n*n)\n",
        "        # Space Complexity: O(1)\n",
        "        # Approach: We create an r varaible to keep track of how deep we go in the matrix. The r can vary from [0,n//2)\n",
        "        #           The number of elements in the outermost layer would be n - 2*r because we remove the first and last elements as we go deep.\n",
        "        #           We rotate the outermost layer elements and visit each layer from outer to inner\n",
        "        #           As we have to rotate clockwise, we replace the elements anticlockwise saving the first element in temp\n",
        "\n",
        "        n = len(matrix[0])\n",
        "        for r in range(n//2):\n",
        "            # Visiting elements in the outermost layer\n",
        "            for i in range(n - 2*r - 1):\n",
        "                # top layer is saved\n",
        "                temp = matrix[r][r+i]\n",
        "                # Top layer updated by the left layer element\n",
        "                matrix[r][r+i] = matrix[n - r - 1 - i][r]\n",
        "                # Left layer element updated by the bottom layer element\n",
        "                matrix[n - r - 1 - i][r] = matrix[n - r - 1][n - r - 1 - i]\n",
        "                # Bottom layer element updated by the right layer element\n",
        "                matrix[n - r - 1][n - r - 1 - i] = matrix[r+i][n - r - 1]\n",
        "                # Right layer element updated by the temp value\n",
        "                matrix[r+i][n - r - 1] = temp\n"
      ],
      "metadata": {
        "id": "9sLh9uwKrNf-"
      },
      "execution_count": null,
      "outputs": []
    },
    {
      "cell_type": "code",
      "source": [
        "class Solution:\n",
        "    def rotate(self, matrix: List[List[int]]) -> None:\n",
        "        \"\"\"\n",
        "        Almost similar approach as above, the difference is the index i. In this approach we iterate over i\n",
        "        itself, instead of adding it on the top of r.\n",
        "\n",
        "        \"\"\"\n",
        "\n",
        "        n = len(matrix)\n",
        "        for r in range(n//2):\n",
        "            for i in range(r, n - r - 1):\n",
        "                temp = matrix[r][i]\n",
        "                matrix[r][i] = matrix[n-i-1][r]\n",
        "                matrix[n-i-1][r] = matrix[n-r-1][n-i-1]\n",
        "                matrix[n-r-1][n-i-1] = matrix[i][n-r-1]\n",
        "                matrix[i][n-r-1] = temp\n"
      ],
      "metadata": {
        "id": "zDtJ0pbYqjxK"
      },
      "execution_count": null,
      "outputs": []
    },
    {
      "cell_type": "markdown",
      "source": [
        "[P2: Spiral Matrix](https://neetcode.io/problems/spiral-matrix)"
      ],
      "metadata": {
        "id": "J4qb_8ICrNx-"
      }
    },
    {
      "cell_type": "code",
      "source": [
        "class Solution:\n",
        "    def spiralOrder(self, matrix: List[List[int]]) -> List[int]:\n",
        "\n",
        "        # Time Complexity: O(m*n)\n",
        "        # Space Complexity: O(m*n) (List to store results)\n",
        "        # The pointer on the left side is the one that is not printed, the pointer on the right has been printed.\n",
        "        # The printing will stop only when the left pointer coincides with the right pointer.\n",
        "        # Same is for the top (not printed) and bottom pointer (printed)\n",
        "\n",
        "\n",
        "        # Finding the rows and cols of the matrix\n",
        "        rows = len(matrix)\n",
        "        cols = len(matrix[0])\n",
        "\n",
        "        # Getting the index\n",
        "        rStart, rEnd = 0, rows\n",
        "        cStart, cEnd = 0, cols\n",
        "\n",
        "        res = []\n",
        "\n",
        "        while rStart < rEnd and cStart < cEnd:\n",
        "\n",
        "            # Print the top row\n",
        "            for col in range(cStart, cEnd):\n",
        "                elem = matrix[rStart][col]\n",
        "                res.append(elem)\n",
        "            rStart += 1\n",
        "\n",
        "            # Print last column\n",
        "            for row in range(rStart, rEnd):\n",
        "                elem = matrix[row][cEnd - 1]\n",
        "                res.append(elem)\n",
        "            cEnd -= 1\n",
        "\n",
        "            if rStart < rEnd and cStart < cEnd:\n",
        "                # Print the last row\n",
        "                for col in range(cEnd-1, cStart-1, -1):\n",
        "                    elem = matrix[rEnd - 1][col]\n",
        "                    res.append(elem)\n",
        "                rEnd -= 1\n",
        "\n",
        "                # Print the first column\n",
        "                for row in range(rEnd-1, rStart - 1, -1):\n",
        "                    elem = matrix[row][cStart]\n",
        "                    res.append(elem)\n",
        "                cStart += 1\n",
        "\n",
        "        return res\n"
      ],
      "metadata": {
        "id": "eaKwxHKbrOCz"
      },
      "execution_count": null,
      "outputs": []
    },
    {
      "cell_type": "markdown",
      "source": [
        "[P3: Set Matrix Zero](https://neetcode.io/problems/set-zeroes-in-matrix)"
      ],
      "metadata": {
        "id": "LgtrYA80rTEZ"
      }
    },
    {
      "cell_type": "code",
      "source": [
        "class Solution:\n",
        "    def setZeroes(self, matrix: List[List[int]]) -> None:\n",
        "\n",
        "        # Time Complexity: O(m*n)\n",
        "        # Space Complexity: O(1) (No extra storage)\n",
        "        # For each element with an entry of zero, replace the rows and columns elements with None.\n",
        "        # One more pass to replace the None values with 0.\n",
        "        # Slightly slower approach because it marks element None multiple times\n",
        "\n",
        "        rows, cols = len(matrix), len(matrix[0])\n",
        "\n",
        "        def substitute(r,c):\n",
        "            # Function to replace any element with None if the element itself is not 0\n",
        "            if matrix[r][c] != 0:\n",
        "                matrix[r][c] = None\n",
        "\n",
        "        def helper(r,c):\n",
        "            # Function to mark the whole row and col of an element with none\n",
        "            for i in range(rows):\n",
        "                substitute(i, c)\n",
        "            for j in range(cols):\n",
        "                substitute(r, j)\n",
        "\n",
        "        # Calling the helper function in case the element is 0\n",
        "        for i in range(rows):\n",
        "            for j in range(cols):\n",
        "                if matrix[i][j] == 0:\n",
        "                    helper(i,j)\n",
        "\n",
        "        for i in range(rows):\n",
        "            for j in range(cols):\n",
        "                if matrix[i][j] is None:\n",
        "                    matrix[i][j] = 0\n"
      ],
      "metadata": {
        "id": "5DiVsASmrTUT"
      },
      "execution_count": null,
      "outputs": []
    },
    {
      "cell_type": "code",
      "source": [
        "class Solution:\n",
        "    def setZeroes(self, matrix: List[List[int]]) -> None:\n",
        "\n",
        "        # Time Complexity: O(m*n)\n",
        "        # Space Complexity: O(1) (No extra storage)\n",
        "        # Faster than the above approach due to the markation in single pass instead of marking each element multiple times.\n",
        "        # We use the first row and column as the storage to save which rows and cols need to be udpated.\n",
        "\n",
        "        # Finding whether the first col and row needs updation\n",
        "        rows, cols = len(matrix), len(matrix[0])\n",
        "        firstRow = any([matrix[0][j] == 0 for j in range(cols)])\n",
        "        firstCol = any([matrix[i][0] == 0 for i in range(rows)])\n",
        "\n",
        "        # Saving the rows and cols to be marked as zero in the first row and col\n",
        "        for i in range(1, rows):\n",
        "            for j in range(1, cols):\n",
        "                if not matrix[i][j]:\n",
        "                    matrix[i][0] = 0\n",
        "                    matrix[0][j] = 0\n",
        "\n",
        "        # Setting rows and cols to zero based on the first entry\n",
        "        for i in range(1, rows):\n",
        "          for j in range(1, cols):\n",
        "            if matrix[0][j] == 0 or matrix[i][0] == 0:\n",
        "                    matrix[i][j] = 0\n",
        "\n",
        "        # If the first row needs to be marked as 0\n",
        "        if firstRow:\n",
        "            for j in range(cols):\n",
        "                matrix[0][j] = 0\n",
        "\n",
        "        # If the first col needs to be marked as 0\n",
        "        if firstCol:\n",
        "            for i in range(rows):\n",
        "                matrix[i][0] = 0\n",
        "\n"
      ],
      "metadata": {
        "id": "aRJKy0bT--D2"
      },
      "execution_count": null,
      "outputs": []
    },
    {
      "cell_type": "markdown",
      "source": [
        "[P4: Happy Number](https://neetcode.io/problems/non-cyclical-number)"
      ],
      "metadata": {
        "id": "wVLbBYNYrTqw"
      }
    },
    {
      "cell_type": "code",
      "source": [
        "class Solution:\n",
        "    \"\"\"\n",
        "    Space Complexity: O(logn) [Number of digits in n]\n",
        "    Time Complexity: O(logn)\n",
        "    Approach: Keep finding the sum of numbers. Save the number that is observed in a set.\n",
        "    In case we observe 1 or any number observed earlier, we stop.\n",
        "    \"\"\"\n",
        "\n",
        "    def sumOfSquares(self, num):\n",
        "        res = 0\n",
        "        while num:\n",
        "            digit = num%10\n",
        "            num //= 10\n",
        "            res += digit**2\n",
        "        return res\n",
        "\n",
        "    def isHappy(self, n: int) -> bool:\n",
        "        observed = {n}\n",
        "        while True:\n",
        "            n = self.sumOfSquares(n)\n",
        "            if n == 1: return True\n",
        "            if n in observed: return False\n",
        "            observed.add(n)\n"
      ],
      "metadata": {
        "id": "35FHB88VrT0L"
      },
      "execution_count": null,
      "outputs": []
    },
    {
      "cell_type": "markdown",
      "source": [
        "[P5: Plus One](https://neetcode.io/problems/plus-one)"
      ],
      "metadata": {
        "id": "FiSDp3wKrUBc"
      }
    },
    {
      "cell_type": "code",
      "source": [
        "class Solution:\n",
        "    def plusOne(self, digits: List[int]) -> List[int]:\n",
        "        \"\"\"\n",
        "        Time Complexity: O(n)\n",
        "        Space Complexity: O(n)\n",
        "        Approach: Store the digits and reverse. Keep updating the list as long as we see 9. As soon as other digit is visited, increase by 1\n",
        "                  and get out of the loop.\n",
        "        \"\"\"\n",
        "        revD = digits[::-1]\n",
        "        carry, index = 1, 0\n",
        "        while carry and index < len(revD):\n",
        "            if revD[index] == 9:\n",
        "                revD[index] = 0\n",
        "                index += 1\n",
        "            else:\n",
        "                revD[index] += 1\n",
        "                carry = 0\n",
        "        if carry: revD.append(1)\n",
        "        return revD[::-1]\n"
      ],
      "metadata": {
        "id": "F9PHkgNwrUKZ"
      },
      "execution_count": null,
      "outputs": []
    },
    {
      "cell_type": "markdown",
      "source": [
        "[P6: Pow (x,n)](https://neetcode.io/problems/pow-x-n)"
      ],
      "metadata": {
        "id": "8fBlCrHerUVW"
      }
    },
    {
      "cell_type": "code",
      "source": [
        "class Solution:\n",
        "    def myPow(self, x: float, n: int) -> float:\n",
        "        if not n: return 1\n",
        "        if n == 1: return x\n",
        "        absN = abs(n)\n",
        "\n",
        "        residual = absN%2\n",
        "        newN = absN//2\n",
        "\n",
        "        sqrt = self.myPow(x,newN)\n",
        "        val = x*sqrt*sqrt if residual else sqrt*sqrt\n",
        "\n",
        "        return val if n > 0 else 1/val"
      ],
      "metadata": {
        "id": "SB5zvPRPrUfG"
      },
      "execution_count": null,
      "outputs": []
    },
    {
      "cell_type": "markdown",
      "source": [
        "[P7: Multiply Strings](https://neetcode.io/problems/multiply-strings)"
      ],
      "metadata": {
        "id": "mEDwezCDrUo_"
      }
    },
    {
      "cell_type": "code",
      "source": [
        "class Solution:\n",
        "    def multiply(self, num1: str, num2: str) -> str:\n",
        "\n",
        "        if num1 == '0' or num2 == '0': return '0'\n",
        "        if len(num1) < len(num2):\n",
        "            return self.multiply(num2, num1)\n",
        "\n",
        "        mapDict = {k:v for k,v in zip('0123456789', range(10))}\n",
        "\n",
        "        def addline(digit1, digit2, carry):\n",
        "            currSum = mapDict[digit1] + mapDict[digit2] + carry\n",
        "            carry = currSum // 10\n",
        "            digit = currSum % 10\n",
        "            return carry, str(digit)\n",
        "\n",
        "        def addStr(num1, num2):\n",
        "            results, carry = [], 0\n",
        "            n1, n2 = len(num1), len(num2)\n",
        "            for i in range(max(n1,n2)):\n",
        "                digit1, digit2 = '0','0'\n",
        "                if n1 - i - 1 >= 0:\n",
        "                    digit1 = num1[n1 - i - 1]\n",
        "                if n2 - i - 1 >= 0:\n",
        "                    digit2 = num2[n2 - i - 1]\n",
        "                carry, digit = addline(digit1, digit2, carry)\n",
        "                results.append(digit)\n",
        "\n",
        "            if carry: results.append(str(carry))\n",
        "            return ''.join(results[::-1])\n",
        "\n",
        "\n",
        "        def multStrSingle(num1, singleDigit):\n",
        "            result, carry = [], 0\n",
        "            for elem in num1[::-1]:\n",
        "                multVal = mapDict[elem] * mapDict[singleDigit] + carry\n",
        "                carry = multVal // 10\n",
        "                digit = multVal % 10\n",
        "                result.append(str(digit))\n",
        "            if carry: result.append(str(carry))\n",
        "            return ''.join(result[::-1])\n",
        "\n",
        "        final = '0'\n",
        "        for i in range(len(num2) - 1, -1, -1):\n",
        "            currMult = multStrSingle(num1, num2[i])\n",
        "            currMult += '0'*(len(num2) - i - 1)\n",
        "            final = addStr(final, currMult)\n",
        "\n",
        "        return final\n",
        "\n"
      ],
      "metadata": {
        "id": "A2y9J1HgrUw-"
      },
      "execution_count": null,
      "outputs": []
    },
    {
      "cell_type": "markdown",
      "source": [
        "[P8: Detect Squares](https://neetcode.io/problems/count-squares)"
      ],
      "metadata": {
        "id": "kbk_qQmtrb9Y"
      }
    },
    {
      "cell_type": "code",
      "source": [
        "class CountSquares:\n",
        "\n",
        "    from collections import defaultdict\n",
        "\n",
        "    def __init__(self):\n",
        "        self.freqCount = defaultdict(int)\n",
        "        self.pointsByX = defaultdict(set)\n",
        "        self.pointsByY = defaultdict(set)\n",
        "\n",
        "    def add(self, point: List[int]) -> None:\n",
        "        x,y = point\n",
        "        self.freqCount[(x,y)] += 1\n",
        "        self.pointsByX[x].add((x,y))\n",
        "        self.pointsByY[y].add((x,y))\n",
        "\n",
        "    def count(self, point: List[int]) -> int:\n",
        "\n",
        "        currX, currY = point\n",
        "        counts = 0\n",
        "\n",
        "        for sameX, diffY in self.pointsByX[currX]:\n",
        "            diffX1 = sameX + abs(currY - diffY)\n",
        "            diffX2 = sameX - abs(currY - diffY)\n",
        "\n",
        "            if currY != diffY:\n",
        "                counts += self.freqCount[(sameX, diffY)] * self.freqCount[(diffX1, diffY)] * self.freqCount[(diffX1, currY)]\n",
        "                counts += self.freqCount[(sameX, diffY)] * self.freqCount[(diffX2, diffY)] * self.freqCount[(diffX2, currY)]\n",
        "\n",
        "        return counts\n",
        "\n"
      ],
      "metadata": {
        "id": "1fE87GswrcIr"
      },
      "execution_count": null,
      "outputs": []
    }
  ]
}