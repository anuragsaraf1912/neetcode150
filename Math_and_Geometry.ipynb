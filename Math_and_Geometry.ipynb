{
  "nbformat": 4,
  "nbformat_minor": 0,
  "metadata": {
    "colab": {
      "provenance": [],
      "authorship_tag": "ABX9TyOADPB/j/XH83AjXHDZx/2P",
      "include_colab_link": true
    },
    "kernelspec": {
      "name": "python3",
      "display_name": "Python 3"
    },
    "language_info": {
      "name": "python"
    }
  },
  "cells": [
    {
      "cell_type": "markdown",
      "metadata": {
        "id": "view-in-github",
        "colab_type": "text"
      },
      "source": [
        "<a href=\"https://colab.research.google.com/github/anuragsaraf1912/neetcode150/blob/main/Math_and_Geometry.ipynb\" target=\"_parent\"><img src=\"https://colab.research.google.com/assets/colab-badge.svg\" alt=\"Open In Colab\"/></a>"
      ]
    },
    {
      "cell_type": "markdown",
      "source": [
        "[P1: Rotate Image](https://neetcode.io/problems/rotate-matrix)"
      ],
      "metadata": {
        "id": "vvWkY3ASrNHo"
      }
    },
    {
      "cell_type": "code",
      "source": [
        "class Solution:\n",
        "    def rotate(self, matrix: List[List[int]]) -> None:\n",
        "        # Inplace Update Algorithm\n",
        "        # Time Complexity: O(n*n)\n",
        "        # Space Complexity: O(1)\n",
        "        # Approach: We create an r varaible to keep track of how deep we go in the matrix. The r can vary from [0,n//2)\n",
        "        #           The number of elements in the outermost layer would be n - 2*r because we remove the first and last elements as we go deep.\n",
        "        #           We rotate the outermost layer elements and visit each layer from outer to inner\n",
        "        #           As we have to rotate clockwise, we replace the elements anticlockwise saving the first element in temp\n",
        "\n",
        "        n = len(matrix[0])\n",
        "        for r in range(n//2):\n",
        "            # Visiting elements in the outermost layer\n",
        "            for i in range(n - 2*r - 1):\n",
        "                # top layer is saved\n",
        "                temp = matrix[r][r+i]\n",
        "                # Top layer updated by the left layer element\n",
        "                matrix[r][r+i] = matrix[n - r - 1 - i][r]\n",
        "                # Left layer element updated by the bottom layer element\n",
        "                matrix[n - r - 1 - i][r] = matrix[n - r - 1][n - r - 1 - i]\n",
        "                # Bottom layer element updated by the right later element\n",
        "                matrix[n - r - 1][n - r - 1 - i] = matrix[r+i][n - r - 1]\n",
        "                # Right layer element updated by the temp value\n",
        "                matrix[r+i][n - r - 1] = temp\n"
      ],
      "metadata": {
        "id": "9sLh9uwKrNf-"
      },
      "execution_count": null,
      "outputs": []
    },
    {
      "cell_type": "markdown",
      "source": [
        "[P2: Spiral Matrix](https://neetcode.io/problems/spiral-matrix)"
      ],
      "metadata": {
        "id": "J4qb_8ICrNx-"
      }
    },
    {
      "cell_type": "code",
      "source": [
        "class Solution:\n",
        "    def spiralOrder(self, matrix: List[List[int]]) -> List[int]:\n",
        "        # Finding the rows and cols of the matrix\n",
        "        rows = len(matrix)\n",
        "        cols = len(matrix[0])\n",
        "\n",
        "        # Getting the index\n",
        "        rStart, rEnd = 0, rows\n",
        "        cStart, cEnd = 0, cols\n",
        "\n",
        "        res = []\n",
        "\n",
        "        while rStart < rEnd and cStart < cEnd:\n",
        "\n",
        "            for col in range(cStart, cEnd):\n",
        "                elem = matrix[rStart][col]\n",
        "                res.append(elem)\n",
        "            rStart += 1\n",
        "\n",
        "            for row in range(rStart, rEnd):\n",
        "                elem = matrix[row][cEnd - 1]\n",
        "                res.append(elem)\n",
        "            cEnd -= 1\n",
        "\n",
        "            if rStart < rEnd and cStart < cEnd:\n",
        "                for col in range(cEnd-1, cStart-1, -1):\n",
        "                    elem = matrix[rEnd - 1][col]\n",
        "                    res.append(elem)\n",
        "                rEnd -= 1\n",
        "\n",
        "                for row in range(rEnd-1, rStart - 1, -1):\n",
        "                    elem = matrix[row][cStart]\n",
        "                    res.append(elem)\n",
        "                cStart += 1\n",
        "\n",
        "        return res\n"
      ],
      "metadata": {
        "id": "eaKwxHKbrOCz"
      },
      "execution_count": null,
      "outputs": []
    },
    {
      "cell_type": "markdown",
      "source": [
        "[P3: Set Matrix Zero](https://neetcode.io/problems/set-zeroes-in-matrix)"
      ],
      "metadata": {
        "id": "LgtrYA80rTEZ"
      }
    },
    {
      "cell_type": "code",
      "source": [
        "class Solution:\n",
        "    def setZeroes(self, matrix: List[List[int]]) -> None:\n",
        "        rows, cols = len(matrix), len(matrix[0])\n",
        "\n",
        "        def substitute(r,c):\n",
        "            if matrix[r][c] != 0:\n",
        "                matrix[r][c] = -1\n",
        "\n",
        "        def helper(r,c):\n",
        "            for i in range(rows):\n",
        "                substitute(i, c)\n",
        "            for j in range(cols):\n",
        "                substitute(r, j)\n",
        "\n",
        "        for i in range(rows):\n",
        "            for j in range(cols):\n",
        "                if matrix[i][j] == 0:\n",
        "                    helper(i,j)\n",
        "\n",
        "        for i in range(rows):\n",
        "            for j in range(cols):\n",
        "                if matrix[i][j] == -1:\n",
        "                    matrix[i][j] = 0\n",
        "\n",
        "\n",
        "\n"
      ],
      "metadata": {
        "id": "5DiVsASmrTUT"
      },
      "execution_count": null,
      "outputs": []
    },
    {
      "cell_type": "markdown",
      "source": [
        "[P4: Happy Number](https://neetcode.io/problems/non-cyclical-number)"
      ],
      "metadata": {
        "id": "wVLbBYNYrTqw"
      }
    },
    {
      "cell_type": "code",
      "source": [
        "class Solution:\n",
        "    def sumOfSquares(self, num):\n",
        "        res = 0\n",
        "        while num:\n",
        "            digit = num%10\n",
        "            num //= 10\n",
        "            res += digit**2\n",
        "        return res\n",
        "\n",
        "    def isHappy(self, n: int) -> bool:\n",
        "        observed = {n}\n",
        "        while True:\n",
        "            n = self.sumOfSquares(n)\n",
        "            if n == 1: return True\n",
        "            if n in observed: return False\n",
        "            observed.add(n)\n"
      ],
      "metadata": {
        "id": "35FHB88VrT0L"
      },
      "execution_count": null,
      "outputs": []
    },
    {
      "cell_type": "markdown",
      "source": [
        "[P5: Plus One](https://neetcode.io/problems/plus-one)"
      ],
      "metadata": {
        "id": "FiSDp3wKrUBc"
      }
    },
    {
      "cell_type": "code",
      "source": [
        "class Solution:\n",
        "    def plusOne(self, digits: List[int]) -> List[int]:\n",
        "        digitsOrdered = digits[::-1]\n",
        "        i = 0\n",
        "        carry = 1\n",
        "        while i < len(digitsOrdered) and carry:\n",
        "            digitsOrdered[i] += carry\n",
        "            carry = digitsOrdered[i]//10\n",
        "            digitsOrdered[i] %= 10\n",
        "\n",
        "            i += 1\n",
        "\n",
        "        if carry: digitsOrdered.append(carry)\n",
        "        return digitsOrdered[::-1]\n"
      ],
      "metadata": {
        "id": "F9PHkgNwrUKZ"
      },
      "execution_count": null,
      "outputs": []
    },
    {
      "cell_type": "markdown",
      "source": [
        "[P6: Pow (x,n)](https://neetcode.io/problems/pow-x-n)"
      ],
      "metadata": {
        "id": "8fBlCrHerUVW"
      }
    },
    {
      "cell_type": "code",
      "source": [
        "class Solution:\n",
        "    def myPow(self, x: float, n: int) -> float:\n",
        "        if not n: return 1\n",
        "        if n == 1: return x\n",
        "        absN = abs(n)\n",
        "\n",
        "        residual = absN%2\n",
        "        newN = absN//2\n",
        "\n",
        "        sqrt = self.myPow(x,newN)\n",
        "        val = x*sqrt*sqrt if residual else sqrt*sqrt\n",
        "\n",
        "        return val if n > 0 else 1/val"
      ],
      "metadata": {
        "id": "SB5zvPRPrUfG"
      },
      "execution_count": null,
      "outputs": []
    },
    {
      "cell_type": "markdown",
      "source": [],
      "metadata": {
        "id": "mEDwezCDrUo_"
      }
    },
    {
      "cell_type": "code",
      "source": [],
      "metadata": {
        "id": "A2y9J1HgrUw-"
      },
      "execution_count": null,
      "outputs": []
    },
    {
      "cell_type": "markdown",
      "source": [],
      "metadata": {
        "id": "kbk_qQmtrb9Y"
      }
    },
    {
      "cell_type": "code",
      "source": [],
      "metadata": {
        "id": "1fE87GswrcIr"
      },
      "execution_count": null,
      "outputs": []
    }
  ]
}