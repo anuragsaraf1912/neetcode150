{
  "nbformat": 4,
  "nbformat_minor": 0,
  "metadata": {
    "colab": {
      "provenance": [],
      "authorship_tag": "ABX9TyNJuT/3lKb/Hqdk8mw7bdJ4",
      "include_colab_link": true
    },
    "kernelspec": {
      "name": "python3",
      "display_name": "Python 3"
    },
    "language_info": {
      "name": "python"
    }
  },
  "cells": [
    {
      "cell_type": "markdown",
      "metadata": {
        "id": "view-in-github",
        "colab_type": "text"
      },
      "source": [
        "<a href=\"https://colab.research.google.com/github/anuragsaraf1912/neetcode150/blob/main/Math_and_Geometry.ipynb\" target=\"_parent\"><img src=\"https://colab.research.google.com/assets/colab-badge.svg\" alt=\"Open In Colab\"/></a>"
      ]
    },
    {
      "cell_type": "markdown",
      "source": [
        "[P1: Rotate Image](https://neetcode.io/problems/rotate-matrix)"
      ],
      "metadata": {
        "id": "vvWkY3ASrNHo"
      }
    },
    {
      "cell_type": "code",
      "source": [
        "class Solution:\n",
        "    def rotate(self, matrix: List[List[int]]) -> None:\n",
        "        n = len(matrix[0])\n",
        "        for r in range(n//2):\n",
        "            for i in range(n - 2*r - 1):\n",
        "                temp = matrix[r][r+i]\n",
        "                matrix[r][r+i] = matrix[n - r - 1 - i][r]\n",
        "                matrix[n - r - 1 - i][r] = matrix[n - r - 1][n - r - 1 - i]\n",
        "                matrix[n - r - 1][n - r - 1 - i] = matrix[r+i][n - r - 1]\n",
        "                matrix[r+i][n - r - 1] = temp\n",
        ""
      ],
      "metadata": {
        "id": "9sLh9uwKrNf-"
      },
      "execution_count": null,
      "outputs": []
    },
    {
      "cell_type": "markdown",
      "source": [
        "[P2: Spiral Matrix](https://neetcode.io/problems/spiral-matrix)"
      ],
      "metadata": {
        "id": "J4qb_8ICrNx-"
      }
    },
    {
      "cell_type": "code",
      "source": [
        "class Solution:\n",
        "    def spiralOrder(self, matrix: List[List[int]]) -> List[int]:\n",
        "        # Finding the rows and cols of the matrix\n",
        "        rows = len(matrix)\n",
        "        cols = len(matrix[0])\n",
        "\n",
        "        # Getting the index\n",
        "        rStart, rEnd = 0, rows\n",
        "        cStart, cEnd = 0, cols\n",
        "\n",
        "        res = []\n",
        "\n",
        "        while rStart < rEnd and cStart < cEnd:\n",
        "\n",
        "            for col in range(cStart, cEnd):\n",
        "                elem = matrix[rStart][col]\n",
        "                res.append(elem)\n",
        "            rStart += 1\n",
        "\n",
        "            for row in range(rStart, rEnd):\n",
        "                elem = matrix[row][cEnd - 1]\n",
        "                res.append(elem)\n",
        "            cEnd -= 1\n",
        "\n",
        "            if rStart < rEnd and cStart < cEnd:\n",
        "                for col in range(cEnd-1, cStart-1, -1):\n",
        "                    elem = matrix[rEnd - 1][col]\n",
        "                    res.append(elem)\n",
        "                rEnd -= 1\n",
        "\n",
        "                for row in range(rEnd-1, rStart - 1, -1):\n",
        "                    elem = matrix[row][cStart]\n",
        "                    res.append(elem)\n",
        "                cStart += 1\n",
        "\n",
        "        return res\n"
      ],
      "metadata": {
        "id": "eaKwxHKbrOCz"
      },
      "execution_count": null,
      "outputs": []
    },
    {
      "cell_type": "markdown",
      "source": [],
      "metadata": {
        "id": "LgtrYA80rTEZ"
      }
    },
    {
      "cell_type": "code",
      "source": [],
      "metadata": {
        "id": "5DiVsASmrTUT"
      },
      "execution_count": null,
      "outputs": []
    },
    {
      "cell_type": "markdown",
      "source": [],
      "metadata": {
        "id": "wVLbBYNYrTqw"
      }
    },
    {
      "cell_type": "code",
      "source": [],
      "metadata": {
        "id": "35FHB88VrT0L"
      },
      "execution_count": null,
      "outputs": []
    },
    {
      "cell_type": "markdown",
      "source": [],
      "metadata": {
        "id": "FiSDp3wKrUBc"
      }
    },
    {
      "cell_type": "code",
      "source": [],
      "metadata": {
        "id": "F9PHkgNwrUKZ"
      },
      "execution_count": null,
      "outputs": []
    },
    {
      "cell_type": "markdown",
      "source": [],
      "metadata": {
        "id": "8fBlCrHerUVW"
      }
    },
    {
      "cell_type": "code",
      "source": [],
      "metadata": {
        "id": "SB5zvPRPrUfG"
      },
      "execution_count": null,
      "outputs": []
    },
    {
      "cell_type": "markdown",
      "source": [],
      "metadata": {
        "id": "mEDwezCDrUo_"
      }
    },
    {
      "cell_type": "code",
      "source": [],
      "metadata": {
        "id": "A2y9J1HgrUw-"
      },
      "execution_count": null,
      "outputs": []
    },
    {
      "cell_type": "markdown",
      "source": [],
      "metadata": {
        "id": "kbk_qQmtrb9Y"
      }
    },
    {
      "cell_type": "code",
      "source": [],
      "metadata": {
        "id": "1fE87GswrcIr"
      },
      "execution_count": null,
      "outputs": []
    }
  ]
}