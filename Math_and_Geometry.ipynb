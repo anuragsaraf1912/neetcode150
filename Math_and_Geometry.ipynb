{
  "nbformat": 4,
  "nbformat_minor": 0,
  "metadata": {
    "colab": {
      "provenance": [],
      "authorship_tag": "ABX9TyM1LnVs9zDzI0v3z+07xeM9",
      "include_colab_link": true
    },
    "kernelspec": {
      "name": "python3",
      "display_name": "Python 3"
    },
    "language_info": {
      "name": "python"
    }
  },
  "cells": [
    {
      "cell_type": "markdown",
      "metadata": {
        "id": "view-in-github",
        "colab_type": "text"
      },
      "source": [
        "<a href=\"https://colab.research.google.com/github/anuragsaraf1912/neetcode150/blob/main/Math_and_Geometry.ipynb\" target=\"_parent\"><img src=\"https://colab.research.google.com/assets/colab-badge.svg\" alt=\"Open In Colab\"/></a>"
      ]
    },
    {
      "cell_type": "markdown",
      "source": [
        "[P1: Rotate Image](https://neetcode.io/problems/rotate-matrix)"
      ],
      "metadata": {
        "id": "vvWkY3ASrNHo"
      }
    },
    {
      "cell_type": "code",
      "source": [
        "class Solution:\n",
        "    def rotate(self, matrix: List[List[int]]) -> None:\n",
        "        # Inplace Update Algorithm\n",
        "        # Time Complexity: O(n*n)\n",
        "        # Space Complexity: O(1)\n",
        "        # Approach: We create an r varaible to keep track of how deep we go in the matrix. The r can vary from [0,n//2)\n",
        "        #           The number of elements in the outermost layer would be n - 2*r because we remove the first and last elements as we go deep.\n",
        "        #           We rotate the outermost layer elements and visit each layer from outer to inner\n",
        "        #           As we have to rotate clockwise, we replace the elements anticlockwise saving the first element in temp\n",
        "\n",
        "        n = len(matrix[0])\n",
        "        for r in range(n//2):\n",
        "            # Visiting elements in the outermost layer\n",
        "            for i in range(n - 2*r - 1):\n",
        "                # top layer is saved\n",
        "                temp = matrix[r][r+i]\n",
        "                # Top layer updated by the left layer element\n",
        "                matrix[r][r+i] = matrix[n - r - 1 - i][r]\n",
        "                # Left layer element updated by the bottom layer element\n",
        "                matrix[n - r - 1 - i][r] = matrix[n - r - 1][n - r - 1 - i]\n",
        "                # Bottom layer element updated by the right layer element\n",
        "                matrix[n - r - 1][n - r - 1 - i] = matrix[r+i][n - r - 1]\n",
        "                # Right layer element updated by the temp value\n",
        "                matrix[r+i][n - r - 1] = temp\n"
      ],
      "metadata": {
        "id": "9sLh9uwKrNf-"
      },
      "execution_count": null,
      "outputs": []
    },
    {
      "cell_type": "code",
      "source": [
        "class Solution:\n",
        "    def rotate(self, matrix: List[List[int]]) -> None:\n",
        "        \"\"\"\n",
        "        Almost similar approach as above, the difference is the index i. In this approach we iterate over i\n",
        "        itself, instead of adding it on the top of r.\n",
        "\n",
        "        \"\"\"\n",
        "\n",
        "        n = len(matrix)\n",
        "        for r in range(n//2):\n",
        "            for i in range(r, n - r - 1):\n",
        "                temp = matrix[r][i]\n",
        "                matrix[r][i] = matrix[n-i-1][r]\n",
        "                matrix[n-i-1][r] = matrix[n-r-1][n-i-1]\n",
        "                matrix[n-r-1][n-i-1] = matrix[i][n-r-1]\n",
        "                matrix[i][n-r-1] = temp\n"
      ],
      "metadata": {
        "id": "zDtJ0pbYqjxK"
      },
      "execution_count": null,
      "outputs": []
    },
    {
      "cell_type": "markdown",
      "source": [
        "[P2: Spiral Matrix](https://neetcode.io/problems/spiral-matrix)"
      ],
      "metadata": {
        "id": "J4qb_8ICrNx-"
      }
    },
    {
      "cell_type": "code",
      "source": [
        "class Solution:\n",
        "    def spiralOrder(self, matrix: List[List[int]]) -> List[int]:\n",
        "\n",
        "        # Time Complexity: O(m*n)\n",
        "        # Space Complexity: O(m*n) (List to store results)\n",
        "        # The pointer on the left side is the one that is not printed, the pointer on the right has been printed.\n",
        "        # The printing will stop only when the left pointer coincides with the right pointer.\n",
        "        # Same is for the top (not printed) and bottom pointer (printed)\n",
        "\n",
        "\n",
        "        # Finding the rows and cols of the matrix\n",
        "        rows = len(matrix)\n",
        "        cols = len(matrix[0])\n",
        "\n",
        "        # Getting the index\n",
        "        rStart, rEnd = 0, rows\n",
        "        cStart, cEnd = 0, cols\n",
        "\n",
        "        res = []\n",
        "\n",
        "        while rStart < rEnd and cStart < cEnd:\n",
        "\n",
        "            # Print the top row\n",
        "            for col in range(cStart, cEnd):\n",
        "                elem = matrix[rStart][col]\n",
        "                res.append(elem)\n",
        "            rStart += 1\n",
        "\n",
        "            # Print last column\n",
        "            for row in range(rStart, rEnd):\n",
        "                elem = matrix[row][cEnd - 1]\n",
        "                res.append(elem)\n",
        "            cEnd -= 1\n",
        "\n",
        "            if rStart < rEnd and cStart < cEnd:\n",
        "                # Print the last row\n",
        "                for col in range(cEnd-1, cStart-1, -1):\n",
        "                    elem = matrix[rEnd - 1][col]\n",
        "                    res.append(elem)\n",
        "                rEnd -= 1\n",
        "\n",
        "                # Print the first column\n",
        "                for row in range(rEnd-1, rStart - 1, -1):\n",
        "                    elem = matrix[row][cStart]\n",
        "                    res.append(elem)\n",
        "                cStart += 1\n",
        "\n",
        "        return res\n"
      ],
      "metadata": {
        "id": "eaKwxHKbrOCz"
      },
      "execution_count": null,
      "outputs": []
    },
    {
      "cell_type": "markdown",
      "source": [
        "[P3: Set Matrix Zero](https://neetcode.io/problems/set-zeroes-in-matrix)"
      ],
      "metadata": {
        "id": "LgtrYA80rTEZ"
      }
    },
    {
      "cell_type": "code",
      "source": [
        "class Solution:\n",
        "    def setZeroes(self, matrix: List[List[int]]) -> None:\n",
        "\n",
        "        # Time Complexity: O(m*n)\n",
        "        # Space Complexity: O(1) (No extra storage)\n",
        "        # For each element with an entry of zero, replace the rows and columns elements with None.\n",
        "        # One more pass to replace the None values with 0.\n",
        "        # Slightly slower approach because it marks element None multiple times\n",
        "\n",
        "        rows, cols = len(matrix), len(matrix[0])\n",
        "\n",
        "        def substitute(r,c):\n",
        "            # Function to replace any element with None if the element itself is not 0\n",
        "            if matrix[r][c] != 0:\n",
        "                matrix[r][c] = None\n",
        "\n",
        "        def helper(r,c):\n",
        "            # Function to mark the whole row and col of an element with none\n",
        "            for i in range(rows):\n",
        "                substitute(i, c)\n",
        "            for j in range(cols):\n",
        "                substitute(r, j)\n",
        "\n",
        "        # Calling the helper function in case the element is 0\n",
        "        for i in range(rows):\n",
        "            for j in range(cols):\n",
        "                if matrix[i][j] == 0:\n",
        "                    helper(i,j)\n",
        "\n",
        "        for i in range(rows):\n",
        "            for j in range(cols):\n",
        "                if matrix[i][j] is None:\n",
        "                    matrix[i][j] = 0\n"
      ],
      "metadata": {
        "id": "5DiVsASmrTUT"
      },
      "execution_count": null,
      "outputs": []
    },
    {
      "cell_type": "code",
      "source": [
        "class Solution:\n",
        "    def setZeroes(self, matrix: List[List[int]]) -> None:\n",
        "\n",
        "        # Time Complexity: O(m*n)\n",
        "        # Space Complexity: O(1) (No extra storage)\n",
        "        # Faster than the above approach due to the markation in single pass instead of marking each element multiple times.\n",
        "        # We use the first row and column as the storage to save which rows and cols need to be udpated.\n",
        "\n",
        "        # Finding whether the first col and row needs updation\n",
        "        rows, cols = len(matrix), len(matrix[0])\n",
        "        firstRow = any([matrix[0][j] == 0 for j in range(cols)])\n",
        "        firstCol = any([matrix[i][0] == 0 for i in range(rows)])\n",
        "\n",
        "        # Saving the rows and cols to be marked as zero in the first row and col\n",
        "        for i in range(1, rows):\n",
        "            for j in range(1, cols):\n",
        "                if not matrix[i][j]:\n",
        "                    matrix[i][0] = 0\n",
        "                    matrix[0][j] = 0\n",
        "\n",
        "        # Setting rows and cols to zero based on the first entry\n",
        "        for i in range(1, rows):\n",
        "          for j in range(1, cols):\n",
        "            if matrix[0][j] == 0 or matrix[i][0] == 0:\n",
        "                    matrix[i][j] = 0\n",
        "\n",
        "        # If the first row needs to be marked as 0\n",
        "        if firstRow:\n",
        "            for j in range(cols):\n",
        "                matrix[0][j] = 0\n",
        "\n",
        "        # If the first col needs to be marked as 0\n",
        "        if firstCol:\n",
        "            for i in range(rows):\n",
        "                matrix[i][0] = 0\n",
        "\n"
      ],
      "metadata": {
        "id": "aRJKy0bT--D2"
      },
      "execution_count": null,
      "outputs": []
    },
    {
      "cell_type": "markdown",
      "source": [
        "[P4: Happy Number](https://neetcode.io/problems/non-cyclical-number)"
      ],
      "metadata": {
        "id": "wVLbBYNYrTqw"
      }
    },
    {
      "cell_type": "code",
      "source": [
        "class Solution:\n",
        "    \"\"\"\n",
        "    Space Complexity: O(logn) [Number of digits in n]\n",
        "    Time Complexity: O(logn)\n",
        "    Approach: Keep finding the sum of numbers. Save the number that is observed in a set.\n",
        "    In case we observe 1 or any number observed earlier, we stop.\n",
        "    \"\"\"\n",
        "\n",
        "    def sumOfSquares(self, num):\n",
        "        res = 0\n",
        "        while num:\n",
        "            digit = num%10\n",
        "            num //= 10\n",
        "            res += digit**2\n",
        "        return res\n",
        "\n",
        "    def isHappy(self, n: int) -> bool:\n",
        "        observed = {n}\n",
        "        while True:\n",
        "            n = self.sumOfSquares(n)\n",
        "            if n == 1: return True\n",
        "            if n in observed: return False\n",
        "            observed.add(n)\n"
      ],
      "metadata": {
        "id": "35FHB88VrT0L"
      },
      "execution_count": null,
      "outputs": []
    },
    {
      "cell_type": "code",
      "source": [
        "class Solution:\n",
        "\n",
        "    \"\"\"\n",
        "    Space Complexity: O(logn) [Number of digits in n]\n",
        "    Time Complexity: O(logn)\n",
        "    Approach: Use Floyd's cycle detection Algorithm. We start with fast and slow pointer and stop once they meet again.\n",
        "    We then start again with a slow pointer. Both slow pointers meet at the cycle start.\n",
        "    Let L: Cycle start length from start.\n",
        "        x: length inside cycle where they meet\n",
        "        C: length of the cycle\n",
        "\n",
        "        Based on the conditions, L+x = kC where k belongs to Natural number >= 1.\n",
        "        => L = kC - x\n",
        "        => If we start with the initial point again, both the slow pointers would be at the start of the cycle when they meet.\n",
        "\n",
        "        Here the cycle is of length one (1->1), so the first meet point should be at one itself if it is a happy number.\n",
        "    \"\"\"\n",
        "\n",
        "    def sumOfSquares(self, num):\n",
        "        res = 0\n",
        "        while num:\n",
        "            digit = num%10\n",
        "            num //= 10\n",
        "            res += digit**2\n",
        "        return res\n",
        "\n",
        "    def isHappy(self, n: int) -> bool:\n",
        "        slow, fast = n,n\n",
        "\n",
        "        while True:\n",
        "            slow = self.sumOfSquares(slow)\n",
        "            fast = self.sumOfSquares(self.sumOfSquares(fast))\n",
        "            if slow == fast: break\n",
        "\n",
        "        return slow == 1\n",
        "\n"
      ],
      "metadata": {
        "id": "Lk8JdBtd4DOK"
      },
      "execution_count": null,
      "outputs": []
    },
    {
      "cell_type": "markdown",
      "source": [
        "[P5: Plus One](https://neetcode.io/problems/plus-one)"
      ],
      "metadata": {
        "id": "FiSDp3wKrUBc"
      }
    },
    {
      "cell_type": "code",
      "source": [
        "class Solution:\n",
        "    def plusOne(self, digits: List[int]) -> List[int]:\n",
        "        \"\"\"\n",
        "        Time Complexity: O(n)\n",
        "        Space Complexity: O(n)\n",
        "        Approach: Store the digits and reverse. Keep updating the list as long as we see 9. As soon as other digit is visited, increase by 1\n",
        "                  and get out of the loop.\n",
        "        \"\"\"\n",
        "        revD = digits[::-1]\n",
        "        carry, index = 1, 0\n",
        "        while carry and index < len(revD):\n",
        "            if revD[index] == 9:\n",
        "                revD[index] = 0\n",
        "                index += 1\n",
        "            else:\n",
        "                revD[index] += 1\n",
        "                carry = 0\n",
        "        if carry: revD.append(1)\n",
        "        return revD[::-1]\n"
      ],
      "metadata": {
        "id": "F9PHkgNwrUKZ"
      },
      "execution_count": null,
      "outputs": []
    },
    {
      "cell_type": "markdown",
      "source": [
        "[P6: Pow (x,n)](https://neetcode.io/problems/pow-x-n)"
      ],
      "metadata": {
        "id": "8fBlCrHerUVW"
      }
    },
    {
      "cell_type": "code",
      "source": [
        "class Solution:\n",
        "    def myPow(self, x: float, n: int) -> float:\n",
        "        \"\"\"\n",
        "        Time Complexity: O(logn)\n",
        "        Space Complexity: O(logn) Recursive stack length\n",
        "        Approach: Using DnC, we find the product of the power//2 and check whether the power was odd or even. Extra term needs to be added in case\n",
        "                  the power is an odd number.\n",
        "        \"\"\"\n",
        "        # The base cases\n",
        "        if n == 0: return 1\n",
        "        if n == -1: return 1/x\n",
        "\n",
        "        nextPow = n//2\n",
        "        val = self.myPow(x, nextPow)\n",
        "        finalVal = x*val*val if n%2 else val*val\n",
        "\n",
        "        return finalVal"
      ],
      "metadata": {
        "id": "SB5zvPRPrUfG"
      },
      "execution_count": null,
      "outputs": []
    },
    {
      "cell_type": "markdown",
      "source": [
        "[P7: Multiply Strings](https://neetcode.io/problems/multiply-strings)"
      ],
      "metadata": {
        "id": "mEDwezCDrUo_"
      }
    },
    {
      "cell_type": "code",
      "source": [
        "class Solution:\n",
        "    def multiply(self, num1: str, num2: str) -> str:\n",
        "        \"\"\"\n",
        "        Time Complexity: O(n^2)\n",
        "        Space Complexity: O(n)\n",
        "        Approach: Divide the main problem into subproblems:\n",
        "                  1. Create functions to add two string of numbers without converting to integer.\n",
        "                  2. Create a function to multiply the string with a single digit\n",
        "                  3. Multiply num1 with each digit of num2 and add it to the result after shifting it to the right side.\n",
        "        \"\"\"\n",
        "\n",
        "\n",
        "        if num1 == '0' or num2 == '0': return '0'\n",
        "        if len(num1) < len(num2):\n",
        "            return self.multiply(num2, num1)\n",
        "\n",
        "        mapDict = {k:v for k,v in zip('0123456789', range(10))}\n",
        "\n",
        "        def addline(digit1, digit2, carry):\n",
        "            currSum = mapDict[digit1] + mapDict[digit2] + carry\n",
        "            carry = currSum // 10\n",
        "            digit = currSum % 10\n",
        "            return carry, str(digit)\n",
        "\n",
        "        # Function to add two strings of number in O(n) n = length of the max digit\n",
        "        def addStr(num1, num2):\n",
        "            results, carry = [], 0\n",
        "            n1, n2 = len(num1), len(num2)\n",
        "            for i in range(max(n1,n2)):\n",
        "                digit1, digit2 = '0','0'\n",
        "                if n1 - i - 1 >= 0:\n",
        "                    digit1 = num1[n1 - i - 1]\n",
        "                if n2 - i - 1 >= 0:\n",
        "                    digit2 = num2[n2 - i - 1]\n",
        "                carry, digit = addline(digit1, digit2, carry)\n",
        "                results.append(digit)\n",
        "\n",
        "            if carry: results.append(str(carry))\n",
        "            return ''.join(results[::-1])\n",
        "\n",
        "        # Function to multiply a string of number with a single digit in O(n)\n",
        "        def multStrSingle(num1, singleDigit):\n",
        "            result, carry = [], 0\n",
        "            for elem in num1[::-1]:\n",
        "                multVal = mapDict[elem] * mapDict[singleDigit] + carry\n",
        "                carry = multVal // 10\n",
        "                digit = multVal % 10\n",
        "                result.append(str(digit))\n",
        "            if carry: result.append(str(carry))\n",
        "            return ''.join(result[::-1])\n",
        "\n",
        "        final = '0'\n",
        "        # Multiply for each digit and add it to the final\n",
        "        for i in range(len(num2) - 1, -1, -1):\n",
        "            currMult = multStrSingle(num1, num2[i])\n",
        "            currMult += '0'*(len(num2) - i - 1)\n",
        "            final = addStr(final, currMult)\n",
        "\n",
        "        return final\n"
      ],
      "metadata": {
        "id": "A2y9J1HgrUw-"
      },
      "execution_count": null,
      "outputs": []
    },
    {
      "cell_type": "markdown",
      "source": [
        "[P8: Detect Squares](https://neetcode.io/problems/count-squares)"
      ],
      "metadata": {
        "id": "kbk_qQmtrb9Y"
      }
    },
    {
      "cell_type": "code",
      "source": [
        "class CountSquares:\n",
        "    \"\"\"\n",
        "        Time Complexity: add O(1)\n",
        "                         count O(n)\n",
        "        Space Complexity: O(n)\n",
        "        Approach: We use set to track points on the same x axis. The square must have same sides.\n",
        "        The freq count is needed because adding points two times are considered as different points.\n",
        "        The side length can be found using the difference of the x coordinate between current and already added points.\n",
        "\n",
        "    \"\"\"\n",
        "    def __init__(self):\n",
        "        self.freq = defaultdict(int)\n",
        "        self.xMap = defaultdict(set)\n",
        "\n",
        "    def add(self, point: List[int]) -> None:\n",
        "        x, y = point\n",
        "        self.xMap[x].add((x,y))\n",
        "        self.freq[(x,y)] += 1\n",
        "\n",
        "    def count(self, point: List[int]) -> int:\n",
        "        currX, currY = point\n",
        "        count = 0\n",
        "        for _ , y in self.xMap[currX]:\n",
        "            if y != currY:\n",
        "                sideLen = y - currY\n",
        "                count += self.freq[(currX, y)]*self.freq[(currX + sideLen, currY)]*self.freq[(currX + sideLen, y)]\n",
        "                count += self.freq[(currX, y)]*self.freq[(currX - sideLen, currY)]*self.freq[(currX - sideLen, y)]\n",
        "\n",
        "        return count\n",
        ""
      ],
      "metadata": {
        "id": "1fE87GswrcIr"
      },
      "execution_count": null,
      "outputs": []
    }
  ]
}