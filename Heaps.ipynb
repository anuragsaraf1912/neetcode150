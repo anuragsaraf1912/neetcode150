{
  "nbformat": 4,
  "nbformat_minor": 0,
  "metadata": {
    "colab": {
      "provenance": [],
      "authorship_tag": "ABX9TyPzWXcvZbhyASCoc5EWX37K",
      "include_colab_link": true
    },
    "kernelspec": {
      "name": "python3",
      "display_name": "Python 3"
    },
    "language_info": {
      "name": "python"
    }
  },
  "cells": [
    {
      "cell_type": "markdown",
      "metadata": {
        "id": "view-in-github",
        "colab_type": "text"
      },
      "source": [
        "<a href=\"https://colab.research.google.com/github/anuragsaraf1912/neetcode150/blob/main/Heaps.ipynb\" target=\"_parent\"><img src=\"https://colab.research.google.com/assets/colab-badge.svg\" alt=\"Open In Colab\"/></a>"
      ]
    },
    {
      "cell_type": "markdown",
      "source": [
        "[P1: Kth Largest Element in a Stream](https://neetcode.io/problems/kth-largest-integer-in-a-stream)"
      ],
      "metadata": {
        "id": "FRPKt0j3hCWo"
      }
    },
    {
      "cell_type": "code",
      "execution_count": null,
      "metadata": {
        "id": "-4UyPjv-g_kL"
      },
      "outputs": [],
      "source": [
        "class KthLargest:\n",
        "    \"\"\"\n",
        "    # Space Complexity: O(k) for the heap\n",
        "    # Time Complexity: O(logk) for a single call of add method.\n",
        "    # Use a Min heap data structure and store all elements. Pop elements untill only k elements are remaining.\n",
        "    # Each time an element is added, put that in the heap, and pop the minimum element in case the size is > k.\n",
        "    # The first element is the kth Largest seen till now.\n",
        "    \"\"\"\n",
        "    def __init__(self, k: int, nums: List[int]):\n",
        "        self.nums = nums\n",
        "        self.k = k\n",
        "        heapq.heapify(nums)\n",
        "        while len(self.nums) > self.k:\n",
        "            heapq.heappop(self.nums)\n",
        "\n",
        "    def add(self, val: int) -> int:\n",
        "        heapq.heappush(self.nums, val)\n",
        "        if len(self.nums) > self.k:\n",
        "            heapq.heappop(self.nums)\n",
        "\n",
        "        return self.nums[0]\n"
      ]
    },
    {
      "cell_type": "markdown",
      "source": [
        "[P2: Last Stone weight](https://neetcode.io/problems/last-stone-weight)"
      ],
      "metadata": {
        "id": "FYjumGpNhBhP"
      }
    },
    {
      "cell_type": "code",
      "source": [
        "class Solution:\n",
        "    def lastStoneWeight(self, stones: List[int]) -> int:\n",
        "    \"\"\"\n",
        "    # Space Complexity: O(n) for the heap\n",
        "    # Time Complexity: O(nlogn)\n",
        "    Approach: Use a max-heap (by negating values) to always access the two heaviest stones.\n",
        "              Repeatedly pop the top two, subtract their weights, and push the result back if they’re not equal.\n",
        "              Return the final stone or 0 if none remain.\n",
        "    \"\"\"\n",
        "\n",
        "        # Create Max Heap from the stones\n",
        "        import heapq\n",
        "        stones = [-stone for stone in stones]\n",
        "        heapq.heapify(stones)\n",
        "\n",
        "        # Keep Running the simulation until one stone is remaning\n",
        "        while len(stones) > 1:\n",
        "            maxS1 = -heapq.heappop(stones)\n",
        "            maxS2 = -heapq.heappop(stones)\n",
        "\n",
        "            # Enter the stone after smashing\n",
        "            if maxS1 > maxS2:\n",
        "                heapq.heappush(stones, maxS2 - maxS1)\n",
        "            elif maxS2 > maxS1:\n",
        "                heapq.heappush(stones, maxS1 - maxS2)\n",
        "\n",
        "        return -stones[0] if stones else 0"
      ],
      "metadata": {
        "id": "Mtu0pELojFvd"
      },
      "execution_count": null,
      "outputs": []
    },
    {
      "cell_type": "markdown",
      "source": [
        "[P3: K Closest point to the Origin](https://neetcode.io/problems/k-closest-points-to-origin)"
      ],
      "metadata": {
        "id": "EiOJmpATY6kC"
      }
    },
    {
      "cell_type": "code",
      "source": [
        "class Solution:\n",
        "    def kClosest(self, points: List[List[int]], k: int) -> List[List[int]]:\n",
        "\n",
        "        \"\"\"\n",
        "        # Space Complexity: O(n)\n",
        "        # Time Complexity: O(nlogk) # The max number of values in the heap is k\n",
        "        # Approach: Use a max-heap to keep track of the k closest points by storing negative distances.\n",
        "                    For each point, push it into the heap and remove the farthest if the size exceeds k.\n",
        "                    Finally, return the points remaining in the heap.\n",
        "        \"\"\"\n",
        "\n",
        "        # Initialize the heap DS\n",
        "        import heapq\n",
        "        import math\n",
        "        result, distHeap = [], []\n",
        "        heapq.heapify(distHeap)\n",
        "\n",
        "        for x,y in points:\n",
        "            dist = math.sqrt(x**2 + y**2)\n",
        "            # Add to the heap if the elements are less than k\n",
        "            if len(distHeap) == k: heapq.heappushpop(distHeap, (-dist, x, y))\n",
        "            # Remove from the heap when there are k elements in the Heap\n",
        "            else: heapq.heappush(distHeap, (-dist, x, y))\n",
        "\n",
        "        for _ in range(k):\n",
        "            d, x, y = heapq.heappop(distHeap)\n",
        "            result.append([x,y])\n",
        "\n",
        "        return result"
      ],
      "metadata": {
        "id": "RGGgv1aUY7Ir"
      },
      "execution_count": null,
      "outputs": []
    },
    {
      "cell_type": "markdown",
      "source": [
        "[P4: Kth Largest element in an Array](https://neetcode.io/problems/kth-largest-element-in-an-array)"
      ],
      "metadata": {
        "id": "BEYcsoQRY7yM"
      }
    },
    {
      "cell_type": "code",
      "source": [
        "class Solution:\n",
        "    \"\"\"\n",
        "    Space Complexity: O(n)\n",
        "    Time Complexity: O(nlogk) # The max number of values in the heap is k\n",
        "    Appraoch: Use a min-heap to maintain the top k largest elements seen so far. By keeping the heap size at most k,\n",
        "    the smallest of the top k elements is always at the root, giving the kth largest element at the end.\n",
        "    \"\"\"\n",
        "    def findKthLargest(self, nums: List[int], k: int) -> int:\n",
        "        # Initialize Heap DS\n",
        "        import heapq\n",
        "        minHeap = []\n",
        "        heapq.heapify(minHeap)\n",
        "        for num in nums:\n",
        "            if len(minHeap) < k:\n",
        "                heapq.heappush(minHeap, num)\n",
        "            else:\n",
        "                heapq.heappushpop(minHeap, num)\n",
        "\n",
        "        return heapq.heappop(minHeap)\n"
      ],
      "metadata": {
        "id": "ufcUvmUIY8KG"
      },
      "execution_count": null,
      "outputs": []
    },
    {
      "cell_type": "markdown",
      "source": [
        "[P5: Task Scheduler](https://neetcode.io/problems/task-scheduling)"
      ],
      "metadata": {
        "id": "Yk8PKiyzY8wu"
      }
    },
    {
      "cell_type": "code",
      "source": [
        "class Solution:\n",
        "    def leastInterval(self, tasks: List[str], n: int) -> int:\n",
        "\n",
        "    \"\"\"\n",
        "    # Space Complexity: O(1) as there are only 26 possible tasks\n",
        "    # Time Complexity: O(n) n is the number of tasks (while loop for n times, heap is of max 26 and thus each run is O(1))\n",
        "    # There are two variables to consider\n",
        "      # 1. Number of tasks remaining (The max frequency task should get excecuted first)\n",
        "      # 2. The time remaining for cooldown (Task can be performed only when cooldown is complete)\n",
        "      # 3. The following approach uses a max-heap to always schedule the most frequent available task and a queue to manage cooldown periods.\n",
        "      Time is incremented step-by-step, and tasks are re-added to the heap once their cooldown expires.\n",
        "\n",
        "    \"\"\"\n",
        "        taskMap = Counter(tasks)\n",
        "        taskHeap, taskQueue = [], deque()\n",
        "        # Generating the taskheap\n",
        "        for task in taskMap:\n",
        "            heapq.heappush(taskHeap, (-taskMap[task], task))\n",
        "\n",
        "        time = 0\n",
        "        while taskQueue or taskHeap:\n",
        "            time += 1\n",
        "            # In case the task queue is ready\n",
        "            if taskHeap:\n",
        "                freq, currTask = heapq.heappop(taskHeap)\n",
        "                if freq != -1:\n",
        "                    taskQueue.append((time + n, freq+1, currTask))\n",
        "\n",
        "            if taskQueue and taskQueue[0][0] <= time:\n",
        "                t, f, task = taskQueue.popleft()\n",
        "                heapq.heappush(taskHeap, (f, task))\n",
        "\n",
        "        return time"
      ],
      "metadata": {
        "id": "rhrQhcLEY9cR"
      },
      "execution_count": null,
      "outputs": []
    },
    {
      "cell_type": "markdown",
      "source": [
        "[P6: Design Twitter](https://neetcode.io/problems/design-twitter-feed)"
      ],
      "metadata": {
        "id": "W-DFMN59Y-aX"
      }
    },
    {
      "cell_type": "code",
      "source": [
        "    \"\"\"\n",
        "    Space Complexity: O(f^2 + t) f^2 for keeping track of the followers interactions and t for the number of tweets.\n",
        "    Time Complexity: postTweet - O(1)\n",
        "                     getNewsFeed - O(f) time take to build the heap. Once built, the heap takes 10*logf time to generate the feed.\n",
        "                     follow - O(1)\n",
        "                     unfollow - O(1)\n",
        "    Approach: The time is stored as a count everytime a new tweet is added. Tweets and followerId are stored as HashMaps.\n",
        "              postTweet, follow and unfollow are straightforward to implement.\n",
        "              For the news feeds, we generate the heap using the latest tweet from all the users.\n",
        "              We extract the latest tweet and replace it with the next tweet of the same user in case the tweets are not exhausted.\n",
        "    \"\"\"\n",
        "class Twitter:\n",
        "    from collections import defaultdict\n",
        "    def __init__(self):\n",
        "        self.followersMap = defaultdict(set) # Stored as HashMap: userId -> Set\n",
        "        self.tweets = defaultdict(list) # Stored as HashMap: userId -> list\n",
        "        self.clock = 0\n",
        "\n",
        "    def postTweet(self, userId: int, tweetId: int) -> None:\n",
        "        self.clock -= 1\n",
        "        self.tweets[userId].append((self.clock, tweetId))\n",
        "        if userId not in self.followersMap[userId]:\n",
        "            self.followersMap[userId].add(userId)\n",
        "\n",
        "    def getTweet(self, userId, index):\n",
        "        if index == -1: return None\n",
        "        return *self.tweets[userId][index], userId # Return the tweet as the time, tweet, user tuple\n",
        "\n",
        "    def getHeap(self, indexMap):\n",
        "        # The function to get the heap from the users and the index of the latest tweet from those users\n",
        "        heap = []\n",
        "        for user in indexMap:\n",
        "            index = indexMap[user]\n",
        "            time, tweetId = self.tweets[user][index]\n",
        "            heapq.heappush(heap, (time, tweetId, user))\n",
        "        return heap\n",
        "\n",
        "    def getNewsFeed(self, userId: int) -> List[int]:\n",
        "        usersToGetTweets = self.followersMap[userId]\n",
        "        # Add the index of the latest tweet from the users if there are tweets for that user\n",
        "        indexMap = {u:len(self.tweets[u]) - 1 for u in usersToGetTweets if self.tweets[u]}\n",
        "        heap = self.getHeap(indexMap)\n",
        "        result = []\n",
        "        while heap and len(result) < 10:\n",
        "            time, tweetId, userId = heapq.heappop(heap)\n",
        "            result.append(tweetId)\n",
        "            # Add the next tweet for the same user in the heap\n",
        "            indexMap[userId] -= 1\n",
        "            newEntry = self.getTweet(userId, indexMap[userId])\n",
        "            if newEntry: heapq.heappush(heap, newEntry)\n",
        "\n",
        "        return result\n",
        "\n",
        "    def follow(self, followerId: int, followeeId: int) -> None:\n",
        "        self.followersMap[followerId].add(followeeId)\n",
        "\n",
        "    def unfollow(self, followerId: int, followeeId: int) -> None:\n",
        "        if followerId != followeeId and followeeId in self.followersMap[followerId]:\n",
        "            self.followersMap[followerId].remove(followeeId)\n"
      ],
      "metadata": {
        "id": "bhoAkELJN06t"
      },
      "execution_count": null,
      "outputs": []
    },
    {
      "cell_type": "markdown",
      "source": [
        "[P7: Find Median from Data Stream](https://neetcode.io/problems/find-median-in-a-data-stream)"
      ],
      "metadata": {
        "id": "bLjNzEN3Y_rM"
      }
    },
    {
      "cell_type": "code",
      "source": [
        "import heapq\n",
        "class MedianFinder:\n",
        "    \"\"\"\n",
        "    Space Complexity: O(n) for the heap structure\n",
        "    Time Complexity: O(logn) for addNum and O(1) for find Median\n",
        "    Approach: Use two heaps to maintain the lower and upper halves of the data, ensuring quick median retrieval.\n",
        "              The max-heap (lowerVals) stores the smaller half, and the min-heap (higherVals) stores the larger half,\n",
        "              allowing median calculation in constant time.\n",
        "    \"\"\"\n",
        "\n",
        "    def __init__(self):\n",
        "        self.lowerVals = []\n",
        "        self.higherVals = []\n",
        "\n",
        "    def addNum(self, num: int) -> None:\n",
        "        # Add the element to higher when current is even\n",
        "        if len(self.lowerVals) == len(self.higherVals):\n",
        "            heapq.heappush(self.higherVals, -heapq.heappushpop(self.lowerVals, -num))\n",
        "\n",
        "        # Add the element to lower when current is odd\n",
        "        else: heapq.heappush(self.lowerVals, -heapq.heappushpop(self.higherVals, num))\n",
        "\n",
        "    def findMedian(self) -> float:\n",
        "        if len(self.lowerVals) != len(self.higherVals): return self.higherVals[0]\n",
        "        return (self.higherVals[0] - self.lowerVals[0])/2\n",
        "\n"
      ],
      "metadata": {
        "id": "ZXWUh1TIZAWG"
      },
      "execution_count": null,
      "outputs": []
    }
  ]
}