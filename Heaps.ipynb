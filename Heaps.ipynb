{
  "nbformat": 4,
  "nbformat_minor": 0,
  "metadata": {
    "colab": {
      "provenance": [],
      "authorship_tag": "ABX9TyPApMXv4u5URCm2aDgZDNYz",
      "include_colab_link": true
    },
    "kernelspec": {
      "name": "python3",
      "display_name": "Python 3"
    },
    "language_info": {
      "name": "python"
    }
  },
  "cells": [
    {
      "cell_type": "markdown",
      "metadata": {
        "id": "view-in-github",
        "colab_type": "text"
      },
      "source": [
        "<a href=\"https://colab.research.google.com/github/anuragsaraf1912/neetcode150/blob/main/Heaps.ipynb\" target=\"_parent\"><img src=\"https://colab.research.google.com/assets/colab-badge.svg\" alt=\"Open In Colab\"/></a>"
      ]
    },
    {
      "cell_type": "markdown",
      "source": [
        "[P1: Kth Largest Element in a Stream](https://neetcode.io/problems/kth-largest-integer-in-a-stream)"
      ],
      "metadata": {
        "id": "FRPKt0j3hCWo"
      }
    },
    {
      "cell_type": "code",
      "execution_count": null,
      "metadata": {
        "id": "-4UyPjv-g_kL"
      },
      "outputs": [],
      "source": [
        "class KthLargest:\n",
        "\n",
        "    # Space Complexity: O(k) for the heap\n",
        "    # Time Complexity: O(logk) for a single call of add method.\n",
        "    # Use a Min heap data structure and store all elements. Pop elements untill only k elements are remaining.\n",
        "    # Each time an element is added, put that in the heap, and pop the minimum element in case the size is > k.\n",
        "    # The first element is the kth Largest seen till now.\n",
        "\n",
        "    def __init__(self, k: int, nums: List[int]):\n",
        "        self.nums = nums\n",
        "        self.k = k\n",
        "        heapq.heapify(nums)\n",
        "        while len(self.nums) > self.k:\n",
        "            heapq.heappop(self.nums)\n",
        "\n",
        "    def add(self, val: int) -> int:\n",
        "        heapq.heappush(self.nums, val)\n",
        "        if len(self.nums) > self.k:\n",
        "            heapq.heappop(self.nums)\n",
        "\n",
        "        return self.nums[0]\n"
      ]
    },
    {
      "cell_type": "markdown",
      "source": [],
      "metadata": {
        "id": "FYjumGpNhBhP"
      }
    }
  ]
}