{
  "nbformat": 4,
  "nbformat_minor": 0,
  "metadata": {
    "colab": {
      "provenance": [],
      "authorship_tag": "ABX9TyPhWOpOw8ZlaDxvuYsvmNo8",
      "include_colab_link": true
    },
    "kernelspec": {
      "name": "python3",
      "display_name": "Python 3"
    },
    "language_info": {
      "name": "python"
    }
  },
  "cells": [
    {
      "cell_type": "markdown",
      "metadata": {
        "id": "view-in-github",
        "colab_type": "text"
      },
      "source": [
        "<a href=\"https://colab.research.google.com/github/anuragsaraf1912/neetcode150/blob/main/Heaps.ipynb\" target=\"_parent\"><img src=\"https://colab.research.google.com/assets/colab-badge.svg\" alt=\"Open In Colab\"/></a>"
      ]
    },
    {
      "cell_type": "markdown",
      "source": [
        "[P1: Kth Largest Element in a Stream](https://neetcode.io/problems/kth-largest-integer-in-a-stream)"
      ],
      "metadata": {
        "id": "FRPKt0j3hCWo"
      }
    },
    {
      "cell_type": "code",
      "execution_count": null,
      "metadata": {
        "id": "-4UyPjv-g_kL"
      },
      "outputs": [],
      "source": [
        "class KthLargest:\n",
        "\n",
        "    # Space Complexity: O(k) for the heap\n",
        "    # Time Complexity: O(logk) for a single call of add method.\n",
        "    # Use a Min heap data structure and store all elements. Pop elements untill only k elements are remaining.\n",
        "    # Each time an element is added, put that in the heap, and pop the minimum element in case the size is > k.\n",
        "    # The first element is the kth Largest seen till now.\n",
        "\n",
        "    def __init__(self, k: int, nums: List[int]):\n",
        "        self.nums = nums\n",
        "        self.k = k\n",
        "        heapq.heapify(nums)\n",
        "        while len(self.nums) > self.k:\n",
        "            heapq.heappop(self.nums)\n",
        "\n",
        "    def add(self, val: int) -> int:\n",
        "        heapq.heappush(self.nums, val)\n",
        "        if len(self.nums) > self.k:\n",
        "            heapq.heappop(self.nums)\n",
        "\n",
        "        return self.nums[0]\n"
      ]
    },
    {
      "cell_type": "markdown",
      "source": [
        "[P2: Last Stone weight](https://neetcode.io/problems/last-stone-weight)"
      ],
      "metadata": {
        "id": "FYjumGpNhBhP"
      }
    },
    {
      "cell_type": "code",
      "source": [
        "class Solution:\n",
        "    def lastStoneWeight(self, stones: List[int]) -> int:\n",
        "\n",
        "    # Space Complexity: O(n) for the heap\n",
        "    # Time Complexity: O(nlogn)\n",
        "    # Use a Max heap data structure and store all elements. Storing negative numbers to use the Minheap implementation of heapq.\n",
        "    # Get the top 2 stones and get the smaller stone.\n",
        "    # Edge case: If the last two elements are same in value, no stone would be there.\n",
        "\n",
        "\n",
        "        # Create Max Heap from the stones\n",
        "        import heapq\n",
        "        stones = [-stone for stone in stones]\n",
        "        heapq.heapify(stones)\n",
        "\n",
        "        # Keep Running the simulation until one stone is remaning\n",
        "        while len(stones) > 1:\n",
        "            maxS1 = -heapq.heappop(stones)\n",
        "            maxS2 = -heapq.heappop(stones)\n",
        "\n",
        "            # Enter the stone after smashing\n",
        "            if maxS1 > maxS2:\n",
        "                heapq.heappush(stones, maxS2 - maxS1)\n",
        "            elif maxS2 > maxS1:\n",
        "                heapq.heappush(stones, maxS1 - maxS2)\n",
        "\n",
        "        return -stones[0] if stones else 0"
      ],
      "metadata": {
        "id": "Mtu0pELojFvd"
      },
      "execution_count": null,
      "outputs": []
    },
    {
      "cell_type": "markdown",
      "source": [
        "[P3: K Closest point to the Origin](https://neetcode.io/problems/k-closest-points-to-origin)"
      ],
      "metadata": {
        "id": "EiOJmpATY6kC"
      }
    },
    {
      "cell_type": "code",
      "source": [
        "class Solution:\n",
        "    def kClosest(self, points: List[List[int]], k: int) -> List[List[int]]:\n",
        "\n",
        "        # Space Complexity: O(n)\n",
        "        # Time Complexity: O(nlogk) # The max number of values in the heap is k\n",
        "        # We push the arrays in a Max heap and ensure that the number of elements in the heap doesn't exceed k.\n",
        "\n",
        "\n",
        "\n",
        "        # Initialize the heap DS\n",
        "        import heapq\n",
        "        import math\n",
        "        result, distHeap = [], []\n",
        "        heapq.heapify(distHeap)\n",
        "\n",
        "        for x,y in points:\n",
        "            dist = math.sqrt(x**2 + y**2)\n",
        "            # Add to the heap if the elements are less than k\n",
        "            if len(distHeap) == k: heapq.heappushpop(distHeap, (-dist, x, y))\n",
        "            # Remove from the heap when there are k elements in the Heap\n",
        "            else: heapq.heappush(distHeap, (-dist, x, y))\n",
        "\n",
        "        for _ in range(k):\n",
        "            d, x, y = heapq.heappop(distHeap)\n",
        "            result.append([x,y])\n",
        "\n",
        "        return result"
      ],
      "metadata": {
        "id": "RGGgv1aUY7Ir"
      },
      "execution_count": null,
      "outputs": []
    },
    {
      "cell_type": "markdown",
      "source": [
        "[P4: Kth Largest element in an Array](https://neetcode.io/problems/kth-largest-element-in-an-array)"
      ],
      "metadata": {
        "id": "BEYcsoQRY7yM"
      }
    },
    {
      "cell_type": "code",
      "source": [
        "class Solution:\n",
        "    # Space Complexity: O(n)\n",
        "    # Time Complexity: O(nlogk) # The max number of values in the heap is k\n",
        "    # We push the arrays in a Min heap and ensure that the number of elements in the heap doesn't exceed k.\n",
        "\n",
        "    def findKthLargest(self, nums: List[int], k: int) -> int:\n",
        "        # Initialize Heap DS\n",
        "        import heapq\n",
        "        minHeap = []\n",
        "        heapq.heapify(minHeap)\n",
        "        for num in nums:\n",
        "            if len(minHeap) < k:\n",
        "                heapq.heappush(minHeap, num)\n",
        "            else:\n",
        "                heapq.heappushpop(minHeap, num)\n",
        "\n",
        "        return heapq.heappop(minHeap)\n"
      ],
      "metadata": {
        "id": "ufcUvmUIY8KG"
      },
      "execution_count": null,
      "outputs": []
    },
    {
      "cell_type": "markdown",
      "source": [
        "[P5: Task Scheduler](https://neetcode.io/problems/task-scheduling)"
      ],
      "metadata": {
        "id": "Yk8PKiyzY8wu"
      }
    },
    {
      "cell_type": "code",
      "source": [
        "class Solution:\n",
        "    def leastInterval(self, tasks: List[str], n: int) -> int:\n",
        "\n",
        "        # Space Complexity: O(1) as there are only 26 possible tasks\n",
        "        # Time Complexity: O(n) n is the number of tasks (while loop for n times, heap is of max 26 and thus each run is O(1))\n",
        "\n",
        "\n",
        "        # There are two variables to consider\n",
        "        # 1. Number of tasks remaining (The max frequency task should get excecuted first)\n",
        "        # 2. The time remaining for cooldown (Task can be performed only when cooldown is complete)\n",
        "\n",
        "        from collections import Counter, deque\n",
        "        import heapq\n",
        "\n",
        "        # Generating the counter of the tasks\n",
        "        tasksC = Counter(tasks)\n",
        "\n",
        "        # Creating a max Heap by storing negative values of frequency\n",
        "        tHeap = []\n",
        "        heapq.heapify(tHeap)\n",
        "        for k in tasksC:\n",
        "            heapq.heappush(tHeap, (-tasksC[k],k))\n",
        "\n",
        "        # Creating a priority queue\n",
        "        queue = deque()\n",
        "\n",
        "        time = 0\n",
        "        while tHeap or queue:\n",
        "            # If the cooldown period for any task is over, add to the heap\n",
        "            if queue and queue[0][0] == time:\n",
        "                cd, freq, task = queue.popleft()\n",
        "                heapq.heappush(tHeap, (freq, task))\n",
        "\n",
        "            # Execute the top task in the Heap\n",
        "            if tHeap:\n",
        "                freq, task = heapq.heappop(tHeap)\n",
        "\n",
        "            # If the freq is still remaining, put it in the queue (cooldown, freq, task)\n",
        "                freq += 1\n",
        "                if freq:\n",
        "                    queue.append((time+n+1, freq, task))\n",
        "\n",
        "            # increment the time\n",
        "            time += 1\n",
        "\n",
        "        return time"
      ],
      "metadata": {
        "id": "rhrQhcLEY9cR"
      },
      "execution_count": null,
      "outputs": []
    },
    {
      "cell_type": "markdown",
      "source": [
        "[P6: Design Twitter](https://neetcode.io/problems/design-twitter-feed)"
      ],
      "metadata": {
        "id": "W-DFMN59Y-aX"
      }
    },
    {
      "cell_type": "code",
      "source": [
        "class Twitter:\n",
        "    import heapq\n",
        "\n",
        "    # Anytime a new post is done, update the feeds for all its followers\n",
        "\n",
        "    def __init__(self):\n",
        "        self.followersMap = defaultdict(set)\n",
        "        self.tweetMap = defaultdict(list)\n",
        "        self.idToTweet = {}\n",
        "        self.countT = 0\n",
        "\n",
        "    def postTweet(self, userId: int, tweetId: int) -> None:\n",
        "        self.countT += 1\n",
        "        self.idToTweet[self.countT] = tweetId\n",
        "        self.tweetMap[userId].append(self.countT)\n",
        "\n",
        "    def pushForAUser(self, user, heap):\n",
        "        for tweet in self.tweetMap[user]:\n",
        "            if len(heap) >= 10:\n",
        "                heapq.heappushpop(heap, tweet)\n",
        "            else: heapq.heappush(heap, tweet)\n",
        "\n",
        "        return heap\n",
        "\n",
        "    def getNewsFeed(self, userId: int) -> List[int]:\n",
        "\n",
        "        #Create a Heap\n",
        "        feeds = []\n",
        "        heapq.heapify(feeds)\n",
        "\n",
        "        feeds = self.pushForAUser(userId, feeds)\n",
        "        for user in self.followersMap[userId]:\n",
        "            feeds = self.pushForAUser(user, feeds)\n",
        "\n",
        "        results = []\n",
        "        for i in range(len(feeds)):\n",
        "            results.append(heapq.heappop(feeds))\n",
        "        return [self.idToTweet[r] for r in results[::-1]]\n",
        "\n",
        "    def follow(self, followerId: int, followeeId: int) -> None:\n",
        "        if followerId != followeeId:\n",
        "            self.followersMap[followerId].add(followeeId)\n",
        "\n",
        "    def unfollow(self, followerId: int, followeeId: int) -> None:\n",
        "        if followerId != followeeId \\\n",
        "        and followeeId in self.followersMap[followerId]:\n",
        "            self.followersMap[followerId].remove(followeeId)\n",
        "\n"
      ],
      "metadata": {
        "id": "FlVailjYY_Ms"
      },
      "execution_count": null,
      "outputs": []
    },
    {
      "cell_type": "code",
      "source": [],
      "metadata": {
        "id": "bhoAkELJN06t"
      },
      "execution_count": null,
      "outputs": []
    },
    {
      "cell_type": "markdown",
      "source": [
        "[P7: Find Median from Data Stream](https://neetcode.io/problems/find-median-in-a-data-stream)"
      ],
      "metadata": {
        "id": "bLjNzEN3Y_rM"
      }
    },
    {
      "cell_type": "code",
      "source": [
        "import heapq\n",
        "class MedianFinder:\n",
        "\n",
        "    # Space Complexity: O(n) for the heap structure\n",
        "    # Time Complexity: O(logn) for addNum and O(1) for find Median\n",
        "    # There are two heaps one min Heap for the right side, and one max Heap for the left side\n",
        "    # The value to add will be compared and added appropriately.\n",
        "\n",
        "\n",
        "    def __init__(self):\n",
        "        self.lowerVals = []\n",
        "        self.higherVals = []\n",
        "        heapq.heapify(self.lowerVals)\n",
        "        heapq.heapify(self.higherVals)\n",
        "\n",
        "    def addNum(self, num: int) -> None:\n",
        "        # Add the element to higher when current is even\n",
        "        if len(self.lowerVals) == len(self.higherVals):\n",
        "            heapq.heappush(self.higherVals, -heapq.heappushpop(self.lowerVals, -num))\n",
        "\n",
        "        # Add the element to lower when current is odd\n",
        "        else: heapq.heappush(self.lowerVals, -heapq.heappushpop(self.higherVals, num))\n",
        "\n",
        "    def findMedian(self) -> float:\n",
        "        if len(self.lowerVals) != len(self.higherVals): return self.higherVals[0]\n",
        "        return (self.higherVals[0] - self.lowerVals[0])/2\n",
        "\n"
      ],
      "metadata": {
        "id": "ZXWUh1TIZAWG"
      },
      "execution_count": null,
      "outputs": []
    }
  ]
}