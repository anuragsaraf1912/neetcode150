{
  "nbformat": 4,
  "nbformat_minor": 0,
  "metadata": {
    "colab": {
      "provenance": [],
      "include_colab_link": true
    },
    "kernelspec": {
      "name": "python3",
      "display_name": "Python 3"
    },
    "language_info": {
      "name": "python"
    }
  },
  "cells": [
    {
      "cell_type": "markdown",
      "metadata": {
        "id": "view-in-github",
        "colab_type": "text"
      },
      "source": [
        "<a href=\"https://colab.research.google.com/github/anuragsaraf1912/neetcode150/blob/main/1D_Dynamic_Programming.ipynb\" target=\"_parent\"><img src=\"https://colab.research.google.com/assets/colab-badge.svg\" alt=\"Open In Colab\"/></a>"
      ]
    },
    {
      "cell_type": "markdown",
      "source": [
        "[P1: Climbing Stairs](https://neetcode.io/problems/climbing-stairs)"
      ],
      "metadata": {
        "id": "0sLfYIZMQQPA"
      }
    },
    {
      "cell_type": "code",
      "execution_count": null,
      "metadata": {
        "id": "-hRRu2vbQDvj"
      },
      "outputs": [],
      "source": [
        "class Solution:\n",
        "\"\"\"\n",
        "Time Complexity: O(n)\n",
        "Space Complexity: O(1)\n",
        "Approach: The Series is the Fibonacci sequence. The number of ways at any step is the sum of the previous step and one step before that.\n",
        "\"\"\"\n",
        "\n",
        "    def climbStairs(self, n: int) -> int:\n",
        "        curr, prev = 1,0\n",
        "        for _ in range(n):\n",
        "            nextCurr = curr + prev\n",
        "            curr, prev = nextCurr, curr\n",
        "\n",
        "        return curr"
      ]
    },
    {
      "cell_type": "markdown",
      "source": [
        "[P2: Min Cost Climbing Stairs](https://neetcode.io/problems/min-cost-climbing-stairs)\n",
        "\n"
      ],
      "metadata": {
        "id": "earbIgrTQOz4"
      }
    },
    {
      "cell_type": "code",
      "source": [
        "class Solution:\n",
        "\"\"\"\n",
        "Time Complexity: O(n)\n",
        "Space Complexity: O(1)\n",
        "Approach: At each point, we can use the current stair only when we have used the previous stair or the stair before that.\n",
        "          We keep track of the min cost before the current stair and one before that.\n",
        "          We then use the current stair and consider the minimum cost when that is used.\n",
        "\"\"\"\n",
        "\n",
        "    def minCostClimbingStairs(self, cost: List[int]) -> int:\n",
        "        prev, prev2 = 0,0\n",
        "        for c in cost:\n",
        "            curr = min(prev, prev2) + c\n",
        "            prev, prev2 = curr, prev\n",
        "\n",
        "        return min(prev, prev2)\n"
      ],
      "metadata": {
        "id": "Ib3kaIdPQVLQ"
      },
      "execution_count": null,
      "outputs": []
    },
    {
      "cell_type": "markdown",
      "source": [
        "[P3: House Robber](https://neetcode.io/problems/house-robber)"
      ],
      "metadata": {
        "id": "NATbl2-7R89f"
      }
    },
    {
      "cell_type": "code",
      "source": [
        " \"\"\"\n",
        "Time Complexity: O(n)\n",
        "Space Complexity: O(1)\n",
        "Approach: The main observation in this question is that the robber can skip at max 2 houses.\n",
        "          The robber can always choose the middle one instead of skipping three houses.\n",
        "          So if the current house n is robbed, the previous house robbed must be n-2 or n-3. Loot(n) is the sequence ending with house n.\n",
        "          Optimal substructure:\n",
        "                  loot(n) = house(n) + max[loot(n-2), loot(n-3)]\n",
        "\"\"\"\n",
        "\n",
        "class Solution:\n",
        "    def rob(self, nums: List[int]) -> int:\n",
        "        prevHouse, prev2House, prev3House = 0,0,0\n",
        "        for elem in nums:\n",
        "            curr = elem + max(prev2House, prev3House)\n",
        "            prevHouse, prev2House, prev3House = curr, prevHouse, prev2House\n",
        "\n",
        "        return max(prevHouse, prev2House)\n"
      ],
      "metadata": {
        "id": "8XdVX_BdR_Kn"
      },
      "execution_count": null,
      "outputs": []
    },
    {
      "cell_type": "markdown",
      "source": [
        "[P4: House Robber 2](https://neetcode.io/problems/house-robber-ii)"
      ],
      "metadata": {
        "id": "NCZ3gCUWL-BA"
      }
    },
    {
      "cell_type": "code",
      "source": [
        " \"\"\"\n",
        "Time Complexity: O(n)\n",
        "Space Complexity: O(1)\n",
        "Approach: The approach is similar to the above approach. The only difference is that now we can no longer loot both the first and last house.\n",
        "          The same can be done considering two different sequences. The first with skipping the first house, the second one with the last house skipped.\n",
        "          Finding the maximum of these two sequence will lead us to the max of the circular sequence.\n",
        "          Optimal substructure:\n",
        "                  loot(n) = house(n) + max[loot(n-2), loot(n-3)]\n",
        "\"\"\"\n",
        "\n",
        "\n",
        "class Solution:\n",
        "\n",
        "    def getMaxRob(self, listOfHouse):\n",
        "        prev, prev2, prev3 = 0,0,0\n",
        "        res = 0\n",
        "        for num in listOfHouse:\n",
        "            curr = num + max(prev2, prev3)\n",
        "            prev, prev2, prev3 = curr, prev, prev2\n",
        "        return max(prev, prev2)\n",
        "\n",
        "    def rob(self, nums: List[int]) -> int:\n",
        "        if len(nums) == 1: return nums[0]\n",
        "        skipLast = self.getMaxRob(nums[:-1])\n",
        "        skipFirst = self.getMaxRob(nums[1:])\n",
        "        return max(skipLast, skipFirst)\n",
        "\n"
      ],
      "metadata": {
        "id": "YpQL_X_xL-yv"
      },
      "execution_count": null,
      "outputs": []
    },
    {
      "cell_type": "markdown",
      "source": [
        "[P5: Longest Palindromic Substring](https://leetcode.com/problems/longest-palindromic-substring/description/)"
      ],
      "metadata": {
        "id": "1mT9XYsNjfJM"
      }
    },
    {
      "cell_type": "code",
      "source": [
        "class Solution:\n",
        "    def longestPalindrome(self, s: str) -> str:\n",
        "\"\"\"\n",
        "Time Complexity: O(n^2)\n",
        "Space Complexity: O(1)\n",
        "Approach: For each element we consider that element as center and move to both side which is O(n). This is done for even as well as odd palindromes.\n",
        "\n",
        "\"\"\"\n",
        "\n",
        "        maxLen = 0\n",
        "        maxS = \"\"\n",
        "\n",
        "        for ind in range(len(s)):\n",
        "            # Odd-length palindromes\n",
        "            width = 0\n",
        "            while ind - width >= 0 and ind + width < len(s) and s[ind - width] == s[ind + width]:\n",
        "                currLen = 2 * width + 1\n",
        "                if currLen > maxLen:\n",
        "                    maxLen = currLen\n",
        "                    maxS = s[ind - width:ind + width + 1]\n",
        "                width += 1\n",
        "\n",
        "            # Even-length palindromes\n",
        "            width = 0\n",
        "            while ind - width >= 0 and ind + width + 1 < len(s) and s[ind - width] == s[ind + width + 1]:\n",
        "                currLen = 2 * width + 2\n",
        "                if currLen > maxLen:\n",
        "                    maxLen = currLen\n",
        "                    maxS = s[ind - width:ind + width + 2]\n",
        "                width += 1\n",
        "\n",
        "        return maxS\n",
        "\n"
      ],
      "metadata": {
        "id": "8Cxl84aijfTj"
      },
      "execution_count": null,
      "outputs": []
    },
    {
      "cell_type": "code",
      "source": [
        "class Solution:\n",
        "\"\"\"\n",
        "Time Complexity: O(n^3)\n",
        "Space Complexity: O(1)\n",
        "Approach: Brute Force approach to consider the maximum width and find the minimum length at which we see a palindrome.\n",
        "\"\"\"\n",
        "\n",
        "    def longestPalindrome(self, s: str) -> str:\n",
        "\n",
        "        def search(width):\n",
        "            for i in range(len(s) - width + 1):\n",
        "                currS = s[i:i+width]\n",
        "                if currS == currS[::-1]: return currS\n",
        "            return None\n",
        "\n",
        "        for w in range(len(s), 0, -1):\n",
        "            palinSubS = search(w)\n",
        "            if palinSubS: return palinSubS"
      ],
      "metadata": {
        "id": "jqG2rXWKCbD3"
      },
      "execution_count": null,
      "outputs": []
    },
    {
      "cell_type": "markdown",
      "source": [
        "[P6: Palindromic Substring](https://neetcode.io/problems/palindromic-substrings)"
      ],
      "metadata": {
        "id": "E5G8CIdojf1s"
      }
    },
    {
      "cell_type": "code",
      "source": [
        "class Solution:\n",
        "    def countSubstrings(self, s: str) -> int:\n",
        "    \"\"\"\n",
        "    Time Complexity: O(n^2)\n",
        "    Space Complexity: O(1)\n",
        "    Approach: Consider each element as center and try to get the maximum length palindrome.\n",
        "    \"\"\"\n",
        "\n",
        "        def countPalindrome(l,r,s):\n",
        "            count = 0\n",
        "            while l >= 0 and r <= len(s) and s[l] == s[r]:\n",
        "                count += 1\n",
        "                l -= 1\n",
        "                r += 1\n",
        "            return count\n",
        "\n",
        "        countP = 0\n",
        "        for i in range(len(s)):\n",
        "            countP += countPalindrome(i,i,s)\n",
        "            countP += countPalindrome(i,i+1,s)\n",
        "\n",
        "        return countP"
      ],
      "metadata": {
        "id": "uoJDoAmzk2ye"
      },
      "execution_count": null,
      "outputs": []
    },
    {
      "cell_type": "markdown",
      "source": [
        "[P7: Decode Ways](https://neetcode.io/problems/decode-ways)"
      ],
      "metadata": {
        "id": "chZ8FFdqjgsp"
      }
    },
    {
      "cell_type": "code",
      "source": [
        "class Solution:\n",
        "    def numDecodings(self, s: str) -> int:\n",
        "\n",
        "\"\"\"\n",
        "Time Complexity: O(n)\n",
        "Space Complexity: O(1)\n",
        "Approach: The string is approached from backside. Anytime 0 is visited, the count at that index is 0.\n",
        "          Else it is the same as the previous count.\n",
        "          Also, if a number lesser than 26 can be formed using the last two digits, the count is increased by the counts before the previous state.\n",
        "\n",
        "\"\"\"\n",
        "        prev, prev2 = 1,0\n",
        "        for i in range(len(s) - 1, -1, -1):\n",
        "            if s[i] == '0':\n",
        "                curr = 0\n",
        "            else:\n",
        "                curr = prev\n",
        "                if s[i] == '1' or (s[i] == '2' and i < len(s)-1 and s[i+1] in '0123456'):\n",
        "                    curr += prev2\n",
        "            prev, prev2 = curr, prev\n",
        "        return prev\n"
      ],
      "metadata": {
        "id": "VmucTL9Cjhqi"
      },
      "execution_count": null,
      "outputs": []
    },
    {
      "cell_type": "code",
      "source": [
        "class Solution:\n",
        "    def numDecodings(self, s: str) -> int:\n",
        "\"\"\"\n",
        "Time Complexity: O(n)\n",
        "Space Complexity: O(n)\n",
        "Approach: Keep track of the count using a hashmap and define subcases:\n",
        "          Case1: Return 0 if the 1st element is 0\n",
        "          Case2: Return count(i+1) if the starting two indices are more than 26.\n",
        "          Case3: Return count(i+1) + count(i+2) if the starting two indices are less than 26.\n",
        "\"\"\"\n",
        "        countMap = {len(s): 1}\n",
        "        # Edge case when the last element is 0, there is no way to decode.\n",
        "        countMap[len(s) - 1] = 1 if s[-1] != '0' else 0\n",
        "\n",
        "        def getCount(index):\n",
        "            if index not in countMap:\n",
        "                if s[index] == '0': countMap[index] = 0\n",
        "                elif s[index] in '3456789' or (s[index]=='2' and s[index+1] in '789'):\n",
        "                    countMap[index] = getCount(index + 1)\n",
        "                else:\n",
        "                    countMap[index] = getCount(index+1) + getCount(index+2)\n",
        "            return countMap[index]\n",
        "\n",
        "        return getCount(0)"
      ],
      "metadata": {
        "id": "QmaYvS4edTa0"
      },
      "execution_count": null,
      "outputs": []
    },
    {
      "cell_type": "markdown",
      "source": [
        "[P8: Coin Change](https://neetcode.io/problems/coin-change)"
      ],
      "metadata": {
        "id": "SisWOPzdjpqE"
      }
    },
    {
      "cell_type": "code",
      "source": [
        "\"\"\"\n",
        "Time Complexity: O(a*n)\n",
        "Space Complexity: O(a)\n",
        "Approach: count(amt) = 1 + min(count(amount-coin_i) for all i)\n",
        "\"\"\"\n",
        "\n",
        "class Solution:\n",
        "    def coinChange(self, coins: List[int], amount: int) -> int:\n",
        "        maxVal = amount + 1\n",
        "        stateMap = [maxVal]*(amount+1)\n",
        "        stateMap[0] = 0\n",
        "        for coin in coins:\n",
        "          for i in range(coin, amount+1):\n",
        "              stateMap[i] = min(stateMap[i], 1 + stateMap[i-coin])\n",
        "\n",
        "        return stateMap[-1] if stateMap[-1] != maxVal else -1"
      ],
      "metadata": {
        "id": "7TZWWSVajp0e"
      },
      "execution_count": null,
      "outputs": []
    },
    {
      "cell_type": "markdown",
      "source": [
        "[P9: Maximum Product Subarray](https://neetcode.io/problems/maximum-product-subarray)"
      ],
      "metadata": {
        "id": "fzJuHdJrgSja"
      }
    },
    {
      "cell_type": "code",
      "source": [
        "\"\"\"\n",
        "Time Complexity: O(n)\n",
        "Space Complexity: O(1)\n",
        "Approach: At each index, we ensure that the maximum product ending at that index is captured.\n",
        "          If the current elem is negative, the maxProd and minProd are switched to ensure that the\n",
        "          The maximum value of the product ending at each index is considered to be the maximum product.\n",
        "\"\"\"\n",
        "\n",
        "\n",
        "class Solution:\n",
        "    def maxProduct(self, nums: List[int]) -> int:\n",
        "\n",
        "        result = nums[0]\n",
        "        maxProd, minProd = nums[0], nums[0]\n",
        "        for i in range(1, len(nums)):\n",
        "            if nums[i] < 0:\n",
        "                maxProd, minProd = minProd, maxProd\n",
        "\n",
        "            maxProd = max(nums[i], nums[i]*maxProd)\n",
        "            minProd = min(nums[i], nums[i]*minProd)\n",
        "\n",
        "            result = max(result, maxProd)\n",
        "        return result"
      ],
      "metadata": {
        "id": "mxXKVzn6gSx0"
      },
      "execution_count": null,
      "outputs": []
    },
    {
      "cell_type": "markdown",
      "source": [
        "[P10: Word Break](https://neetcode.io/problems/word-break)"
      ],
      "metadata": {
        "id": "aw6KQhDugTAL"
      }
    },
    {
      "cell_type": "code",
      "source": [
        "class Solution:\n",
        "    def wordBreak(self, s: str, wordDict: List[str]) -> bool:\n",
        "        # Checking which indexes are possible to reach from the start\n",
        "        stateMap = [False]*(len(s)+1)\n",
        "        stateMap[0] = True\n",
        "\n",
        "        for i in range(1, len(s)+1):\n",
        "            for prevPointer in range(i):\n",
        "                if stateMap[prevPointer] and s[prevPointer:i] in wordDict:\n",
        "                    stateMap[i] = True\n",
        "                    continue\n",
        "\n",
        "\n",
        "        return stateMap[-1]"
      ],
      "metadata": {
        "id": "stcEI644gTL6"
      },
      "execution_count": null,
      "outputs": []
    },
    {
      "cell_type": "markdown",
      "source": [
        "[P11: Longest Increasing Subsequence](https://neetcode.io/problems/longest-increasing-subsequence)"
      ],
      "metadata": {
        "id": "YA1CmVvFgUDd"
      }
    },
    {
      "cell_type": "code",
      "source": [
        "class Solution:\n",
        "    def lengthOfLIS(self, nums: List[int]) -> int:\n",
        "        stateMap = [0]*len(nums)\n",
        "        for i in range(len(nums)):\n",
        "            s = 1\n",
        "            for j in range(i):\n",
        "                if nums[j] < nums[i]:\n",
        "                    s = max(s, stateMap[j] + 1)\n",
        "            stateMap[i] = s\n",
        "\n",
        "        return max(stateMap)\n"
      ],
      "metadata": {
        "id": "_zgA-tZcgUOq"
      },
      "execution_count": null,
      "outputs": []
    },
    {
      "cell_type": "markdown",
      "source": [
        "[P12: Partition Equal Subset](https://neetcode.io/problems/partition-equal-subset-sum)"
      ],
      "metadata": {
        "id": "N_b7VC51gUZM"
      }
    },
    {
      "cell_type": "code",
      "source": [
        "class Solution:\n",
        "    def canPartition(self, nums: List[int]) -> bool:\n",
        "        total = sum(nums)\n",
        "        target = total//2\n",
        "        if total%2 or max(nums) > target: return False\n",
        "\n",
        "        stateMap = [False]*(target+1)\n",
        "        stateMap[0] = True\n",
        "        for num in nums:\n",
        "            for state in range(target, num-1, -1):\n",
        "                if stateMap[state-num]:\n",
        "                    stateMap[state] = True\n",
        "        return stateMap[-1]\n"
      ],
      "metadata": {
        "id": "iwijtMljgUj8"
      },
      "execution_count": null,
      "outputs": []
    }
  ]
}