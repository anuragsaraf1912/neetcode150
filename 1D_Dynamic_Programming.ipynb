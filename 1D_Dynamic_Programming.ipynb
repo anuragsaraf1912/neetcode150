{
  "nbformat": 4,
  "nbformat_minor": 0,
  "metadata": {
    "colab": {
      "provenance": [],
      "authorship_tag": "ABX9TyOGBT7O7UJtZkvTw7RgAkGp",
      "include_colab_link": true
    },
    "kernelspec": {
      "name": "python3",
      "display_name": "Python 3"
    },
    "language_info": {
      "name": "python"
    }
  },
  "cells": [
    {
      "cell_type": "markdown",
      "metadata": {
        "id": "view-in-github",
        "colab_type": "text"
      },
      "source": [
        "<a href=\"https://colab.research.google.com/github/anuragsaraf1912/neetcode150/blob/main/1D_Dynamic_Programming.ipynb\" target=\"_parent\"><img src=\"https://colab.research.google.com/assets/colab-badge.svg\" alt=\"Open In Colab\"/></a>"
      ]
    },
    {
      "cell_type": "markdown",
      "source": [
        "[P1: Climbing Stairs](https://neetcode.io/problems/climbing-stairs)"
      ],
      "metadata": {
        "id": "0sLfYIZMQQPA"
      }
    },
    {
      "cell_type": "code",
      "execution_count": null,
      "metadata": {
        "id": "-hRRu2vbQDvj"
      },
      "outputs": [],
      "source": [
        "class Solution:\n",
        "\n",
        "    # Time Complexity: O(n)\n",
        "    # Space Complexity: O(1)\n",
        "    # The Series is the Fibonacci sequence. The number of ways at any step is the sum of the previous step and one step before that.\n",
        "\n",
        "    def climbStairs(self, n: int) -> int:\n",
        "        curr, prev = 1,0\n",
        "        for _ in range(n):\n",
        "            nextCurr = curr + prev\n",
        "            curr, prev = nextCurr, curr\n",
        "\n",
        "        return curr\n"
      ]
    },
    {
      "cell_type": "markdown",
      "source": [
        "[P2: Min Cost Climbing Stairs](https://neetcode.io/problems/min-cost-climbing-stairs)\n",
        "\n"
      ],
      "metadata": {
        "id": "earbIgrTQOz4"
      }
    },
    {
      "cell_type": "code",
      "source": [
        "class Solution:\n",
        "\n",
        "    # Time Complexity: O(n)\n",
        "    # Space Complexity: O(1)\n",
        "    #\n",
        "\n",
        "    def minCostClimbingStairs(self, cost: List[int]) -> int:\n",
        "        prev, prev2 = 0,0\n",
        "        for c in cost:\n",
        "            curr = min(prev, prev2) + c\n",
        "            prev, prev2 = curr, prev\n",
        "\n",
        "        return min(prev, prev2)\n"
      ],
      "metadata": {
        "id": "Ib3kaIdPQVLQ"
      },
      "execution_count": null,
      "outputs": []
    },
    {
      "cell_type": "markdown",
      "source": [
        "[P3: House Robber](https://neetcode.io/problems/house-robber)"
      ],
      "metadata": {
        "id": "NATbl2-7R89f"
      }
    },
    {
      "cell_type": "code",
      "source": [
        "class Solution:\n",
        "    def rob(self, nums: List[int]) -> int:\n",
        "        prevHouse, prev2House, prev3House = 0,0,0\n",
        "        for elem in nums:\n",
        "            curr = elem + max(prev2House, prev3House)\n",
        "            prevHouse, prev2House, prev3House = curr, prevHouse, prev2House\n",
        "\n",
        "        return max(prevHouse, prev2House)\n"
      ],
      "metadata": {
        "id": "8XdVX_BdR_Kn"
      },
      "execution_count": null,
      "outputs": []
    },
    {
      "cell_type": "markdown",
      "source": [
        "[P4: House Robber 2](https://neetcode.io/problems/house-robber-ii)"
      ],
      "metadata": {
        "id": "NCZ3gCUWL-BA"
      }
    },
    {
      "cell_type": "code",
      "source": [
        "class Solution:\n",
        "\n",
        "    def getMaxRob(self, listOfHouse):\n",
        "        prev, prev2, prev3 = 0,0,0\n",
        "        res = 0\n",
        "        for num in listOfHouse:\n",
        "            curr = num + max(prev2, prev3)\n",
        "            prev, prev2, prev3 = curr, prev, prev2\n",
        "        return max(prev, prev2)\n",
        "\n",
        "    def rob(self, nums: List[int]) -> int:\n",
        "        if len(nums) == 1: return nums[0]\n",
        "        skipLast = self.getMaxRob(nums[:-1])\n",
        "        skipFirst = self.getMaxRob(nums[1:])\n",
        "        return max(skipLast, skipFirst)\n",
        "\n"
      ],
      "metadata": {
        "id": "YpQL_X_xL-yv"
      },
      "execution_count": null,
      "outputs": []
    },
    {
      "cell_type": "markdown",
      "source": [
        "[P5: Longest Palindromic Substring](https://leetcode.com/problems/longest-palindromic-substring/description/)"
      ],
      "metadata": {
        "id": "1mT9XYsNjfJM"
      }
    },
    {
      "cell_type": "code",
      "source": [
        "class Solution:\n",
        "    def longestPalindrome(self, s: str) -> str:\n",
        "\n",
        "        # Time Complexity: O(n^2)\n",
        "        # Space Complexity: O(1)\n",
        "        # Approach: For each element we consider that element as center and move to both side which is O(n).\n",
        "\n",
        "        # Initialise variables\n",
        "        res = ''\n",
        "        maxLength = 0\n",
        "        # Iterating over each element\n",
        "        for i in range(len(s)):\n",
        "\n",
        "            # Checking odd length palindromes\n",
        "            l, r = i,i\n",
        "            while l >= 0 and r < len(s) and s[l]==s[r]:\n",
        "                if r-l+1 > maxLength:\n",
        "                    res = s[l:r+1]\n",
        "                    maxLength = r - l + 1\n",
        "                l -= 1\n",
        "                r += 1\n",
        "\n",
        "            # Checking even length palindromes\n",
        "            l, r = i,i+1\n",
        "            while l >= 0 and r < len(s) and s[l]==s[r]:\n",
        "                if r-l+1 > maxLength:\n",
        "                    res = s[l:r+1]\n",
        "                    maxLength = r - l + 1\n",
        "                l -= 1\n",
        "                r += 1\n",
        "\n",
        "        return res\n",
        ""
      ],
      "metadata": {
        "id": "8Cxl84aijfTj"
      },
      "execution_count": null,
      "outputs": []
    },
    {
      "cell_type": "markdown",
      "source": [
        "[P6: Palindromic Substring](https://neetcode.io/problems/palindromic-substrings)"
      ],
      "metadata": {
        "id": "E5G8CIdojf1s"
      }
    },
    {
      "cell_type": "code",
      "source": [
        "class Solution:\n",
        "    def countSubstrings(self, s: str) -> int:\n",
        "        # Time Complexity: O(n^2)\n",
        "        # Space Complexity: O(1)\n",
        "        # Approach: Same approach as above element. We consider each element as center and try to get the maximum length palindrome.\n",
        "        #           The brute force results in O(n^3)\n",
        "\n",
        "        def countPalindrome(r,l,s):\n",
        "            count = 0\n",
        "            while l >= 0 and r <len(s) and s[l] == s[r]:\n",
        "                count += 1\n",
        "                l -= 1\n",
        "                r+= 1\n",
        "            return count\n",
        "\n",
        "        countP = 0\n",
        "        for i in range(len(s)):\n",
        "            countP += countPalindrome(i,i,s)\n",
        "            countP += countPalindrome(i+1,i,s)\n",
        "\n",
        "        return countP"
      ],
      "metadata": {
        "id": "erBHdQh3jgUD"
      },
      "execution_count": null,
      "outputs": []
    },
    {
      "cell_type": "markdown",
      "source": [
        "[P7: Decode Ways](https://neetcode.io/problems/decode-ways)"
      ],
      "metadata": {
        "id": "chZ8FFdqjgsp"
      }
    },
    {
      "cell_type": "code",
      "source": [
        "class Solution:\n",
        "    def numDecodings(self, s: str) -> int:\n",
        "        stateMap = [0]*(len(s)+1)\n",
        "        stateMap[len(s)] = 1\n",
        "        for i in range(len(s) - 1, -1, -1):\n",
        "            if s[i] == '0':\n",
        "                stateMap[i] = 0\n",
        "            else:\n",
        "                stateMap[i] = stateMap[i+1]\n",
        "                if i == len(s) - 1: continue\n",
        "                if s[i] == '1' or (s[i] == '2' and s[i+1] in '0123456'):\n",
        "                    stateMap[i] += stateMap[i+2]\n",
        "\n",
        "        return stateMap[0]\n"
      ],
      "metadata": {
        "id": "VmucTL9Cjhqi"
      },
      "execution_count": null,
      "outputs": []
    },
    {
      "cell_type": "markdown",
      "source": [
        "[P8: Coin Change](https://neetcode.io/problems/coin-change)"
      ],
      "metadata": {
        "id": "SisWOPzdjpqE"
      }
    },
    {
      "cell_type": "code",
      "source": [
        "class Solution:\n",
        "    def coinChange(self, coins: List[int], amount: int) -> int:\n",
        "        stateMap = [float('inf')]*(amount+1)\n",
        "        stateMap[0] = 0\n",
        "        for i in range(amount+1):\n",
        "            for coin in coins:\n",
        "                if i - coin >= 0:\n",
        "                    stateMap[i] = min(stateMap[i], 1 + stateMap[i-coin])\n",
        "\n",
        "        return stateMap[-1] if stateMap[-1] != float('inf') else -1"
      ],
      "metadata": {
        "id": "7TZWWSVajp0e"
      },
      "execution_count": null,
      "outputs": []
    }
  ]
}