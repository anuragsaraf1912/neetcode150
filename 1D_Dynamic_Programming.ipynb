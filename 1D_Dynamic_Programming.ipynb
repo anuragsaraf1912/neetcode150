{
  "nbformat": 4,
  "nbformat_minor": 0,
  "metadata": {
    "colab": {
      "provenance": [],
      "authorship_tag": "ABX9TyNwVbUCEiwQil7gkbinos6H",
      "include_colab_link": true
    },
    "kernelspec": {
      "name": "python3",
      "display_name": "Python 3"
    },
    "language_info": {
      "name": "python"
    }
  },
  "cells": [
    {
      "cell_type": "markdown",
      "metadata": {
        "id": "view-in-github",
        "colab_type": "text"
      },
      "source": [
        "<a href=\"https://colab.research.google.com/github/anuragsaraf1912/neetcode150/blob/main/1D_Dynamic_Programming.ipynb\" target=\"_parent\"><img src=\"https://colab.research.google.com/assets/colab-badge.svg\" alt=\"Open In Colab\"/></a>"
      ]
    },
    {
      "cell_type": "markdown",
      "source": [
        "[P1: Climbing Stairs](https://neetcode.io/problems/climbing-stairs)"
      ],
      "metadata": {
        "id": "0sLfYIZMQQPA"
      }
    },
    {
      "cell_type": "code",
      "execution_count": null,
      "metadata": {
        "id": "-hRRu2vbQDvj"
      },
      "outputs": [],
      "source": [
        "class Solution:\n",
        "\n",
        "    # Time Complexity: O(n)\n",
        "    # Space Complexity: O(1)\n",
        "    # The Series is the Fibonacci sequence. The number of ways at any step is the sum of the previous step and one step before that.\n",
        "\n",
        "    def climbStairs(self, n: int) -> int:\n",
        "        curr, prev = 1,0\n",
        "        for _ in range(n):\n",
        "            nextCurr = curr + prev\n",
        "            curr, prev = nextCurr, curr\n",
        "\n",
        "        return curr\n"
      ]
    },
    {
      "cell_type": "markdown",
      "source": [
        "[P2: Min Cost Climbing Stairs](https://neetcode.io/problems/min-cost-climbing-stairs)\n",
        "\n"
      ],
      "metadata": {
        "id": "earbIgrTQOz4"
      }
    },
    {
      "cell_type": "code",
      "source": [
        "class Solution:\n",
        "\n",
        "    # Time Complexity: O(n)\n",
        "    # Space Complexity: O(1)\n",
        "    #\n",
        "\n",
        "    def minCostClimbingStairs(self, cost: List[int]) -> int:\n",
        "        prev, prev2 = 0,0\n",
        "        for c in cost:\n",
        "            curr = min(prev, prev2) + c\n",
        "            prev, prev2 = curr, prev\n",
        "\n",
        "        return min(prev, prev2)\n"
      ],
      "metadata": {
        "id": "Ib3kaIdPQVLQ"
      },
      "execution_count": null,
      "outputs": []
    },
    {
      "cell_type": "markdown",
      "source": [
        "[P3: House Robber](https://neetcode.io/problems/house-robber)"
      ],
      "metadata": {
        "id": "NATbl2-7R89f"
      }
    },
    {
      "cell_type": "code",
      "source": [
        "class Solution:\n",
        "    def rob(self, nums: List[int]) -> int:\n",
        "        prevHouse, prev2House, prev3House = 0,0,0\n",
        "        for elem in nums:\n",
        "            curr = elem + max(prev2House, prev3House)\n",
        "            prevHouse, prev2House, prev3House = curr, prevHouse, prev2House\n",
        "\n",
        "        return max(prevHouse, prev2House)\n",
        ""
      ],
      "metadata": {
        "id": "8XdVX_BdR_Kn"
      },
      "execution_count": null,
      "outputs": []
    }
  ]
}