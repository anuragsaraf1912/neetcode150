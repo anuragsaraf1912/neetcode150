{
  "nbformat": 4,
  "nbformat_minor": 0,
  "metadata": {
    "colab": {
      "provenance": [],
      "authorship_tag": "ABX9TyMbhBKd1fxJz/G6t26Jmh/a",
      "include_colab_link": true
    },
    "kernelspec": {
      "name": "python3",
      "display_name": "Python 3"
    },
    "language_info": {
      "name": "python"
    }
  },
  "cells": [
    {
      "cell_type": "markdown",
      "metadata": {
        "id": "view-in-github",
        "colab_type": "text"
      },
      "source": [
        "<a href=\"https://colab.research.google.com/github/anuragsaraf1912/neetcode150/blob/main/Binary_Search.ipynb\" target=\"_parent\"><img src=\"https://colab.research.google.com/assets/colab-badge.svg\" alt=\"Open In Colab\"/></a>"
      ]
    },
    {
      "cell_type": "markdown",
      "source": [
        "[P1: Binary Search](https://neetcode.io/problems/binary-search)"
      ],
      "metadata": {
        "id": "4Vbo-BYVAbv7"
      }
    },
    {
      "cell_type": "code",
      "execution_count": null,
      "metadata": {
        "id": "Aq78fajrmklx"
      },
      "outputs": [],
      "source": [
        "class Solution:\n",
        "\n",
        "    # Time Complexity: O(logn)\n",
        "    # Space Complexity: O(1)\n",
        "\n",
        "    # Just go over the whole search space and try to find the target value\n",
        "    # We can always move the start and end depending on whether the target would be (possibly) on the right side or left side.\n",
        "\n",
        "    def search(self, nums: List[int], target: int) -> int:\n",
        "        start, end = 0, len(nums) - 1\n",
        "        while start <= end:\n",
        "            mid =  (end - start)//2 + start\n",
        "            if nums[mid] == target:\n",
        "                return mid\n",
        "            elif nums[mid] > target:\n",
        "                end = mid - 1\n",
        "            else: start = mid + 1\n",
        "\n",
        "        return -1"
      ]
    },
    {
      "cell_type": "markdown",
      "source": [
        "[P2: Seach in a 2D matrix](https://neetcode.io/problems/search-2d-matrix)"
      ],
      "metadata": {
        "id": "3jDMAvNbAZZp"
      }
    },
    {
      "cell_type": "code",
      "source": [
        "class Solution:\n",
        "\n",
        "    # Same as normal Binary Search, the only difference being that the whole matrix can be though of as a giant list.\n",
        "    # The row and col will be calculated using the row width\n",
        "\n",
        "    # Time Complexity: O(m*n)\n",
        "    # Space Complexity: O(1)\n",
        "\n",
        "\n",
        "    def searchMatrix(self, matrix: List[List[int]], target: int) -> bool:\n",
        "        rows, cols = len(matrix), len(matrix[0])\n",
        "        start, end = 0, rows*cols - 1\n",
        "        while start <= end:\n",
        "            mid = (end - start)//2 + start\n",
        "            # Determining the row and col for a provided mid\n",
        "            r,c = mid//cols, mid%cols\n",
        "            curr = matrix[r][c]\n",
        "\n",
        "            if curr == target: return True\n",
        "            elif curr < target: start = mid +1\n",
        "            else: end = mid - 1\n",
        "\n",
        "        return False"
      ],
      "metadata": {
        "id": "fbHZ_avmAapy"
      },
      "execution_count": null,
      "outputs": []
    },
    {
      "cell_type": "markdown",
      "source": [
        "[P3: Koko eating bananas](https://neetcode.io/problems/eating-bananas)"
      ],
      "metadata": {
        "id": "iLlriJZLCaU-"
      }
    },
    {
      "cell_type": "code",
      "source": [
        "class Solution:\n",
        "    def minEatingSpeed(self, piles: List[int], h: int) -> int:\n",
        "\n",
        "        # The question is similar to finding the upper bound of a particular value\n",
        "        # Store the values whenver the time taken is within limit and increment the rate.\n",
        "        # Space Complexity: O(1)\n",
        "        # Time Complexity: O(nlogm) (m is the max Value, n is the piles length)\n",
        "\n",
        "\n",
        "        def calculateHours(rate):\n",
        "            hours = 0\n",
        "            for pile in piles:\n",
        "                hours += pile//rate\n",
        "                if pile%rate: hours += 1\n",
        "            return hours\n",
        "\n",
        "        start, end = 1, max(piles)\n",
        "        rate = end\n",
        "        while start <= end:\n",
        "            mid = (start + end)//2\n",
        "            if calculateHours(mid) > h:\n",
        "                start = mid + 1\n",
        "            else:\n",
        "                # Store the rate end which is the best seen till now\n",
        "                end = mid - 1\n",
        "                rate = mid\n",
        "\n",
        "        return rate\n"
      ],
      "metadata": {
        "id": "ZkblS5IsAaVc"
      },
      "execution_count": null,
      "outputs": []
    },
    {
      "cell_type": "markdown",
      "source": [
        "[P4: Find minimum in a rotated sorted array](https://neetcode.io/problems/find-minimum-in-rotated-sorted-array)"
      ],
      "metadata": {
        "id": "Tlj2LdYhAXvk"
      }
    },
    {
      "cell_type": "code",
      "source": [
        "class Solution:\n",
        "\n",
        "    # Space Complexity: O(1)\n",
        "    # Time Complexity: O(logn)\n",
        "    # Store the rotation in a separate variable. Initialize with 0 assuming no rotation.\n",
        "    # The loop will run till nums[start] > nums[end]. Cover the entire search space.\n",
        "    # If we see nums[mid] > nums[end]. => the mid+1 could be the rotation\n",
        "    # If we see nums[start] > nums[mid] => the mid could be the rotation (in next iteration mid is removed)\n",
        "\n",
        "\n",
        "    def findMin(self, nums: List[int]) -> int:\n",
        "        rotation = 0\n",
        "        start, end = 0, len(nums)-1\n",
        "        while start <= end:\n",
        "            if nums[start] <= nums[end]:\n",
        "                break\n",
        "            else:\n",
        "                mid = (start + end)//2\n",
        "                if nums[mid] < nums[end]:\n",
        "                    end = mid - 1\n",
        "                    rotation = mid\n",
        "                else:\n",
        "                    start = mid + 1\n",
        "                    rotation = start\n",
        "\n",
        "        return nums[rotation]"
      ],
      "metadata": {
        "id": "l42nc-YdE3Em"
      },
      "execution_count": null,
      "outputs": []
    },
    {
      "cell_type": "markdown",
      "source": [
        "[P5: Search in a rotated sorted Array](https://neetcode.io/problems/find-target-in-rotated-sorted-array)"
      ],
      "metadata": {
        "id": "x2cZoDTeGl5x"
      }
    },
    {
      "cell_type": "code",
      "source": [
        "class Solution:\n",
        "\n",
        "    # Space Complexity: O(1)\n",
        "    # Time Complexity: O(logn)\n",
        "    # Idea is to look in the sorted part of the array\n",
        "    # If the target lies within the sorted part, update the pointer to reflect the updated search space\n",
        "\n",
        "    def search(self, nums: List[int], target: int) -> int:\n",
        "\n",
        "        start, end = 0, len(nums) - 1\n",
        "        while start <= end:\n",
        "            mid = (start + end)//2\n",
        "            if nums[mid] == target: return mid\n",
        "            else:\n",
        "                if nums[mid] <= nums[end]:\n",
        "                    if (nums[mid] < target and nums[end] >= target):\n",
        "                        start = mid+1\n",
        "                    else: end = mid - 1\n",
        "                else:\n",
        "                    if (nums[start] <= target and nums[mid]> target):\n",
        "                        end = mid - 1\n",
        "                    else: start = mid + 1\n",
        "\n",
        "        return -1"
      ],
      "metadata": {
        "id": "nAy62wTcGmRO"
      },
      "execution_count": null,
      "outputs": []
    },
    {
      "cell_type": "markdown",
      "source": [
        "[P6: Time based Key value Search](https://neetcode.io/problems/time-based-key-value-store)"
      ],
      "metadata": {
        "id": "cAbhu58tOa1V"
      }
    },
    {
      "cell_type": "code",
      "source": [
        "class TimeMap:\n",
        "\n",
        "    # Space Complexity:\n",
        "    # Time Complexity: O(1) for set\n",
        "    #                  O(logn) for get\n",
        "    # Store a sorted array for all timestamps and store the values corresponding to timestamp in a different dictionary\n",
        "\n",
        "\n",
        "    def __init__(self):\n",
        "        self.data = {}\n",
        "        # Data for the format: {key: {'timestamp':[], 'vals':{}}}\n",
        "\n",
        "    def set(self, key: str, value: str, timestamp: int) -> None:\n",
        "\n",
        "        #If the key is not present, add the corresponding key and data into the Object\n",
        "        if key not in self.data:\n",
        "            self.data[key] = {\n",
        "                'timestamp': [timestamp],\n",
        "                'vals': {timestamp: value}\n",
        "            }\n",
        "\n",
        "        # If the key is already present, just add the timestamp and corresponding key value\n",
        "        else:\n",
        "            self.data[key]['timestamp'].append(timestamp)\n",
        "            self.data[key]['vals'][timestamp] = value\n",
        "\n",
        "    def searchTS(self, arr, target):\n",
        "\n",
        "        # Finding the largest index such that timestamp >= arr[i]\n",
        "        # Idea is still storing a val and updating whenever we obtain a val lesser than the target\n",
        "\n",
        "        start, end = 0, len(arr) - 1\n",
        "        latestTime = start\n",
        "        while start <= end:\n",
        "            mid = (start + end)//2\n",
        "            if arr[mid] == target: return target\n",
        "            elif arr[mid] < target:\n",
        "                latestTime = mid\n",
        "                start = mid + 1\n",
        "            else: end = mid - 1\n",
        "\n",
        "        return arr[latestTime]\n",
        "\n",
        "    def get(self, key: str, timestamp: int) -> str:\n",
        "\n",
        "        # If key not present\n",
        "        if key not in self.data: return ''\n",
        "\n",
        "        # If timestamp is before the first entry\n",
        "        if self.data[key]['timestamp'][0] > timestamp: return ''\n",
        "\n",
        "        # Get the key based on lates timestamp\n",
        "        tsList = self.data[key]['timestamp']\n",
        "        latestTS = self.searchTS(tsList, timestamp)\n",
        "        return self.data[key]['vals'][latestTS]\n",
        "\n"
      ],
      "metadata": {
        "id": "UcyT7SrAObV2"
      },
      "execution_count": 2,
      "outputs": []
    },
    {
      "cell_type": "markdown",
      "source": [
        "[P7: Median of Two sorted Arrays](https://neetcode.io/problems/median-of-two-sorted-arrays)"
      ],
      "metadata": {
        "id": "-hUYoEGROcWu"
      }
    },
    {
      "cell_type": "code",
      "source": [],
      "metadata": {
        "id": "sCjjsA4FOeSA"
      },
      "execution_count": null,
      "outputs": []
    },
    {
      "cell_type": "markdown",
      "source": [],
      "metadata": {
        "id": "niDLcyWbOeHC"
      }
    }
  ]
}