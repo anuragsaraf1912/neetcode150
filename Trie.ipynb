{
  "nbformat": 4,
  "nbformat_minor": 0,
  "metadata": {
    "colab": {
      "provenance": [],
      "authorship_tag": "ABX9TyPeSp9pVMf3nd39MBapibbR",
      "include_colab_link": true
    },
    "kernelspec": {
      "name": "python3",
      "display_name": "Python 3"
    },
    "language_info": {
      "name": "python"
    }
  },
  "cells": [
    {
      "cell_type": "markdown",
      "metadata": {
        "id": "view-in-github",
        "colab_type": "text"
      },
      "source": [
        "<a href=\"https://colab.research.google.com/github/anuragsaraf1912/neetcode150/blob/main/Trie.ipynb\" target=\"_parent\"><img src=\"https://colab.research.google.com/assets/colab-badge.svg\" alt=\"Open In Colab\"/></a>"
      ]
    },
    {
      "cell_type": "markdown",
      "source": [
        "[P1: Implement Trie](https://leetcode.com/problems/implement-trie-prefix-tree/)"
      ],
      "metadata": {
        "id": "I_WgmhQqZUPI"
      }
    },
    {
      "cell_type": "code",
      "source": [
        "class Trie:\n",
        "\n",
        "    # Time Complexity: O(l) for insert, search and startsWith, where l is the length of the word/prefix provided.\n",
        "    # Space Complexity: O(w*l) where l is the max length of word and w is the total words stored in this structure.\n",
        "    # Add: Start with the head, and go to the child for each alphabet, create a child in case the given alphabet is not there.\n",
        "    #      Add one key '$' at the end to signifiy the end of the word.\n",
        "    # Search: Start with head, if the alphabet is not present return False, else go to child for searching next alphabet.\n",
        "    #      Ensure that the last node has an ending\n",
        "    # StartsWith: We just have to check for prefix, same as above except we don't have to check for the end of the word\n",
        "\n",
        "    def __init__(self):\n",
        "        self.start = {}\n",
        "\n",
        "    def insert(self, word: str) -> None:\n",
        "\n",
        "        # Set parent and use the index to create a new child in case not there\n",
        "        parent = self.start\n",
        "        for alpha in word:\n",
        "            if alpha not in parent:\n",
        "                parent[alpha] = {}\n",
        "            parent = parent[alpha]\n",
        "        # Marking that this is the end of word\n",
        "        parent['$'] = {}\n",
        "\n",
        "    def search(self, word: str) -> bool:\n",
        "        parent = self.start\n",
        "        for alpha in word:\n",
        "            if alpha not in parent: return False\n",
        "            parent = parent[alpha]\n",
        "        return '$' in parent\n",
        "\n",
        "    def startsWith(self, prefix: str) -> bool:\n",
        "        parent = self.start\n",
        "        for alpha in prefix:\n",
        "            if alpha not in parent: return False\n",
        "            parent = parent[alpha]\n",
        "        return True\n",
        "\n",
        "\n"
      ],
      "metadata": {
        "id": "yz9UXRbWZUjH"
      },
      "execution_count": null,
      "outputs": []
    },
    {
      "cell_type": "markdown",
      "source": [
        "[P2: Design Add and Search Word Dictionary](https://leetcode.com/problems/design-add-and-search-words-data-structure/)"
      ],
      "metadata": {
        "id": "1QqGw4roZUqw"
      }
    },
    {
      "cell_type": "code",
      "source": [
        "class WordDictionary:\n",
        "\n",
        "    def __init__(self):\n",
        "        self.start = {}\n",
        "\n",
        "    def addWord(self, word: str) -> None:\n",
        "        parent = self.start\n",
        "        for elem in word:\n",
        "            if elem not in parent:\n",
        "                parent[elem] = {}\n",
        "            parent = parent[elem]\n",
        "        parent['&'] = True\n",
        "\n",
        "    def search(self, word: str, index=0, parent=None) -> bool:\n",
        "\n",
        "        if not parent: parent = self.start\n",
        "\n",
        "        #If its not the end:\n",
        "        for curr in range(index, len(word)):\n",
        "            # Case when we do not see a .\n",
        "            if word[curr] != '.':\n",
        "                if word[curr] not in parent: return False\n",
        "                else: parent = parent[word[curr]]\n",
        "            else:\n",
        "                found = False\n",
        "                for child in parent:\n",
        "                    if child == '&': continue\n",
        "                    found = found or self.search(word, curr+1, parent[child])\n",
        "                    if found: return True\n",
        "                return False\n",
        "\n",
        "        return parent.get('&', False)\n"
      ],
      "metadata": {
        "id": "iFvyWqeOZUzG"
      },
      "execution_count": null,
      "outputs": []
    },
    {
      "cell_type": "markdown",
      "source": [
        "[P3: Word Search 2](https://leetcode.com/problems/word-search-ii/submissions/1566674945/)"
      ],
      "metadata": {
        "id": "qpk869FfZU6s"
      }
    },
    {
      "cell_type": "code",
      "source": [
        "class Solution:\n",
        "\n",
        "\n",
        "    def findWords(self, board: List[List[str]], words: List[str]) -> List[str]:\n",
        "\n",
        "    # Step 1: Create a Trie to save all the words\n",
        "        trieHead = {}\n",
        "        for word in words:\n",
        "            parent = trieHead\n",
        "            for alpha in word:\n",
        "                if alpha not in parent:\n",
        "                    parent[alpha] = {}\n",
        "                parent = parent[alpha]\n",
        "            parent['&'] = True\n",
        "\n",
        "        rows, cols = len(board), len(board[0])\n",
        "        result, currSeq = set(), []\n",
        "\n",
        "     # Step 2: Create a recursive DFS function to check all the adjacent elements\n",
        "        def dfs(r,c, par = trieHead):\n",
        "            if r < 0 or r >= rows or c < 0 or c >= cols \\\n",
        "            or board[r][c] not in par:\n",
        "                return\n",
        "            elem = board[r][c]\n",
        "            # Update the parent\n",
        "            par = par[elem]\n",
        "            # Add it to the sequence\n",
        "            currSeq.append(elem)\n",
        "            # Check for the end\n",
        "            if '&' in par: result.add(''.join(currSeq))\n",
        "            board[r][c] = '#'\n",
        "            # Call adjacent elements\n",
        "            dfs(r+1, c, par)\n",
        "            dfs(r-1, c, par)\n",
        "            dfs(r, c+1, par)\n",
        "            dfs(r, c-1, par)\n",
        "            # End the recursion by bringing everything back\n",
        "            board[r][c] = elem\n",
        "            currSeq.pop()\n",
        "\n",
        "        # Call the function for each element\n",
        "        for i in range(rows):\n",
        "            for j in range(cols):\n",
        "                dfs(i,j)\n",
        "\n",
        "        return list(result)"
      ],
      "metadata": {
        "id": "gTuJIccUZVBQ"
      },
      "execution_count": null,
      "outputs": []
    }
  ]
}