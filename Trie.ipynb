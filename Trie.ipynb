{
  "nbformat": 4,
  "nbformat_minor": 0,
  "metadata": {
    "colab": {
      "provenance": [],
      "authorship_tag": "ABX9TyOEuknwGubAdu5qLLx1SxIK",
      "include_colab_link": true
    },
    "kernelspec": {
      "name": "python3",
      "display_name": "Python 3"
    },
    "language_info": {
      "name": "python"
    }
  },
  "cells": [
    {
      "cell_type": "markdown",
      "metadata": {
        "id": "view-in-github",
        "colab_type": "text"
      },
      "source": [
        "<a href=\"https://colab.research.google.com/github/anuragsaraf1912/neetcode150/blob/main/Trie.ipynb\" target=\"_parent\"><img src=\"https://colab.research.google.com/assets/colab-badge.svg\" alt=\"Open In Colab\"/></a>"
      ]
    },
    {
      "cell_type": "markdown",
      "source": [
        "[P1: Implement Trie](https://neetcode.io/problems/implement-prefix-tree)"
      ],
      "metadata": {
        "id": "I_WgmhQqZUPI"
      }
    },
    {
      "cell_type": "code",
      "source": [
        "class Trie:\n",
        "\n",
        "\"\"\"\n",
        "Time Complexity: O(l) for insert, search and startsWith, where l is the length of the word/prefix provided.\n",
        "Space Complexity: O(w*l) where l is the max length of word and w is the total words stored in this structure.\n",
        "Approach:\n",
        "    Add: Start with the head, and go to the child for each alphabet, create a child in case the given alphabet is not there.\n",
        "         Add one key '$' at the end to signifiy the end of the word.\n",
        "    Search: Start with head, if the alphabet is not present return False, else go to child for searching next alphabet.\n",
        "            Ensure that the last node has an ending by checking for '$' as key.\n",
        "    StartsWith: We just have to check for prefix, same as above except we don't have to check for the end of the word.\n",
        "\"\"\"\n",
        "\n",
        "    def __init__(self):\n",
        "        self.start = {}\n",
        "\n",
        "    def insert(self, word: str) -> None:\n",
        "\n",
        "        # Set parent and use the index to create a new child in case not there\n",
        "        parent = self.start\n",
        "        for alpha in word:\n",
        "            if alpha not in parent:\n",
        "                parent[alpha] = {}\n",
        "            parent = parent[alpha]\n",
        "        # Marking that this is the end of word\n",
        "        parent['$'] = {}\n",
        "\n",
        "    def search(self, word: str) -> bool:\n",
        "        parent = self.start\n",
        "        for alpha in word:\n",
        "            if alpha not in parent: return False\n",
        "            parent = parent[alpha]\n",
        "        return '$' in parent\n",
        "\n",
        "    def startsWith(self, prefix: str) -> bool:\n",
        "        parent = self.start\n",
        "        for alpha in prefix:\n",
        "            if alpha not in parent: return False\n",
        "            parent = parent[alpha]\n",
        "        return True"
      ],
      "metadata": {
        "id": "yz9UXRbWZUjH"
      },
      "execution_count": null,
      "outputs": []
    },
    {
      "cell_type": "markdown",
      "source": [
        "[P2: Design Add and Search Word Dictionary](https://neetcode.io/problems/design-word-search-data-structure)"
      ],
      "metadata": {
        "id": "1QqGw4roZUqw"
      }
    },
    {
      "cell_type": "code",
      "source": [
        "\"\"\"\n",
        "Time Complexity: addWord: O(n)\n",
        "                 search:\n",
        "Space Complexity: O(w*L) w is the number of words and L is the length of the longest word.\n",
        "Approach:\n",
        "\n",
        "\"\"\"\n",
        "\n",
        "class WordDictionary:\n",
        "\n",
        "    def __init__(self):\n",
        "        self.start = {}\n",
        "\n",
        "    def addWord(self, word: str) -> None:\n",
        "        parent = self.start\n",
        "        for elem in word:\n",
        "            if elem not in parent:\n",
        "                parent[elem] = {}\n",
        "            parent = parent[elem]\n",
        "        parent['&'] = True\n",
        "\n",
        "    def search(self, word: str, index=0, parent=None) -> bool:\n",
        "\n",
        "        if not parent: parent = self.start\n",
        "\n",
        "        # Visit all the alphabets in the word\n",
        "        for curr in range(index, len(word)):\n",
        "            # Unless we visit '.', go deeper in the Trie structure\n",
        "            if word[curr] != '.':\n",
        "                if word[curr] not in parent: return False\n",
        "                else: parent = parent[word[curr]]\n",
        "\n",
        "            # Once a '.' is found, return the result by going to all its children and calling search recursively\n",
        "            else:\n",
        "                found = False\n",
        "                for child in parent:\n",
        "                    if child == '&': continue\n",
        "                    found = found or self.search(word, curr+1, parent[child])\n",
        "                    if found: return True\n",
        "                return False\n",
        "\n",
        "        return parent.get('&', False)\n"
      ],
      "metadata": {
        "id": "iFvyWqeOZUzG"
      },
      "execution_count": null,
      "outputs": []
    },
    {
      "cell_type": "markdown",
      "source": [
        "[P3: Word Search 2](https://neetcode.io/problems/search-for-word-ii)"
      ],
      "metadata": {
        "id": "qpk869FfZU6s"
      }
    },
    {
      "cell_type": "code",
      "source": [
        "\"\"\"\n",
        "Time Complexity:\n",
        "Space Complexity:\n",
        "Approach:\n",
        "\n",
        "\"\"\"\n",
        "\n",
        "class Solution:\n",
        "    def findWords(self, board: List[List[str]], words: List[str]) -> List[str]:\n",
        "\n",
        "        # Function to create a Trie Data Structure\n",
        "        def addWord(word):\n",
        "            currNode = myWordTrie\n",
        "            for char in word:\n",
        "                if char not in currNode:\n",
        "                    currNode[char] = {}\n",
        "                currNode = currNode[char]\n",
        "            currNode['#'] = {}\n",
        "\n",
        "        def delWord(word):\n",
        "            currNode = myWordTrie\n",
        "            stack = []\n",
        "            for char in word:\n",
        "                stack.append(currNode)\n",
        "                currNode = currNode[char]\n",
        "            currNode.pop('#')\n",
        "            ind = len(word) - 1\n",
        "            while stack and not currNode:\n",
        "                currNode = stack.pop()\n",
        "                currNode.pop(word[ind])\n",
        "                ind -= 1\n",
        "\n",
        "        myWordTrie = {}\n",
        "        # Adding all words to the Trie\n",
        "        for word in words:\n",
        "            addWord(word)\n",
        "\n",
        "        rows, cols = len(board), len(board[0])\n",
        "        res, currSeq = set(), []\n",
        "\n",
        "        def dfsSearch(r,c,node = myWordTrie):\n",
        "            if r < 0 or r >= rows \\\n",
        "            or c < 0 or c >= cols \\\n",
        "            or board[r][c] not in node:\n",
        "                return\n",
        "            temp = board[r][c]\n",
        "            board[r][c] = '&'\n",
        "            currSeq.append(temp)\n",
        "            node = node[temp]\n",
        "            if '#' in node: toAdd.add(''.join(currSeq))\n",
        "            for x,y in [(0,1), (0,-1), (1,0), (-1,0)]:\n",
        "                dfsSearch(r+x, c+y,node)\n",
        "            currSeq.pop()\n",
        "            board[r][c] = temp\n",
        "\n",
        "        for r in range(rows):\n",
        "            for c in range(cols):\n",
        "                toAdd = set()\n",
        "                dfsSearch(r,c)\n",
        "                for w in toAdd:\n",
        "                    delWord(w)\n",
        "                res.update(toAdd)\n",
        "\n",
        "        return list(res)\n",
        "\n",
        "\n",
        "\n",
        "\n",
        "\n",
        "\n",
        ""
      ],
      "metadata": {
        "id": "gTuJIccUZVBQ"
      },
      "execution_count": null,
      "outputs": []
    }
  ]
}