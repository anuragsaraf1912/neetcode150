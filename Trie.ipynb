{
  "nbformat": 4,
  "nbformat_minor": 0,
  "metadata": {
    "colab": {
      "provenance": [],
      "authorship_tag": "ABX9TyOvvGiXC3gNgLWp8003i/I1",
      "include_colab_link": true
    },
    "kernelspec": {
      "name": "python3",
      "display_name": "Python 3"
    },
    "language_info": {
      "name": "python"
    }
  },
  "cells": [
    {
      "cell_type": "markdown",
      "metadata": {
        "id": "view-in-github",
        "colab_type": "text"
      },
      "source": [
        "<a href=\"https://colab.research.google.com/github/anuragsaraf1912/neetcode150/blob/main/Trie.ipynb\" target=\"_parent\"><img src=\"https://colab.research.google.com/assets/colab-badge.svg\" alt=\"Open In Colab\"/></a>"
      ]
    },
    {
      "cell_type": "markdown",
      "source": [
        "[P1: Implement Trie](https://leetcode.com/problems/implement-trie-prefix-tree/)"
      ],
      "metadata": {
        "id": "I_WgmhQqZUPI"
      }
    },
    {
      "cell_type": "code",
      "source": [
        "class Trie:\n",
        "\n",
        "    def __init__(self):\n",
        "        self.start = {}\n",
        "\n",
        "    def insert(self, word: str) -> None:\n",
        "\n",
        "        # Set parent and use the index to create a new child in case not there\n",
        "        parent = self.start\n",
        "        for alpha in word:\n",
        "            if alpha not in parent:\n",
        "                parent[alpha] = {}\n",
        "            parent = parent[alpha]\n",
        "        # Marking that this is the end of word\n",
        "        parent['$'] = {}\n",
        "\n",
        "    def search(self, word: str) -> bool:\n",
        "        parent = self.start\n",
        "        for alpha in word:\n",
        "            if alpha not in parent: return False\n",
        "            parent = parent[alpha]\n",
        "        return '$' in parent\n",
        "\n",
        "    def startsWith(self, prefix: str) -> bool:\n",
        "        parent = self.start\n",
        "        for alpha in prefix:\n",
        "            if alpha not in parent: return False\n",
        "            parent = parent[alpha]\n",
        "        return True\n",
        "\n",
        "\n",
        ""
      ],
      "metadata": {
        "id": "yz9UXRbWZUjH"
      },
      "execution_count": null,
      "outputs": []
    },
    {
      "cell_type": "markdown",
      "source": [],
      "metadata": {
        "id": "1QqGw4roZUqw"
      }
    },
    {
      "cell_type": "code",
      "source": [],
      "metadata": {
        "id": "iFvyWqeOZUzG"
      },
      "execution_count": null,
      "outputs": []
    },
    {
      "cell_type": "markdown",
      "source": [],
      "metadata": {
        "id": "qpk869FfZU6s"
      }
    },
    {
      "cell_type": "code",
      "source": [],
      "metadata": {
        "id": "gTuJIccUZVBQ"
      },
      "execution_count": null,
      "outputs": []
    }
  ]
}