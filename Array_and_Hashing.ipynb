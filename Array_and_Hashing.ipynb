{
  "nbformat": 4,
  "nbformat_minor": 0,
  "metadata": {
    "colab": {
      "provenance": [],
      "authorship_tag": "ABX9TyPCbU1mJwxfHBkF2jXMEr5T",
      "include_colab_link": true
    },
    "kernelspec": {
      "name": "python3",
      "display_name": "Python 3"
    },
    "language_info": {
      "name": "python"
    }
  },
  "cells": [
    {
      "cell_type": "markdown",
      "metadata": {
        "id": "view-in-github",
        "colab_type": "text"
      },
      "source": [
        "<a href=\"https://colab.research.google.com/github/anuragsaraf1912/neetcode150/blob/main/Array_and_Hashing.ipynb\" target=\"_parent\"><img src=\"https://colab.research.google.com/assets/colab-badge.svg\" alt=\"Open In Colab\"/></a>"
      ]
    },
    {
      "cell_type": "markdown",
      "source": [
        "[P1: Contains Duplicate](https://neetcode.io/problems/duplicate-integer)"
      ],
      "metadata": {
        "id": "tvtW1FmLue8k"
      }
    },
    {
      "cell_type": "code",
      "execution_count": null,
      "metadata": {
        "id": "ZBDSu0wNtoQc"
      },
      "outputs": [],
      "source": [
        "class Solution:\n",
        "    def hasDuplicate(self, nums: List[int]) -> bool:\n",
        "\n",
        "        #The approach is straightforward: Iterate through all elements of the array. Check if the element is already present in\n",
        "        #the hashmap. If not, add it to the hashMap else the duplicate is found.\n",
        "        #The Space and Time complexity is O(n)\n",
        "\n",
        "        mapSet = set()\n",
        "        for elem in nums:\n",
        "            if elem in mapSet: return True\n",
        "            mapSet.add(elem)\n",
        "\n",
        "        return False"
      ]
    },
    {
      "cell_type": "code",
      "source": [
        " class Solution:\n",
        "    def hasDuplicate(self, nums: List[int]) -> bool:\n",
        "\n",
        "        #Another quick solution is to just check the lengths of the list and the set formed using the list.\n",
        "\n",
        "        return len(nums) != len(set(nums))"
      ],
      "metadata": {
        "id": "izW4_HtXx1Eg"
      },
      "execution_count": null,
      "outputs": []
    },
    {
      "cell_type": "markdown",
      "source": [
        "[P2: Valid Anagram](https://neetcode.io/problems/is-anagram)"
      ],
      "metadata": {
        "id": "SODUlsxTuFFm"
      }
    },
    {
      "cell_type": "code",
      "source": [
        "class Solution:\n",
        "    def isAnagram(self, s: str, t: str) -> bool:\n",
        "\n",
        "        # The easiest approach is to use Counter. The frequency map of the strings should be same.\n",
        "        # Time Complexity: O(m+n)\n",
        "        # Space Complexity: O(1) as maximum of 26 keys are possible\n",
        "\n",
        "        from collections import Counter\n",
        "        return Counter(s) == Counter(t)\n"
      ],
      "metadata": {
        "id": "IoDLuV7quCVv"
      },
      "execution_count": null,
      "outputs": []
    },
    {
      "cell_type": "markdown",
      "source": [
        "[P3: Two Sum](https://neetcode.io/problems/two-integer-sum)"
      ],
      "metadata": {
        "id": "UgDeGfYYuzXL"
      }
    },
    {
      "cell_type": "code",
      "source": [
        "class Solution:\n",
        "    def twoSum(self, nums: List[int], target: int) -> List[int]:\n",
        "\n",
        "        # Create an HashMap to store the element required to create the target with the current element.\n",
        "        # We iterate through the array and if the elem is present in the hashMap, we are done. Else add it to the hashMap\n",
        "        # Space Complexity: O(n)\n",
        "        # Time Complexity: O(n)\n",
        "\n",
        "        hashMap = {}\n",
        "        for index, elem in enumerate(nums):\n",
        "            if elem in hashMap:\n",
        "                return [hashMap[elem], index]\n",
        "            hashMap[target - elem] = index\n",
        "\n",
        "        #Another approach can be to sort the array and then use two pointer approach to find the target. Space: O(1) Time: O(nlogn)"
      ],
      "metadata": {
        "id": "qiTwfiWvuzKS"
      },
      "execution_count": null,
      "outputs": []
    },
    {
      "cell_type": "markdown",
      "source": [
        "[P4: Group Anagrams](https://neetcode.io/problems/anagram-groups)"
      ],
      "metadata": {
        "id": "ab9xk-cYvXip"
      }
    },
    {
      "cell_type": "code",
      "source": [
        "class Solution:\n",
        "    def groupAnagrams(self, strs: List[str]) -> List[List[str]]:\n",
        "\n",
        "        # First Approach is to use the sorted string as the key of the dictionary.\n",
        "        # Append each element on list of the sorted value as key\n",
        "        # Space Complexity: O(m*n)\n",
        "        # Time. Complexity: O(m*nlogn) Extra time for sorting the string\n",
        "\n",
        "        from collections import defaultdict\n",
        "        result = defaultdict(list)\n",
        "        for elem in strs:\n",
        "            #Sort the element\n",
        "            sortedElem = ''.join(sorted(elem))\n",
        "            result[sortedElem].append(elem)\n",
        "\n",
        "        return list(result.values())\n"
      ],
      "metadata": {
        "id": "sYUHKKP0vS66"
      },
      "execution_count": null,
      "outputs": []
    },
    {
      "cell_type": "code",
      "source": [
        "class Solution:\n",
        "    def groupAnagrams(self, strs: List[str]) -> List[List[str]]:\n",
        "\n",
        "        # A better approach is to use the frequency count tuple as the key of the dictionary.\n",
        "        # Append each element on list of the tuple as key\n",
        "        # Space Complexity: O(m*n)\n",
        "        # Time. Complexity: O(m*n)  (Sorting not required)\n",
        "\n",
        "        from collections import defaultdict\n",
        "\n",
        "        result = defaultdict(list)\n",
        "        for elem in strs:\n",
        "            key = [0]*26\n",
        "            for alpha in elem:\n",
        "                key[ord(alpha) - ord('a')] += 1\n",
        "            result[tuple(key)].append(elem)\n",
        "\n",
        "        return list(result.values())\n"
      ],
      "metadata": {
        "id": "RA2tzKsfL42B"
      },
      "execution_count": null,
      "outputs": []
    },
    {
      "cell_type": "markdown",
      "source": [
        "[P5: Top-K Frequent Elements](https://neetcode.io/problems/top-k-elements-in-list)"
      ],
      "metadata": {
        "id": "iYs93MOsu1NE"
      }
    },
    {
      "cell_type": "code",
      "source": [
        "class Solution:\n",
        "    def topKFrequent(self, nums: List[int], k: int) -> List[int]:\n",
        "\n",
        "        # The basic approach is to have a counter dictionary and sort the values based on the frequency\n",
        "        # Time Complexity: O(nlogn) Not optimal as we have to sort the values\n",
        "        # Space Complexity: O(n)\n",
        "\n",
        "\n",
        "        from collections import Counter\n",
        "        c = Counter(nums)\n",
        "        sortedD = sorted(c.keys(), key=lambda x: c[x], reverse = True)\n",
        "        return sortedD[:k]"
      ],
      "metadata": {
        "id": "yaH8sCgWuHby"
      },
      "execution_count": null,
      "outputs": []
    },
    {
      "cell_type": "code",
      "source": [],
      "metadata": {
        "id": "EH7j-vYPQ_v9"
      },
      "execution_count": null,
      "outputs": []
    },
    {
      "cell_type": "markdown",
      "source": [
        "[P6: Encode and Decode String](https://neetcode.io/problems/string-encode-and-decode)"
      ],
      "metadata": {
        "id": "x8yGwisUvaC5"
      }
    },
    {
      "cell_type": "code",
      "source": [],
      "metadata": {
        "id": "BnorhyyvvZoV"
      },
      "execution_count": null,
      "outputs": []
    },
    {
      "cell_type": "markdown",
      "source": [
        "[P7: Product of an Array Except Self](https://neetcode.io/problems/products-of-array-discluding-self)"
      ],
      "metadata": {
        "id": "Mn9aJ2MhvZMh"
      }
    },
    {
      "cell_type": "code",
      "source": [],
      "metadata": {
        "id": "2zpP6zKXvbZY"
      },
      "execution_count": null,
      "outputs": []
    },
    {
      "cell_type": "markdown",
      "source": [
        "[P8: Valid Sodoku](https://neetcode.io/problems/valid-sudoku)"
      ],
      "metadata": {
        "id": "lING082aS0eF"
      }
    },
    {
      "cell_type": "code",
      "source": [
        "class Solution:\n",
        "    def isValidSudoku(self, board: List[List[str]]) -> bool:\n",
        "\n",
        "        # Space Complexity: O(n^2)\n",
        "        # Time Complexity: O(n^2)\n",
        "\n",
        "        from collections import defaultdict\n",
        "\n",
        "        #Creating the dictionaries for storing values\n",
        "        rowDict = defaultdict(list)\n",
        "        colDict = defaultdict(list)\n",
        "        boxDict = defaultdict(list)\n",
        "\n",
        "        #Looping over all elements\n",
        "        for r in range(9):\n",
        "            for c in range(9):\n",
        "                if board[r][c] != '.':\n",
        "                    val = board[r][c]\n",
        "                    # If the value is present in the row, col or box\n",
        "                    if val in rowDict[r] \\\n",
        "                    or val in colDict[c] \\\n",
        "                    or val in boxDict[(r//3, c//3)]:\n",
        "                        return False\n",
        "\n",
        "                    #Appending to the dicts in case new element\n",
        "                    rowDict[r].append(val)\n",
        "                    colDict[c].append(val)\n",
        "                    boxDict[(r//3, c//3)].append(val)\n",
        "\n",
        "        #No repeating element is found:\n",
        "        return True"
      ],
      "metadata": {
        "id": "_kef-f4oS2eQ"
      },
      "execution_count": null,
      "outputs": []
    },
    {
      "cell_type": "markdown",
      "source": [
        "[P9: Longest Consecutive Sequence](https://neetcode.io/problems/longest-consecutive-sequence)"
      ],
      "metadata": {
        "id": "OkZQp06cS32W"
      }
    },
    {
      "cell_type": "code",
      "source": [],
      "metadata": {
        "id": "KPc3RVgoS4h4"
      },
      "execution_count": null,
      "outputs": []
    }
  ]
}