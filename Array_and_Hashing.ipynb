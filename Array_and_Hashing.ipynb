{
  "nbformat": 4,
  "nbformat_minor": 0,
  "metadata": {
    "colab": {
      "provenance": [],
      "authorship_tag": "ABX9TyO1hRirrQAKXG+EC61IT2C5",
      "include_colab_link": true
    },
    "kernelspec": {
      "name": "python3",
      "display_name": "Python 3"
    },
    "language_info": {
      "name": "python"
    }
  },
  "cells": [
    {
      "cell_type": "markdown",
      "metadata": {
        "id": "view-in-github",
        "colab_type": "text"
      },
      "source": [
        "<a href=\"https://colab.research.google.com/github/anuragsaraf1912/neetcode150/blob/main/Array_and_Hashing.ipynb\" target=\"_parent\"><img src=\"https://colab.research.google.com/assets/colab-badge.svg\" alt=\"Open In Colab\"/></a>"
      ]
    },
    {
      "cell_type": "markdown",
      "source": [
        "[P1: Contains Duplicate](https://neetcode.io/problems/duplicate-integer)"
      ],
      "metadata": {
        "id": "tvtW1FmLue8k"
      }
    },
    {
      "cell_type": "code",
      "execution_count": null,
      "metadata": {
        "id": "ZBDSu0wNtoQc"
      },
      "outputs": [],
      "source": [
        "class Solution:\n",
        "    def hasDuplicate(self, nums: List[int]) -> bool:\n",
        "\n",
        "        #The approach is straightforward: Iterate through all elements of the array. Check if the element is already present in\n",
        "        #the hashmap. If not, add it to the hashMap else the duplicate is found.\n",
        "        #The Space and Time complexity is O(n)\n",
        "\n",
        "        mapSet = set()\n",
        "        for elem in nums:\n",
        "            if elem in mapSet: return True\n",
        "            mapSet.add(elem)\n",
        "\n",
        "        return False"
      ]
    },
    {
      "cell_type": "code",
      "source": [
        " class Solution:\n",
        "    def hasDuplicate(self, nums: List[int]) -> bool:\n",
        "\n",
        "        #Another quick solution is to just check the lengths of the list and the set formed using the list.\n",
        "        return len(nums) != len(set(nums))"
      ],
      "metadata": {
        "id": "izW4_HtXx1Eg"
      },
      "execution_count": null,
      "outputs": []
    },
    {
      "cell_type": "markdown",
      "source": [
        "[P2: Valid Anagram](https://neetcode.io/problems/is-anagram)"
      ],
      "metadata": {
        "id": "SODUlsxTuFFm"
      }
    },
    {
      "cell_type": "code",
      "source": [],
      "metadata": {
        "id": "IoDLuV7quCVv"
      },
      "execution_count": null,
      "outputs": []
    },
    {
      "cell_type": "markdown",
      "source": [
        "[P1: Contains Duplicate](https://neetcode.io/problems/duplicate-integer)"
      ],
      "metadata": {
        "id": "UgDeGfYYuzXL"
      }
    },
    {
      "cell_type": "code",
      "source": [],
      "metadata": {
        "id": "qiTwfiWvuzKS"
      },
      "execution_count": null,
      "outputs": []
    },
    {
      "cell_type": "markdown",
      "source": [],
      "metadata": {
        "id": "ab9xk-cYvXip"
      }
    },
    {
      "cell_type": "code",
      "source": [],
      "metadata": {
        "id": "sYUHKKP0vS66"
      },
      "execution_count": null,
      "outputs": []
    },
    {
      "cell_type": "markdown",
      "source": [
        "[P1: Contains Duplicate](https://neetcode.io/problems/duplicate-integer)"
      ],
      "metadata": {
        "id": "iYs93MOsu1NE"
      }
    },
    {
      "cell_type": "code",
      "source": [],
      "metadata": {
        "id": "yaH8sCgWuHby"
      },
      "execution_count": null,
      "outputs": []
    },
    {
      "cell_type": "markdown",
      "source": [],
      "metadata": {
        "id": "x8yGwisUvaC5"
      }
    },
    {
      "cell_type": "code",
      "source": [],
      "metadata": {
        "id": "BnorhyyvvZoV"
      },
      "execution_count": null,
      "outputs": []
    },
    {
      "cell_type": "markdown",
      "source": [],
      "metadata": {
        "id": "Mn9aJ2MhvZMh"
      }
    },
    {
      "cell_type": "code",
      "source": [],
      "metadata": {
        "id": "2zpP6zKXvbZY"
      },
      "execution_count": null,
      "outputs": []
    }
  ]
}