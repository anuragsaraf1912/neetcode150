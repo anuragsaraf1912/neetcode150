{
  "nbformat": 4,
  "nbformat_minor": 0,
  "metadata": {
    "colab": {
      "provenance": [],
      "authorship_tag": "ABX9TyOvh0MRWkc4ykFkV/BUbIVF",
      "include_colab_link": true
    },
    "kernelspec": {
      "name": "python3",
      "display_name": "Python 3"
    },
    "language_info": {
      "name": "python"
    }
  },
  "cells": [
    {
      "cell_type": "markdown",
      "metadata": {
        "id": "view-in-github",
        "colab_type": "text"
      },
      "source": [
        "<a href=\"https://colab.research.google.com/github/anuragsaraf1912/neetcode150/blob/main/Stack.ipynb\" target=\"_parent\"><img src=\"https://colab.research.google.com/assets/colab-badge.svg\" alt=\"Open In Colab\"/></a>"
      ]
    },
    {
      "cell_type": "markdown",
      "source": [
        "[P1: Valid Parenthesis](https://neetcode.io/problems/validate-parentheses)"
      ],
      "metadata": {
        "id": "pzkNfwJQJhIN"
      }
    },
    {
      "cell_type": "code",
      "execution_count": null,
      "metadata": {
        "id": "B3SmguIIIe2t"
      },
      "outputs": [],
      "source": [
        "class Solution:\n",
        "    def isValid(self, s: str) -> bool:\n",
        "\n",
        "      # Iterate through the list\n",
        "      # We would put all open brackets in stack\n",
        "      # When we get closed brackets, pop the element and compare closed bracket with the popped element\n",
        "      # Time Complexity: O(n)\n",
        "      # Space Complexity: O(n) Max n/2 elements can be stored\n",
        "\n",
        "\n",
        "        track = []\n",
        "        mapping = {'[':']','(':')','{':'}'}\n",
        "        for elem in s:\n",
        "            if elem in '{([':\n",
        "                track.append(elem)\n",
        "            else:\n",
        "                latest = track.pop()\n",
        "                if mapping[latest] != elem:\n",
        "                    return False\n",
        "\n",
        "        return True\n",
        "\n"
      ]
    },
    {
      "cell_type": "markdown",
      "source": [
        "[P2: Minimum Stack](https://neetcode.io/problems/minimum-stack)"
      ],
      "metadata": {
        "id": "yZeehdLnJ0Fw"
      }
    },
    {
      "cell_type": "code",
      "source": [
        "class MinStack:\n",
        "\n",
        "    # The idea is to store seprate array for the running min\n",
        "    # Time Compexity: O(n)\n",
        "    # Space Complexity: O(n)\n",
        "\n",
        "    def __init__(self):\n",
        "        self.storage = []\n",
        "        self.runningMin = []\n",
        "\n",
        "    def push(self, val: int) -> None:\n",
        "        #Adding Val to storage\n",
        "        self.storage.append(val)\n",
        "\n",
        "        #Adding val to the running Min\n",
        "        if self.runningMin: currMin = self.runningMin[-1]\n",
        "        else: currMin = float('inf')\n",
        "\n",
        "        minVal = min(currMin, val)\n",
        "        self.runningMin.append(minVal)\n",
        "\n",
        "    def pop(self) -> None:\n",
        "        self.storage.pop()\n",
        "        self.runningMin.pop()\n",
        "\n",
        "    def top(self) -> int:\n",
        "        return self.storage[-1]\n",
        "\n",
        "    def getMin(self) -> int:\n",
        "        return self.runningMin[-1]\n",
        "\n"
      ],
      "metadata": {
        "id": "jlToCMWNJ01K"
      },
      "execution_count": null,
      "outputs": []
    },
    {
      "cell_type": "markdown",
      "source": [
        "[P3: Evaluate Reverse Polish notation](https://neetcode.io/problems/evaluate-reverse-polish-notation)"
      ],
      "metadata": {
        "id": "ri2mSsS1QF1D"
      }
    },
    {
      "cell_type": "code",
      "source": [
        "class Solution:\n",
        "\n",
        "    # Store the values in stack when there is no operation\n",
        "    # When we see an operation, pop the last two elements and perform the operation\n",
        "    # Append the result to stack\n",
        "    # Time Complexity: O(n)\n",
        "    # Spcae Complexity: O(1) Maximum two elements can be there in the stack\n",
        "\n",
        "\n",
        "    def evalRPN(self, tokens: List[str]) -> int:\n",
        "\n",
        "        storage = []\n",
        "        funcMap = {\n",
        "            '+': lambda x,y: x+y,\n",
        "            '-': lambda x,y: x-y,\n",
        "            '*': lambda x,y: x*y,\n",
        "            '/': lambda x,y: int(x/y)\n",
        "        }\n",
        "        for token in tokens:\n",
        "            if token not in funcMap:\n",
        "                storage.append(int(token))\n",
        "            else:\n",
        "                num2 = storage.pop()\n",
        "                num1 = storage.pop()\n",
        "                result = funcMap[token](num1, num2)\n",
        "                storage.append(result)\n",
        "\n",
        "        return storage[0]\n"
      ],
      "metadata": {
        "id": "opJfK3HiQHJ0"
      },
      "execution_count": null,
      "outputs": []
    },
    {
      "cell_type": "markdown",
      "source": [],
      "metadata": {
        "id": "trAMDilymyj9"
      }
    },
    {
      "cell_type": "code",
      "source": [],
      "metadata": {
        "id": "lASxb6Krmx5i"
      },
      "execution_count": null,
      "outputs": []
    },
    {
      "cell_type": "markdown",
      "source": [
        "[P5: Daily Temperatrues](https://neetcode.io/problems/daily-temperatures)"
      ],
      "metadata": {
        "id": "Gyp4AndQQGmf"
      }
    },
    {
      "cell_type": "code",
      "source": [
        "class Solution:\n",
        "    def dailyTemperatures(self, temperatures: List[int]) -> List[int]:\n",
        "\n",
        "        # If the latest temp is greater than last element of stack, this implies that there are few temperatures for which\n",
        "        # the greater temp is observed now. So we pop all such elements and update the results.\n",
        "        # Note that the result array is not updated in the order. It is updated when we see a higher value\n",
        "        # Time Complexity: O(n)\n",
        "        # Space Complexity: O(n) Max when all temp are in decreasing order\n",
        "\n",
        "        # Defining Base variables\n",
        "        stackedTemp = []\n",
        "        n = len(temperatures)\n",
        "        results = [0]*n\n",
        "\n",
        "        #Iterate\n",
        "        for ind in range(n):\n",
        "            #Removing and updating the result, until the temp is smallest\n",
        "            while stackedTemp and temperatures[ind] > temperatures[stackedTemp[-1]]:\n",
        "                lastInd = stackedTemp.pop()\n",
        "                results[lastInd] = ind - lastInd\n",
        "            stackedTemp.append(ind)\n",
        "\n",
        "        return results\n"
      ],
      "metadata": {
        "id": "wpN70rj2m1_D"
      },
      "execution_count": null,
      "outputs": []
    }
  ]
}