{
  "nbformat": 4,
  "nbformat_minor": 0,
  "metadata": {
    "colab": {
      "provenance": [],
      "authorship_tag": "ABX9TyNROC/iBtuoNP4M5n6thBEg",
      "include_colab_link": true
    },
    "kernelspec": {
      "name": "python3",
      "display_name": "Python 3"
    },
    "language_info": {
      "name": "python"
    }
  },
  "cells": [
    {
      "cell_type": "markdown",
      "metadata": {
        "id": "view-in-github",
        "colab_type": "text"
      },
      "source": [
        "<a href=\"https://colab.research.google.com/github/anuragsaraf1912/neetcode150/blob/main/Stack.ipynb\" target=\"_parent\"><img src=\"https://colab.research.google.com/assets/colab-badge.svg\" alt=\"Open In Colab\"/></a>"
      ]
    },
    {
      "cell_type": "markdown",
      "source": [
        "[P1: Valid Parenthesis](https://neetcode.io/problems/validate-parentheses)"
      ],
      "metadata": {
        "id": "pzkNfwJQJhIN"
      }
    },
    {
      "cell_type": "code",
      "execution_count": null,
      "metadata": {
        "id": "B3SmguIIIe2t"
      },
      "outputs": [],
      "source": [
        "class Solution:\n",
        "    def isValid(self, s: str) -> bool:\n",
        "\n",
        "      # Iterate through the list\n",
        "      # We would put all open brackets in stack\n",
        "      # When we get closed brackets, pop the element and compare closed bracket with the popped element\n",
        "      # Time Complexity: O(n)\n",
        "      # Space Complexity: O(n) Max n/2 elements can be stored\n",
        "\n",
        "\n",
        "        track = []\n",
        "        mapping = {'[':']','(':')','{':'}'}\n",
        "        for elem in s:\n",
        "            if elem in '{([':\n",
        "                track.append(elem)\n",
        "            else:\n",
        "                latest = track.pop()\n",
        "                if mapping[latest] != elem:\n",
        "                    return False\n",
        "\n",
        "        return True\n",
        "\n"
      ]
    },
    {
      "cell_type": "markdown",
      "source": [
        "[P2: Minimum Stack](https://neetcode.io/problems/minimum-stack)"
      ],
      "metadata": {
        "id": "yZeehdLnJ0Fw"
      }
    },
    {
      "cell_type": "code",
      "source": [
        "class MinStack:\n",
        "\n",
        "    # The idea is to store seprate array for the running min\n",
        "    # Time Compexity: O(n)\n",
        "    # Space Complexity: O(n)\n",
        "\n",
        "    def __init__(self):\n",
        "        self.storage = []\n",
        "        self.runningMin = []\n",
        "\n",
        "    def push(self, val: int) -> None:\n",
        "        #Adding Val to storage\n",
        "        self.storage.append(val)\n",
        "\n",
        "        #Adding val to the running Min\n",
        "        if self.runningMin: currMin = self.runningMin[-1]\n",
        "        else: currMin = float('inf')\n",
        "\n",
        "        minVal = min(currMin, val)\n",
        "        self.runningMin.append(minVal)\n",
        "\n",
        "    def pop(self) -> None:\n",
        "        self.storage.pop()\n",
        "        self.runningMin.pop()\n",
        "\n",
        "    def top(self) -> int:\n",
        "        return self.storage[-1]\n",
        "\n",
        "    def getMin(self) -> int:\n",
        "        return self.runningMin[-1]\n",
        "\n"
      ],
      "metadata": {
        "id": "jlToCMWNJ01K"
      },
      "execution_count": null,
      "outputs": []
    },
    {
      "cell_type": "markdown",
      "source": [
        "[P3: Evaluate Reverse Polish notation](https://neetcode.io/problems/evaluate-reverse-polish-notation)"
      ],
      "metadata": {
        "id": "ri2mSsS1QF1D"
      }
    },
    {
      "cell_type": "code",
      "source": [
        "class Solution:\n",
        "\n",
        "    # Store the values in stack when there is no operation\n",
        "    # When we see an operation, pop the last two elements and perform the operation\n",
        "    # Append the result to stack\n",
        "    # Time Complexity: O(n)\n",
        "    # Spcae Complexity: O(1) Maximum two elements can be there in the stack\n",
        "\n",
        "\n",
        "    def evalRPN(self, tokens: List[str]) -> int:\n",
        "\n",
        "        storage = []\n",
        "        funcMap = {\n",
        "            '+': lambda x,y: x+y,\n",
        "            '-': lambda x,y: x-y,\n",
        "            '*': lambda x,y: x*y,\n",
        "            '/': lambda x,y: int(x/y)\n",
        "        }\n",
        "        for token in tokens:\n",
        "            if token not in funcMap:\n",
        "                storage.append(int(token))\n",
        "            else:\n",
        "                num2 = storage.pop()\n",
        "                num1 = storage.pop()\n",
        "                result = funcMap[token](num1, num2)\n",
        "                storage.append(result)\n",
        "\n",
        "        return storage[0]\n"
      ],
      "metadata": {
        "id": "opJfK3HiQHJ0"
      },
      "execution_count": null,
      "outputs": []
    },
    {
      "cell_type": "markdown",
      "source": [
        "[P4: Generate Paranthesis](https://neetcode.io/problems/generate-parentheses)"
      ],
      "metadata": {
        "id": "trAMDilymyj9"
      }
    },
    {
      "cell_type": "code",
      "source": [
        "class Solution:\n",
        "    def generateParenthesis(self, n: int) -> List[str]:\n",
        "\n",
        "        # This is backtracking problem and can be performed using open and closed brackets variables\n",
        "        # Time Complexity: (4^n/sqrt(n)) - there are as many such strings as Catlan numbers ~ 4^n/(n*sqrt(n)) and each string takes 2n operations\n",
        "        # Space Complexity: O(n) for storage apart from results (Maximum stack calls depth)\n",
        "\n",
        "        results= []\n",
        "        def backTrack(currSeq, openB = 0, closedB = 0):\n",
        "\n",
        "            #Terminating Condition\n",
        "            if closedB == n:\n",
        "                results.append(''.join(currSeq))\n",
        "                return\n",
        "\n",
        "            # If it is possible to add another open bracket\n",
        "            if openB + closedB < n:\n",
        "                currSeq.append('(')\n",
        "                backTrack(currSeq, openB+1, closedB)\n",
        "                currSeq.pop()\n",
        "\n",
        "            # When open brackets are exhausted\n",
        "            if openB > 0:\n",
        "                currSeq.append(')')\n",
        "                backTrack(currSeq, openB-1, closedB + 1)\n",
        "                currSeq.pop()\n",
        "\n",
        "        backTrack([])\n",
        "        return results"
      ],
      "metadata": {
        "id": "lASxb6Krmx5i"
      },
      "execution_count": null,
      "outputs": []
    },
    {
      "cell_type": "markdown",
      "source": [
        "[P5: Daily Temperatrues](https://neetcode.io/problems/daily-temperatures)"
      ],
      "metadata": {
        "id": "Gyp4AndQQGmf"
      }
    },
    {
      "cell_type": "code",
      "source": [
        "class Solution:\n",
        "    def dailyTemperatures(self, temperatures: List[int]) -> List[int]:\n",
        "\n",
        "        # If the latest temp is greater than last element of stack, this implies that there are few temperatures for which\n",
        "        # the greater temp is observed now. So we pop all such elements and update the results.\n",
        "        # Note that the result array is not updated in the order. It is updated when we see a higher value\n",
        "        # Time Complexity: O(n)\n",
        "        # Space Complexity: O(n) Max when all temp are in decreasing order\n",
        "\n",
        "        # Defining Base variables\n",
        "        stackedTemp = []\n",
        "        n = len(temperatures)\n",
        "        results = [0]*n\n",
        "\n",
        "        #Iterate\n",
        "        for ind in range(n):\n",
        "            #Removing and updating the result, until the temp is smallest\n",
        "            while stackedTemp and temperatures[ind] > temperatures[stackedTemp[-1]]:\n",
        "                lastInd = stackedTemp.pop()\n",
        "                results[lastInd] = ind - lastInd\n",
        "            stackedTemp.append(ind)\n",
        "\n",
        "        return results\n"
      ],
      "metadata": {
        "id": "wpN70rj2m1_D"
      },
      "execution_count": null,
      "outputs": []
    },
    {
      "cell_type": "markdown",
      "source": [
        "[P6: Car Fleet](https://neetcode.io/problems/car-fleet)"
      ],
      "metadata": {
        "id": "yvlvfm1QB0uF"
      }
    },
    {
      "cell_type": "code",
      "source": [
        "class Solution:\n",
        "    def carFleet(self, target: int, position: List[int], speed: List[int]) -> int:\n",
        "\n",
        "      # Sort the cars in the order of their position\n",
        "      # The car behind in position should take more time to reach the finish line for an additional fleet.\n",
        "      # A decreasing stack is maintained. Each element in the stack represent one fleet.\n",
        "\n",
        "       # Time complexity: O(n*logn)\n",
        "       # Space complexity:. O(n)\n",
        "\n",
        "\n",
        "        n = len(position)\n",
        "        # First sort the cars by their positions:\n",
        "        sortIndex = sorted(range(n), key= lambda x: position[x])\n",
        "        sortedPos = [position[i] for i in sortIndex]\n",
        "        sortedSpeed = [speed[i] for i in sortIndex]\n",
        "\n",
        "        #stackedTime\n",
        "        stackTime = []\n",
        "\n",
        "        # The lower position car would join fleet only when its time to reach is lower\n",
        "        for i in range(n):\n",
        "            timeToFinish = (target-sortedPos[i])/sortedSpeed[i]\n",
        "            # This line ensures that all the cars behind gets there time reset to timeToFinish.\n",
        "            while stackTime and timeToFinish >= stackTime[-1]:\n",
        "                stackTime.pop()\n",
        "            stackTime.append(timeToFinish)\n",
        "\n",
        "        return len(stackTime)\n"
      ],
      "metadata": {
        "id": "tTn2gW_9B1NO"
      },
      "execution_count": null,
      "outputs": []
    },
    {
      "cell_type": "code",
      "source": [
        "class Solution:\n",
        "    def carFleet(self, target: int, position: List[int], speed: List[int]) -> int:\n",
        "\n",
        "        # Same solution as above, but using variable instead of using stack\n",
        "        # The cars timing should be iterated form the highest position first, as that would be the time represented by the fleet.\n",
        "\n",
        "        n = len(position)\n",
        "        # First sort the cars by their positions:\n",
        "        sortIndex = sorted(range(n), key= lambda x: position[x])\n",
        "        sortedPos = [position[i] for i in sortIndex]\n",
        "        sortedSpeed = [speed[i] for i in sortIndex]\n",
        "\n",
        "        fleets = 0\n",
        "        # The time for less position would join fleet only when its time to reach is lower\n",
        "        aheadTime = -float('inf')\n",
        "        for i in range(n-1, -1, -1):\n",
        "            timeToFinish = (target-sortedPos[i])/sortedSpeed[i]\n",
        "            if timeToFinish > aheadTime:\n",
        "                fleets += 1\n",
        "            aheadTime = max(timeToFinish, aheadTime)\n",
        "\n",
        "        return fleets\n",
        "\n"
      ],
      "metadata": {
        "id": "jutqwCwpQae_"
      },
      "execution_count": 2,
      "outputs": []
    },
    {
      "cell_type": "markdown",
      "source": [
        "[P7: Largest Rectangle in Histogram](https://neetcode.io/problems/largest-rectangle-in-histogram)"
      ],
      "metadata": {
        "id": "QRAsIV1fGhYr"
      }
    },
    {
      "cell_type": "code",
      "source": [
        "class Solution:\n",
        "\n",
        "    # Brute force solution\n",
        "    # For any two points, we just need to know the minimum value between these points.\n",
        "    # The rectangle is the area of minH * index difference\n",
        "    # Time Complexity: O(n^2)\n",
        "    # Space Complexity: O(1)\n",
        "\n",
        "\n",
        "    def largestRectangleArea(self, heights: List[int]) -> int:\n",
        "        # Base variables\n",
        "        n = len(heights)\n",
        "        maxArea = 0\n",
        "\n",
        "        for start in range(n):\n",
        "            # Keeping a track of the minimum value between these two index\n",
        "            minHeight = heights[start]\n",
        "            for end in range(start,n):\n",
        "                minHeight = min(minHeight, heights[end])\n",
        "                maxArea = max(maxArea, minHeight*(end - start + 1))\n",
        "\n",
        "        return maxArea"
      ],
      "metadata": {
        "id": "tLk3h9swGh3_"
      },
      "execution_count": null,
      "outputs": []
    },
    {
      "cell_type": "code",
      "source": [
        "  def largestRectangleArea(self, heights: List[int]) -> int:\n",
        "\n",
        "        # The heights and index are stacked and an increasing order of height.\n",
        "        # However, the index represent the maximum depth that the current height can reach. This means we can use that to calculate area.\n",
        "        # For new data, the heights greater than latest data point are popped and the area is calculated using those popped height.\n",
        "        # The new index is added to the stack with index of the last removed height (representing the max depth at which the rectangle starting from new data can reach)\n",
        "\n",
        "        # Space Compelxity: O(n)\n",
        "        # Time Complexity: O(n)\n",
        "\n",
        "\n",
        "        # Base variables\n",
        "        n = len(heights)\n",
        "        stackedH = []\n",
        "        maxArea = 0\n",
        "\n",
        "        for i in range(n):\n",
        "            index = i\n",
        "            # Ensure that the stack is increasing\n",
        "            while stackedH and stackedH[-1][0] > heights[i]:\n",
        "                h, index = stackedH.pop()\n",
        "                # Calculate the max area starting from the popped height.\n",
        "                currArea = h*(i - index)\n",
        "                maxArea = max(maxArea, currArea)\n",
        "            stackedH.append((heights[i], index))\n",
        "\n",
        "        #Calculate the area possible with the increasing heights\n",
        "        for h, index in stackedH:\n",
        "            maxArea = max(maxArea, h*(n - index))\n",
        "\n",
        "        return maxArea\n",
        "\n"
      ],
      "metadata": {
        "id": "pQKXELxJHSaK"
      },
      "execution_count": null,
      "outputs": []
    }
  ]
}