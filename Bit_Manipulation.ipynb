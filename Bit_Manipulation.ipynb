{
  "nbformat": 4,
  "nbformat_minor": 0,
  "metadata": {
    "colab": {
      "provenance": [],
      "authorship_tag": "ABX9TyMJ1fnIKbkLoWdpGl9TycbM",
      "include_colab_link": true
    },
    "kernelspec": {
      "name": "python3",
      "display_name": "Python 3"
    },
    "language_info": {
      "name": "python"
    }
  },
  "cells": [
    {
      "cell_type": "markdown",
      "metadata": {
        "id": "view-in-github",
        "colab_type": "text"
      },
      "source": [
        "<a href=\"https://colab.research.google.com/github/anuragsaraf1912/neetcode150/blob/main/Bit_Manipulation.ipynb\" target=\"_parent\"><img src=\"https://colab.research.google.com/assets/colab-badge.svg\" alt=\"Open In Colab\"/></a>"
      ]
    },
    {
      "cell_type": "markdown",
      "source": [
        "[P1: Single Number](https://neetcode.io/problems/single-number)"
      ],
      "metadata": {
        "id": "gIbZbcyFTTY8"
      }
    },
    {
      "cell_type": "code",
      "execution_count": null,
      "metadata": {
        "id": "71x7HER0TNoZ"
      },
      "outputs": [],
      "source": [
        "class Solution:\n",
        "    \"\"\"Approach:\n",
        "    # Time Complexity: O(n)\n",
        "    # Space Complexity: O(1)\n",
        "    # XOR of an element with itself is 0. The order does not matter for the XOR operations => a^a = 0\n",
        "    # XOR of 0 with an element is the same number.\n",
        "    \"\"\"\n",
        "\n",
        "    def singleNumber(self, nums: List[int]) -> int:\n",
        "        res = 0\n",
        "        for elem in nums:\n",
        "            res ^= elem\n",
        "        return res\n"
      ]
    },
    {
      "cell_type": "markdown",
      "source": [
        "[P2: Number of One bits](https://neetcode.io/problems/number-of-one-bits)"
      ],
      "metadata": {
        "id": "ov82qMz6TSW5"
      }
    },
    {
      "cell_type": "code",
      "source": [
        "class Solution:\n",
        "    \"\"\"\n",
        "    Time Complexity: O(1) iteration for 32 times\n",
        "    Space Complexity: O(1)\n",
        "    Approach: For each bit of 32 length, we create a mask using 1 and left shift operator. The mask & number is positive only\n",
        "              when the bit is set.\n",
        "    \"\"\"\n",
        "\n",
        "    def hammingWeight(self, n: int) -> int:\n",
        "        count = 0\n",
        "        for i in range(32):\n",
        "            # Generating a mask having a single set bit at index i\n",
        "            mask = 1 << i\n",
        "\n",
        "            # The expression is greater than 0 only when the bit at i index is set.\n",
        "            if n & mask: count += 1\n",
        "\n",
        "        return count\n"
      ],
      "metadata": {
        "id": "5yqcTOQITS27"
      },
      "execution_count": null,
      "outputs": []
    },
    {
      "cell_type": "code",
      "source": [
        "class Solution:\n",
        "    def hammingWeight(self, n: int) -> int:\n",
        "\n",
        "        \"\"\"\n",
        "        Time Complexity: O(1) iteration for maximum of 32 times\n",
        "        Space Complexity: O(1)\n",
        "        Approach: Take the & for n and n-1. This will remove the first set bit from the right. Keep doing this until we get 0.\n",
        "        \"\"\"\n",
        "\n",
        "        count = 0\n",
        "        while n:\n",
        "            count += 1\n",
        "            n = n & (n-1)\n",
        "        return count\n",
        ""
      ],
      "metadata": {
        "id": "MJfI2AaJcfeo"
      },
      "execution_count": null,
      "outputs": []
    },
    {
      "cell_type": "markdown",
      "source": [
        "[P3: Counting Bits](https://neetcode.io/problems/counting-bits)"
      ],
      "metadata": {
        "id": "_RJyEkilPC5H"
      }
    },
    {
      "cell_type": "code",
      "source": [
        "class Solution:\n",
        "    # Time Complexity: O(n)\n",
        "    # Space Complexity: O(n)\n",
        "    # For each digit, we can find the set digits using the previous set digit.\n",
        "    # We start with looking at the lowest bit, if it is already set, we move deep and reduce set digit by one. If not set, set the same and increase\n",
        "    # set digits by one. We do this untill be observe first non set bit.\n",
        "\n",
        "\n",
        "    def countBits(self, n: int) -> List[int]:\n",
        "        setBits = 0\n",
        "        results = [0]\n",
        "        for num in range(1, n+1):\n",
        "            b = 0\n",
        "            mask = 1 << b\n",
        "            while num - 1 & mask:\n",
        "                setBits -= 1\n",
        "                b += 1\n",
        "                mask = 1 << b\n",
        "            setBits += 1\n",
        "            results.append(setBits)\n",
        "\n",
        "        return results\n"
      ],
      "metadata": {
        "id": "M_fEKK5CPEDS"
      },
      "execution_count": null,
      "outputs": []
    },
    {
      "cell_type": "markdown",
      "source": [
        "[P4: Reverse Bits](https://neetcode.io/problems/reverse-bits)"
      ],
      "metadata": {
        "id": "dctitayMQH11"
      }
    },
    {
      "cell_type": "code",
      "source": [
        "class Solution:\n",
        "\n",
        "    # Time Complexity: O(1)\n",
        "    # Space Complexity: O(1)\n",
        "    # We find the bit status at the bth index, if the bit is set, we set the bit at the 31 - b index.\n",
        "\n",
        "    def reverseBits(self, n: int) -> int:\n",
        "        result = 0\n",
        "        for b in range(32):\n",
        "            mask = 1 << b\n",
        "            # Checking if the bth index is set\n",
        "            if mask & n:\n",
        "              result += 1 << (31 - b)\n",
        "\n",
        "        return result"
      ],
      "metadata": {
        "id": "HM0p0Sq2QHZy"
      },
      "execution_count": null,
      "outputs": []
    },
    {
      "cell_type": "markdown",
      "source": [
        "[P5: Missing Number](https://neetcode.io/problems/missing-number)"
      ],
      "metadata": {
        "id": "-1oYe48lQI5H"
      }
    },
    {
      "cell_type": "code",
      "source": [
        "class Solution:\n",
        "    # Time Complexity: O(n)\n",
        "    # Space Complexity: O(1)\n",
        "    # Using the principal, that XOR of an element with itself is 0. Take XOR of all elements and then with all elements in range [1,n]\n",
        "\n",
        "    def missingNumber(self, nums: List[int]) -> int:\n",
        "        res = 0\n",
        "        for elem in nums:\n",
        "            res ^= elem\n",
        "        for i in range(len(nums)+1):\n",
        "            res ^= i\n",
        "\n",
        "        return res\n"
      ],
      "metadata": {
        "id": "_udyN4IrQG9K"
      },
      "execution_count": null,
      "outputs": []
    },
    {
      "cell_type": "markdown",
      "source": [
        "[P6: Sum of two integers](https://neetcode.io/problems/sum-of-two-integers)"
      ],
      "metadata": {
        "id": "jOFVKF2WQLDk"
      }
    },
    {
      "cell_type": "code",
      "source": [
        "class Solution:\n",
        "    def getSum(self, a: int, b: int) -> int:\n",
        "        carry = 0\n",
        "        result = 0\n",
        "        for bit in range(32):\n",
        "            maskA = a >> bit\n",
        "            maskB = b >> bit\n",
        "            bitA = 1 & maskA\n",
        "            bitB = 1 & maskB\n",
        "\n",
        "            thisBit = bitA ^ bitB ^ carry\n",
        "            carry = (bitA & bitB)| (bitA & carry) | (carry & bitB)\n",
        "\n",
        "            result += thisBit << bit\n",
        "        # For Python, if the integer goes beyond 32 bits, flip all the bits ahead of 32 using the else condition\n",
        "        return result if result < 0x7FFFFFFF else ~(result^0xFFFFFFFF)\n"
      ],
      "metadata": {
        "id": "Zhi_2KynQKZX"
      },
      "execution_count": null,
      "outputs": []
    },
    {
      "cell_type": "code",
      "source": [
        "class Solution:\n",
        "    def getSum(self, a: int, b: int) -> int:\n",
        "        MASK = 0xFFFFFFFF\n",
        "        MAX_INT = 0x7FFFFFF\n",
        "        while b:\n",
        "            carry = (a & b) << 1\n",
        "            a = (a ^ b) & MASK\n",
        "            b = carry & MASK\n",
        "\n",
        "        return a if a <= MAX_INT else ~(a ^ MASK)\n",
        "\n"
      ],
      "metadata": {
        "id": "SvCglDJvOQpx"
      },
      "execution_count": null,
      "outputs": []
    },
    {
      "cell_type": "markdown",
      "source": [
        "[P7: Reverse Integer](https://neetcode.io/problems/reverse-integer)"
      ],
      "metadata": {
        "id": "URhJ7KLLQNSY"
      }
    },
    {
      "cell_type": "code",
      "source": [
        "class Solution:\n",
        "    def reverse(self, x: int) -> int:\n",
        "        MAX = 1 << 31 - 1\n",
        "        MIN = -1 * (1 << 31)\n",
        "        sign = -1 if x < 0 else 1\n",
        "        absX = abs(x)\n",
        "\n",
        "        def reverse(num):\n",
        "            digits = []\n",
        "            while num:\n",
        "                digits.append(num % 10)\n",
        "                num = num // 10\n",
        "            res = 0\n",
        "            for i,digit in enumerate(digits):\n",
        "                power = len(digits) - 1 - i\n",
        "                res += digit * 10**power\n",
        "            return res\n",
        "\n",
        "        final = sign*reverse(absX)\n",
        "        if final < MIN or final > MAX: return 0\n",
        "\n",
        "        return final\n"
      ],
      "metadata": {
        "id": "1xED4GahQG3m"
      },
      "execution_count": null,
      "outputs": []
    },
    {
      "cell_type": "markdown",
      "source": [
        "## Notes"
      ],
      "metadata": {
        "id": "3aD0G349fwMf"
      }
    },
    {
      "cell_type": "code",
      "source": [
        "\"\"\"\n",
        "- 1's complement: Flip all bits of a number.\n",
        "- 2's complement: Take 1's complement and add one to that.\n",
        "    Example:  (13)_2 is 1101 in 4 bits.\n",
        "              1's complement = 0010\n",
        "              2's complement = 0011\n",
        "- Negative numbers are stored as the 2's complement of their positive counterparts. This is done as the logic becomes\n",
        "  the same for addition and subtraction when we save negative numbers with this logic.\n",
        "- The range for 32 bit integers is [2^31 - 1, -2^31] as the first bit is used for storing sign of the integer.\n",
        "- Odd Numbers can be checked as : if num & 1\n",
        "- Dividing by 2 can be done as : (start + end) >> 1\n",
        "\n",
        "SOME PROBLEMS:\n",
        "\n",
        "Q1: Swap two numbers a, b without a temp value.\n",
        "\n",
        "a = a^b\n",
        "b = a^b (equivalent of a^b^b for original a,b)\n",
        "a = a^b (equivalent of a^b^a for original a,b)\n",
        "\n",
        "Q2: (a) Check the ith bit, (num & (1 << i))\n",
        "    (b) Set the ith bit, (num | (1 << i))\n",
        "    (c) Clear the ith bit, (num & (~(1 <<i)))\n",
        "    (d) Toggle the ith bit, (num ^ (1 << i))\n",
        "\n",
        "Q3: Minimum bit flips to convert a to b\n",
        "    Take a^b and count the set bits.\n",
        "\n",
        "\"\"\""
      ],
      "metadata": {
        "id": "VsJq2vdZf9Q9"
      },
      "execution_count": null,
      "outputs": []
    }
  ]
}