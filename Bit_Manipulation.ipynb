{
  "nbformat": 4,
  "nbformat_minor": 0,
  "metadata": {
    "colab": {
      "provenance": [],
      "authorship_tag": "ABX9TyPCoBtq7A2MM4qNl7PVZeKx",
      "include_colab_link": true
    },
    "kernelspec": {
      "name": "python3",
      "display_name": "Python 3"
    },
    "language_info": {
      "name": "python"
    }
  },
  "cells": [
    {
      "cell_type": "markdown",
      "metadata": {
        "id": "view-in-github",
        "colab_type": "text"
      },
      "source": [
        "<a href=\"https://colab.research.google.com/github/anuragsaraf1912/neetcode150/blob/main/Bit_Manipulation.ipynb\" target=\"_parent\"><img src=\"https://colab.research.google.com/assets/colab-badge.svg\" alt=\"Open In Colab\"/></a>"
      ]
    },
    {
      "cell_type": "markdown",
      "source": [
        "[P1: Single Number](https://neetcode.io/problems/single-number)"
      ],
      "metadata": {
        "id": "gIbZbcyFTTY8"
      }
    },
    {
      "cell_type": "code",
      "execution_count": null,
      "metadata": {
        "id": "71x7HER0TNoZ"
      },
      "outputs": [],
      "source": [
        "class Solution:\n",
        "    def singleNumber(self, nums: List[int]) -> int:\n",
        "        res = 0\n",
        "        for elem in nums:\n",
        "            res ^= elem\n",
        "        return res\n",
        ""
      ]
    },
    {
      "cell_type": "markdown",
      "source": [],
      "metadata": {
        "id": "ov82qMz6TSW5"
      }
    },
    {
      "cell_type": "code",
      "source": [],
      "metadata": {
        "id": "5yqcTOQITS27"
      },
      "execution_count": null,
      "outputs": []
    }
  ]
}