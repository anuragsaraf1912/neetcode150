{
  "nbformat": 4,
  "nbformat_minor": 0,
  "metadata": {
    "colab": {
      "provenance": [],
      "authorship_tag": "ABX9TyMKKmyrYydWEPs1Hsl1P8tY",
      "include_colab_link": true
    },
    "kernelspec": {
      "name": "python3",
      "display_name": "Python 3"
    },
    "language_info": {
      "name": "python"
    }
  },
  "cells": [
    {
      "cell_type": "markdown",
      "metadata": {
        "id": "view-in-github",
        "colab_type": "text"
      },
      "source": [
        "<a href=\"https://colab.research.google.com/github/anuragsaraf1912/neetcode150/blob/main/Bit_Manipulation.ipynb\" target=\"_parent\"><img src=\"https://colab.research.google.com/assets/colab-badge.svg\" alt=\"Open In Colab\"/></a>"
      ]
    },
    {
      "cell_type": "markdown",
      "source": [
        "[P1: Single Number](https://neetcode.io/problems/single-number)"
      ],
      "metadata": {
        "id": "gIbZbcyFTTY8"
      }
    },
    {
      "cell_type": "code",
      "execution_count": null,
      "metadata": {
        "id": "71x7HER0TNoZ"
      },
      "outputs": [],
      "source": [
        "class Solution:\n",
        "    def singleNumber(self, nums: List[int]) -> int:\n",
        "        res = 0\n",
        "        for elem in nums:\n",
        "            res ^= elem\n",
        "        return res\n",
        ""
      ]
    },
    {
      "cell_type": "markdown",
      "source": [
        "[P2: Number of One bits](https://neetcode.io/problems/number-of-one-bits)"
      ],
      "metadata": {
        "id": "ov82qMz6TSW5"
      }
    },
    {
      "cell_type": "code",
      "source": [
        "class Solution:\n",
        "\n",
        "\n",
        "\n",
        "    def hammingWeight(self, n: int) -> int:\n",
        "        count = 0\n",
        "        for i in range(32):\n",
        "            # Generating a mask having a single set bit at index i\n",
        "            mask = 1 << i\n",
        "\n",
        "            # The expression is greater than 0 only when the bit at i index is set.\n",
        "            if n & mask: count += 1\n",
        "\n",
        "        return count\n",
        ""
      ],
      "metadata": {
        "id": "5yqcTOQITS27"
      },
      "execution_count": null,
      "outputs": []
    }
  ]
}