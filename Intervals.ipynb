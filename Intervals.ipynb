{
  "nbformat": 4,
  "nbformat_minor": 0,
  "metadata": {
    "colab": {
      "provenance": [],
      "authorship_tag": "ABX9TyPCw4QjEkwGBN5UOiK4eX/D",
      "include_colab_link": true
    },
    "kernelspec": {
      "name": "python3",
      "display_name": "Python 3"
    },
    "language_info": {
      "name": "python"
    }
  },
  "cells": [
    {
      "cell_type": "markdown",
      "metadata": {
        "id": "view-in-github",
        "colab_type": "text"
      },
      "source": [
        "<a href=\"https://colab.research.google.com/github/anuragsaraf1912/neetcode150/blob/main/Intervals.ipynb\" target=\"_parent\"><img src=\"https://colab.research.google.com/assets/colab-badge.svg\" alt=\"Open In Colab\"/></a>"
      ]
    },
    {
      "cell_type": "markdown",
      "source": [
        "[P1: Insert Interval](https://neetcode.io/problems/insert-new-interval)"
      ],
      "metadata": {
        "id": "j5Mr7Vs4QBVr"
      }
    },
    {
      "cell_type": "code",
      "source": [
        "class Solution:\n",
        "    def insert(self, intervals: List[List[int]], newInterval: List[int]) -> List[List[int]]:\n",
        "        if not intervals: return [newInterval]\n",
        "        result = []\n",
        "        # Adding the intervals if it doesn't overlap with newInterval\n",
        "        i = 0\n",
        "        while i < len(intervals):\n",
        "            start, end = intervals[i]\n",
        "            if end < newInterval[0]:\n",
        "                result.append([start, end])\n",
        "                i += 1\n",
        "            else: break\n",
        "\n",
        "        result.append(newInterval)\n",
        "        for j in range(i, len(intervals)):\n",
        "            start, end = intervals[j]\n",
        "            if result[-1][1] >= start:\n",
        "                prevS, prevE = result.pop()\n",
        "                start = min(start, prevS)\n",
        "                end = max(end, prevE)\n",
        "            result.append([start, end])\n",
        "\n",
        "        return result"
      ],
      "metadata": {
        "id": "QBsyTnwrQAnc"
      },
      "execution_count": null,
      "outputs": []
    },
    {
      "cell_type": "code",
      "source": [
        "class Solution:\n",
        "    def insert(self, intervals: List[List[int]], newInterval: List[int]) -> List[List[int]]:\n",
        "        \"\"\"\n",
        "        Time Complexity: O(n)\n",
        "        Space Complexity: O(n)\n",
        "        Approach:\n",
        "              1. We add the intervals to result which are before the start of the new Interval (newS > endOfInterval)\n",
        "              2. We find out the intervals which should be merged based on the condition that the newE >= startOfInterval\n",
        "              3. Once the merged intervals are aggregated to a single interval, it is added to the result.\n",
        "              4. The remaining intervals are added to the result.\n",
        "        \"\"\"\n",
        "\n",
        "        # Initialize variables\n",
        "        newS, newE = newInterval\n",
        "        idx, res = 0, []\n",
        "\n",
        "        # Finding the interval after or to be merged with newInt\n",
        "        while idx < len(intervals) and intervals[idx][1] < newS:\n",
        "            res.append(intervals[idx])\n",
        "            idx += 1\n",
        "\n",
        "        # This condition merges the intervals where the start time is before the end of the new interval\n",
        "        while idx < len(intervals) and newE >= intervals[idx][0]:\n",
        "            start, end = intervals[idx]\n",
        "            newS = min(start, newS)\n",
        "            newE = max(end, newE)\n",
        "            idx += 1\n",
        "\n",
        "        res.append([newS, newE])\n",
        "        # This adds the remaning intervals\n",
        "        res += intervals[idx:]\n",
        "\n",
        "        return res"
      ],
      "metadata": {
        "id": "BbF11kCcxi4o"
      },
      "execution_count": null,
      "outputs": []
    },
    {
      "cell_type": "markdown",
      "source": [
        "[P2: Merge Intervals](https://neetcode.io/problems/merge-intervals)"
      ],
      "metadata": {
        "id": "eIsyMQGnQN6b"
      }
    },
    {
      "cell_type": "code",
      "source": [
        "class Solution:\n",
        "        \"\"\"\n",
        "        Time Complexity: O(nlogn) (Sorting array)\n",
        "        Space Complexity: O(n)\n",
        "        Approach:\n",
        "              1. Sort the intervals array.\n",
        "              2. If the start of any interval is before the end of the previous interval, merge the two intervals.\n",
        "              3. The end of the intervals are merged using the max value (end can be from either interval)\n",
        "        \"\"\"\n",
        "        intervals.sort()\n",
        "        res = []\n",
        "        for start, end in intervals:\n",
        "            # res[-1][1] is the endtime of the previous interval\n",
        "            if res and start <= res[-1][1]:\n",
        "                prevS, prevE = res.pop()\n",
        "                end = max(prevE, end)\n",
        "                start = prevS\n",
        "            res.append([start, end])\n",
        "\n",
        "        return res"
      ],
      "metadata": {
        "id": "DgNzJe4_QNVJ"
      },
      "execution_count": null,
      "outputs": []
    },
    {
      "cell_type": "markdown",
      "source": [
        "[P3: Non-overlapping Intervals](https://neetcode.io/problems/non-overlapping-intervals)"
      ],
      "metadata": {
        "id": "2n6g2jdzQQSN"
      }
    },
    {
      "cell_type": "code",
      "source": [
        "class Solution:\n",
        "    def eraseOverlapIntervals(self, intervals: List[List[int]]) -> int:\n",
        "\n",
        "        \"\"\"\n",
        "        Time Complexity: O(nlogn) (Sorting array)\n",
        "        Space Complexity: O(n)\n",
        "        Approach:\n",
        "              1. Sort the intervals array.\n",
        "              2. Store the previous end time (initialize with negative inf).\n",
        "              3. In case the start time is lesser than the previous endtime, remove the interval with higher endTime. Keep the minimum\n",
        "              of the two endtimes as the endtime of previous interval. Increase the count when removing intervals.\n",
        "              4. In case the interval is non-overlapping, update the endTime.\n",
        "        \"\"\"\n",
        "        count = 0\n",
        "        prevEnd = -float('inf')\n",
        "        intervals.sort()\n",
        "        for start, end in intervals:\n",
        "            if start < prevEnd:\n",
        "                prevEnd = min(end, prevEnd)\n",
        "                count += 1\n",
        "            else: prevEnd = end\n",
        "        return count"
      ],
      "metadata": {
        "id": "bXPaGZhDQQwE"
      },
      "execution_count": null,
      "outputs": []
    },
    {
      "cell_type": "markdown",
      "source": [
        "[P4: Meeting Rooms](https://neetcode.io/problems/meeting-schedule)"
      ],
      "metadata": {
        "id": "JajavmbMQSGA"
      }
    },
    {
      "cell_type": "code",
      "source": [
        "\"\"\"\n",
        "Definition of Interval:\n",
        "class Interval(object):\n",
        "    def __init__(self, start, end):\n",
        "        self.start = start\n",
        "        self.end = end\n",
        "\"\"\"\n",
        "\"\"\"\n",
        "        Time Complexity: O(nlogn) (Sorting array)\n",
        "        Space Complexity: O(n)\n",
        "        Approach:\n",
        "              1. Sort the intervals array.\n",
        "              2. Store the previous end time (initialize with negative inf).\n",
        "              3. In case the start time is lesser than the previous endtime, return False.\n",
        "              4. Return True in case all intervals are processed.\n",
        "\"\"\"\n",
        "\n",
        "class Solution:\n",
        "    def canAttendMeetings(self, intervals: List[Interval]) -> bool:\n",
        "        intervals = sorted(intervals, key = lambda x: x.start)\n",
        "        prevEnd = -float('inf')\n",
        "        for interval in intervals:\n",
        "            start, end = interval.start, interval.end\n",
        "            if start < prevEnd: return False\n",
        "            prevEnd = end\n",
        "\n",
        "        return True"
      ],
      "metadata": {
        "id": "bAGPx0_gQSay"
      },
      "execution_count": null,
      "outputs": []
    },
    {
      "cell_type": "markdown",
      "source": [
        "[P5: Meeting Rooms 2](https://neetcode.io/problems/meeting-schedule-ii)"
      ],
      "metadata": {
        "id": "0zLCrA9nQUu3"
      }
    },
    {
      "cell_type": "code",
      "source": [
        "\"\"\"\n",
        "Definition of Interval:\n",
        "class Interval(object):\n",
        "    def __init__(self, start, end):\n",
        "        self.start = start\n",
        "        self.end = end\n",
        "\"\"\"\n",
        "\"\"\"\n",
        "     Time Complexity: O(nlogn) (Sorting array)\n",
        "     Space Complexity: O(n)\n",
        "     Approach:\n",
        "              1. Sort the intervals array.\n",
        "              2. An interval can be planned on a same day only when the best endTime is less than the start of the interval.\n",
        "              3. The best endTime can be tracked using a minHeap.\n",
        "              4. The length of the minHeap determines the days required to include all the intervals.\n",
        "\"\"\"\n",
        "\n",
        "class Solution:\n",
        "    def minMeetingRooms(self, intervals: List[Interval]) -> int:\n",
        "        intervals = sorted(intervals, key = lambda x: x.start)\n",
        "        minHeap = []\n",
        "        for interval in intervals:\n",
        "            start, end = interval.start, interval.end\n",
        "            # Interval can be added to an already planned day\n",
        "            if minHeap and minHeap[0] <= start:\n",
        "                heapq.heappop(minHeap)\n",
        "            heapq.heappush(minHeap, end)\n",
        "\n",
        "        return len(minHeap)"
      ],
      "metadata": {
        "id": "MTSsr1QtQVNC"
      },
      "execution_count": null,
      "outputs": []
    },
    {
      "cell_type": "code",
      "source": [
        "\"\"\"\n",
        "Definition of Interval:\n",
        "class Interval(object):\n",
        "    def __init__(self, start, end):\n",
        "        self.start = start\n",
        "        self.end = end\n",
        "\"\"\"\n",
        "\n",
        "class Solution:\n",
        "    def minMeetingRooms(self, intervals: List[Interval]) -> int:\n",
        "        count = defaultdict(int)\n",
        "        for i in intervals:\n",
        "            count[i.start] += 1\n",
        "            count[i.end] -= 1\n",
        "\n",
        "        res, curr = 0, 0\n",
        "        for i in sorted(count.keys()):\n",
        "            curr += count[i]\n",
        "            res = max(res, curr)\n",
        "        return res"
      ],
      "metadata": {
        "id": "kmrkfb16QCYC"
      },
      "execution_count": null,
      "outputs": []
    },
    {
      "cell_type": "markdown",
      "source": [
        "[P6: Minimum Interval to Include Each Query](https://neetcode.io/problems/minimum-interval-including-query)"
      ],
      "metadata": {
        "id": "hZxyRf70QVo5"
      }
    },
    {
      "cell_type": "code",
      "source": [
        "class Solution:\n",
        "    def minInterval(self, intervals: List[List[int]], queries: List[int]) -> List[int]:\n",
        "\n",
        "        \"\"\"\n",
        "        Time Complexity: O(nlogn + mlogm) (n is the length of intervals and m is the length of queries)\n",
        "        Space Complexity: O(m)\n",
        "        Approach:\n",
        "              1. Sort the interval and query array. Have a minHeap that has width based output.\n",
        "              2. Iterate over query and add all the intervals in minHeap that has startTime < query.\n",
        "              3. Keep extracting the intervals while the endtime of interval is < query implying query is not within the interval.\n",
        "              4. If there are no elements left, add -1 to the results. Else add the width of the top element in the heap.\n",
        "        \"\"\"\n",
        "\n",
        "        # An array where index is the rank and element\n",
        "        # is the place of element in original array\n",
        "        sortedInd = sorted(range(len(queries)), key = lambda x: queries[x])\n",
        "        intervals.sort()\n",
        "        queries.sort()\n",
        "        resList = []\n",
        "        minHeap = []\n",
        "        idx = 0\n",
        "        for q in queries:\n",
        "            # while start <= q keep adding the elements\n",
        "            while idx < len(intervals) and intervals[idx][0] <= q:\n",
        "                width = intervals[idx][1]-intervals[idx][0] + 1\n",
        "                heapq.heappush(minHeap,(width, intervals[idx]))\n",
        "                idx += 1\n",
        "            # Removing all out of bounds intervals from the top\n",
        "            while minHeap and minHeap[0][1][1] < q:\n",
        "                heapq.heappop(minHeap)\n",
        "            # Putting the best result\n",
        "            res = minHeap[0][0] if minHeap else -1\n",
        "            resList.append(res)\n",
        "\n",
        "        # Generating results from the final query\n",
        "        result = [0]*len(queries)\n",
        "        for i, qInd in enumerate(sortedInd):\n",
        "            result[qInd] = resList[i]\n",
        "\n",
        "        return result"
      ],
      "metadata": {
        "id": "8beyU5P7QWC6"
      },
      "execution_count": null,
      "outputs": []
    }
  ]
}