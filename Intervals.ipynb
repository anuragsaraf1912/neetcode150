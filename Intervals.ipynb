{
  "nbformat": 4,
  "nbformat_minor": 0,
  "metadata": {
    "colab": {
      "provenance": [],
      "authorship_tag": "ABX9TyM3ukihVlZvwQHQXsBPa19n",
      "include_colab_link": true
    },
    "kernelspec": {
      "name": "python3",
      "display_name": "Python 3"
    },
    "language_info": {
      "name": "python"
    }
  },
  "cells": [
    {
      "cell_type": "markdown",
      "metadata": {
        "id": "view-in-github",
        "colab_type": "text"
      },
      "source": [
        "<a href=\"https://colab.research.google.com/github/anuragsaraf1912/neetcode150/blob/main/Intervals.ipynb\" target=\"_parent\"><img src=\"https://colab.research.google.com/assets/colab-badge.svg\" alt=\"Open In Colab\"/></a>"
      ]
    },
    {
      "cell_type": "markdown",
      "source": [
        "[P1: Insert Interval](https://neetcode.io/problems/insert-new-interval)"
      ],
      "metadata": {
        "id": "j5Mr7Vs4QBVr"
      }
    },
    {
      "cell_type": "code",
      "source": [
        "class Solution:\n",
        "    def insert(self, intervals: List[List[int]], newInterval: List[int]) -> List[List[int]]:\n",
        "        if not intervals: return [newInterval]\n",
        "        result = []\n",
        "        # Adding the intervals if it doesn't overlap with newInterval\n",
        "        i = 0\n",
        "        while i < len(intervals):\n",
        "            start, end = intervals[i]\n",
        "            if end < newInterval[0]:\n",
        "                result.append([start, end])\n",
        "                i += 1\n",
        "            else: break\n",
        "\n",
        "        result.append(newInterval)\n",
        "        for j in range(i, len(intervals)):\n",
        "            start, end = intervals[j]\n",
        "            if result[-1][1] >= start:\n",
        "                prevS, prevE = result.pop()\n",
        "                start = min(start, prevS)\n",
        "                end = max(end, prevE)\n",
        "            result.append([start, end])\n",
        "\n",
        "        return result"
      ],
      "metadata": {
        "id": "QBsyTnwrQAnc"
      },
      "execution_count": null,
      "outputs": []
    },
    {
      "cell_type": "markdown",
      "source": [],
      "metadata": {
        "id": "eIsyMQGnQN6b"
      }
    },
    {
      "cell_type": "code",
      "source": [],
      "metadata": {
        "id": "DgNzJe4_QNVJ"
      },
      "execution_count": null,
      "outputs": []
    },
    {
      "cell_type": "markdown",
      "source": [],
      "metadata": {
        "id": "2n6g2jdzQQSN"
      }
    },
    {
      "cell_type": "code",
      "source": [],
      "metadata": {
        "id": "bXPaGZhDQQwE"
      },
      "execution_count": null,
      "outputs": []
    },
    {
      "cell_type": "markdown",
      "source": [],
      "metadata": {
        "id": "JajavmbMQSGA"
      }
    },
    {
      "cell_type": "code",
      "source": [],
      "metadata": {
        "id": "bAGPx0_gQSay"
      },
      "execution_count": null,
      "outputs": []
    },
    {
      "cell_type": "markdown",
      "source": [],
      "metadata": {
        "id": "0zLCrA9nQUu3"
      }
    },
    {
      "cell_type": "code",
      "source": [],
      "metadata": {
        "id": "MTSsr1QtQVNC"
      },
      "execution_count": null,
      "outputs": []
    },
    {
      "cell_type": "markdown",
      "source": [],
      "metadata": {
        "id": "hZxyRf70QVo5"
      }
    },
    {
      "cell_type": "code",
      "source": [],
      "metadata": {
        "id": "8beyU5P7QWC6"
      },
      "execution_count": null,
      "outputs": []
    }
  ]
}