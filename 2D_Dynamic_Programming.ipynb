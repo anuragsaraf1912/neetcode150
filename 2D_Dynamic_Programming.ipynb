{
  "nbformat": 4,
  "nbformat_minor": 0,
  "metadata": {
    "colab": {
      "provenance": [],
      "authorship_tag": "ABX9TyMerF7Ymh6TlrMVhgbgAh08",
      "include_colab_link": true
    },
    "kernelspec": {
      "name": "python3",
      "display_name": "Python 3"
    },
    "language_info": {
      "name": "python"
    }
  },
  "cells": [
    {
      "cell_type": "markdown",
      "metadata": {
        "id": "view-in-github",
        "colab_type": "text"
      },
      "source": [
        "<a href=\"https://colab.research.google.com/github/anuragsaraf1912/neetcode150/blob/main/2D_Dynamic_Programming.ipynb\" target=\"_parent\"><img src=\"https://colab.research.google.com/assets/colab-badge.svg\" alt=\"Open In Colab\"/></a>"
      ]
    },
    {
      "cell_type": "markdown",
      "source": [
        "[P1: Unique Paths](https://neetcode.io/problems/count-paths)"
      ],
      "metadata": {
        "id": "r8uGaCd6wPav"
      }
    },
    {
      "cell_type": "code",
      "source": [
        "class Solution:\n",
        "    def uniquePaths(self, m: int, n: int) -> int:\n",
        "        stateMap = [[0]*(n) for _ in range(m)]\n",
        "\n",
        "        for i in range(m):\n",
        "            for j in range(n):\n",
        "                if i == 0 or j == 0:\n",
        "                    stateMap[i][j] = 1\n",
        "                else:\n",
        "                    stateMap[i][j] = stateMap[i-1][j] + stateMap[i][j-1]\n",
        "\n",
        "        return stateMap[-1][-1]"
      ],
      "metadata": {
        "id": "fUdB-qgCwPi0"
      },
      "execution_count": null,
      "outputs": []
    },
    {
      "cell_type": "markdown",
      "source": [
        "[P2: Longest Common Subsequence](https://neetcode.io/problems/longest-common-subsequence)"
      ],
      "metadata": {
        "id": "iszwXnmAwUNY"
      }
    },
    {
      "cell_type": "code",
      "source": [
        "class Solution:\n",
        "    def longestCommonSubsequence(self, text1: str, text2: str) -> int:\n",
        "        n1, n2 = len(text1), len(text2)\n",
        "        if n1 < n2: return self.longestCommonSubsequence(text2, text1)\n",
        "        stateMap = [0]*(n2+1)\n",
        "        for r in range(n1):\n",
        "            newState = [0]*(n2+1)\n",
        "            for c in range(1,n2+1):\n",
        "                newState[c] = max(stateMap[c], newState[c-1])\n",
        "                if text1[r] == text2[c-1]:\n",
        "                    newState[c] = max(newState[c], 1+stateMap[c-1])\n",
        "            stateMap = newState\n",
        "\n",
        "        return stateMap[-1]"
      ],
      "metadata": {
        "id": "TYlDSJVKwUY-"
      },
      "execution_count": null,
      "outputs": []
    },
    {
      "cell_type": "markdown",
      "source": [],
      "metadata": {
        "id": "A4FuMUAGwUjL"
      }
    },
    {
      "cell_type": "code",
      "source": [],
      "metadata": {
        "id": "yZ-HVi48wUwQ"
      },
      "execution_count": null,
      "outputs": []
    },
    {
      "cell_type": "markdown",
      "source": [],
      "metadata": {
        "id": "Bj4siV09wU91"
      }
    },
    {
      "cell_type": "code",
      "source": [],
      "metadata": {
        "id": "JLmTMCEgwVF1"
      },
      "execution_count": null,
      "outputs": []
    },
    {
      "cell_type": "markdown",
      "source": [],
      "metadata": {
        "id": "aEpLMT-IwVbu"
      }
    },
    {
      "cell_type": "code",
      "source": [],
      "metadata": {
        "id": "yu4FafwkwVjf"
      },
      "execution_count": null,
      "outputs": []
    },
    {
      "cell_type": "markdown",
      "source": [],
      "metadata": {
        "id": "rfvgWiOnwVrz"
      }
    },
    {
      "cell_type": "code",
      "source": [],
      "metadata": {
        "id": "DCuibQ4-wVzl"
      },
      "execution_count": null,
      "outputs": []
    },
    {
      "cell_type": "markdown",
      "source": [],
      "metadata": {
        "id": "UVhgV0w9wV8F"
      }
    },
    {
      "cell_type": "code",
      "source": [],
      "metadata": {
        "id": "gcmj0JPnwWCH"
      },
      "execution_count": null,
      "outputs": []
    },
    {
      "cell_type": "markdown",
      "source": [],
      "metadata": {
        "id": "8LHHiLfewWLn"
      }
    },
    {
      "cell_type": "code",
      "source": [],
      "metadata": {
        "id": "xww37k8TwWUB"
      },
      "execution_count": null,
      "outputs": []
    },
    {
      "cell_type": "markdown",
      "source": [],
      "metadata": {
        "id": "OkT5cRZuwWe0"
      }
    },
    {
      "cell_type": "code",
      "source": [],
      "metadata": {
        "id": "HDEhbTupwXNT"
      },
      "execution_count": null,
      "outputs": []
    },
    {
      "cell_type": "markdown",
      "source": [],
      "metadata": {
        "id": "3FYfte3rwYl7"
      }
    },
    {
      "cell_type": "code",
      "source": [],
      "metadata": {
        "id": "smcwhREuwZHF"
      },
      "execution_count": null,
      "outputs": []
    },
    {
      "cell_type": "markdown",
      "source": [],
      "metadata": {
        "id": "9Zlwy4qqwaiX"
      }
    },
    {
      "cell_type": "code",
      "source": [],
      "metadata": {
        "id": "VzcSEaIGwbOq"
      },
      "execution_count": null,
      "outputs": []
    }
  ]
}