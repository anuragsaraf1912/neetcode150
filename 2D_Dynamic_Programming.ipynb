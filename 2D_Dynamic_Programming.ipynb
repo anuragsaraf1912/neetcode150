{
  "nbformat": 4,
  "nbformat_minor": 0,
  "metadata": {
    "colab": {
      "provenance": [],
      "authorship_tag": "ABX9TyOrXK2ucMCOWoVmxrQ00Zx3",
      "include_colab_link": true
    },
    "kernelspec": {
      "name": "python3",
      "display_name": "Python 3"
    },
    "language_info": {
      "name": "python"
    }
  },
  "cells": [
    {
      "cell_type": "markdown",
      "metadata": {
        "id": "view-in-github",
        "colab_type": "text"
      },
      "source": [
        "<a href=\"https://colab.research.google.com/github/anuragsaraf1912/neetcode150/blob/main/2D_Dynamic_Programming.ipynb\" target=\"_parent\"><img src=\"https://colab.research.google.com/assets/colab-badge.svg\" alt=\"Open In Colab\"/></a>"
      ]
    },
    {
      "cell_type": "markdown",
      "source": [
        "[P1: Unique Paths](https://neetcode.io/problems/count-paths)"
      ],
      "metadata": {
        "id": "r8uGaCd6wPav"
      }
    },
    {
      "cell_type": "code",
      "source": [
        "class Solution:\n",
        "    def uniquePaths(self, m: int, n: int) -> int:\n",
        "        # Time Complexity: O(m*n)\n",
        "        # Space Complexity: O(m*n)\n",
        "        # Approach: There is only one way to move around the edge. For any place else, we can reach from two ways, up and left.\n",
        "        # Optimal Substructure: UP(m,n) = UP(m,n-1) + UP(m-1,n)\n",
        "\n",
        "        stateMap = [[0]*(n) for _ in range(m)]\n",
        "\n",
        "        for i in range(m):\n",
        "            for j in range(n):\n",
        "                if i == 0 or j == 0:\n",
        "                    stateMap[i][j] = 1\n",
        "                else:\n",
        "                    stateMap[i][j] = stateMap[i-1][j] + stateMap[i][j-1]\n",
        "\n",
        "        return stateMap[-1][-1]"
      ],
      "metadata": {
        "id": "fUdB-qgCwPi0"
      },
      "execution_count": null,
      "outputs": []
    },
    {
      "cell_type": "code",
      "source": [
        "class Solution:\n",
        "    def uniquePaths(self, m: int, n: int) -> int:\n",
        "        # Time Complexity: O(m*n)\n",
        "        # Space Complexity: O(min(m,n))\n",
        "        # Approach: The space optimized approach. We can just have a single array to keep track of the state.\n",
        "        if m < n: return self.uniquePaths(n,m)\n",
        "        sm = [1]*(n)\n",
        "        for i in range(1, m):\n",
        "            for j in range(1,n):\n",
        "                sm[j] += sm[j-1]\n",
        "\n",
        "        return sm[-1]"
      ],
      "metadata": {
        "id": "Y2Rki6cw1Gg9"
      },
      "execution_count": null,
      "outputs": []
    },
    {
      "cell_type": "markdown",
      "source": [
        "[P2: Longest Common Subsequence](https://neetcode.io/problems/longest-common-subsequence)"
      ],
      "metadata": {
        "id": "iszwXnmAwUNY"
      }
    },
    {
      "cell_type": "code",
      "source": [
        "class Solution:\n",
        "    def longestCommonSubsequence(self, text1: str, text2: str) -> int:\n",
        "\n",
        "        # Time Complexity: O(n1*n2)\n",
        "        # Space Complexity: O(min(n1,n2))\n",
        "        # Approach: The longest common subsequence can be checked using the stateMap to keep track of similar elements\n",
        "        # Optimal Substructure: LCS(m,n) = max(LCS(m-1, n), LCS(m, n-1))      if s[m] != s[n]\n",
        "        #                                  1 + LCS(m-1, n-1)                  if s[m] == s[n]\n",
        "        # The code is optimized for space. Instead of keeping a m*n matrix, a single array is used and the array is updated after each row processing.\n",
        "\n",
        "        n1, n2 = len(text1), len(text2)\n",
        "        if n1 < n2: return self.longestCommonSubsequence(text2, text1)\n",
        "\n",
        "        stateMap = [0]*(n2+1)\n",
        "        for r in range(n1):\n",
        "            newState = [0]*(n2+1)\n",
        "            for c in range(1,n2+1):\n",
        "                newState[c] = max(stateMap[c], newState[c-1])\n",
        "                if text1[r] == text2[c-1]:\n",
        "                    newState[c] = 1+stateMap[c-1]\n",
        "            stateMap = newState\n",
        "\n",
        "        return stateMap[-1]"
      ],
      "metadata": {
        "id": "TYlDSJVKwUY-"
      },
      "execution_count": null,
      "outputs": []
    },
    {
      "cell_type": "markdown",
      "source": [
        "[P3: Best time to Buy and Sell Stock with a cooldown ](https://neetcode.io/problems/buy-and-sell-crypto-with-cooldown)"
      ],
      "metadata": {
        "id": "A4FuMUAGwUjL"
      }
    },
    {
      "cell_type": "code",
      "source": [
        "class Solution:\n",
        "    def maxProfit(self, prices: List[int]) -> int:\n",
        "\n",
        "        # Time Complexity: O(n)\n",
        "        # Space Complexity: O(n)\n",
        "        # Approach: There are two possible states at each index:\n",
        "        #           1. You have the stock (row 0 in stateMap)\n",
        "        #           2. You don't have the stock (row 1 in stateMap)\n",
        "        # Optimal substructure:\n",
        "        #           - Profit(haveStock, i) = max(Profit(haveStock, i-1), Profit(noStock, i-2) - price[i])\n",
        "        #           - Profit(noStock, i) = max(Profit(noStock, i-1), Profit(haveStock, i-1) + price[i])\n",
        "\n",
        "        stateMap = [[0]*(len(prices)+1) for _ in range(2)]\n",
        "        # Bought the stock at day 1 and it is impossible to sell at day1.\n",
        "        stateMap[0][1] = - prices[0]\n",
        "\n",
        "        for i in range(1, len(prices)):\n",
        "            # If we have the stock at the end of ith day, we either had it already or just bought it (used i-1 sold state due to cooldown).\n",
        "            stateMap[0][i+1] = max(stateMap[0][i], stateMap[1][i-1] - prices[i])\n",
        "            # If we don't have the stock, we wither have sold it earlier or just sold it.\n",
        "            stateMap[1][i+1] = max(stateMap[1][i], prices[i] + stateMap[0][i])\n",
        "\n",
        "        return stateMap[1][-1]"
      ],
      "metadata": {
        "id": "yZ-HVi48wUwQ"
      },
      "execution_count": null,
      "outputs": []
    },
    {
      "cell_type": "markdown",
      "source": [
        "[P4: Coin Change 2](https://neetcode.io/problems/coin-change-ii)"
      ],
      "metadata": {
        "id": "Bj4siV09wU91"
      }
    },
    {
      "cell_type": "code",
      "source": [
        "class Solution:\n",
        "    def change(self, amount: int, coins: List[int]) -> int:\n",
        "        # DP array to store the number of ways to make each amount\n",
        "        stateMap = [0] * (amount + 1)\n",
        "        stateMap[0] = 1  # Base case: one way to make amount 0 (by taking no coins)\n",
        "\n",
        "        # Process each coin\n",
        "        for coin in coins:\n",
        "            for state in range(coin, amount + 1):  # Iterate in increasing order\n",
        "                stateMap[state] += stateMap[state - coin]\n",
        "\n",
        "        return stateMap[amount]"
      ],
      "metadata": {
        "id": "JLmTMCEgwVF1"
      },
      "execution_count": null,
      "outputs": []
    },
    {
      "cell_type": "markdown",
      "source": [],
      "metadata": {
        "id": "aEpLMT-IwVbu"
      }
    },
    {
      "cell_type": "code",
      "source": [],
      "metadata": {
        "id": "yu4FafwkwVjf"
      },
      "execution_count": null,
      "outputs": []
    },
    {
      "cell_type": "markdown",
      "source": [],
      "metadata": {
        "id": "rfvgWiOnwVrz"
      }
    },
    {
      "cell_type": "code",
      "source": [],
      "metadata": {
        "id": "DCuibQ4-wVzl"
      },
      "execution_count": null,
      "outputs": []
    },
    {
      "cell_type": "markdown",
      "source": [],
      "metadata": {
        "id": "UVhgV0w9wV8F"
      }
    },
    {
      "cell_type": "code",
      "source": [],
      "metadata": {
        "id": "gcmj0JPnwWCH"
      },
      "execution_count": null,
      "outputs": []
    },
    {
      "cell_type": "markdown",
      "source": [],
      "metadata": {
        "id": "8LHHiLfewWLn"
      }
    },
    {
      "cell_type": "code",
      "source": [],
      "metadata": {
        "id": "xww37k8TwWUB"
      },
      "execution_count": null,
      "outputs": []
    },
    {
      "cell_type": "markdown",
      "source": [],
      "metadata": {
        "id": "OkT5cRZuwWe0"
      }
    },
    {
      "cell_type": "code",
      "source": [],
      "metadata": {
        "id": "HDEhbTupwXNT"
      },
      "execution_count": null,
      "outputs": []
    },
    {
      "cell_type": "markdown",
      "source": [],
      "metadata": {
        "id": "3FYfte3rwYl7"
      }
    },
    {
      "cell_type": "code",
      "source": [],
      "metadata": {
        "id": "smcwhREuwZHF"
      },
      "execution_count": null,
      "outputs": []
    },
    {
      "cell_type": "markdown",
      "source": [],
      "metadata": {
        "id": "9Zlwy4qqwaiX"
      }
    },
    {
      "cell_type": "code",
      "source": [],
      "metadata": {
        "id": "VzcSEaIGwbOq"
      },
      "execution_count": null,
      "outputs": []
    }
  ]
}