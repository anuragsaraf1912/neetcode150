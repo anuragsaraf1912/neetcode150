{
  "nbformat": 4,
  "nbformat_minor": 0,
  "metadata": {
    "colab": {
      "provenance": [],
      "authorship_tag": "ABX9TyMz2atdAUePAqcD/GafxSqB",
      "include_colab_link": true
    },
    "kernelspec": {
      "name": "python3",
      "display_name": "Python 3"
    },
    "language_info": {
      "name": "python"
    }
  },
  "cells": [
    {
      "cell_type": "markdown",
      "metadata": {
        "id": "view-in-github",
        "colab_type": "text"
      },
      "source": [
        "<a href=\"https://colab.research.google.com/github/anuragsaraf1912/neetcode150/blob/main/2D_Dynamic_Programming.ipynb\" target=\"_parent\"><img src=\"https://colab.research.google.com/assets/colab-badge.svg\" alt=\"Open In Colab\"/></a>"
      ]
    },
    {
      "cell_type": "markdown",
      "source": [
        "[P1: Unique Paths](https://neetcode.io/problems/count-paths)"
      ],
      "metadata": {
        "id": "r8uGaCd6wPav"
      }
    },
    {
      "cell_type": "code",
      "source": [
        "class Solution:\n",
        "    def uniquePaths(self, m: int, n: int) -> int:\n",
        "        # Time Complexity: O(m*n)\n",
        "        # Space Complexity: O(m*n)\n",
        "        # Approach: There is only one way to move around the edge. For any place else, we can reach from two ways, up and left.\n",
        "        # Optimal Substructure: UP(m,n) = UP(m,n-1) + UP(m-1,n)\n",
        "\n",
        "        stateMap = [[0]*(n) for _ in range(m)]\n",
        "\n",
        "        for i in range(m):\n",
        "            for j in range(n):\n",
        "                if i == 0 or j == 0:\n",
        "                    stateMap[i][j] = 1\n",
        "                else:\n",
        "                    stateMap[i][j] = stateMap[i-1][j] + stateMap[i][j-1]\n",
        "\n",
        "        return stateMap[-1][-1]"
      ],
      "metadata": {
        "id": "fUdB-qgCwPi0"
      },
      "execution_count": null,
      "outputs": []
    },
    {
      "cell_type": "code",
      "source": [
        "class Solution:\n",
        "    def uniquePaths(self, m: int, n: int) -> int:\n",
        "        # Time Complexity: O(m*n)\n",
        "        # Space Complexity: O(min(m,n))\n",
        "        # Approach: The space optimized approach. We can just have a single array to keep track of the state.\n",
        "        if m < n: return self.uniquePaths(n,m)\n",
        "        sm = [1]*(n)\n",
        "        for i in range(1, m):\n",
        "            for j in range(1,n):\n",
        "                sm[j] += sm[j-1]\n",
        "\n",
        "        return sm[-1]"
      ],
      "metadata": {
        "id": "Y2Rki6cw1Gg9"
      },
      "execution_count": null,
      "outputs": []
    },
    {
      "cell_type": "markdown",
      "source": [
        "[P2: Longest Common Subsequence](https://neetcode.io/problems/longest-common-subsequence)"
      ],
      "metadata": {
        "id": "iszwXnmAwUNY"
      }
    },
    {
      "cell_type": "code",
      "source": [
        "class Solution:\n",
        "    def longestCommonSubsequence(self, text1: str, text2: str) -> int:\n",
        "\n",
        "        # Time Complexity: O(n1*n2)\n",
        "        # Space Complexity: O(min(n1,n2))\n",
        "        # Approach: The longest common subsequence can be checked using the stateMap to keep track of similar elements\n",
        "        # Optimal Substructure: LCS(m,n) = max(LCS(m-1, n), LCS(m, n-1))      if s[m] != s[n]\n",
        "        #                                  1 + LCS(m-1, n-1)                  if s[m] == s[n]\n",
        "        # The code is optimized for space. Instead of keeping a m*n matrix, a single array is used and the array is updated after each row processing.\n",
        "\n",
        "        n1, n2 = len(text1), len(text2)\n",
        "        if n1 < n2: return self.longestCommonSubsequence(text2, text1)\n",
        "\n",
        "        stateMap = [0]*(n2+1)\n",
        "        for r in range(n1):\n",
        "            newState = [0]*(n2+1)\n",
        "            for c in range(1,n2+1):\n",
        "                newState[c] = max(stateMap[c], newState[c-1])\n",
        "                if text1[r] == text2[c-1]:\n",
        "                    newState[c] = 1+stateMap[c-1]\n",
        "            stateMap = newState\n",
        "\n",
        "        return stateMap[-1]"
      ],
      "metadata": {
        "id": "TYlDSJVKwUY-"
      },
      "execution_count": null,
      "outputs": []
    },
    {
      "cell_type": "markdown",
      "source": [
        "[P3: Best time to Buy and Sell Stock with a cooldown ](https://neetcode.io/problems/buy-and-sell-crypto-with-cooldown)"
      ],
      "metadata": {
        "id": "A4FuMUAGwUjL"
      }
    },
    {
      "cell_type": "code",
      "source": [
        "class Solution:\n",
        "    def maxProfit(self, prices: List[int]) -> int:\n",
        "\n",
        "        # Time Complexity: O(n)\n",
        "        # Space Complexity: O(n)\n",
        "        # Approach: There are two possible states at each index:\n",
        "        #           1. You have the stock (row 0 in stateMap)\n",
        "        #           2. You don't have the stock (row 1 in stateMap)\n",
        "        # Optimal substructure:\n",
        "        #           - Profit(haveStock, i) = max(Profit(haveStock, i-1), Profit(noStock, i-2) - price[i])\n",
        "        #           - Profit(noStock, i) = max(Profit(noStock, i-1), Profit(haveStock, i-1) + price[i])\n",
        "\n",
        "        stateMap = [[0]*(len(prices)+1) for _ in range(2)]\n",
        "        # Bought the stock at day 1 and it is impossible to sell at day1.\n",
        "        stateMap[0][1] = - prices[0]\n",
        "\n",
        "        for i in range(1, len(prices)):\n",
        "            # If we have the stock at the end of ith day, we either had it already or just bought it (used i-1 sold state due to cooldown).\n",
        "            stateMap[0][i+1] = max(stateMap[0][i], stateMap[1][i-1] - prices[i])\n",
        "            # If we don't have the stock, we wither have sold it earlier or just sold it.\n",
        "            stateMap[1][i+1] = max(stateMap[1][i], prices[i] + stateMap[0][i])\n",
        "\n",
        "        return stateMap[1][-1]"
      ],
      "metadata": {
        "id": "yZ-HVi48wUwQ"
      },
      "execution_count": null,
      "outputs": []
    },
    {
      "cell_type": "markdown",
      "source": [
        "[P4: Coin Change 2](https://neetcode.io/problems/coin-change-ii)"
      ],
      "metadata": {
        "id": "Bj4siV09wU91"
      }
    },
    {
      "cell_type": "code",
      "source": [
        "class Solution:\n",
        "    def change(self, amount: int, coins: List[int]) -> int:\n",
        "        # DP array to store the number of ways to make each amount\n",
        "        stateMap = [0] * (amount + 1)\n",
        "        stateMap[0] = 1  # Base case: one way to make amount 0 (by taking no coins)\n",
        "\n",
        "        # Process each coin\n",
        "        for coin in coins:\n",
        "            for state in range(coin, amount + 1):  # Iterate in increasing order\n",
        "                stateMap[state] += stateMap[state - coin]\n",
        "\n",
        "        return stateMap[amount]"
      ],
      "metadata": {
        "id": "JLmTMCEgwVF1"
      },
      "execution_count": null,
      "outputs": []
    },
    {
      "cell_type": "markdown",
      "source": [
        "[P5: Maximum Product Subarray](https://neetcode.io/problems/maximum-product-subarray)"
      ],
      "metadata": {
        "id": "aEpLMT-IwVbu"
      }
    },
    {
      "cell_type": "code",
      "source": [
        "class Solution:\n",
        "    def maxProduct(self, nums: List[int]) -> int:\n",
        "\n",
        "        # Time Complexity: O(n)\n",
        "        # Space Complexity: O(1)\n",
        "        # Approach: A version of Kadane's Algorithm can be used to track the min and max prod ending with index i.\n",
        "        # The min and max are swapped when the value is smaller than 1 at the ith index.\n",
        "        # Optimal substructure:\n",
        "        #           - maxProd(i) = Max(nums[i], nums[i]*maxProd(i-1))\n",
        "        #           - minProd(i) = Min(nums[i], nums[i]*minProd(i-1))\n",
        "        # Where, the maxProd(i) is the max product ending with nums[i]. It can be either only nums[i] or\n",
        "\n",
        "        subArrayProd = nums[0]\n",
        "        minProd, maxProd = nums[0], nums[0]\n",
        "\n",
        "        for elem in nums[1:]:\n",
        "            if elem < 0:\n",
        "                minProd, maxProd = maxProd, minProd\n",
        "\n",
        "            maxProd = max(elem, elem * maxProd)\n",
        "            minProd = min(elem, elem * minProd)\n",
        "\n",
        "            subArrayProd = max(subArrayProd, maxProd)\n",
        "\n",
        "        return subArrayProd\n"
      ],
      "metadata": {
        "id": "yu4FafwkwVjf"
      },
      "execution_count": null,
      "outputs": []
    },
    {
      "cell_type": "markdown",
      "source": [
        "[P6: Interleaving String](https://neetcode.io/problems/interleaving-string)"
      ],
      "metadata": {
        "id": "rfvgWiOnwVrz"
      }
    },
    {
      "cell_type": "code",
      "source": [
        "class Solution:\n",
        "    def isInterleave(self, s1: str, s2: str, s3: str) -> bool:\n",
        "\n",
        "        #Optimal Substructure\n",
        "\n",
        "        # isIL(m,n) = isIL(m-1,n) and s1[m] = s3[m+n-1] OR\n",
        "        #             isIL(m,n-1) and s2[n] = s3[m+n-1]\n",
        "        row, col = len(s1), len(s2)\n",
        "        stateMap = [[False]*(col+1) for _ in range(row+1)]\n",
        "        if row + col != len(s3): return False\n",
        "\n",
        "        for r in range(row+1):\n",
        "            for c in range(col+1):\n",
        "                # For the first row and col\n",
        "                if r==0 and c==0:\n",
        "                    stateMap[r][c] = True\n",
        "                elif r == 0:\n",
        "                    stateMap[r][c] = (s2[c-1] == s3[c-1] and stateMap[r][c-1])\n",
        "                elif c == 0:\n",
        "                    stateMap[r][c] = (s1[r-1] == s3[r-1] and stateMap[r-1][c])\n",
        "                else:\n",
        "                    case1 = stateMap[r-1][c] and s1[r-1] == s3[r+c-1]\n",
        "                    case2 = stateMap[r][c-1] and s2[c-1] == s3[r+c-1]\n",
        "                    stateMap[r][c] = case1 or case2\n",
        "\n",
        "        return stateMap[-1][-1]\n",
        "\n"
      ],
      "metadata": {
        "id": "DCuibQ4-wVzl"
      },
      "execution_count": null,
      "outputs": []
    },
    {
      "cell_type": "markdown",
      "source": [
        "[P7: Longest Increasing Path in a Matrix](https://neetcode.io/problems/longest-increasing-path-in-matrix)"
      ],
      "metadata": {
        "id": "UVhgV0w9wV8F"
      }
    },
    {
      "cell_type": "code",
      "source": [
        "class Solution:\n",
        "    def longestIncreasingPath(self, matrix: List[List[int]]) -> int:\n",
        "        \"\"\"\n",
        "        # Time Complexity: O(m*n)\n",
        "        # Space Complexity: O(m*n)\n",
        "        # Approach: dfs is called at each cell to get to the maximum depth till which the function can go. The same is stored in map to avoid\n",
        "        #           repitition of the work. The max depth is returned.\n",
        "        \"\"\"\n",
        "        # Initialize variables\n",
        "        rows, cols = len(matrix), len(matrix[0])\n",
        "        stateMap = [[0]*cols for _ in range(rows)]\n",
        "        nearby = [(-1,0), (1,0), (0,-1), (0,1)]\n",
        "        maxP = 0\n",
        "\n",
        "        # Writing DFS function\n",
        "        def dfs(r,c,val=-float('inf')):\n",
        "            if r < 0 or r >= rows or c < 0 or c >= cols or matrix[r][c] <= val:\n",
        "                return 0\n",
        "\n",
        "            result = 0\n",
        "            # Storing the result in case not stored yet\n",
        "            if not stateMap[r][c]:\n",
        "                for x, y in nearby:\n",
        "                    a,b = r+x,c+y\n",
        "                    result = max(result, dfs(a,b,matrix[r][c]))\n",
        "\n",
        "                stateMap[r][c] = result + 1\n",
        "            return stateMap[r][c]\n",
        "\n",
        "        # The DFS is called at each cell. The repetition is avoided using the stateMap\n",
        "        for r in range(rows):\n",
        "            for c in range(cols):\n",
        "                maxP = max(maxP, dfs(r,c))\n",
        "        return maxP\n",
        "\n"
      ],
      "metadata": {
        "id": "gcmj0JPnwWCH"
      },
      "execution_count": null,
      "outputs": []
    },
    {
      "cell_type": "markdown",
      "source": [
        "[P8: Distinct Subsequences (Hard)](https://neetcode.io/problems/count-subsequences)"
      ],
      "metadata": {
        "id": "8LHHiLfewWLn"
      }
    },
    {
      "cell_type": "code",
      "source": [
        "class Solution:\n",
        "\n",
        "    def numDistinct(self, s: str, t: str) -> int:\n",
        "        l1, l2 = len(s), len(t)\n",
        "        stateMap = [[0]*(1+l2) for _ in range(l1+1)]\n",
        "        for i in range(l1+1):\n",
        "            stateMap[i][0] = 1\n",
        "\n",
        "        for c in range(1, l2 + 1):\n",
        "            for r in range(1,l1+1):\n",
        "                stateMap[r][c] = stateMap[r-1][c]\n",
        "                if s[r-1] == t[c-1]:\n",
        "                    stateMap[r][c] += stateMap[r-1][c-1]\n",
        "\n",
        "        return stateMap[-1][-1]\n"
      ],
      "metadata": {
        "id": "xww37k8TwWUB"
      },
      "execution_count": null,
      "outputs": []
    },
    {
      "cell_type": "markdown",
      "source": [
        "[P9: Edit distance](https://neetcode.io/problems/edit-distance)"
      ],
      "metadata": {
        "id": "OkT5cRZuwWe0"
      }
    },
    {
      "cell_type": "code",
      "source": [
        "class Solution:\n",
        "    def minDistance(self, word1: str, word2: str) -> int:\n",
        "        l1, l2 = len(word1), len(word2)\n",
        "        stateMap = [[0]*(l2+1) for _ in range(l1+1)]\n",
        "        for r in range(l1+1):\n",
        "            for c in range(l2+1):\n",
        "                # The edges\n",
        "                if r==0: stateMap[r][c] = c\n",
        "                elif c==0: stateMap[r][c] = r\n",
        "\n",
        "                elif word1[r-1] == word2[c-1]:\n",
        "                    stateMap[r][c] = stateMap[r - 1][c - 1]\n",
        "                else:\n",
        "                    stateMap[r][c] = 1 + min(stateMap[r - 1][c - 1], stateMap[r - 1][c], stateMap[r][c - 1])\n",
        "        return stateMap[-1][-1]"
      ],
      "metadata": {
        "id": "HDEhbTupwXNT"
      },
      "execution_count": null,
      "outputs": []
    },
    {
      "cell_type": "markdown",
      "source": [
        "[P10: Burst Balloons](https://neetcode.io/problems/burst-balloons)"
      ],
      "metadata": {
        "id": "3FYfte3rwYl7"
      }
    },
    {
      "cell_type": "code",
      "source": [
        "class Solution:\n",
        "    def maxCoins(self, nums: List[int]) -> int:\n",
        "        # The idea is to use (start, end) index to keep track of the burst balloons\n",
        "        stateMap = {}\n",
        "\n",
        "        def recursiveCall(start,end):\n",
        "            # Base case\n",
        "            if start + 1 == end:\n",
        "                return 0\n",
        "\n",
        "            # If not calculated before\n",
        "            if (start,end) not in stateMap:\n",
        "\n",
        "                # Calculate the max Value\n",
        "                leftSide = 1 if start < 0 else nums[start]\n",
        "                rightSide = 1 if end == len(nums) else nums[end]\n",
        "\n",
        "                maxC = 0\n",
        "                for ind in range(start+1,end):\n",
        "                    coins = leftSide*nums[ind]*rightSide \\\n",
        "                    + recursiveCall(start, ind) + recursiveCall(ind,end)\n",
        "                    maxC = max(maxC, coins)\n",
        "\n",
        "                stateMap[(start,end)] = maxC\n",
        "\n",
        "            return stateMap[(start,end)]\n",
        "\n",
        "        recursiveCall(-1,len(nums))\n",
        "        return stateMap[(-1,len(nums))]\n"
      ],
      "metadata": {
        "id": "smcwhREuwZHF"
      },
      "execution_count": null,
      "outputs": []
    },
    {
      "cell_type": "markdown",
      "source": [
        "[P11: Regular Expression Matching](https://neetcode.io/problems/regular-expression-matching)"
      ],
      "metadata": {
        "id": "9Zlwy4qqwaiX"
      }
    },
    {
      "cell_type": "code",
      "source": [
        "class Solution:\n",
        "    def isMatch(self, s: str, p: str) -> bool:\n",
        "\n",
        "        # Time complexity: O(m*n)\n",
        "        # Space complexity: O(m*n)\n",
        "        # Approach:\n",
        "\n",
        "        # Optimal Substructure:\n",
        "        # Case 1: When the p[j] is not *, the s[:i] and p[:j] matches when:\n",
        "                  # T[i,j] = T[i-1, j-1] and match(s[i-1], p[j-1])\n",
        "                  # This means that leaving the last elements, the string matches and the last elements of p and j also match.\n",
        "\n",
        "        # Case 2: When the p[j] is *, the s[:i] and p[:j] matches when:\n",
        "                  # Subcase1: S[i,j] = S[i, j-2] - if the * and its character are skipped altogether,\n",
        "                  # Subcase2: S[i,j] = S[i-1,j] and match(s[i-1],p[j-2]) -\n",
        "\n",
        "        # Function to match two characters\n",
        "        def match(s1, s2):\n",
        "            return s1 == s2 or s2 == '.'\n",
        "\n",
        "        lenS, lenP = len(s), len(p)\n",
        "\n",
        "        #\n",
        "        stateMap = [[False]*(lenP+1) for _ in range(lenS+1)]\n",
        "        stateMap[0][0] = True\n",
        "        for pi in range(1,1+lenP):\n",
        "            if p[pi-1] == '*':\n",
        "                stateMap[0][pi] = stateMap[0][pi-2]\n",
        "\n",
        "        for si in range(1,1+lenS):\n",
        "            for pi in range(1, 1+lenP):\n",
        "                if p[pi-1] != '*':\n",
        "                    stateMap[si][pi] = stateMap[si-1][pi-1] and match(s[si-1], p[pi-1])\n",
        "\n",
        "                else:\n",
        "                    case1 = stateMap[si][pi-2]\n",
        "                    case2 = stateMap[si-1][pi] and match(s[si-1], p[pi-2])\n",
        "                    stateMap[si][pi] = case1 or case2\n",
        "        return stateMap[-1][-1]"
      ],
      "metadata": {
        "id": "VzcSEaIGwbOq"
      },
      "execution_count": null,
      "outputs": []
    }
  ]
}